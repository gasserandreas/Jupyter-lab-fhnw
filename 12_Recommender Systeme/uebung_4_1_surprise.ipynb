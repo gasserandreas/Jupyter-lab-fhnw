{
 "cells": [
  {
   "cell_type": "markdown",
   "metadata": {},
   "source": [
    "# Übung 4 - Matrix Faktorisierung"
   ]
  },
  {
   "cell_type": "markdown",
   "metadata": {},
   "source": [
    "In dieser Übung verwenden wir die Library [Surprise](http://surpriselib.com/) um ein Matrix Faktorisierungs Model zu trainieren"
   ]
  },
  {
   "cell_type": "code",
   "execution_count": null,
   "metadata": {
    "tags": []
   },
   "outputs": [],
   "source": [
    "import numpy as np\n",
    "import pandas as pd\n",
    "from surprise import Dataset, Reader, SVD\n",
    "\n",
    "import warnings; warnings.simplefilter('ignore')"
   ]
  },
  {
   "cell_type": "markdown",
   "metadata": {},
   "source": [
    "## Einlesen der Daten"
   ]
  },
  {
   "cell_type": "code",
   "execution_count": null,
   "metadata": {
    "tags": []
   },
   "outputs": [],
   "source": [
    "movies = pd.read_csv('data/movies.csv')\n",
    "movies = movies[['movieId', 'title']]"
   ]
  },
  {
   "cell_type": "code",
   "execution_count": null,
   "metadata": {
    "tags": []
   },
   "outputs": [],
   "source": [
    "ratings = pd.read_csv('data/ratings.csv')"
   ]
  },
  {
   "cell_type": "code",
   "execution_count": null,
   "metadata": {
    "tags": []
   },
   "outputs": [],
   "source": [
    "# verwerfen aller Film mit weniger als 25 ratings\n",
    "ratings = ratings.groupby('movieId').filter(lambda x: x['movieId'].count() > 25)\n",
    "\n",
    "# movieIds anpassen\n",
    "movies = movies[movies.movieId.isin(set(ratings.movieId))].reset_index(drop=True)\n",
    "ratings['movieId'] = ratings.movieId.map({mi: i for i, mi in movies.movieId.items()})\n",
    "movies['movieId'] = movies.movieId.map({mi: i for i, mi in movies.movieId.items()})"
   ]
  },
  {
   "cell_type": "markdown",
   "metadata": {},
   "source": [
    "Daten in Dataset von Surprise laden\\\n",
    "Hinweis: [Getting Started - dataset from a pandas dataframe](https://surprise.readthedocs.io/en/stable/getting_started.html?highlight=Reader#load-dom-dataframe-py)"
   ]
  },
  {
   "cell_type": "code",
   "execution_count": null,
   "metadata": {
    "tags": []
   },
   "outputs": [],
   "source": [
    "# dataset einlesen\n"
   ]
  },
  {
   "cell_type": "markdown",
   "metadata": {},
   "source": [
    "Jetzt erstellen wir das trainset und testset\\\n",
    "Hinweis:\\\n",
    "[surprise.dataset.DatasetAutoFolds.build_full_trainset](https://surprise.readthedocs.io/en/stable/dataset.html#surprise.dataset.DatasetAutoFolds.build_full_trainset)\\\n",
    "[surprise.Trainset.build_anti_testset](https://surprise.readthedocs.io/en/stable/trainset.html#surprise.Trainset.build_anti_testset)\\\n",
    "[surprise.Trainset.build_testset](https://surprise.readthedocs.io/en/stable/trainset.html#surprise.Trainset.build_testset)\n",
    "\n"
   ]
  },
  {
   "cell_type": "code",
   "execution_count": null,
   "metadata": {
    "tags": []
   },
   "outputs": [],
   "source": [
    "# trainset erstellen\n",
    "\n",
    "\n",
    "# testset erstellen aus anti-testset (alle fehlende Bewertungen) + testset aus trainset\n",
    "\n"
   ]
  },
  {
   "cell_type": "markdown",
   "metadata": {},
   "source": [
    "Nun können wir die Matrix Faktorisierung berechnen und Vorschläge generieren\\\n",
    "Hinweis:\n",
    "[how-to-get-the-top-n-recommendations-for-each-user](https://surprise.readthedocs.io/en/stable/FAQ.html#how-to-get-the-top-n-recommendations-for-each-user)"
   ]
  },
  {
   "cell_type": "code",
   "execution_count": null,
   "metadata": {
    "tags": []
   },
   "outputs": [],
   "source": [
    "# recommender initialisieren und trainieren\n"
   ]
  },
  {
   "cell_type": "code",
   "execution_count": null,
   "metadata": {},
   "outputs": [],
   "source": [
    "# alle predictions machen und in einem DataFrame mit den Filenamen mergen\n"
   ]
  },
  {
   "cell_type": "code",
   "execution_count": null,
   "metadata": {},
   "outputs": [],
   "source": [
    "# Ratings eines User ausgeben\n",
    "user_id = 45\n"
   ]
  },
  {
   "cell_type": "code",
   "execution_count": null,
   "metadata": {
    "tags": []
   },
   "outputs": [],
   "source": [
    "# Recommendations für einen User ausgeben\n"
   ]
  },
  {
   "cell_type": "code",
   "execution_count": null,
   "metadata": {},
   "outputs": [],
   "source": []
  }
 ],
 "metadata": {
  "kernelspec": {
   "display_name": "~Env (virtualenv_playground)",
   "language": "python",
   "name": "virtualenv_playground"
  },
  "language_info": {
   "codemirror_mode": {
    "name": "ipython",
    "version": 3
   },
   "file_extension": ".py",
   "mimetype": "text/x-python",
   "name": "python",
   "nbconvert_exporter": "python",
   "pygments_lexer": "ipython3",
   "version": "3.10.4"
  }
 },
 "nbformat": 4,
 "nbformat_minor": 4
}
