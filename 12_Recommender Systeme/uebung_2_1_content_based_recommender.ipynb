{
 "cells": [
  {
   "cell_type": "markdown",
   "metadata": {},
   "source": [
    "# Übung 2.1 - Content Based Recommender - Ähnliche Filme"
   ]
  },
  {
   "cell_type": "markdown",
   "metadata": {
    "_cell_guid": "b6e1eb8b-6109-40ff-ab8a-37bd047c03ac",
    "_uuid": "0b0f95bdf966d06c2d7053535d46183b03a75cc1"
   },
   "source": [
    "Die Vorschläge welche wir in der 1. Übung gemacht haben, sind noch nicht wirklich gut. Denn alle Personen erhalten die gleichen Vorschläge, unabhängig vom Geschmack der Person. Um bessere Vorschläge machen zu können, werden wir nun die Meta-Daten der Filme hinzuziehen. So können wir z.B. nachdem eine Person einen Film geschaut hat, ähnliche Filme vorschlagen. z.B. Filme mit einem ähnlichen Cast oder ähnlichen Beschreibung."
   ]
  },
  {
   "cell_type": "code",
   "execution_count": null,
   "metadata": {
    "_cell_guid": "78fea705-f9ad-4a81-aafd-8b7b624110d1",
    "_uuid": "1c291fe3725c706e0003f01f0102abb9709f25fc",
    "tags": []
   },
   "outputs": [],
   "source": [
    "import ast\n",
    "import pandas as pd\n",
    "import numpy as np\n",
    "from sklearn.feature_extraction.text import TfidfVectorizer, CountVectorizer\n",
    "from sklearn.metrics.pairwise import cosine_similarity, pairwise_distances"
   ]
  },
  {
   "cell_type": "markdown",
   "metadata": {},
   "source": [
    "Einlesen der Film Metadaten"
   ]
  },
  {
   "cell_type": "code",
   "execution_count": null,
   "metadata": {
    "tags": []
   },
   "outputs": [],
   "source": [
    "list_columns = ['genres', 'keywords', 'production_companies', 'production_countries', 'spoken_languages', 'cast', 'director', 'producer', 'writer', 'music']\n",
    "\n",
    "movies = pd.read_csv('data/movies.csv', keep_default_na=False, converters={col: ast.literal_eval for col in list_columns})\n",
    "movies = movies.set_index('title', drop=False)"
   ]
  },
  {
   "cell_type": "code",
   "execution_count": null,
   "metadata": {},
   "outputs": [],
   "source": [
    "movies.head()"
   ]
  },
  {
   "cell_type": "markdown",
   "metadata": {
    "_cell_guid": "1e73645a-0b0b-441f-93b4-ce92069e1852",
    "_uuid": "c41800b7a9d8b8d48ba1c22b8430929f54e9884e"
   },
   "source": [
    "### Movie Description Based Recommender\n",
    "Wir werden nun einen Recommender implementieren, welcher die Beschreibungen der Filme beachtet.\\\n",
    "Hinweis: [sklearn.feature_extraction.text.TfidfVectorizer](https://scikit-learn.org/stable/modules/generated/sklearn.feature_extraction.text.TfidfVectorizer.html)"
   ]
  },
  {
   "cell_type": "code",
   "execution_count": null,
   "metadata": {
    "_cell_guid": "6b385623-a978-43c4-b66a-813d5e9c6790",
    "_uuid": "f9d99726d9f2667fa6fc15ce5c5e31d36a970828",
    "tags": []
   },
   "outputs": [],
   "source": [
    "# Transformiere die descriptions mit dem TFidfVectorizer zu einer tfidf-Matrix\n"
   ]
  },
  {
   "cell_type": "markdown",
   "metadata": {},
   "source": [
    "Hinweis: [sklearn.feature_extraction.text.TfidfVectorizer.get_feature_names_out](https://scikit-learn.org/stable/modules/generated/sklearn.feature_extraction.text.TfidfVectorizer.html#sklearn.feature_extraction.text.TfidfVectorizer.get_feature_names_out)"
   ]
  },
  {
   "cell_type": "code",
   "execution_count": null,
   "metadata": {
    "tags": []
   },
   "outputs": [],
   "source": [
    "# Um die tfidf_matrix besser zu verstehen können wir diese wieder in ein DataFrame umwandeln, \n",
    "# mit den Filmtitel als Zeilen (index) und Feature-Names in den Spalten (columns)\n"
   ]
  },
  {
   "cell_type": "markdown",
   "metadata": {
    "_cell_guid": "7d4db389-9f30-46e9-b8af-69fe9b40ada5",
    "_uuid": "1a98e05af67de3475999e1891d965ce9f73ce316"
   },
   "source": [
    "#### Cosine Similarity\n",
    "\n",
    "Wir werden nun eine Ähnlichkeits-Matrix aller Filme berechnen. Verwende hierfür die Cosine-Similarity, welche folgendermassen definiert ist:\n",
    "\n",
    "$cosine(x,y) = \\frac{x. y^\\intercal}{||x||.||y||} $\n",
    "\n",
    "Hinweis: [sklearn.metrics.pairwise.cosine_similarity](https://scikit-learn.org/stable/modules/generated/sklearn.metrics.pairwise.cosine_similarity.html)"
   ]
  },
  {
   "cell_type": "code",
   "execution_count": null,
   "metadata": {
    "tags": []
   },
   "outputs": [],
   "source": [
    "# Berechne die Ähnlichkeits-Matrix\n"
   ]
  },
  {
   "cell_type": "code",
   "execution_count": null,
   "metadata": {
    "tags": []
   },
   "outputs": [],
   "source": [
    "# Wir können Ähnlichkeitsmatrix ebenfalls wieder in ein DataFrame umwandeln, \n",
    "# jetzt mit dem Film Titel im Index und auch in den Spalten\n"
   ]
  },
  {
   "cell_type": "markdown",
   "metadata": {
    "_cell_guid": "f4001114-a1c6-4762-b0cf-64eb4f2658ac",
    "_uuid": "b7a65051edc24edfe6e2afaf3a9c3a148af5bcaf"
   },
   "source": [
    "Da wir nun die paarweisen Ähnlichkeiten aller Filme haben, ist der nächste Schritt nun die 20 änlichsten Filme eines Filmes zu finden."
   ]
  },
  {
   "cell_type": "code",
   "execution_count": null,
   "metadata": {
    "_cell_guid": "d7352ae7-fbc3-4459-b257-76a44000ce6a",
    "_uuid": "62f49212a8b935ef63a3643e1bb6f629521f05b7",
    "tags": []
   },
   "outputs": [],
   "source": [
    "# implementiere nun folgende Funktion die basierend auf einem Film-Titel die 20 ähnlichsten Filme zurückgibt\n",
    "def get_recommendations(similarities, title):\n",
    "    "
   ]
  },
  {
   "cell_type": "markdown",
   "metadata": {
    "_cell_guid": "e8c1e16a-a1ab-4cae-916b-dcdc2ebaf9a9",
    "_uuid": "8960b80c95e09e6b4e328872efebd2e4ee711df2"
   },
   "source": [
    "Jetzt können wir für ein paar Filme die ähnlichste Filme ermitteln"
   ]
  },
  {
   "cell_type": "code",
   "execution_count": null,
   "metadata": {
    "_cell_guid": "d074112e-79ea-4188-a1e0-addd9bed3c91",
    "_uuid": "f92e310b0225b4a1b8b46e8a87fe2f2b82c158ed",
    "tags": []
   },
   "outputs": [],
   "source": [
    "get_recommendations(text_similarities, 'The Dark Knight').head(30)"
   ]
  },
  {
   "cell_type": "markdown",
   "metadata": {
    "_cell_guid": "3a0dd8ba-a580-4c12-95eb-ca04e2191b35",
    "_uuid": "4089c7bcdf984e596e80d2fc6c2a74fe8c05a41f"
   },
   "source": [
    "### Metadata Based Recommender\n",
    "\n",
    "Der vorherige Recommender basiert nur auf den Beschreibungen der Filme. Ein grosser Anteil was einen Film ausmacht sind aber auch Schauspieler und der Direktor.\n",
    "Darum werden wir nun einen Recommender bauen, welche diese Aspekte auch einbezieht."
   ]
  },
  {
   "cell_type": "markdown",
   "metadata": {},
   "source": [
    "Zuerst erstellen wir eine Funktion um aus einer Spalte *col* mit Listen ein One Hot Encoding zu erstellen\n",
    "Dazu wählen wir die ersten *take_n* Elemente jedes Eintrag, erstellen ein One Hot Encoding der Elemente welche mindestens *min_occurence* auftreten"
   ]
  },
  {
   "cell_type": "code",
   "execution_count": null,
   "metadata": {
    "tags": []
   },
   "outputs": [],
   "source": [
    "# Wir verkleinern das Dataset etwas um die Berechnungen etwas zu beschleunigen\n",
    "movies_small = movies[movies.vote_count > 1000]\n",
    "movies_small.shape"
   ]
  },
  {
   "cell_type": "code",
   "execution_count": null,
   "metadata": {
    "tags": []
   },
   "outputs": [],
   "source": [
    "# Betrachten wir die Spalte mit den Schauspielern\n",
    "col = movies_small.cast\n",
    "take_n = 3\n",
    "min_occurence = 2\n",
    "col"
   ]
  },
  {
   "cell_type": "markdown",
   "metadata": {},
   "source": [
    "Hinweis: auf einer pandas.Series welche aus Listen besteht, können auch die Stringfuktionen angewendet werden\\\n",
    "Ersten n Elemente auswählen: [pandas.Series.str.slice](https://pandas.pydata.org/docs/reference/api/pandas.Series.str.slice.html)\\\n",
    "Elemente der Liste zusammenführen: [pandas.Series.str.join](https://pandas.pydata.org/docs/reference/api/pandas.Series.str.join.html)\\\n",
    "Onehot-Encoding eines Strings: [pandas.Series.str.get_dummies](https://pandas.pydata.org/docs/reference/api/pandas.Series.str.get_dummies.html)"
   ]
  },
  {
   "cell_type": "code",
   "execution_count": null,
   "metadata": {
    "tags": []
   },
   "outputs": [],
   "source": [
    "# Selectieren der ersten take_n Elemente \n"
   ]
  },
  {
   "cell_type": "code",
   "execution_count": null,
   "metadata": {
    "tags": []
   },
   "outputs": [],
   "source": [
    "# Zusammenführen der Elemente der Listen, mit '|' getrennt (da get_dummies default-Seperator | ist) \n"
   ]
  },
  {
   "cell_type": "code",
   "execution_count": null,
   "metadata": {
    "tags": []
   },
   "outputs": [],
   "source": [
    "# Onehot-Endcoding mit get_dummies()\n"
   ]
  },
  {
   "cell_type": "markdown",
   "metadata": {},
   "source": [
    "Hinweis: [pandas.DataFrame.sum](https://pandas.pydata.org/docs/reference/api/pandas.DataFrame.sum.html)"
   ]
  },
  {
   "cell_type": "code",
   "execution_count": null,
   "metadata": {
    "tags": []
   },
   "outputs": [],
   "source": [
    "# Filtern der Spalten, mit weniger als min_occurence Elementen\n"
   ]
  },
  {
   "cell_type": "markdown",
   "metadata": {},
   "source": [
    "Für nun die einzelnen Schritte von oben, in folgender Funktion zusammen, um für eine beliebige Spalte ein Onehot-Encoding zu machen"
   ]
  },
  {
   "cell_type": "code",
   "execution_count": null,
   "metadata": {
    "tags": []
   },
   "outputs": [],
   "source": [
    "# One Hot Encoder\n",
    "def one_hot_encoder(col, take_n=3, min_occurence=2):\n",
    "    "
   ]
  },
  {
   "cell_type": "markdown",
   "metadata": {},
   "source": [
    "Berechne nun mit one_hot_encoder verschiedene Splaten und führe sie in ein grosses features-DataFrame zusammen\\\n",
    "Hinweis: [pandas.concat](https://pandas.pydata.org/docs/reference/api/pandas.concat.html)"
   ]
  },
  {
   "cell_type": "code",
   "execution_count": null,
   "metadata": {
    "tags": []
   },
   "outputs": [],
   "source": [
    "# Erstelle meta_features-DataFrame\n"
   ]
  },
  {
   "cell_type": "code",
   "execution_count": null,
   "metadata": {
    "tags": []
   },
   "outputs": [],
   "source": [
    "# Schaue die Features für einen Film an, welche auf 1 gesetzt sind\n",
    "meta_features.loc['The Dark Knight'].sort_values(ascending=False).head(30)"
   ]
  },
  {
   "cell_type": "markdown",
   "metadata": {},
   "source": [
    "Nun können wir eine neue Ählichkeits-Matrix berechnen mit unseren Meta-Features und z.B. der Jaccard-Ähnlichkeit\\\n",
    "Hinweis: [sklearn.metrics.pairwise_distances](https://scikit-learn.org/stable/modules/generated/sklearn.metrics.pairwise_distances.html)"
   ]
  },
  {
   "cell_type": "code",
   "execution_count": null,
   "metadata": {
    "tags": []
   },
   "outputs": [],
   "source": [
    "# neue Ähnlichkeits-Matrix berechnen\n"
   ]
  },
  {
   "cell_type": "markdown",
   "metadata": {
    "_cell_guid": "7f7ae1dc-41c0-4cd7-af41-74e6075b0d90",
    "_uuid": "37e2da9e51efab9951e6061f677c5ffcad230782"
   },
   "source": [
    "Jetzt können wir, wie zuvor mit der neuen Ähnlichkeitsmatrix wieder Vorschläge generieren"
   ]
  },
  {
   "cell_type": "code",
   "execution_count": null,
   "metadata": {
    "_cell_guid": "e755e943-495b-46df-983b-2f8ad80fcd6a",
    "_uuid": "f6e2b6b232e992c783150a0ac5a7038c6de6db37",
    "tags": []
   },
   "outputs": [],
   "source": [
    "get_recommendations(meta_similarities_jaccard, 'The Dark Knight').head(10)"
   ]
  },
  {
   "cell_type": "code",
   "execution_count": null,
   "metadata": {},
   "outputs": [],
   "source": []
  }
 ],
 "metadata": {
  "kernelspec": {
   "display_name": "~Env (virtualenv_recommender)",
   "language": "python",
   "name": "virtualenv_recommender"
  },
  "language_info": {
   "codemirror_mode": {
    "name": "ipython",
    "version": 3
   },
   "file_extension": ".py",
   "mimetype": "text/x-python",
   "name": "python",
   "nbconvert_exporter": "python",
   "pygments_lexer": "ipython3",
   "version": "3.10.4"
  }
 },
 "nbformat": 4,
 "nbformat_minor": 4
}
