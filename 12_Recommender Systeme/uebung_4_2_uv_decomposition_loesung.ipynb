{
 "cells": [
  {
   "cell_type": "markdown",
   "metadata": {},
   "source": [
    "# Übung 4 - UV-Decomposition"
   ]
  },
  {
   "cell_type": "markdown",
   "metadata": {},
   "source": [
    "Lese im Skrip den Abschnitt 9.4: Dimensionality Reduction durch, und implementiere den UV-Decompositions-Algorithmus"
   ]
  },
  {
   "cell_type": "code",
   "execution_count": 1,
   "metadata": {
    "execution": {
     "iopub.execute_input": "2023-12-16T13:33:33.448321Z",
     "iopub.status.busy": "2023-12-16T13:33:33.448087Z",
     "iopub.status.idle": "2023-12-16T13:33:33.539958Z",
     "shell.execute_reply": "2023-12-16T13:33:33.538952Z",
     "shell.execute_reply.started": "2023-12-16T13:33:33.448298Z"
    }
   },
   "outputs": [],
   "source": [
    "import numpy as np"
   ]
  },
  {
   "cell_type": "code",
   "execution_count": 2,
   "metadata": {
    "execution": {
     "iopub.execute_input": "2023-12-16T13:33:33.544522Z",
     "iopub.status.busy": "2023-12-16T13:33:33.543988Z",
     "iopub.status.idle": "2023-12-16T13:33:33.551107Z",
     "shell.execute_reply": "2023-12-16T13:33:33.550017Z",
     "shell.execute_reply.started": "2023-12-16T13:33:33.544465Z"
    }
   },
   "outputs": [],
   "source": [
    "# initialisiere M und U,V\n",
    "M = np.array([\n",
    "    [5,2,4,4,3],\n",
    "    [3,1,2,4,1],\n",
    "    [2,np.nan,3,1,4],\n",
    "    [2,5,4,3,5],\n",
    "    [4,4,5,4,np.nan]\n",
    "])\n",
    "U = np.ones((5,2))\n",
    "V = np.ones((2,5))"
   ]
  },
  {
   "cell_type": "code",
   "execution_count": 3,
   "metadata": {
    "execution": {
     "iopub.execute_input": "2023-12-16T13:33:33.553127Z",
     "iopub.status.busy": "2023-12-16T13:33:33.552658Z",
     "iopub.status.idle": "2023-12-16T13:33:33.564264Z",
     "shell.execute_reply": "2023-12-16T13:33:33.563137Z",
     "shell.execute_reply.started": "2023-12-16T13:33:33.553092Z"
    }
   },
   "outputs": [
    {
     "data": {
      "text/plain": [
       "array([[2., 2., 2., 2., 2.],\n",
       "       [2., 2., 2., 2., 2.],\n",
       "       [2., 2., 2., 2., 2.],\n",
       "       [2., 2., 2., 2., 2.],\n",
       "       [2., 2., 2., 2., 2.]])"
      ]
     },
     "execution_count": 3,
     "metadata": {},
     "output_type": "execute_result"
    }
   ],
   "source": [
    "# UV\n",
    "P = U @ V\n",
    "P"
   ]
  },
  {
   "cell_type": "code",
   "execution_count": 4,
   "metadata": {
    "execution": {
     "iopub.execute_input": "2023-12-16T13:33:33.566190Z",
     "iopub.status.busy": "2023-12-16T13:33:33.565610Z",
     "iopub.status.idle": "2023-12-16T13:33:33.571656Z",
     "shell.execute_reply": "2023-12-16T13:33:33.570574Z",
     "shell.execute_reply.started": "2023-12-16T13:33:33.566159Z"
    }
   },
   "outputs": [],
   "source": [
    "# root mean squared error\n",
    "def rmse(A, B):\n",
    "    return np.sqrt(np.nanmean(np.power((A - B),2)))\n",
    "\n",
    "# sum squared error\n",
    "def sse(A, B):\n",
    "    return np.nansum(np.power((A - B),2))"
   ]
  },
  {
   "cell_type": "code",
   "execution_count": 5,
   "metadata": {
    "execution": {
     "iopub.execute_input": "2023-12-16T13:33:33.573778Z",
     "iopub.status.busy": "2023-12-16T13:33:33.573346Z",
     "iopub.status.idle": "2023-12-16T13:33:33.578837Z",
     "shell.execute_reply": "2023-12-16T13:33:33.577773Z",
     "shell.execute_reply.started": "2023-12-16T13:33:33.573746Z"
    }
   },
   "outputs": [
    {
     "name": "stdout",
     "output_type": "stream",
     "text": [
      "1.805787796286538\n",
      "75.0\n"
     ]
    }
   ],
   "source": [
    "# berechne RMSE und SSE\n",
    "print(rmse(M,P))\n",
    "print(sse(M,P))"
   ]
  },
  {
   "cell_type": "code",
   "execution_count": 6,
   "metadata": {
    "execution": {
     "iopub.execute_input": "2023-12-16T13:33:33.580934Z",
     "iopub.status.busy": "2023-12-16T13:33:33.580254Z",
     "iopub.status.idle": "2023-12-16T13:33:33.588928Z",
     "shell.execute_reply": "2023-12-16T13:33:33.588033Z",
     "shell.execute_reply.started": "2023-12-16T13:33:33.580901Z"
    }
   },
   "outputs": [],
   "source": [
    "# minimiere U[r,s]\n",
    "def minimize_U(M, U, V, r, s):       \n",
    "    U = U.copy()\n",
    "    a = 0\n",
    "    b = 0\n",
    "    for j in range(M.shape[1]):        \n",
    "        if np.isnan(M[r,j]):\n",
    "            continue\n",
    "        a += V[s,j] * (M[r,j] - sum(U[r,k] * V[k,j] for k in range(U.shape[1]) if k != s))\n",
    "        b += np.power(V[s,j],2) \n",
    "    U[r,s] = a/b\n",
    "    return U\n"
   ]
  },
  {
   "cell_type": "code",
   "execution_count": 7,
   "metadata": {
    "execution": {
     "iopub.execute_input": "2023-12-16T13:33:33.594064Z",
     "iopub.status.busy": "2023-12-16T13:33:33.593696Z",
     "iopub.status.idle": "2023-12-16T13:33:33.597901Z",
     "shell.execute_reply": "2023-12-16T13:33:33.597152Z",
     "shell.execute_reply.started": "2023-12-16T13:33:33.594039Z"
    }
   },
   "outputs": [],
   "source": [
    "# minimiere U[0,0]\n",
    "U = minimize_U(M, U, V, 0, 0)"
   ]
  },
  {
   "cell_type": "code",
   "execution_count": 8,
   "metadata": {
    "execution": {
     "iopub.execute_input": "2023-12-16T13:33:33.599146Z",
     "iopub.status.busy": "2023-12-16T13:33:33.598770Z",
     "iopub.status.idle": "2023-12-16T13:33:33.604374Z",
     "shell.execute_reply": "2023-12-16T13:33:33.603497Z",
     "shell.execute_reply.started": "2023-12-16T13:33:33.599123Z"
    }
   },
   "outputs": [
    {
     "data": {
      "text/plain": [
       "array([[2.6, 1. ],\n",
       "       [1. , 1. ],\n",
       "       [1. , 1. ],\n",
       "       [1. , 1. ],\n",
       "       [1. , 1. ]])"
      ]
     },
     "execution_count": 8,
     "metadata": {},
     "output_type": "execute_result"
    }
   ],
   "source": [
    "U"
   ]
  },
  {
   "cell_type": "code",
   "execution_count": 9,
   "metadata": {
    "execution": {
     "iopub.execute_input": "2023-12-16T13:33:33.606061Z",
     "iopub.status.busy": "2023-12-16T13:33:33.605746Z",
     "iopub.status.idle": "2023-12-16T13:33:33.612205Z",
     "shell.execute_reply": "2023-12-16T13:33:33.611336Z",
     "shell.execute_reply.started": "2023-12-16T13:33:33.606041Z"
    }
   },
   "outputs": [
    {
     "data": {
      "text/plain": [
       "array([[3.6, 3.6, 3.6, 3.6, 3.6],\n",
       "       [2. , 2. , 2. , 2. , 2. ],\n",
       "       [2. , 2. , 2. , 2. , 2. ],\n",
       "       [2. , 2. , 2. , 2. , 2. ],\n",
       "       [2. , 2. , 2. , 2. , 2. ]])"
      ]
     },
     "execution_count": 9,
     "metadata": {},
     "output_type": "execute_result"
    }
   ],
   "source": [
    "P = U @ V\n",
    "P"
   ]
  },
  {
   "cell_type": "code",
   "execution_count": 10,
   "metadata": {
    "execution": {
     "iopub.execute_input": "2023-12-16T13:33:33.613950Z",
     "iopub.status.busy": "2023-12-16T13:33:33.613629Z",
     "iopub.status.idle": "2023-12-16T13:33:33.618208Z",
     "shell.execute_reply": "2023-12-16T13:33:33.617288Z",
     "shell.execute_reply.started": "2023-12-16T13:33:33.613923Z"
    }
   },
   "outputs": [
    {
     "name": "stdout",
     "output_type": "stream",
     "text": [
      "1.6444901416812923\n",
      "62.2\n"
     ]
    }
   ],
   "source": [
    "print(rmse(M,P))\n",
    "print(sse(M,P))"
   ]
  },
  {
   "cell_type": "code",
   "execution_count": 11,
   "metadata": {
    "execution": {
     "iopub.execute_input": "2023-12-16T13:33:33.620132Z",
     "iopub.status.busy": "2023-12-16T13:33:33.619740Z",
     "iopub.status.idle": "2023-12-16T13:33:33.625796Z",
     "shell.execute_reply": "2023-12-16T13:33:33.624956Z",
     "shell.execute_reply.started": "2023-12-16T13:33:33.620110Z"
    }
   },
   "outputs": [],
   "source": [
    "# minimiere V[r,s]\n",
    "def minimize_V(M, U, V, r, s):       \n",
    "    V = V.copy()\n",
    "    a = 0\n",
    "    b = 0\n",
    "    for i in range(M.shape[0]):        \n",
    "        if np.isnan(M[i,s]):\n",
    "            continue\n",
    "        a += U[i,r] * (M[i,s] - sum(U[i,k] * V[k,s] for k in range(V.shape[0]) if k != r))\n",
    "        b += np.power(U[i,r],2) \n",
    "    V[r,s] = a/b\n",
    "    return V"
   ]
  },
  {
   "cell_type": "code",
   "execution_count": 12,
   "metadata": {
    "execution": {
     "iopub.execute_input": "2023-12-16T13:33:33.627528Z",
     "iopub.status.busy": "2023-12-16T13:33:33.627238Z",
     "iopub.status.idle": "2023-12-16T13:33:33.633442Z",
     "shell.execute_reply": "2023-12-16T13:33:33.632456Z",
     "shell.execute_reply.started": "2023-12-16T13:33:33.627505Z"
    }
   },
   "outputs": [
    {
     "data": {
      "text/plain": [
       "array([[1.61710037, 1.        , 1.        , 1.        , 1.        ],\n",
       "       [1.        , 1.        , 1.        , 1.        , 1.        ]])"
      ]
     },
     "execution_count": 12,
     "metadata": {},
     "output_type": "execute_result"
    }
   ],
   "source": [
    "# minimiere V[0,0]\n",
    "V = minimize_V(M, U, V, 0, 0)\n",
    "V"
   ]
  },
  {
   "cell_type": "code",
   "execution_count": 13,
   "metadata": {
    "execution": {
     "iopub.execute_input": "2023-12-16T13:33:33.635107Z",
     "iopub.status.busy": "2023-12-16T13:33:33.634744Z",
     "iopub.status.idle": "2023-12-16T13:33:33.640337Z",
     "shell.execute_reply": "2023-12-16T13:33:33.639248Z",
     "shell.execute_reply.started": "2023-12-16T13:33:33.635084Z"
    }
   },
   "outputs": [
    {
     "data": {
      "text/plain": [
       "array([[5.20446097, 3.6       , 3.6       , 3.6       , 3.6       ],\n",
       "       [2.61710037, 2.        , 2.        , 2.        , 2.        ],\n",
       "       [2.61710037, 2.        , 2.        , 2.        , 2.        ],\n",
       "       [2.61710037, 2.        , 2.        , 2.        , 2.        ],\n",
       "       [2.61710037, 2.        , 2.        , 2.        , 2.        ]])"
      ]
     },
     "execution_count": 13,
     "metadata": {},
     "output_type": "execute_result"
    }
   ],
   "source": [
    "P = U @ V\n",
    "P"
   ]
  },
  {
   "cell_type": "code",
   "execution_count": 14,
   "metadata": {
    "execution": {
     "iopub.execute_input": "2023-12-16T13:33:33.641644Z",
     "iopub.status.busy": "2023-12-16T13:33:33.641372Z",
     "iopub.status.idle": "2023-12-16T13:33:33.645947Z",
     "shell.execute_reply": "2023-12-16T13:33:33.644937Z",
     "shell.execute_reply.started": "2023-12-16T13:33:33.641623Z"
    }
   },
   "outputs": [
    {
     "name": "stdout",
     "output_type": "stream",
     "text": [
      "1.5894004000907482\n",
      "58.10245353159851\n"
     ]
    }
   ],
   "source": [
    "print(rmse(M,P))\n",
    "print(sse(M,P))"
   ]
  },
  {
   "cell_type": "code",
   "execution_count": 15,
   "metadata": {
    "execution": {
     "iopub.execute_input": "2023-12-16T13:33:33.648021Z",
     "iopub.status.busy": "2023-12-16T13:33:33.647595Z",
     "iopub.status.idle": "2023-12-16T13:33:33.653073Z",
     "shell.execute_reply": "2023-12-16T13:33:33.652207Z",
     "shell.execute_reply.started": "2023-12-16T13:33:33.647991Z"
    }
   },
   "outputs": [],
   "source": [
    "# minimiere U[2,0] mit fehlenden Werten\n",
    "U = minimize_U(M, U, V, 2, 0)"
   ]
  },
  {
   "cell_type": "code",
   "execution_count": 16,
   "metadata": {
    "execution": {
     "iopub.execute_input": "2023-12-16T13:33:33.654422Z",
     "iopub.status.busy": "2023-12-16T13:33:33.654079Z",
     "iopub.status.idle": "2023-12-16T13:33:33.659706Z",
     "shell.execute_reply": "2023-12-16T13:33:33.658901Z",
     "shell.execute_reply.started": "2023-12-16T13:33:33.654399Z"
    }
   },
   "outputs": [
    {
     "data": {
      "text/plain": [
       "array([[5.20446097, 3.6       , 3.6       , 3.6       , 3.6       ],\n",
       "       [2.61710037, 2.        , 2.        , 2.        , 2.        ],\n",
       "       [2.90569716, 2.1784656 , 2.1784656 , 2.1784656 , 2.1784656 ],\n",
       "       [2.61710037, 2.        , 2.        , 2.        , 2.        ],\n",
       "       [2.61710037, 2.        , 2.        , 2.        , 2.        ]])"
      ]
     },
     "execution_count": 16,
     "metadata": {},
     "output_type": "execute_result"
    }
   ],
   "source": [
    "P = U @ V\n",
    "P"
   ]
  },
  {
   "cell_type": "code",
   "execution_count": 17,
   "metadata": {
    "execution": {
     "iopub.execute_input": "2023-12-16T13:33:33.661601Z",
     "iopub.status.busy": "2023-12-16T13:33:33.661235Z",
     "iopub.status.idle": "2023-12-16T13:33:33.665838Z",
     "shell.execute_reply": "2023-12-16T13:33:33.665042Z",
     "shell.execute_reply.started": "2023-12-16T13:33:33.661575Z"
    }
   },
   "outputs": [
    {
     "name": "stdout",
     "output_type": "stream",
     "text": [
      "1.5869524460602322\n",
      "57.92361551930075\n"
     ]
    }
   ],
   "source": [
    "print(rmse(M,P))\n",
    "print(sse(M,P))"
   ]
  },
  {
   "cell_type": "code",
   "execution_count": 18,
   "metadata": {
    "execution": {
     "iopub.execute_input": "2023-12-16T13:33:33.667054Z",
     "iopub.status.busy": "2023-12-16T13:33:33.666728Z",
     "iopub.status.idle": "2023-12-16T13:33:33.674731Z",
     "shell.execute_reply": "2023-12-16T13:33:33.673871Z",
     "shell.execute_reply.started": "2023-12-16T13:33:33.667033Z"
    }
   },
   "outputs": [],
   "source": [
    "# UV-Decomposition Algorithmus\n",
    "def UV_decomposition(M, k, delta_treshold=0.0001, max_iter=50):\n",
    "    init_value = np.sqrt(np.nanmean(M)/k)\n",
    "    U = np.ones((M.shape[0],k)) * init_value\n",
    "    V = np.ones((k,M.shape[1])) * init_value\n",
    "    \n",
    "    delta = np.inf\n",
    "    last_error = np.inf\n",
    "    i = 0\n",
    "    while delta > delta_treshold and i < max_iter:\n",
    "        for r in range(U.shape[0]):\n",
    "            for s in range(U.shape[1]):\n",
    "                U = minimize_U(M, U, V, r, s)\n",
    "            print(f'{i:>2}: {rmse(M,U @ V):.7}', end=\"\\r\")\n",
    "\n",
    "        for r in range(V.shape[0]):\n",
    "            for s in range(V.shape[1]):\n",
    "                V = minimize_V(M, U, V, r, s)\n",
    "            print(f'{i:>2}: {rmse(M,U @ V):.7}', end=\"\\r\")\n",
    "\n",
    "        P = U @ V\n",
    "        error = rmse(M,P)\n",
    "        delta = last_error - error\n",
    "        last_error = error\n",
    "        print(f'{i:>2}: {error:.7}')\n",
    "        i += 1\n",
    "    return U, V"
   ]
  },
  {
   "cell_type": "code",
   "execution_count": 19,
   "metadata": {
    "execution": {
     "iopub.execute_input": "2023-12-16T13:33:33.676915Z",
     "iopub.status.busy": "2023-12-16T13:33:33.676441Z",
     "iopub.status.idle": "2023-12-16T13:33:33.695182Z",
     "shell.execute_reply": "2023-12-16T13:33:33.694449Z",
     "shell.execute_reply.started": "2023-12-16T13:33:33.676892Z"
    }
   },
   "outputs": [
    {
     "name": "stdout",
     "output_type": "stream",
     "text": [
      " 0: 0.9859717\n",
      " 1: 0.9419209\n",
      " 2: 0.7800956\n",
      " 3: 0.5041983\n",
      " 4: 0.3796521\n",
      " 5: 0.3481008\n",
      " 6: 0.3380747\n",
      " 7: 0.3344906\n",
      " 8: 0.3331675\n",
      " 9: 0.3326725\n",
      "10: 0.3324799\n",
      "11: 0.3324062\n"
     ]
    }
   ],
   "source": [
    "U, V = UV_decomposition(M, 2)"
   ]
  },
  {
   "cell_type": "code",
   "execution_count": 20,
   "metadata": {
    "execution": {
     "iopub.execute_input": "2023-12-16T13:33:33.696569Z",
     "iopub.status.busy": "2023-12-16T13:33:33.696294Z",
     "iopub.status.idle": "2023-12-16T13:33:33.701943Z",
     "shell.execute_reply": "2023-12-16T13:33:33.701235Z",
     "shell.execute_reply.started": "2023-12-16T13:33:33.696548Z"
    }
   },
   "outputs": [
    {
     "data": {
      "text/plain": [
       "array([[4.53618242, 2.21942388, 3.87397298, 4.5500183 , 2.85874719],\n",
       "       [3.38885061, 0.65381128, 2.31222815, 3.4179518 , 1.15032115],\n",
       "       [1.50940223, 3.79888173, 3.06235365, 1.45682213, 3.95404955],\n",
       "       [2.47240693, 4.80014421, 4.19193104, 2.41285919, 5.08106563],\n",
       "       [4.08678248, 4.16201533, 4.7431972 , 4.05884128, 4.69732504]])"
      ]
     },
     "execution_count": 20,
     "metadata": {},
     "output_type": "execute_result"
    }
   ],
   "source": [
    "P = U @ V\n",
    "P"
   ]
  },
  {
   "cell_type": "code",
   "execution_count": 21,
   "metadata": {
    "execution": {
     "iopub.execute_input": "2023-12-16T13:33:33.703208Z",
     "iopub.status.busy": "2023-12-16T13:33:33.702888Z",
     "iopub.status.idle": "2023-12-16T13:33:33.706992Z",
     "shell.execute_reply": "2023-12-16T13:33:33.706191Z",
     "shell.execute_reply.started": "2023-12-16T13:33:33.703185Z"
    }
   },
   "outputs": [
    {
     "name": "stdout",
     "output_type": "stream",
     "text": [
      "0.3324062215870878\n",
      "2.5413596114454955\n"
     ]
    }
   ],
   "source": [
    "print(rmse(M,P))\n",
    "print(sse(M,P))"
   ]
  },
  {
   "cell_type": "code",
   "execution_count": 22,
   "metadata": {
    "execution": {
     "iopub.execute_input": "2023-12-16T13:33:33.713259Z",
     "iopub.status.busy": "2023-12-16T13:33:33.712910Z",
     "iopub.status.idle": "2023-12-16T13:33:33.718176Z",
     "shell.execute_reply": "2023-12-16T13:33:33.717311Z",
     "shell.execute_reply.started": "2023-12-16T13:33:33.713236Z"
    }
   },
   "outputs": [
    {
     "data": {
      "text/plain": [
       "array([[ 5.,  2.,  4.,  4.,  3.],\n",
       "       [ 3.,  1.,  2.,  4.,  1.],\n",
       "       [ 2., nan,  3.,  1.,  4.],\n",
       "       [ 2.,  5.,  4.,  3.,  5.],\n",
       "       [ 4.,  4.,  5.,  4., nan]])"
      ]
     },
     "execution_count": 22,
     "metadata": {},
     "output_type": "execute_result"
    }
   ],
   "source": [
    "M"
   ]
  },
  {
   "cell_type": "code",
   "execution_count": null,
   "metadata": {},
   "outputs": [],
   "source": []
  }
 ],
 "metadata": {
  "kernelspec": {
   "display_name": "~Env (virtualenv_playground)",
   "language": "python",
   "name": "virtualenv_playground"
  },
  "language_info": {
   "codemirror_mode": {
    "name": "ipython",
    "version": 3
   },
   "file_extension": ".py",
   "mimetype": "text/x-python",
   "name": "python",
   "nbconvert_exporter": "python",
   "pygments_lexer": "ipython3",
   "version": "3.10.4"
  }
 },
 "nbformat": 4,
 "nbformat_minor": 4
}
