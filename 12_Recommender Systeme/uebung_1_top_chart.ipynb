{
 "cells": [
  {
   "cell_type": "markdown",
   "metadata": {
    "_cell_guid": "f130bae8-1bb0-415d-9a39-557fe180b490",
    "_uuid": "49131e65f312719487848f6ef42488041a44028e"
   },
   "source": [
    "# Übung 1 - Simple Recommender System\n",
    "\n",
    "In der 1. Übung implementieren wir ein einfaches Recommender System, welches nur allgemein gültige Vorschläge macht - sprich keine personalisierte Vorschläge für jeden Benutzer.\n",
    "Für die Übungen verwenden wir [The Movies Dataset](https://www.kaggle.com/rounakbanik/the-movies-dataset?select=movies_metadata.csv), welcher für die [MovieLens](https://grouplens.org/datasets/movielens/) Rating auch noch Meta-Daten von der [The Movie Database (TMDb)](https://www.themoviedb.org/) der Filme enthält."
   ]
  },
  {
   "cell_type": "code",
   "execution_count": null,
   "metadata": {
    "_cell_guid": "78fea705-f9ad-4a81-aafd-8b7b624110d1",
    "_uuid": "1c291fe3725c706e0003f01f0102abb9709f25fc",
    "tags": []
   },
   "outputs": [],
   "source": [
    "import pandas as pd\n",
    "import warnings; warnings.simplefilter('ignore')"
   ]
  },
  {
   "cell_type": "markdown",
   "metadata": {},
   "source": [
    "Einlesen der Meta-Daten aller Filme"
   ]
  },
  {
   "cell_type": "code",
   "execution_count": null,
   "metadata": {
    "_cell_guid": "0356d2a0-d8b2-4234-af78-bd51eaa3a390",
    "_uuid": "e0d62612bc9b9e9561afdc48fd1e75a9b0c82337",
    "tags": []
   },
   "outputs": [],
   "source": [
    "movies = pd.read_csv('data/movies_all.csv')[['title', 'genres', 'vote_average', 'vote_count']]\n",
    "movies.head()"
   ]
  },
  {
   "cell_type": "markdown",
   "metadata": {},
   "source": [
    "## 1. Top-Listen"
   ]
  },
  {
   "cell_type": "markdown",
   "metadata": {},
   "source": [
    "Die einfachste Art die Besten Filme zu finden, ist einfach die Liste nach dem durchschnittlichen Rating zu sortieren und die besten auszugeben.\\\n",
    "Hinweis: [pandas.DataFrame.sort_values](https://pandas.pydata.org/docs/reference/api/pandas.DataFrame.sort_values.html)"
   ]
  },
  {
   "cell_type": "code",
   "execution_count": null,
   "metadata": {
    "tags": []
   },
   "outputs": [],
   "source": [
    "# Sortiere die Filme nach `vote_average` und gebe die Top 10 aus.\n"
   ]
  },
  {
   "cell_type": "markdown",
   "metadata": {},
   "source": [
    "Was fällt auf? Es gibt Filme mit nur einer 10er-Bewertung, welche nun zuoberst sind. Das wollen wir natürlich nicht. Auch wenn wir noch zusätzlich nach `vote_count` sortieren, wird es nicht besser."
   ]
  },
  {
   "cell_type": "markdown",
   "metadata": {
    "_cell_guid": "23cf39ba-ef09-4972-9d1f-ed91cb2ef134",
    "_uuid": "9571875d383f237f126febe9c76f966e2869fdc3"
   },
   "source": [
    "IMDB verwendet für ihre Top-Charts ein gewichtet Rating, welches folgendermassen definiert ist:\n",
    "\n",
    "Weighted Rating (WR) = $(\\frac{v}{v + m} . R) + (\\frac{m}{v + m} . C)$\n",
    "\n",
    "* *v* := Anzahl Stimmen\n",
    "* *m* := Minimum Anzahl Stimmen um auf die Liste zu kommen\n",
    "* *R* := Durchschnittliches Rating des Filmes\n",
    "* *C* := Durchschnittliches Rating aller Filme\n",
    "\n",
    "Lasst uns nun das durchschnittliche Rating aller Filme (C) berechnen und ein Minimum Anzahl Stimmen (m) definieren."
   ]
  },
  {
   "cell_type": "code",
   "execution_count": null,
   "metadata": {
    "_cell_guid": "de5d2a9a-9d67-4309-9256-844756318bd0",
    "_uuid": "1e732487caba09d9543f3da49cbe7ff5092e2675",
    "tags": []
   },
   "outputs": [],
   "source": [
    "# Berechne das durchschnittle Rating aller Filme\n"
   ]
  },
  {
   "cell_type": "markdown",
   "metadata": {},
   "source": [
    "Hinweis: [pandas.DataFrame.quantile](https://pandas.pydata.org/docs/reference/api/pandas.DataFrame.quantile.html)"
   ]
  },
  {
   "cell_type": "code",
   "execution_count": null,
   "metadata": {
    "_cell_guid": "f2a3dff7-6430-471b-bd83-589779ab52b0",
    "_uuid": "23c2e113380f1bad9205ab2d0f8c372b0c246e79",
    "tags": []
   },
   "outputs": [],
   "source": [
    "# Lasst uns das 95ste Quantile als minimale Anzahl Stimmen definieren. Sprich die Filme auf unsere Top-Liste sollen mehr Stimmen haben, als 95% aller Filme.\n"
   ]
  },
  {
   "cell_type": "markdown",
   "metadata": {},
   "source": [
    "Jetzt können wir noch die Funktion für das Gewichtete Rating definieren und anschliessend unsere Top-Liste berechnen."
   ]
  },
  {
   "cell_type": "code",
   "execution_count": null,
   "metadata": {
    "_cell_guid": "db959c40-7618-4755-a05a-5347f9460929",
    "_uuid": "6414e1aa7ed8cb4184ec451f02a18cd187e5345e"
   },
   "outputs": [],
   "source": [
    "# Definiere das Gewichtete Rating (x := Zeile des DataFrame)\n",
    "def weighted_rating(x, m, C):\n",
    "    "
   ]
  },
  {
   "cell_type": "markdown",
   "metadata": {},
   "source": [
    "Hinweis: [pandas.DataFrame.apply](https://pandas.pydata.org/docs/reference/api/pandas.DataFrame.apply.html)"
   ]
  },
  {
   "cell_type": "code",
   "execution_count": null,
   "metadata": {
    "tags": []
   },
   "outputs": [],
   "source": [
    "# Gewichtetes Rating berechnen und einer neuen Spalte zuweisen anschliessend\n"
   ]
  },
  {
   "cell_type": "code",
   "execution_count": null,
   "metadata": {
    "_cell_guid": "ccbd8eca-cbfe-4843-9885-de11976f117c",
    "_uuid": "ed0ac7c8483f904d4f5ec0d554096d4782fa8bcf"
   },
   "outputs": [],
   "source": [
    "# sortiere das Dataframe nach dem gewichteten Rating und gebe die Top-20 Filme aus\n"
   ]
  },
  {
   "cell_type": "markdown",
   "metadata": {},
   "source": [
    "Das sieht schon etwas besser au. Jedoch fällt auf das vor allem Dramen und Thriller zuoberst auf der Liste stehen, und keine Romanzen unter die Top-20 geschafft haben."
   ]
  },
  {
   "cell_type": "markdown",
   "metadata": {
    "_cell_guid": "36a1b9ac-aff3-4d80-9e19-83a45f282062",
    "_uuid": "75eb9e1de05386d229746785a25c6a5c6ee4b61a"
   },
   "source": [
    "## Top-Genre-Liste"
   ]
  },
  {
   "cell_type": "markdown",
   "metadata": {},
   "source": [
    "Darum werden wir im nächsten Schritt nun Top-Listen pro Genre erstellen.\\\n",
    "Hinweis: [pandas.Series.str.contains](https://pandas.pydata.org/docs/reference/api/pandas.Series.str.contains.html)"
   ]
  },
  {
   "cell_type": "code",
   "execution_count": null,
   "metadata": {
    "_cell_guid": "759652cb-5b16-4951-995c-6a3bdbae0e4e",
    "_uuid": "1fdfea9cd4b046b11ff8f2ac4f2bea74fccb8a8b",
    "tags": []
   },
   "outputs": [],
   "source": [
    "# Implementiere nun folgende Funktion welche für ein bestimmtes Genre die Top-Liste zurückgibt \n",
    "def top_genre_chart(movies, genre, percentile=0.85):\n",
    "    "
   ]
  },
  {
   "cell_type": "code",
   "execution_count": null,
   "metadata": {
    "_cell_guid": "af61da24-494b-48ac-b7b7-64ec0eaedaf8",
    "_uuid": "bf2816495a16de1bb84dc826fd33eee7e663f45d"
   },
   "outputs": [],
   "source": [
    "# Gebe nun die Top-20 Romance-Filme aus\n",
    "top_genre_chart(movies, 'Romance').head(20)"
   ]
  },
  {
   "cell_type": "code",
   "execution_count": null,
   "metadata": {},
   "outputs": [],
   "source": []
  }
 ],
 "metadata": {
  "kernelspec": {
   "display_name": "~Env (virtualenv_playground)",
   "language": "python",
   "name": "virtualenv_playground"
  },
  "language_info": {
   "codemirror_mode": {
    "name": "ipython",
    "version": 3
   },
   "file_extension": ".py",
   "mimetype": "text/x-python",
   "name": "python",
   "nbconvert_exporter": "python",
   "pygments_lexer": "ipython3",
   "version": "3.10.4"
  }
 },
 "nbformat": 4,
 "nbformat_minor": 4
}
