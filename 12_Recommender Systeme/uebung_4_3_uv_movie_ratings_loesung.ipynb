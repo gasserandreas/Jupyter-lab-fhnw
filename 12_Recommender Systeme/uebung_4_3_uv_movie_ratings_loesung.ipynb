{
 "cells": [
  {
   "cell_type": "code",
   "execution_count": 1,
   "metadata": {
    "execution": {
     "iopub.execute_input": "2023-12-16T13:33:40.489306Z",
     "iopub.status.busy": "2023-12-16T13:33:40.488876Z",
     "iopub.status.idle": "2023-12-16T13:33:40.956822Z",
     "shell.execute_reply": "2023-12-16T13:33:40.955904Z",
     "shell.execute_reply.started": "2023-12-16T13:33:40.489257Z"
    }
   },
   "outputs": [],
   "source": [
    "import numpy as np\n",
    "import pandas as pd\n",
    "from scipy.sparse import coo_matrix\n",
    "\n",
    "import warnings; warnings.simplefilter('ignore')"
   ]
  },
  {
   "cell_type": "code",
   "execution_count": 2,
   "metadata": {
    "execution": {
     "iopub.execute_input": "2023-12-16T13:33:40.960732Z",
     "iopub.status.busy": "2023-12-16T13:33:40.960328Z",
     "iopub.status.idle": "2023-12-16T13:33:41.111656Z",
     "shell.execute_reply": "2023-12-16T13:33:41.110969Z",
     "shell.execute_reply.started": "2023-12-16T13:33:40.960707Z"
    }
   },
   "outputs": [],
   "source": [
    "movies = pd.read_csv('data/movies.csv')\n",
    "movies = movies[['movieId', 'title']].drop_duplicates('title')"
   ]
  },
  {
   "cell_type": "code",
   "execution_count": 3,
   "metadata": {
    "execution": {
     "iopub.execute_input": "2023-12-16T13:33:41.113353Z",
     "iopub.status.busy": "2023-12-16T13:33:41.112725Z",
     "iopub.status.idle": "2023-12-16T13:33:41.200546Z",
     "shell.execute_reply": "2023-12-16T13:33:41.199822Z",
     "shell.execute_reply.started": "2023-12-16T13:33:41.113270Z"
    }
   },
   "outputs": [],
   "source": [
    "ratings = pd.read_csv('data/ratings.csv')\n",
    "ratings = ratings[ratings.movieId.isin(set(movies.movieId))]"
   ]
  },
  {
   "cell_type": "code",
   "execution_count": 4,
   "metadata": {
    "execution": {
     "iopub.execute_input": "2023-12-16T13:33:41.201935Z",
     "iopub.status.busy": "2023-12-16T13:33:41.201498Z",
     "iopub.status.idle": "2023-12-16T13:33:41.877624Z",
     "shell.execute_reply": "2023-12-16T13:33:41.876943Z",
     "shell.execute_reply.started": "2023-12-16T13:33:41.201907Z"
    }
   },
   "outputs": [],
   "source": [
    "# verwerfen aller Film mit weniger als 25 ratings\n",
    "ratings = ratings.groupby('movieId').filter(lambda x: x['movieId'].count() > 25)"
   ]
  },
  {
   "cell_type": "code",
   "execution_count": 5,
   "metadata": {
    "execution": {
     "iopub.execute_input": "2023-12-16T13:33:41.878567Z",
     "iopub.status.busy": "2023-12-16T13:33:41.878376Z",
     "iopub.status.idle": "2023-12-16T13:33:41.896363Z",
     "shell.execute_reply": "2023-12-16T13:33:41.895692Z",
     "shell.execute_reply.started": "2023-12-16T13:33:41.878548Z"
    }
   },
   "outputs": [],
   "source": [
    "# movieIds anpassen\n",
    "movies = movies[movies.movieId.isin(set(ratings.movieId))].reset_index(drop=True)\n",
    "ratings['movieId'] = ratings.movieId.map({mi: i for i, mi in movies.movieId.iteritems()})\n",
    "movies['movieId'] = movies.movieId.map({mi: i for i, mi in movies.movieId.iteritems()})"
   ]
  },
  {
   "cell_type": "code",
   "execution_count": 6,
   "metadata": {
    "execution": {
     "iopub.execute_input": "2023-12-16T13:33:41.897307Z",
     "iopub.status.busy": "2023-12-16T13:33:41.897124Z",
     "iopub.status.idle": "2023-12-16T13:33:41.913081Z",
     "shell.execute_reply": "2023-12-16T13:33:41.912284Z",
     "shell.execute_reply.started": "2023-12-16T13:33:41.897289Z"
    }
   },
   "outputs": [
    {
     "data": {
      "text/html": [
       "<div>\n",
       "<style scoped>\n",
       "    .dataframe tbody tr th:only-of-type {\n",
       "        vertical-align: middle;\n",
       "    }\n",
       "\n",
       "    .dataframe tbody tr th {\n",
       "        vertical-align: top;\n",
       "    }\n",
       "\n",
       "    .dataframe thead th {\n",
       "        text-align: right;\n",
       "    }\n",
       "</style>\n",
       "<table border=\"1\" class=\"dataframe\">\n",
       "  <thead>\n",
       "    <tr style=\"text-align: right;\">\n",
       "      <th></th>\n",
       "      <th>userId</th>\n",
       "      <th>movieId</th>\n",
       "      <th>rating</th>\n",
       "      <th>timestamp</th>\n",
       "      <th>title</th>\n",
       "    </tr>\n",
       "  </thead>\n",
       "  <tbody>\n",
       "    <tr>\n",
       "      <th>0</th>\n",
       "      <td>0</td>\n",
       "      <td>841</td>\n",
       "      <td>2.5</td>\n",
       "      <td>1260759144</td>\n",
       "      <td>Dangerous Minds</td>\n",
       "    </tr>\n",
       "    <tr>\n",
       "      <th>1</th>\n",
       "      <td>0</td>\n",
       "      <td>550</td>\n",
       "      <td>3.0</td>\n",
       "      <td>1260759182</td>\n",
       "      <td>Sleepers</td>\n",
       "    </tr>\n",
       "    <tr>\n",
       "      <th>2</th>\n",
       "      <td>0</td>\n",
       "      <td>554</td>\n",
       "      <td>2.0</td>\n",
       "      <td>1260759185</td>\n",
       "      <td>Escape from New York</td>\n",
       "    </tr>\n",
       "    <tr>\n",
       "      <th>3</th>\n",
       "      <td>0</td>\n",
       "      <td>598</td>\n",
       "      <td>3.0</td>\n",
       "      <td>1260759117</td>\n",
       "      <td>Blazing Saddles</td>\n",
       "    </tr>\n",
       "    <tr>\n",
       "      <th>4</th>\n",
       "      <td>0</td>\n",
       "      <td>835</td>\n",
       "      <td>1.0</td>\n",
       "      <td>1260759200</td>\n",
       "      <td>Time Bandits</td>\n",
       "    </tr>\n",
       "    <tr>\n",
       "      <th>...</th>\n",
       "      <td>...</td>\n",
       "      <td>...</td>\n",
       "      <td>...</td>\n",
       "      <td>...</td>\n",
       "      <td>...</td>\n",
       "    </tr>\n",
       "    <tr>\n",
       "      <th>99805</th>\n",
       "      <td>670</td>\n",
       "      <td>591</td>\n",
       "      <td>2.0</td>\n",
       "      <td>1064245565</td>\n",
       "      <td>High Fidelity</td>\n",
       "    </tr>\n",
       "    <tr>\n",
       "      <th>99806</th>\n",
       "      <td>670</td>\n",
       "      <td>414</td>\n",
       "      <td>4.0</td>\n",
       "      <td>1065149296</td>\n",
       "      <td>Dances with Wolves</td>\n",
       "    </tr>\n",
       "    <tr>\n",
       "      <th>99807</th>\n",
       "      <td>670</td>\n",
       "      <td>704</td>\n",
       "      <td>4.0</td>\n",
       "      <td>1063502737</td>\n",
       "      <td>Animal House</td>\n",
       "    </tr>\n",
       "    <tr>\n",
       "      <th>99808</th>\n",
       "      <td>670</td>\n",
       "      <td>595</td>\n",
       "      <td>4.0</td>\n",
       "      <td>1064245557</td>\n",
       "      <td>About a Boy</td>\n",
       "    </tr>\n",
       "    <tr>\n",
       "      <th>99809</th>\n",
       "      <td>670</td>\n",
       "      <td>23</td>\n",
       "      <td>5.0</td>\n",
       "      <td>1065111996</td>\n",
       "      <td>Harry Potter and the Philosopher's Stone</td>\n",
       "    </tr>\n",
       "  </tbody>\n",
       "</table>\n",
       "<p>62227 rows × 5 columns</p>\n",
       "</div>"
      ],
      "text/plain": [
       "       userId  movieId  rating   timestamp  \\\n",
       "0           0      841     2.5  1260759144   \n",
       "1           0      550     3.0  1260759182   \n",
       "2           0      554     2.0  1260759185   \n",
       "3           0      598     3.0  1260759117   \n",
       "4           0      835     1.0  1260759200   \n",
       "...       ...      ...     ...         ...   \n",
       "99805     670      591     2.0  1064245565   \n",
       "99806     670      414     4.0  1065149296   \n",
       "99807     670      704     4.0  1063502737   \n",
       "99808     670      595     4.0  1064245557   \n",
       "99809     670       23     5.0  1065111996   \n",
       "\n",
       "                                          title  \n",
       "0                               Dangerous Minds  \n",
       "1                                      Sleepers  \n",
       "2                          Escape from New York  \n",
       "3                               Blazing Saddles  \n",
       "4                                  Time Bandits  \n",
       "...                                         ...  \n",
       "99805                             High Fidelity  \n",
       "99806                        Dances with Wolves  \n",
       "99807                              Animal House  \n",
       "99808                               About a Boy  \n",
       "99809  Harry Potter and the Philosopher's Stone  \n",
       "\n",
       "[62227 rows x 5 columns]"
      ]
     },
     "execution_count": 6,
     "metadata": {},
     "output_type": "execute_result"
    }
   ],
   "source": [
    "ratings"
   ]
  },
  {
   "cell_type": "code",
   "execution_count": 7,
   "metadata": {
    "execution": {
     "iopub.execute_input": "2023-12-16T13:33:41.916828Z",
     "iopub.status.busy": "2023-12-16T13:33:41.916518Z",
     "iopub.status.idle": "2023-12-16T13:33:41.945447Z",
     "shell.execute_reply": "2023-12-16T13:33:41.944830Z",
     "shell.execute_reply.started": "2023-12-16T13:33:41.916805Z"
    }
   },
   "outputs": [
    {
     "data": {
      "text/plain": [
       "(994, 671)"
      ]
     },
     "execution_count": 7,
     "metadata": {},
     "output_type": "execute_result"
    }
   ],
   "source": [
    "# Ratings matrix erstellen\n",
    "rat = coo_matrix(\n",
    "    (ratings.rating, (ratings.movieId, ratings.userId)), \n",
    "    shape=(\n",
    "        len(set(ratings.movieId)),\n",
    "        len(set(ratings.userId))\n",
    "    )\n",
    ")\n",
    "ratings_matrix = pd.DataFrame(\n",
    "    rat.todense(), \n",
    "    columns=range(rat.shape[1]), \n",
    "    index=movies.title\n",
    ")\n",
    "ratings_matrix[ratings_matrix == 0] = np.nan\n",
    "ratings_matrix.shape"
   ]
  },
  {
   "cell_type": "code",
   "execution_count": 8,
   "metadata": {
    "execution": {
     "iopub.execute_input": "2023-12-16T13:33:41.946452Z",
     "iopub.status.busy": "2023-12-16T13:33:41.946248Z",
     "iopub.status.idle": "2023-12-16T13:33:41.957813Z",
     "shell.execute_reply": "2023-12-16T13:33:41.957031Z",
     "shell.execute_reply.started": "2023-12-16T13:33:41.946432Z"
    }
   },
   "outputs": [],
   "source": [
    "def rmse(A, B):\n",
    "    return np.sqrt(np.nanmean(np.power((A - B),2)))\n",
    "\n",
    "def minimize_U(M, U, V, r, s):       \n",
    "    U = U.copy()\n",
    "    a = 0\n",
    "    b = 0\n",
    "    for j in range(M.shape[1]):        \n",
    "        if np.isnan(M[r,j]):\n",
    "            continue\n",
    "        a += V[s,j] * (M[r,j] - sum(U[r,k] * V[k,j] for k in range(U.shape[1]) if k != s))\n",
    "        b += np.power(V[s,j],2) \n",
    "    if b != 0:\n",
    "        U[r,s] = a/b\n",
    "    return U\n",
    "\n",
    "def minimize_V(M, U, V, r, s):       \n",
    "    V = V.copy()\n",
    "    a = 0\n",
    "    b = 0\n",
    "    for i in range(M.shape[0]):        \n",
    "        if np.isnan(M[i,s]):\n",
    "            continue\n",
    "        a += U[i,r] * (M[i,s] - sum(U[i,k] * V[k,s] for k in range(V.shape[0]) if k != r))\n",
    "        b += np.power(U[i,r],2) \n",
    "    if b != 0:\n",
    "        V[r,s] = a/b\n",
    "    return V\n",
    "\n",
    "def UV_decomposition(M, k, delta_treshold=0.01, max_iter=5):\n",
    "    init_value = np.sqrt(np.nanmean(M)/k)\n",
    "    U = np.ones((M.shape[0],k)) * init_value\n",
    "    V = np.ones((k,M.shape[1])) * init_value\n",
    "    \n",
    "    delta = np.inf\n",
    "    last_error = np.inf\n",
    "    i = 0\n",
    "    while delta > delta_treshold and i < max_iter:\n",
    "        for r in range(U.shape[0]):\n",
    "            for s in range(U.shape[1]):\n",
    "                U = minimize_U(M, U, V, r, s)\n",
    "            print(f'{i:>2}: {rmse(M,U @ V):.7} - {r}/{U.shape[0]}', end=\"\\r\")\n",
    "\n",
    "        for r in range(V.shape[0]):\n",
    "            for s in range(V.shape[1]):\n",
    "                V = minimize_V(M, U, V, r, s)\n",
    "            print(f'{i:>2}: {rmse(M,U @ V):.7} - {r}/{V.shape[0]}', end=\"\\r\")\n",
    "\n",
    "        P = U @ V\n",
    "        error = rmse(M,P)\n",
    "        delta = last_error - error\n",
    "        last_error = error\n",
    "        print(f'{i:>2}: {error:.7}')\n",
    "        i += 1\n",
    "    return U, V"
   ]
  },
  {
   "cell_type": "code",
   "execution_count": 9,
   "metadata": {
    "execution": {
     "iopub.execute_input": "2023-12-16T13:33:41.959348Z",
     "iopub.status.busy": "2023-12-16T13:33:41.958916Z",
     "iopub.status.idle": "2023-12-16T13:33:41.963876Z",
     "shell.execute_reply": "2023-12-16T13:33:41.962915Z",
     "shell.execute_reply.started": "2023-12-16T13:33:41.959324Z"
    }
   },
   "outputs": [
    {
     "data": {
      "text/plain": [
       "(994, 671)"
      ]
     },
     "execution_count": 9,
     "metadata": {},
     "output_type": "execute_result"
    }
   ],
   "source": [
    "M = ratings_matrix.to_numpy()\n",
    "M.shape"
   ]
  },
  {
   "cell_type": "code",
   "execution_count": 10,
   "metadata": {
    "execution": {
     "iopub.execute_input": "2023-12-16T13:33:41.965224Z",
     "iopub.status.busy": "2023-12-16T13:33:41.964871Z",
     "iopub.status.idle": "2023-12-16T13:33:41.970220Z",
     "shell.execute_reply": "2023-12-16T13:33:41.969586Z",
     "shell.execute_reply.started": "2023-12-16T13:33:41.965203Z"
    }
   },
   "outputs": [],
   "source": [
    "# split of test set\n",
    "user_test_size = int(M.shape[0] * 0.1)\n",
    "item_test_size = int(M.shape[1] * 0.1)\n",
    "M_test = M[-user_test_size:,-item_test_size:]\n",
    "M_train = M.copy()\n",
    "M_train[-user_test_size:,-item_test_size:] = np.nan"
   ]
  },
  {
   "cell_type": "code",
   "execution_count": 11,
   "metadata": {
    "execution": {
     "iopub.execute_input": "2023-12-16T13:33:41.971637Z",
     "iopub.status.busy": "2023-12-16T13:33:41.971200Z",
     "iopub.status.idle": "2023-12-16T13:54:52.642175Z",
     "shell.execute_reply": "2023-12-16T13:54:52.641414Z",
     "shell.execute_reply.started": "2023-12-16T13:33:41.971612Z"
    }
   },
   "outputs": [
    {
     "name": "stdout",
     "output_type": "stream",
     "text": [
      " 0: 0.8253362 - 49/5094\n",
      " 1: 0.7938519 - 49/5094\n",
      " 2: 0.7630398 - 49/5094\n",
      " 3: 0.7316421 - 49/5094\n",
      " 4: 0.7038188 - 49/5094\n"
     ]
    }
   ],
   "source": [
    "# run algorithm\n",
    "U, V = UV_decomposition(M_train,50)"
   ]
  },
  {
   "cell_type": "code",
   "execution_count": 12,
   "metadata": {
    "execution": {
     "iopub.execute_input": "2023-12-16T13:54:52.643822Z",
     "iopub.status.busy": "2023-12-16T13:54:52.643513Z",
     "iopub.status.idle": "2023-12-16T13:54:52.648307Z",
     "shell.execute_reply": "2023-12-16T13:54:52.647484Z",
     "shell.execute_reply.started": "2023-12-16T13:54:52.643798Z"
    }
   },
   "outputs": [],
   "source": [
    "# get predictions\n",
    "M_pred = U.dot(V)"
   ]
  },
  {
   "cell_type": "code",
   "execution_count": 13,
   "metadata": {
    "execution": {
     "iopub.execute_input": "2023-12-16T13:54:52.650126Z",
     "iopub.status.busy": "2023-12-16T13:54:52.649512Z",
     "iopub.status.idle": "2023-12-16T13:54:52.657615Z",
     "shell.execute_reply": "2023-12-16T13:54:52.656690Z",
     "shell.execute_reply.started": "2023-12-16T13:54:52.650102Z"
    }
   },
   "outputs": [
    {
     "data": {
      "text/plain": [
       "0.9843042415286726"
      ]
     },
     "execution_count": 13,
     "metadata": {},
     "output_type": "execute_result"
    }
   ],
   "source": [
    "# get error on test set\n",
    "rmse(M_test, M_pred[-user_test_size:,-item_test_size:])"
   ]
  },
  {
   "cell_type": "code",
   "execution_count": null,
   "metadata": {},
   "outputs": [],
   "source": []
  }
 ],
 "metadata": {
  "kernelspec": {
   "display_name": "~Env (virtualenv_playground)",
   "language": "python",
   "name": "virtualenv_playground"
  },
  "language_info": {
   "codemirror_mode": {
    "name": "ipython",
    "version": 3
   },
   "file_extension": ".py",
   "mimetype": "text/x-python",
   "name": "python",
   "nbconvert_exporter": "python",
   "pygments_lexer": "ipython3",
   "version": "3.10.4"
  }
 },
 "nbformat": 4,
 "nbformat_minor": 4
}
