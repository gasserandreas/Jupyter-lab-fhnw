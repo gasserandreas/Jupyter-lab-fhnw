{
 "cells": [
  {
   "cell_type": "markdown",
   "metadata": {},
   "source": [
    "# UV-Decomposition"
   ]
  },
  {
   "cell_type": "code",
   "execution_count": 1,
   "metadata": {
    "execution": {
     "iopub.execute_input": "2023-12-16T13:28:59.710134Z",
     "iopub.status.busy": "2023-12-16T13:28:59.709714Z",
     "iopub.status.idle": "2023-12-16T13:28:59.830119Z",
     "shell.execute_reply": "2023-12-16T13:28:59.829396Z",
     "shell.execute_reply.started": "2023-12-16T13:28:59.710110Z"
    },
    "tags": []
   },
   "outputs": [],
   "source": [
    "import numpy as np"
   ]
  },
  {
   "cell_type": "code",
   "execution_count": 2,
   "metadata": {
    "execution": {
     "iopub.execute_input": "2023-12-16T13:28:59.834073Z",
     "iopub.status.busy": "2023-12-16T13:28:59.833570Z",
     "iopub.status.idle": "2023-12-16T13:28:59.838011Z",
     "shell.execute_reply": "2023-12-16T13:28:59.837183Z",
     "shell.execute_reply.started": "2023-12-16T13:28:59.834042Z"
    },
    "tags": []
   },
   "outputs": [],
   "source": [
    "np.set_printoptions(suppress=True)"
   ]
  },
  {
   "cell_type": "code",
   "execution_count": 3,
   "metadata": {
    "execution": {
     "iopub.execute_input": "2023-12-16T13:28:59.839908Z",
     "iopub.status.busy": "2023-12-16T13:28:59.839265Z",
     "iopub.status.idle": "2023-12-16T13:28:59.847767Z",
     "shell.execute_reply": "2023-12-16T13:28:59.846510Z",
     "shell.execute_reply.started": "2023-12-16T13:28:59.839877Z"
    },
    "tags": []
   },
   "outputs": [],
   "source": [
    "# initialisiere M und U,V\n",
    "M = np.array([\n",
    "    [np.nan,np.nan,7,np.nan,10],\n",
    "    [9,np.nan,6,np.nan,np.nan],\n",
    "    [1,10,np.nan,3,np.nan],\n",
    "    [9,np.nan,np.nan,5,10],\n",
    "    [np.nan,4,10,np.nan,3],\n",
    "    [5,2,np.nan,9,6]\n",
    "])\n",
    "n = 2\n",
    "U = np.ones((M.shape[0],n))\n",
    "V = np.ones((n,M.shape[1]))"
   ]
  },
  {
   "cell_type": "code",
   "execution_count": 4,
   "metadata": {
    "execution": {
     "iopub.execute_input": "2023-12-16T13:28:59.850199Z",
     "iopub.status.busy": "2023-12-16T13:28:59.849672Z",
     "iopub.status.idle": "2023-12-16T13:28:59.855073Z",
     "shell.execute_reply": "2023-12-16T13:28:59.853782Z",
     "shell.execute_reply.started": "2023-12-16T13:28:59.850173Z"
    },
    "tags": []
   },
   "outputs": [],
   "source": [
    "# root mean squared error\n",
    "def rmse(A, B):\n",
    "    return np.sqrt(np.nanmean(np.power((A - B),2)))"
   ]
  },
  {
   "cell_type": "code",
   "execution_count": 5,
   "metadata": {
    "execution": {
     "iopub.execute_input": "2023-12-16T13:28:59.856835Z",
     "iopub.status.busy": "2023-12-16T13:28:59.856531Z",
     "iopub.status.idle": "2023-12-16T13:28:59.862686Z",
     "shell.execute_reply": "2023-12-16T13:28:59.861919Z",
     "shell.execute_reply.started": "2023-12-16T13:28:59.856797Z"
    },
    "tags": []
   },
   "outputs": [],
   "source": [
    "# minimiere U[r,s]\n",
    "def minimize_U(M, U, V, r, s):       \n",
    "    U = U.copy()\n",
    "    a = 0\n",
    "    b = 0\n",
    "    for j in range(M.shape[1]):        \n",
    "        if np.isnan(M[r,j]):\n",
    "            continue\n",
    "        a += V[s,j] * (M[r,j] - sum(U[r,k] * V[k,j] for k in range(U.shape[1]) if k != s))\n",
    "        b += np.power(V[s,j],2) \n",
    "    U[r,s] = a/b\n",
    "    return U\n"
   ]
  },
  {
   "cell_type": "code",
   "execution_count": 6,
   "metadata": {
    "execution": {
     "iopub.execute_input": "2023-12-16T13:28:59.864423Z",
     "iopub.status.busy": "2023-12-16T13:28:59.864040Z",
     "iopub.status.idle": "2023-12-16T13:28:59.870215Z",
     "shell.execute_reply": "2023-12-16T13:28:59.869499Z",
     "shell.execute_reply.started": "2023-12-16T13:28:59.864351Z"
    },
    "tags": []
   },
   "outputs": [],
   "source": [
    "# minimiere V[r,s]\n",
    "def minimize_V(M, U, V, r, s):       \n",
    "    V = V.copy()\n",
    "    a = 0\n",
    "    b = 0\n",
    "    for i in range(M.shape[0]):        \n",
    "        if np.isnan(M[i,s]):\n",
    "            continue\n",
    "        a += U[i,r] * (M[i,s] - sum(U[i,k] * V[k,s] for k in range(V.shape[0]) if k != r))\n",
    "        b += np.power(U[i,r],2) \n",
    "    V[r,s] = a/b\n",
    "    return V"
   ]
  },
  {
   "cell_type": "code",
   "execution_count": 7,
   "metadata": {
    "execution": {
     "iopub.execute_input": "2023-12-16T13:28:59.874950Z",
     "iopub.status.busy": "2023-12-16T13:28:59.874670Z",
     "iopub.status.idle": "2023-12-16T13:28:59.878986Z",
     "shell.execute_reply": "2023-12-16T13:28:59.878135Z",
     "shell.execute_reply.started": "2023-12-16T13:28:59.874927Z"
    },
    "tags": []
   },
   "outputs": [],
   "source": [
    "init_value = np.sqrt(np.nanmean(M)/2)\n",
    "init_value = 1\n",
    "U = np.ones((M.shape[0],2)) * init_value\n",
    "V = np.ones((2,M.shape[1])) * init_value"
   ]
  },
  {
   "cell_type": "code",
   "execution_count": 8,
   "metadata": {
    "execution": {
     "iopub.execute_input": "2023-12-16T13:28:59.880680Z",
     "iopub.status.busy": "2023-12-16T13:28:59.880311Z",
     "iopub.status.idle": "2023-12-16T13:28:59.888760Z",
     "shell.execute_reply": "2023-12-16T13:28:59.887894Z",
     "shell.execute_reply.started": "2023-12-16T13:28:59.880657Z"
    },
    "tags": []
   },
   "outputs": [
    {
     "data": {
      "text/plain": [
       "array([[2., 2., 2., 2., 2.],\n",
       "       [2., 2., 2., 2., 2.],\n",
       "       [2., 2., 2., 2., 2.],\n",
       "       [2., 2., 2., 2., 2.],\n",
       "       [2., 2., 2., 2., 2.],\n",
       "       [2., 2., 2., 2., 2.]])"
      ]
     },
     "execution_count": 8,
     "metadata": {},
     "output_type": "execute_result"
    }
   ],
   "source": [
    "U @ V"
   ]
  },
  {
   "cell_type": "code",
   "execution_count": 9,
   "metadata": {
    "execution": {
     "iopub.execute_input": "2023-12-16T13:28:59.890422Z",
     "iopub.status.busy": "2023-12-16T13:28:59.890104Z",
     "iopub.status.idle": "2023-12-16T13:28:59.893845Z",
     "shell.execute_reply": "2023-12-16T13:28:59.893059Z",
     "shell.execute_reply.started": "2023-12-16T13:28:59.890399Z"
    },
    "tags": []
   },
   "outputs": [],
   "source": [
    "U = minimize_U(M, U, V, 0, 0)"
   ]
  },
  {
   "cell_type": "code",
   "execution_count": 10,
   "metadata": {
    "execution": {
     "iopub.execute_input": "2023-12-16T13:28:59.895350Z",
     "iopub.status.busy": "2023-12-16T13:28:59.895024Z",
     "iopub.status.idle": "2023-12-16T13:28:59.900348Z",
     "shell.execute_reply": "2023-12-16T13:28:59.899399Z",
     "shell.execute_reply.started": "2023-12-16T13:28:59.895327Z"
    },
    "tags": []
   },
   "outputs": [
    {
     "data": {
      "text/plain": [
       "array([[7.5, 1. ],\n",
       "       [1. , 1. ],\n",
       "       [1. , 1. ],\n",
       "       [1. , 1. ],\n",
       "       [1. , 1. ],\n",
       "       [1. , 1. ]])"
      ]
     },
     "execution_count": 10,
     "metadata": {},
     "output_type": "execute_result"
    }
   ],
   "source": [
    "U"
   ]
  },
  {
   "cell_type": "code",
   "execution_count": 11,
   "metadata": {
    "execution": {
     "iopub.execute_input": "2023-12-16T13:28:59.902466Z",
     "iopub.status.busy": "2023-12-16T13:28:59.902015Z",
     "iopub.status.idle": "2023-12-16T13:28:59.907708Z",
     "shell.execute_reply": "2023-12-16T13:28:59.906925Z",
     "shell.execute_reply.started": "2023-12-16T13:28:59.902435Z"
    }
   },
   "outputs": [
    {
     "data": {
      "text/plain": [
       "array([[8.5, 8.5, 8.5, 8.5, 8.5],\n",
       "       [2. , 2. , 2. , 2. , 2. ],\n",
       "       [2. , 2. , 2. , 2. , 2. ],\n",
       "       [2. , 2. , 2. , 2. , 2. ],\n",
       "       [2. , 2. , 2. , 2. , 2. ],\n",
       "       [2. , 2. , 2. , 2. , 2. ]])"
      ]
     },
     "execution_count": 11,
     "metadata": {},
     "output_type": "execute_result"
    }
   ],
   "source": [
    "U @ V"
   ]
  },
  {
   "cell_type": "code",
   "execution_count": 12,
   "metadata": {
    "execution": {
     "iopub.execute_input": "2023-12-16T13:28:59.909321Z",
     "iopub.status.busy": "2023-12-16T13:28:59.908851Z",
     "iopub.status.idle": "2023-12-16T13:28:59.912857Z",
     "shell.execute_reply": "2023-12-16T13:28:59.911989Z",
     "shell.execute_reply.started": "2023-12-16T13:28:59.909297Z"
    }
   },
   "outputs": [],
   "source": [
    "V = minimize_V(M, U, V, 0, 0)"
   ]
  },
  {
   "cell_type": "code",
   "execution_count": 13,
   "metadata": {
    "execution": {
     "iopub.execute_input": "2023-12-16T13:28:59.914295Z",
     "iopub.status.busy": "2023-12-16T13:28:59.914003Z",
     "iopub.status.idle": "2023-12-16T13:28:59.919655Z",
     "shell.execute_reply": "2023-12-16T13:28:59.918717Z",
     "shell.execute_reply.started": "2023-12-16T13:28:59.914274Z"
    }
   },
   "outputs": [
    {
     "data": {
      "text/plain": [
       "array([[5., 1., 1., 1., 1.],\n",
       "       [1., 1., 1., 1., 1.]])"
      ]
     },
     "execution_count": 13,
     "metadata": {},
     "output_type": "execute_result"
    }
   ],
   "source": [
    "V"
   ]
  },
  {
   "cell_type": "code",
   "execution_count": 14,
   "metadata": {
    "execution": {
     "iopub.execute_input": "2023-12-16T13:28:59.921686Z",
     "iopub.status.busy": "2023-12-16T13:28:59.921128Z",
     "iopub.status.idle": "2023-12-16T13:28:59.926816Z",
     "shell.execute_reply": "2023-12-16T13:28:59.925987Z",
     "shell.execute_reply.started": "2023-12-16T13:28:59.921659Z"
    }
   },
   "outputs": [
    {
     "data": {
      "text/plain": [
       "array([[38.5,  8.5,  8.5,  8.5,  8.5],\n",
       "       [ 6. ,  2. ,  2. ,  2. ,  2. ],\n",
       "       [ 6. ,  2. ,  2. ,  2. ,  2. ],\n",
       "       [ 6. ,  2. ,  2. ,  2. ,  2. ],\n",
       "       [ 6. ,  2. ,  2. ,  2. ,  2. ],\n",
       "       [ 6. ,  2. ,  2. ,  2. ,  2. ]])"
      ]
     },
     "execution_count": 14,
     "metadata": {},
     "output_type": "execute_result"
    }
   ],
   "source": [
    "U @ V"
   ]
  },
  {
   "cell_type": "code",
   "execution_count": 15,
   "metadata": {
    "execution": {
     "iopub.execute_input": "2023-12-16T13:28:59.928438Z",
     "iopub.status.busy": "2023-12-16T13:28:59.928117Z",
     "iopub.status.idle": "2023-12-16T13:28:59.935514Z",
     "shell.execute_reply": "2023-12-16T13:28:59.934713Z",
     "shell.execute_reply.started": "2023-12-16T13:28:59.928415Z"
    },
    "tags": []
   },
   "outputs": [],
   "source": [
    "# UV-Decomposition Algorithmus\n",
    "def UV_decomposition(M, k, delta_treshold=0.001, max_iter=50):\n",
    "    init_value = np.sqrt(np.nanmean(M)/k)\n",
    "    U = np.ones((M.shape[0],k)) * init_value\n",
    "    V = np.ones((k,M.shape[1])) * init_value\n",
    "    \n",
    "    delta = np.inf\n",
    "    last_error = np.inf\n",
    "    i = 0\n",
    "    while delta > delta_treshold and i < max_iter:\n",
    "        for r in range(U.shape[0]):\n",
    "            for s in range(U.shape[1]):\n",
    "                U = minimize_U(M, U, V, r, s)\n",
    "            print(f'{i:>2}: {rmse(M,U @ V):.7}', end=\"\\r\")\n",
    "\n",
    "        for r in range(V.shape[0]):\n",
    "            for s in range(V.shape[1]):\n",
    "                V = minimize_V(M, U, V, r, s)\n",
    "            print(f'{i:>2}: {rmse(M,U @ V):.7}', end=\"\\r\")\n",
    "\n",
    "        P = U @ V\n",
    "        error = rmse(M,P)\n",
    "        delta = last_error - error\n",
    "        last_error = error\n",
    "        print(f'{i:>2}: {error:.7}')\n",
    "        i += 1\n",
    "    return U, V"
   ]
  },
  {
   "cell_type": "code",
   "execution_count": 16,
   "metadata": {
    "execution": {
     "iopub.execute_input": "2023-12-16T13:28:59.936904Z",
     "iopub.status.busy": "2023-12-16T13:28:59.936461Z",
     "iopub.status.idle": "2023-12-16T13:29:00.000532Z",
     "shell.execute_reply": "2023-12-16T13:28:59.999630Z",
     "shell.execute_reply.started": "2023-12-16T13:28:59.936881Z"
    },
    "tags": []
   },
   "outputs": [
    {
     "name": "stdout",
     "output_type": "stream",
     "text": [
      " 0: 2.518866\n",
      " 1: 2.106281\n",
      " 2: 1.327567\n",
      " 3: 0.9226152\n",
      " 4: 0.6568622\n",
      " 5: 0.5642329\n",
      " 6: 0.5158006\n",
      " 7: 0.4798756\n",
      " 8: 0.4495072\n",
      " 9: 0.4228953\n",
      "10: 0.3994213\n",
      "11: 0.3786788\n",
      "12: 0.3602949\n",
      "13: 0.3439297\n",
      "14: 0.3292817\n",
      "15: 0.3160961\n",
      "16: 0.3041604\n",
      "17: 0.2932989\n",
      "18: 0.2833665\n",
      "19: 0.2742425\n",
      "20: 0.2658264\n",
      "21: 0.2580325\n",
      "22: 0.2507905\n",
      "23: 0.2440391\n",
      "24: 0.2377262\n",
      "25: 0.2318069\n",
      "26: 0.2262425\n",
      "27: 0.2209991\n",
      "28: 0.2160473\n",
      "29: 0.2113612\n",
      "30: 0.2069184\n",
      "31: 0.2026974\n",
      "32: 0.1986814\n",
      "33: 0.1948541\n",
      "34: 0.1912011\n",
      "35: 0.1877096\n",
      "36: 0.1843679\n",
      "37: 0.1811657\n",
      "38: 0.1780934\n",
      "39: 0.1751424\n",
      "40: 0.1723058\n",
      "41: 0.1695739\n",
      "42: 0.1669427\n",
      "43: 0.1644054\n",
      "44: 0.1619565\n",
      "45: 0.1595909\n",
      "46: 0.1573043\n",
      "47: 0.1550914\n",
      "48: 0.1529493\n",
      "49: 0.1508747\n"
     ]
    }
   ],
   "source": [
    "U, V = UV_decomposition(M, 2)"
   ]
  },
  {
   "cell_type": "code",
   "execution_count": 17,
   "metadata": {
    "execution": {
     "iopub.execute_input": "2023-12-16T13:29:00.002946Z",
     "iopub.status.busy": "2023-12-16T13:29:00.002176Z",
     "iopub.status.idle": "2023-12-16T13:29:00.010498Z",
     "shell.execute_reply": "2023-12-16T13:29:00.009129Z",
     "shell.execute_reply.started": "2023-12-16T13:29:00.002916Z"
    },
    "tags": []
   },
   "outputs": [
    {
     "data": {
      "text/plain": [
       "array([[  8.82, -13.48,   7.  ,  10.84,  10.  ],\n",
       "       [  9.  , -14.92,   6.  ,  10.77,  10.2 ],\n",
       "       [  0.54,   9.95,  10.98,   3.28,   0.65],\n",
       "       [  8.89, -37.65, -16.49,   5.08,  10.  ],\n",
       "       [  2.65,   4.02,  10.  ,   5.22,   3.03],\n",
       "       [  5.24,   2.03,  13.98,   8.87,   5.98]])"
      ]
     },
     "execution_count": 17,
     "metadata": {},
     "output_type": "execute_result"
    }
   ],
   "source": [
    "P = U @ V\n",
    "np.round(P,2)"
   ]
  },
  {
   "cell_type": "code",
   "execution_count": 18,
   "metadata": {
    "execution": {
     "iopub.execute_input": "2023-12-16T13:29:00.012259Z",
     "iopub.status.busy": "2023-12-16T13:29:00.011747Z",
     "iopub.status.idle": "2023-12-16T13:29:00.051967Z",
     "shell.execute_reply": "2023-12-16T13:29:00.017910Z",
     "shell.execute_reply.started": "2023-12-16T13:29:00.012239Z"
    },
    "tags": []
   },
   "outputs": [
    {
     "name": "stdout",
     "output_type": "stream",
     "text": [
      "0.15087396453103322\n"
     ]
    }
   ],
   "source": [
    "print(rmse(M,P))"
   ]
  },
  {
   "cell_type": "code",
   "execution_count": 19,
   "metadata": {
    "execution": {
     "iopub.execute_input": "2023-12-16T13:29:00.054407Z",
     "iopub.status.busy": "2023-12-16T13:29:00.053985Z",
     "iopub.status.idle": "2023-12-16T13:29:00.060459Z",
     "shell.execute_reply": "2023-12-16T13:29:00.059476Z",
     "shell.execute_reply.started": "2023-12-16T13:29:00.054379Z"
    },
    "tags": []
   },
   "outputs": [
    {
     "data": {
      "text/plain": [
       "array([[nan, nan,  7., nan, 10.],\n",
       "       [ 9., nan,  6., nan, nan],\n",
       "       [ 1., 10., nan,  3., nan],\n",
       "       [ 9., nan, nan,  5., 10.],\n",
       "       [nan,  4., 10., nan,  3.],\n",
       "       [ 5.,  2., nan,  9.,  6.]])"
      ]
     },
     "execution_count": 19,
     "metadata": {},
     "output_type": "execute_result"
    }
   ],
   "source": [
    "M"
   ]
  },
  {
   "cell_type": "code",
   "execution_count": 20,
   "metadata": {
    "execution": {
     "iopub.execute_input": "2023-12-16T13:29:00.062858Z",
     "iopub.status.busy": "2023-12-16T13:29:00.062405Z",
     "iopub.status.idle": "2023-12-16T13:29:00.070877Z",
     "shell.execute_reply": "2023-12-16T13:29:00.070016Z",
     "shell.execute_reply.started": "2023-12-16T13:29:00.062830Z"
    },
    "tags": []
   },
   "outputs": [
    {
     "data": {
      "text/plain": [
       "array([[ 3.18,  0.5 ],\n",
       "       [ 3.26,  0.24],\n",
       "       [ 0.  ,  2.44],\n",
       "       [ 3.63, -4.88],\n",
       "       [ 0.81,  1.95],\n",
       "       [ 1.71,  2.54]])"
      ]
     },
     "execution_count": 20,
     "metadata": {},
     "output_type": "execute_result"
    }
   ],
   "source": [
    "np.round(U,2)"
   ]
  },
  {
   "cell_type": "code",
   "execution_count": 21,
   "metadata": {
    "execution": {
     "iopub.execute_input": "2023-12-16T13:29:00.073140Z",
     "iopub.status.busy": "2023-12-16T13:29:00.072682Z",
     "iopub.status.idle": "2023-12-16T13:29:00.080299Z",
     "shell.execute_reply": "2023-12-16T13:29:00.078677Z",
     "shell.execute_reply.started": "2023-12-16T13:29:00.073111Z"
    },
    "tags": []
   },
   "outputs": [
    {
     "data": {
      "text/plain": [
       "array([[ 2.74, -4.88,  1.5 ,  3.2 ,  3.11],\n",
       "       [ 0.22,  4.09,  4.5 ,  1.34,  0.26]])"
      ]
     },
     "execution_count": 21,
     "metadata": {},
     "output_type": "execute_result"
    }
   ],
   "source": [
    "np.round(V,2)"
   ]
  },
  {
   "cell_type": "code",
   "execution_count": null,
   "metadata": {},
   "outputs": [],
   "source": []
  }
 ],
 "metadata": {
  "kernelspec": {
   "display_name": "~Env (virtualenv_playground)",
   "language": "python",
   "name": "virtualenv_playground"
  },
  "language_info": {
   "codemirror_mode": {
    "name": "ipython",
    "version": 3
   },
   "file_extension": ".py",
   "mimetype": "text/x-python",
   "name": "python",
   "nbconvert_exporter": "python",
   "pygments_lexer": "ipython3",
   "version": "3.10.4"
  }
 },
 "nbformat": 4,
 "nbformat_minor": 4
}
