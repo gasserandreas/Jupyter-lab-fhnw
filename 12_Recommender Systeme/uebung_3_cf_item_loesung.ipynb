{
 "cells": [
  {
   "cell_type": "markdown",
   "metadata": {},
   "source": [
    "# Übung 3 - Collaborative Filtering"
   ]
  },
  {
   "cell_type": "code",
   "execution_count": 1,
   "metadata": {
    "_cell_guid": "78fea705-f9ad-4a81-aafd-8b7b624110d1",
    "_uuid": "1c291fe3725c706e0003f01f0102abb9709f25fc",
    "execution": {
     "iopub.execute_input": "2023-12-16T13:53:15.329576Z",
     "iopub.status.busy": "2023-12-16T13:53:15.329193Z",
     "iopub.status.idle": "2023-12-16T13:53:16.482602Z",
     "shell.execute_reply": "2023-12-16T13:53:16.481872Z",
     "shell.execute_reply.started": "2023-12-16T13:53:15.329551Z"
    },
    "tags": []
   },
   "outputs": [],
   "source": [
    "import pandas as pd\n",
    "import numpy as np\n",
    "from sklearn.metrics.pairwise import cosine_similarity\n",
    "from scipy.sparse import coo_matrix\n",
    "from scipy.spatial.distance import pdist, squareform\n",
    "\n",
    "import warnings; warnings.simplefilter('ignore')"
   ]
  },
  {
   "cell_type": "markdown",
   "metadata": {},
   "source": [
    "Einlesen der Film Metadaten"
   ]
  },
  {
   "cell_type": "code",
   "execution_count": 2,
   "metadata": {
    "execution": {
     "iopub.execute_input": "2023-12-16T13:53:16.485151Z",
     "iopub.status.busy": "2023-12-16T13:53:16.484800Z",
     "iopub.status.idle": "2023-12-16T13:53:16.628489Z",
     "shell.execute_reply": "2023-12-16T13:53:16.627852Z",
     "shell.execute_reply.started": "2023-12-16T13:53:16.485127Z"
    },
    "tags": []
   },
   "outputs": [],
   "source": [
    "movies = pd.read_csv('data/movies.csv', keep_default_na=False)"
   ]
  },
  {
   "cell_type": "markdown",
   "metadata": {},
   "source": [
    "Einlesen der Ratings"
   ]
  },
  {
   "cell_type": "code",
   "execution_count": 3,
   "metadata": {
    "execution": {
     "iopub.execute_input": "2023-12-16T13:53:16.629860Z",
     "iopub.status.busy": "2023-12-16T13:53:16.629507Z",
     "iopub.status.idle": "2023-12-16T13:53:16.703961Z",
     "shell.execute_reply": "2023-12-16T13:53:16.702860Z",
     "shell.execute_reply.started": "2023-12-16T13:53:16.629833Z"
    },
    "tags": []
   },
   "outputs": [],
   "source": [
    "ratings = pd.read_csv('data/ratings.csv')"
   ]
  },
  {
   "cell_type": "code",
   "execution_count": 4,
   "metadata": {
    "execution": {
     "iopub.execute_input": "2023-12-16T13:53:16.705496Z",
     "iopub.status.busy": "2023-12-16T13:53:16.705121Z",
     "iopub.status.idle": "2023-12-16T13:53:17.373388Z",
     "shell.execute_reply": "2023-12-16T13:53:17.372637Z",
     "shell.execute_reply.started": "2023-12-16T13:53:16.705446Z"
    },
    "tags": []
   },
   "outputs": [],
   "source": [
    "# verwerfen aller Film mit weniger als 25 ratings\n",
    "ratings = ratings.groupby('movieId').filter(lambda x: x['movieId'].count() > 25)"
   ]
  },
  {
   "cell_type": "code",
   "execution_count": 5,
   "metadata": {
    "execution": {
     "iopub.execute_input": "2023-12-16T13:53:17.375228Z",
     "iopub.status.busy": "2023-12-16T13:53:17.374553Z",
     "iopub.status.idle": "2023-12-16T13:53:17.389536Z",
     "shell.execute_reply": "2023-12-16T13:53:17.388739Z",
     "shell.execute_reply.started": "2023-12-16T13:53:17.375202Z"
    }
   },
   "outputs": [
    {
     "data": {
      "text/html": [
       "<div>\n",
       "<style scoped>\n",
       "    .dataframe tbody tr th:only-of-type {\n",
       "        vertical-align: middle;\n",
       "    }\n",
       "\n",
       "    .dataframe tbody tr th {\n",
       "        vertical-align: top;\n",
       "    }\n",
       "\n",
       "    .dataframe thead th {\n",
       "        text-align: right;\n",
       "    }\n",
       "</style>\n",
       "<table border=\"1\" class=\"dataframe\">\n",
       "  <thead>\n",
       "    <tr style=\"text-align: right;\">\n",
       "      <th></th>\n",
       "      <th>userId</th>\n",
       "      <th>movieId</th>\n",
       "      <th>rating</th>\n",
       "      <th>timestamp</th>\n",
       "      <th>title</th>\n",
       "    </tr>\n",
       "  </thead>\n",
       "  <tbody>\n",
       "    <tr>\n",
       "      <th>0</th>\n",
       "      <td>0</td>\n",
       "      <td>2852</td>\n",
       "      <td>2.5</td>\n",
       "      <td>1260759144</td>\n",
       "      <td>Dangerous Minds</td>\n",
       "    </tr>\n",
       "    <tr>\n",
       "      <th>1</th>\n",
       "      <td>0</td>\n",
       "      <td>1360</td>\n",
       "      <td>3.0</td>\n",
       "      <td>1260759182</td>\n",
       "      <td>Sleepers</td>\n",
       "    </tr>\n",
       "    <tr>\n",
       "      <th>2</th>\n",
       "      <td>0</td>\n",
       "      <td>1374</td>\n",
       "      <td>2.0</td>\n",
       "      <td>1260759185</td>\n",
       "      <td>Escape from New York</td>\n",
       "    </tr>\n",
       "    <tr>\n",
       "      <th>3</th>\n",
       "      <td>0</td>\n",
       "      <td>1545</td>\n",
       "      <td>3.0</td>\n",
       "      <td>1260759117</td>\n",
       "      <td>Blazing Saddles</td>\n",
       "    </tr>\n",
       "    <tr>\n",
       "      <th>4</th>\n",
       "      <td>0</td>\n",
       "      <td>2816</td>\n",
       "      <td>1.0</td>\n",
       "      <td>1260759200</td>\n",
       "      <td>Time Bandits</td>\n",
       "    </tr>\n",
       "    <tr>\n",
       "      <th>...</th>\n",
       "      <td>...</td>\n",
       "      <td>...</td>\n",
       "      <td>...</td>\n",
       "      <td>...</td>\n",
       "      <td>...</td>\n",
       "    </tr>\n",
       "    <tr>\n",
       "      <th>99805</th>\n",
       "      <td>670</td>\n",
       "      <td>1519</td>\n",
       "      <td>2.0</td>\n",
       "      <td>1064245565</td>\n",
       "      <td>High Fidelity</td>\n",
       "    </tr>\n",
       "    <tr>\n",
       "      <th>99806</th>\n",
       "      <td>670</td>\n",
       "      <td>941</td>\n",
       "      <td>4.0</td>\n",
       "      <td>1065149296</td>\n",
       "      <td>Dances with Wolves</td>\n",
       "    </tr>\n",
       "    <tr>\n",
       "      <th>99807</th>\n",
       "      <td>670</td>\n",
       "      <td>2052</td>\n",
       "      <td>4.0</td>\n",
       "      <td>1063502737</td>\n",
       "      <td>Animal House</td>\n",
       "    </tr>\n",
       "    <tr>\n",
       "      <th>99808</th>\n",
       "      <td>670</td>\n",
       "      <td>1533</td>\n",
       "      <td>4.0</td>\n",
       "      <td>1064245557</td>\n",
       "      <td>About a Boy</td>\n",
       "    </tr>\n",
       "    <tr>\n",
       "      <th>99809</th>\n",
       "      <td>670</td>\n",
       "      <td>32</td>\n",
       "      <td>5.0</td>\n",
       "      <td>1065111996</td>\n",
       "      <td>Harry Potter and the Philosopher's Stone</td>\n",
       "    </tr>\n",
       "  </tbody>\n",
       "</table>\n",
       "<p>62227 rows × 5 columns</p>\n",
       "</div>"
      ],
      "text/plain": [
       "       userId  movieId  rating   timestamp  \\\n",
       "0           0     2852     2.5  1260759144   \n",
       "1           0     1360     3.0  1260759182   \n",
       "2           0     1374     2.0  1260759185   \n",
       "3           0     1545     3.0  1260759117   \n",
       "4           0     2816     1.0  1260759200   \n",
       "...       ...      ...     ...         ...   \n",
       "99805     670     1519     2.0  1064245565   \n",
       "99806     670      941     4.0  1065149296   \n",
       "99807     670     2052     4.0  1063502737   \n",
       "99808     670     1533     4.0  1064245557   \n",
       "99809     670       32     5.0  1065111996   \n",
       "\n",
       "                                          title  \n",
       "0                               Dangerous Minds  \n",
       "1                                      Sleepers  \n",
       "2                          Escape from New York  \n",
       "3                               Blazing Saddles  \n",
       "4                                  Time Bandits  \n",
       "...                                         ...  \n",
       "99805                             High Fidelity  \n",
       "99806                        Dances with Wolves  \n",
       "99807                              Animal House  \n",
       "99808                               About a Boy  \n",
       "99809  Harry Potter and the Philosopher's Stone  \n",
       "\n",
       "[62227 rows x 5 columns]"
      ]
     },
     "execution_count": 5,
     "metadata": {},
     "output_type": "execute_result"
    }
   ],
   "source": [
    "ratings"
   ]
  },
  {
   "cell_type": "code",
   "execution_count": 6,
   "metadata": {
    "execution": {
     "iopub.execute_input": "2023-12-16T13:53:17.391131Z",
     "iopub.status.busy": "2023-12-16T13:53:17.390682Z",
     "iopub.status.idle": "2023-12-16T13:53:17.408035Z",
     "shell.execute_reply": "2023-12-16T13:53:17.407302Z",
     "shell.execute_reply.started": "2023-12-16T13:53:17.391106Z"
    },
    "tags": []
   },
   "outputs": [],
   "source": [
    "# movieIds anpassen\n",
    "movies = movies[movies.movieId.isin(set(ratings.movieId))].reset_index(drop=True)"
   ]
  },
  {
   "cell_type": "code",
   "execution_count": 7,
   "metadata": {
    "execution": {
     "iopub.execute_input": "2023-12-16T13:53:17.412376Z",
     "iopub.status.busy": "2023-12-16T13:53:17.412073Z",
     "iopub.status.idle": "2023-12-16T13:53:17.424996Z",
     "shell.execute_reply": "2023-12-16T13:53:17.424074Z",
     "shell.execute_reply.started": "2023-12-16T13:53:17.412350Z"
    },
    "tags": []
   },
   "outputs": [],
   "source": [
    "ratings['movieId'] = ratings.movieId.map({mi: i for i, mi in movies.movieId.items()})\n",
    "movies['movieId'] = movies.movieId.map({mi: i for i, mi in movies.movieId.items()})"
   ]
  },
  {
   "cell_type": "markdown",
   "metadata": {},
   "source": [
    "# Item similarity"
   ]
  },
  {
   "cell_type": "code",
   "execution_count": 8,
   "metadata": {
    "execution": {
     "iopub.execute_input": "2023-12-16T13:53:17.426676Z",
     "iopub.status.busy": "2023-12-16T13:53:17.426052Z",
     "iopub.status.idle": "2023-12-16T13:53:17.460763Z",
     "shell.execute_reply": "2023-12-16T13:53:17.459840Z",
     "shell.execute_reply.started": "2023-12-16T13:53:17.426641Z"
    },
    "tags": []
   },
   "outputs": [
    {
     "data": {
      "text/plain": [
       "(994, 671)"
      ]
     },
     "execution_count": 8,
     "metadata": {},
     "output_type": "execute_result"
    }
   ],
   "source": [
    "# Ratings matrix erstellen\n",
    "rat = coo_matrix(\n",
    "    (ratings.rating, (ratings.movieId, ratings.userId)), \n",
    "    shape=(\n",
    "        len(set(ratings.movieId)),\n",
    "        len(set(ratings.userId))\n",
    "    )\n",
    ")\n",
    "ratings_matrix = pd.DataFrame(\n",
    "    rat.todense(), \n",
    "    columns=range(rat.shape[1]), \n",
    "    index=movies.title\n",
    ")\n",
    "ratings_matrix[ratings_matrix == 0] = np.nan\n",
    "ratings_matrix.shape"
   ]
  },
  {
   "cell_type": "code",
   "execution_count": 9,
   "metadata": {
    "execution": {
     "iopub.execute_input": "2023-12-16T13:53:17.462543Z",
     "iopub.status.busy": "2023-12-16T13:53:17.462217Z",
     "iopub.status.idle": "2023-12-16T13:53:17.491192Z",
     "shell.execute_reply": "2023-12-16T13:53:17.490295Z",
     "shell.execute_reply.started": "2023-12-16T13:53:17.462512Z"
    },
    "tags": []
   },
   "outputs": [
    {
     "data": {
      "text/html": [
       "<div>\n",
       "<style scoped>\n",
       "    .dataframe tbody tr th:only-of-type {\n",
       "        vertical-align: middle;\n",
       "    }\n",
       "\n",
       "    .dataframe tbody tr th {\n",
       "        vertical-align: top;\n",
       "    }\n",
       "\n",
       "    .dataframe thead th {\n",
       "        text-align: right;\n",
       "    }\n",
       "</style>\n",
       "<table border=\"1\" class=\"dataframe\">\n",
       "  <thead>\n",
       "    <tr style=\"text-align: right;\">\n",
       "      <th></th>\n",
       "      <th>0</th>\n",
       "      <th>1</th>\n",
       "      <th>2</th>\n",
       "      <th>3</th>\n",
       "      <th>4</th>\n",
       "      <th>5</th>\n",
       "      <th>6</th>\n",
       "      <th>7</th>\n",
       "      <th>8</th>\n",
       "      <th>9</th>\n",
       "      <th>...</th>\n",
       "      <th>661</th>\n",
       "      <th>662</th>\n",
       "      <th>663</th>\n",
       "      <th>664</th>\n",
       "      <th>665</th>\n",
       "      <th>666</th>\n",
       "      <th>667</th>\n",
       "      <th>668</th>\n",
       "      <th>669</th>\n",
       "      <th>670</th>\n",
       "    </tr>\n",
       "    <tr>\n",
       "      <th>title</th>\n",
       "      <th></th>\n",
       "      <th></th>\n",
       "      <th></th>\n",
       "      <th></th>\n",
       "      <th></th>\n",
       "      <th></th>\n",
       "      <th></th>\n",
       "      <th></th>\n",
       "      <th></th>\n",
       "      <th></th>\n",
       "      <th></th>\n",
       "      <th></th>\n",
       "      <th></th>\n",
       "      <th></th>\n",
       "      <th></th>\n",
       "      <th></th>\n",
       "      <th></th>\n",
       "      <th></th>\n",
       "      <th></th>\n",
       "      <th></th>\n",
       "      <th></th>\n",
       "    </tr>\n",
       "  </thead>\n",
       "  <tbody>\n",
       "    <tr>\n",
       "      <th>Inception</th>\n",
       "      <td>NaN</td>\n",
       "      <td>NaN</td>\n",
       "      <td>NaN</td>\n",
       "      <td>NaN</td>\n",
       "      <td>NaN</td>\n",
       "      <td>NaN</td>\n",
       "      <td>NaN</td>\n",
       "      <td>NaN</td>\n",
       "      <td>NaN</td>\n",
       "      <td>NaN</td>\n",
       "      <td>...</td>\n",
       "      <td>NaN</td>\n",
       "      <td>NaN</td>\n",
       "      <td>5.0</td>\n",
       "      <td>NaN</td>\n",
       "      <td>NaN</td>\n",
       "      <td>NaN</td>\n",
       "      <td>NaN</td>\n",
       "      <td>NaN</td>\n",
       "      <td>NaN</td>\n",
       "      <td>NaN</td>\n",
       "    </tr>\n",
       "    <tr>\n",
       "      <th>The Dark Knight</th>\n",
       "      <td>NaN</td>\n",
       "      <td>NaN</td>\n",
       "      <td>3.0</td>\n",
       "      <td>NaN</td>\n",
       "      <td>NaN</td>\n",
       "      <td>NaN</td>\n",
       "      <td>NaN</td>\n",
       "      <td>NaN</td>\n",
       "      <td>NaN</td>\n",
       "      <td>NaN</td>\n",
       "      <td>...</td>\n",
       "      <td>NaN</td>\n",
       "      <td>NaN</td>\n",
       "      <td>4.5</td>\n",
       "      <td>NaN</td>\n",
       "      <td>NaN</td>\n",
       "      <td>NaN</td>\n",
       "      <td>NaN</td>\n",
       "      <td>NaN</td>\n",
       "      <td>NaN</td>\n",
       "      <td>NaN</td>\n",
       "    </tr>\n",
       "    <tr>\n",
       "      <th>Avatar</th>\n",
       "      <td>NaN</td>\n",
       "      <td>NaN</td>\n",
       "      <td>NaN</td>\n",
       "      <td>NaN</td>\n",
       "      <td>NaN</td>\n",
       "      <td>NaN</td>\n",
       "      <td>NaN</td>\n",
       "      <td>NaN</td>\n",
       "      <td>NaN</td>\n",
       "      <td>NaN</td>\n",
       "      <td>...</td>\n",
       "      <td>NaN</td>\n",
       "      <td>NaN</td>\n",
       "      <td>4.0</td>\n",
       "      <td>NaN</td>\n",
       "      <td>NaN</td>\n",
       "      <td>NaN</td>\n",
       "      <td>NaN</td>\n",
       "      <td>NaN</td>\n",
       "      <td>NaN</td>\n",
       "      <td>NaN</td>\n",
       "    </tr>\n",
       "    <tr>\n",
       "      <th>The Avengers (2012)</th>\n",
       "      <td>NaN</td>\n",
       "      <td>NaN</td>\n",
       "      <td>NaN</td>\n",
       "      <td>NaN</td>\n",
       "      <td>NaN</td>\n",
       "      <td>NaN</td>\n",
       "      <td>NaN</td>\n",
       "      <td>NaN</td>\n",
       "      <td>NaN</td>\n",
       "      <td>NaN</td>\n",
       "      <td>...</td>\n",
       "      <td>NaN</td>\n",
       "      <td>NaN</td>\n",
       "      <td>5.0</td>\n",
       "      <td>NaN</td>\n",
       "      <td>NaN</td>\n",
       "      <td>NaN</td>\n",
       "      <td>NaN</td>\n",
       "      <td>NaN</td>\n",
       "      <td>NaN</td>\n",
       "      <td>NaN</td>\n",
       "    </tr>\n",
       "    <tr>\n",
       "      <th>Interstellar</th>\n",
       "      <td>NaN</td>\n",
       "      <td>NaN</td>\n",
       "      <td>NaN</td>\n",
       "      <td>NaN</td>\n",
       "      <td>NaN</td>\n",
       "      <td>NaN</td>\n",
       "      <td>NaN</td>\n",
       "      <td>NaN</td>\n",
       "      <td>NaN</td>\n",
       "      <td>NaN</td>\n",
       "      <td>...</td>\n",
       "      <td>NaN</td>\n",
       "      <td>NaN</td>\n",
       "      <td>4.5</td>\n",
       "      <td>NaN</td>\n",
       "      <td>NaN</td>\n",
       "      <td>NaN</td>\n",
       "      <td>NaN</td>\n",
       "      <td>NaN</td>\n",
       "      <td>NaN</td>\n",
       "      <td>NaN</td>\n",
       "    </tr>\n",
       "    <tr>\n",
       "      <th>...</th>\n",
       "      <td>...</td>\n",
       "      <td>...</td>\n",
       "      <td>...</td>\n",
       "      <td>...</td>\n",
       "      <td>...</td>\n",
       "      <td>...</td>\n",
       "      <td>...</td>\n",
       "      <td>...</td>\n",
       "      <td>...</td>\n",
       "      <td>...</td>\n",
       "      <td>...</td>\n",
       "      <td>...</td>\n",
       "      <td>...</td>\n",
       "      <td>...</td>\n",
       "      <td>...</td>\n",
       "      <td>...</td>\n",
       "      <td>...</td>\n",
       "      <td>...</td>\n",
       "      <td>...</td>\n",
       "      <td>...</td>\n",
       "      <td>...</td>\n",
       "    </tr>\n",
       "    <tr>\n",
       "      <th>Bulworth</th>\n",
       "      <td>NaN</td>\n",
       "      <td>NaN</td>\n",
       "      <td>NaN</td>\n",
       "      <td>NaN</td>\n",
       "      <td>NaN</td>\n",
       "      <td>NaN</td>\n",
       "      <td>NaN</td>\n",
       "      <td>NaN</td>\n",
       "      <td>NaN</td>\n",
       "      <td>NaN</td>\n",
       "      <td>...</td>\n",
       "      <td>NaN</td>\n",
       "      <td>NaN</td>\n",
       "      <td>NaN</td>\n",
       "      <td>2.0</td>\n",
       "      <td>NaN</td>\n",
       "      <td>NaN</td>\n",
       "      <td>NaN</td>\n",
       "      <td>NaN</td>\n",
       "      <td>NaN</td>\n",
       "      <td>NaN</td>\n",
       "    </tr>\n",
       "    <tr>\n",
       "      <th>Waking Ned</th>\n",
       "      <td>NaN</td>\n",
       "      <td>NaN</td>\n",
       "      <td>NaN</td>\n",
       "      <td>NaN</td>\n",
       "      <td>NaN</td>\n",
       "      <td>NaN</td>\n",
       "      <td>NaN</td>\n",
       "      <td>NaN</td>\n",
       "      <td>NaN</td>\n",
       "      <td>NaN</td>\n",
       "      <td>...</td>\n",
       "      <td>NaN</td>\n",
       "      <td>NaN</td>\n",
       "      <td>NaN</td>\n",
       "      <td>NaN</td>\n",
       "      <td>NaN</td>\n",
       "      <td>NaN</td>\n",
       "      <td>NaN</td>\n",
       "      <td>NaN</td>\n",
       "      <td>NaN</td>\n",
       "      <td>4.0</td>\n",
       "    </tr>\n",
       "    <tr>\n",
       "      <th>Bob Roberts</th>\n",
       "      <td>NaN</td>\n",
       "      <td>NaN</td>\n",
       "      <td>NaN</td>\n",
       "      <td>NaN</td>\n",
       "      <td>NaN</td>\n",
       "      <td>NaN</td>\n",
       "      <td>NaN</td>\n",
       "      <td>NaN</td>\n",
       "      <td>NaN</td>\n",
       "      <td>NaN</td>\n",
       "      <td>...</td>\n",
       "      <td>NaN</td>\n",
       "      <td>NaN</td>\n",
       "      <td>NaN</td>\n",
       "      <td>NaN</td>\n",
       "      <td>NaN</td>\n",
       "      <td>NaN</td>\n",
       "      <td>NaN</td>\n",
       "      <td>NaN</td>\n",
       "      <td>NaN</td>\n",
       "      <td>NaN</td>\n",
       "    </tr>\n",
       "    <tr>\n",
       "      <th>Forget Paris</th>\n",
       "      <td>NaN</td>\n",
       "      <td>NaN</td>\n",
       "      <td>NaN</td>\n",
       "      <td>NaN</td>\n",
       "      <td>NaN</td>\n",
       "      <td>NaN</td>\n",
       "      <td>NaN</td>\n",
       "      <td>NaN</td>\n",
       "      <td>NaN</td>\n",
       "      <td>NaN</td>\n",
       "      <td>...</td>\n",
       "      <td>NaN</td>\n",
       "      <td>NaN</td>\n",
       "      <td>NaN</td>\n",
       "      <td>NaN</td>\n",
       "      <td>NaN</td>\n",
       "      <td>NaN</td>\n",
       "      <td>NaN</td>\n",
       "      <td>NaN</td>\n",
       "      <td>NaN</td>\n",
       "      <td>NaN</td>\n",
       "    </tr>\n",
       "    <tr>\n",
       "      <th>The Brothers McMullen</th>\n",
       "      <td>NaN</td>\n",
       "      <td>3.0</td>\n",
       "      <td>NaN</td>\n",
       "      <td>NaN</td>\n",
       "      <td>NaN</td>\n",
       "      <td>NaN</td>\n",
       "      <td>NaN</td>\n",
       "      <td>NaN</td>\n",
       "      <td>NaN</td>\n",
       "      <td>NaN</td>\n",
       "      <td>...</td>\n",
       "      <td>NaN</td>\n",
       "      <td>NaN</td>\n",
       "      <td>NaN</td>\n",
       "      <td>NaN</td>\n",
       "      <td>NaN</td>\n",
       "      <td>5.0</td>\n",
       "      <td>NaN</td>\n",
       "      <td>NaN</td>\n",
       "      <td>NaN</td>\n",
       "      <td>NaN</td>\n",
       "    </tr>\n",
       "  </tbody>\n",
       "</table>\n",
       "<p>994 rows × 671 columns</p>\n",
       "</div>"
      ],
      "text/plain": [
       "                       0    1    2    3    4    5    6    7    8    9    ...  \\\n",
       "title                                                                    ...   \n",
       "Inception              NaN  NaN  NaN  NaN  NaN  NaN  NaN  NaN  NaN  NaN  ...   \n",
       "The Dark Knight        NaN  NaN  3.0  NaN  NaN  NaN  NaN  NaN  NaN  NaN  ...   \n",
       "Avatar                 NaN  NaN  NaN  NaN  NaN  NaN  NaN  NaN  NaN  NaN  ...   \n",
       "The Avengers (2012)    NaN  NaN  NaN  NaN  NaN  NaN  NaN  NaN  NaN  NaN  ...   \n",
       "Interstellar           NaN  NaN  NaN  NaN  NaN  NaN  NaN  NaN  NaN  NaN  ...   \n",
       "...                    ...  ...  ...  ...  ...  ...  ...  ...  ...  ...  ...   \n",
       "Bulworth               NaN  NaN  NaN  NaN  NaN  NaN  NaN  NaN  NaN  NaN  ...   \n",
       "Waking Ned             NaN  NaN  NaN  NaN  NaN  NaN  NaN  NaN  NaN  NaN  ...   \n",
       "Bob Roberts            NaN  NaN  NaN  NaN  NaN  NaN  NaN  NaN  NaN  NaN  ...   \n",
       "Forget Paris           NaN  NaN  NaN  NaN  NaN  NaN  NaN  NaN  NaN  NaN  ...   \n",
       "The Brothers McMullen  NaN  3.0  NaN  NaN  NaN  NaN  NaN  NaN  NaN  NaN  ...   \n",
       "\n",
       "                       661  662  663  664  665  666  667  668  669  670  \n",
       "title                                                                    \n",
       "Inception              NaN  NaN  5.0  NaN  NaN  NaN  NaN  NaN  NaN  NaN  \n",
       "The Dark Knight        NaN  NaN  4.5  NaN  NaN  NaN  NaN  NaN  NaN  NaN  \n",
       "Avatar                 NaN  NaN  4.0  NaN  NaN  NaN  NaN  NaN  NaN  NaN  \n",
       "The Avengers (2012)    NaN  NaN  5.0  NaN  NaN  NaN  NaN  NaN  NaN  NaN  \n",
       "Interstellar           NaN  NaN  4.5  NaN  NaN  NaN  NaN  NaN  NaN  NaN  \n",
       "...                    ...  ...  ...  ...  ...  ...  ...  ...  ...  ...  \n",
       "Bulworth               NaN  NaN  NaN  2.0  NaN  NaN  NaN  NaN  NaN  NaN  \n",
       "Waking Ned             NaN  NaN  NaN  NaN  NaN  NaN  NaN  NaN  NaN  4.0  \n",
       "Bob Roberts            NaN  NaN  NaN  NaN  NaN  NaN  NaN  NaN  NaN  NaN  \n",
       "Forget Paris           NaN  NaN  NaN  NaN  NaN  NaN  NaN  NaN  NaN  NaN  \n",
       "The Brothers McMullen  NaN  NaN  NaN  NaN  NaN  5.0  NaN  NaN  NaN  NaN  \n",
       "\n",
       "[994 rows x 671 columns]"
      ]
     },
     "execution_count": 9,
     "metadata": {},
     "output_type": "execute_result"
    }
   ],
   "source": [
    "ratings_matrix"
   ]
  },
  {
   "cell_type": "markdown",
   "metadata": {},
   "source": [
    "Da die Pearson-Correlation nicht von pairwise_distance von sklearn unterstütz wird, können wir die selber implentieren und mit pdist von scipy die pairwist distances berechnen\n",
    "\n",
    "Hinweis:\\\n",
    "Pairwise Distance von scipy: [scipy.spatial.distance.pdist](https://docs.scipy.org/doc/scipy/reference/generated/scipy.spatial.distance.pdist.html), \n",
    "[scipy.spatial.distance.squareform](https://docs.scipy.org/doc/scipy/reference/generated/scipy.spatial.distance.squareform.html)\\\n",
    "Masked Arrays von Numpy: [numpy.ma](https://numpy.org/doc/stable/reference/maskedarray.generic.html)\\\n",
    "[numpy.isnan](https://numpy.org/doc/stable/reference/generated/numpy.isnan.html), [numpy.ma.array](https://numpy.org/doc/stable/reference/generated/numpy.ma.array.html), [numpy.nanmean](https://numpy.org/doc/stable/reference/generated/numpy.nanmean.html), [numpy.ma.dot](https://numpy.org/doc/stable/reference/generated/numpy.ma.dot.html) (Summe der Produkte der Vektoren entspricht dem dot-Produkt), np.ma.sqrt"
   ]
  },
  {
   "attachments": {
    "5065a079-86dc-48fb-a648-40e88d0993ff.png": {
     "image/png": "[encoded data removed]"
    }
   },
   "cell_type": "markdown",
   "metadata": {},
   "source": [
    "![image.png](attachment:5065a079-86dc-48fb-a648-40e88d0993ff.png)"
   ]
  },
  {
   "cell_type": "code",
   "execution_count": 10,
   "metadata": {
    "execution": {
     "iopub.execute_input": "2023-12-16T13:53:17.492519Z",
     "iopub.status.busy": "2023-12-16T13:53:17.492123Z",
     "iopub.status.idle": "2023-12-16T13:53:17.498829Z",
     "shell.execute_reply": "2023-12-16T13:53:17.497966Z",
     "shell.execute_reply.started": "2023-12-16T13:53:17.492490Z"
    },
    "tags": []
   },
   "outputs": [],
   "source": [
    "# Perason Correlation der Vektoren a und b\n",
    "def pearson_correlation(a, b):\n",
    "    m = np.isnan(a) | np.isnan(b)\n",
    "    m_a = np.ma.array(a, mask=m)\n",
    "    m_b = np.ma.array(b, mask=m)\n",
    "\n",
    "    mean_a = np.nanmean(a)\n",
    "    mean_b = np.nanmean(b)\n",
    "\n",
    "    nominator = np.ma.dot((m_a - mean_a), (m_b - mean_b))\n",
    "    denominator1 = np.ma.sqrt(np.ma.dot((m_a - mean_a), (m_a - mean_a)))\n",
    "    denominator2 = np.ma.sqrt(np.ma.dot((m_b - mean_b), (m_b - mean_b)))\n",
    "    denominator = denominator1 * denominator2\n",
    "    return nominator / denominator"
   ]
  },
  {
   "cell_type": "code",
   "execution_count": 11,
   "metadata": {
    "execution": {
     "iopub.execute_input": "2023-12-16T13:53:17.500427Z",
     "iopub.status.busy": "2023-12-16T13:53:17.499980Z",
     "iopub.status.idle": "2023-12-16T13:57:37.468623Z",
     "shell.execute_reply": "2023-12-16T13:57:37.467947Z",
     "shell.execute_reply.started": "2023-12-16T13:53:17.500394Z"
    },
    "tags": []
   },
   "outputs": [],
   "source": [
    "# Item similarity matrix berechnen (dauert einige Minuten)\n",
    "sims = squareform(pdist(ratings_matrix, pearson_correlation)).round(2)\n",
    "item_sim = pd.DataFrame(sims, index=movies.title, columns=movies.title)"
   ]
  },
  {
   "cell_type": "code",
   "execution_count": 12,
   "metadata": {
    "execution": {
     "iopub.execute_input": "2023-12-16T13:57:37.470284Z",
     "iopub.status.busy": "2023-12-16T13:57:37.469864Z",
     "iopub.status.idle": "2023-12-16T13:57:37.478259Z",
     "shell.execute_reply": "2023-12-16T13:57:37.477151Z",
     "shell.execute_reply.started": "2023-12-16T13:57:37.470265Z"
    },
    "tags": []
   },
   "outputs": [
    {
     "data": {
      "text/plain": [
       "title\n",
       "The Grand Budapest Hotel                           0.77\n",
       "Toy Story 3                                        0.76\n",
       "Jay and Silent Bob Strike Back                     0.75\n",
       "Toy Story 2                                        0.73\n",
       "Robin Hood                                         0.70\n",
       "The Social Network                                 0.70\n",
       "A Bug's Life                                       0.69\n",
       "Master and Commander: The Far Side of the World    0.67\n",
       "Delicatessen                                       0.67\n",
       "White Men Can't Jump                               0.66\n",
       "Name: Toy Story, dtype: float64"
      ]
     },
     "execution_count": 12,
     "metadata": {},
     "output_type": "execute_result"
    }
   ],
   "source": [
    "# Die Ähnlichsten Filme von Toy Story\n",
    "item_sim['Toy Story'].sort_values(ascending=False).head(10)"
   ]
  },
  {
   "cell_type": "code",
   "execution_count": 13,
   "metadata": {
    "execution": {
     "iopub.execute_input": "2023-12-16T13:57:37.479451Z",
     "iopub.status.busy": "2023-12-16T13:57:37.479059Z",
     "iopub.status.idle": "2023-12-16T13:57:37.486378Z",
     "shell.execute_reply": "2023-12-16T13:57:37.485552Z",
     "shell.execute_reply.started": "2023-12-16T13:57:37.479426Z"
    },
    "tags": []
   },
   "outputs": [
    {
     "data": {
      "text/plain": [
       "title\n",
       "The Intouchables             -0.27\n",
       "Don Juan DeMarco             -0.27\n",
       "Tank Girl                    -0.28\n",
       "The Motorcycle Diaries       -0.28\n",
       "Bulworth                     -0.29\n",
       "The Godfather: Part III      -0.30\n",
       "Die Another Day              -0.32\n",
       "Emma                         -0.35\n",
       "Good Night, and Good Luck.   -0.35\n",
       "Repo Man                     -0.40\n",
       "Name: Toy Story, dtype: float64"
      ]
     },
     "execution_count": 13,
     "metadata": {},
     "output_type": "execute_result"
    }
   ],
   "source": [
    "item_sim['Toy Story'].sort_values(ascending=False).tail(10)"
   ]
  },
  {
   "cell_type": "code",
   "execution_count": 14,
   "metadata": {
    "execution": {
     "iopub.execute_input": "2023-12-16T13:57:37.487825Z",
     "iopub.status.busy": "2023-12-16T13:57:37.487354Z",
     "iopub.status.idle": "2023-12-16T13:57:37.491249Z",
     "shell.execute_reply": "2023-12-16T13:57:37.490422Z",
     "shell.execute_reply.started": "2023-12-16T13:57:37.487800Z"
    }
   },
   "outputs": [],
   "source": [
    "# Für diesen user möchten wir nun Recommendations machen\n",
    "user_id = 5"
   ]
  },
  {
   "cell_type": "code",
   "execution_count": 15,
   "metadata": {
    "execution": {
     "iopub.execute_input": "2023-12-16T13:57:37.492724Z",
     "iopub.status.busy": "2023-12-16T13:57:37.492258Z",
     "iopub.status.idle": "2023-12-16T13:57:37.497463Z",
     "shell.execute_reply": "2023-12-16T13:57:37.496895Z",
     "shell.execute_reply.started": "2023-12-16T13:57:37.492696Z"
    },
    "tags": []
   },
   "outputs": [],
   "source": [
    "# Zuerst schauen wir uns nur die Prediction für einen Film an\n",
    "movie = movies.loc[movies.title == 'Toy Story'].squeeze()"
   ]
  },
  {
   "cell_type": "code",
   "execution_count": 16,
   "metadata": {
    "execution": {
     "iopub.execute_input": "2023-12-16T13:57:37.498795Z",
     "iopub.status.busy": "2023-12-16T13:57:37.498484Z",
     "iopub.status.idle": "2023-12-16T13:57:37.508880Z",
     "shell.execute_reply": "2023-12-16T13:57:37.508047Z",
     "shell.execute_reply.started": "2023-12-16T13:57:37.498769Z"
    },
    "tags": []
   },
   "outputs": [
    {
     "data": {
      "text/html": [
       "<div>\n",
       "<style scoped>\n",
       "    .dataframe tbody tr th:only-of-type {\n",
       "        vertical-align: middle;\n",
       "    }\n",
       "\n",
       "    .dataframe tbody tr th {\n",
       "        vertical-align: top;\n",
       "    }\n",
       "\n",
       "    .dataframe thead th {\n",
       "        text-align: right;\n",
       "    }\n",
       "</style>\n",
       "<table border=\"1\" class=\"dataframe\">\n",
       "  <thead>\n",
       "    <tr style=\"text-align: right;\">\n",
       "      <th></th>\n",
       "      <th>userId</th>\n",
       "      <th>movieId</th>\n",
       "      <th>rating</th>\n",
       "      <th>timestamp</th>\n",
       "      <th>title</th>\n",
       "    </tr>\n",
       "  </thead>\n",
       "  <tbody>\n",
       "    <tr>\n",
       "      <th>462</th>\n",
       "      <td>5</td>\n",
       "      <td>85</td>\n",
       "      <td>5.0</td>\n",
       "      <td>1108134539</td>\n",
       "      <td>Leon: The Professional</td>\n",
       "    </tr>\n",
       "    <tr>\n",
       "      <th>491</th>\n",
       "      <td>5</td>\n",
       "      <td>16</td>\n",
       "      <td>5.0</td>\n",
       "      <td>1108134519</td>\n",
       "      <td>The Lord of the Rings: The Return of the King</td>\n",
       "    </tr>\n",
       "    <tr>\n",
       "      <th>485</th>\n",
       "      <td>5</td>\n",
       "      <td>489</td>\n",
       "      <td>5.0</td>\n",
       "      <td>1108134266</td>\n",
       "      <td>Lawrence of Arabia</td>\n",
       "    </tr>\n",
       "    <tr>\n",
       "      <th>482</th>\n",
       "      <td>5</td>\n",
       "      <td>20</td>\n",
       "      <td>5.0</td>\n",
       "      <td>1108134311</td>\n",
       "      <td>The Lord of the Rings: The Two Towers</td>\n",
       "    </tr>\n",
       "    <tr>\n",
       "      <th>454</th>\n",
       "      <td>5</td>\n",
       "      <td>185</td>\n",
       "      <td>4.5</td>\n",
       "      <td>1108134521</td>\n",
       "      <td>Shaun of the Dead</td>\n",
       "    </tr>\n",
       "    <tr>\n",
       "      <th>470</th>\n",
       "      <td>5</td>\n",
       "      <td>298</td>\n",
       "      <td>4.5</td>\n",
       "      <td>1109258196</td>\n",
       "      <td>Stand by Me</td>\n",
       "    </tr>\n",
       "    <tr>\n",
       "      <th>488</th>\n",
       "      <td>5</td>\n",
       "      <td>726</td>\n",
       "      <td>4.5</td>\n",
       "      <td>1108134339</td>\n",
       "      <td>Heathers</td>\n",
       "    </tr>\n",
       "    <tr>\n",
       "      <th>480</th>\n",
       "      <td>5</td>\n",
       "      <td>626</td>\n",
       "      <td>4.5</td>\n",
       "      <td>1108134284</td>\n",
       "      <td>The Bridge on the River Kwai</td>\n",
       "    </tr>\n",
       "    <tr>\n",
       "      <th>460</th>\n",
       "      <td>5</td>\n",
       "      <td>723</td>\n",
       "      <td>4.5</td>\n",
       "      <td>1108134309</td>\n",
       "      <td>Cool Hand Luke</td>\n",
       "    </tr>\n",
       "    <tr>\n",
       "      <th>466</th>\n",
       "      <td>5</td>\n",
       "      <td>323</td>\n",
       "      <td>4.5</td>\n",
       "      <td>1108134545</td>\n",
       "      <td>The Iron Giant</td>\n",
       "    </tr>\n",
       "  </tbody>\n",
       "</table>\n",
       "</div>"
      ],
      "text/plain": [
       "     userId  movieId  rating   timestamp  \\\n",
       "462       5       85     5.0  1108134539   \n",
       "491       5       16     5.0  1108134519   \n",
       "485       5      489     5.0  1108134266   \n",
       "482       5       20     5.0  1108134311   \n",
       "454       5      185     4.5  1108134521   \n",
       "470       5      298     4.5  1109258196   \n",
       "488       5      726     4.5  1108134339   \n",
       "480       5      626     4.5  1108134284   \n",
       "460       5      723     4.5  1108134309   \n",
       "466       5      323     4.5  1108134545   \n",
       "\n",
       "                                             title  \n",
       "462                         Leon: The Professional  \n",
       "491  The Lord of the Rings: The Return of the King  \n",
       "485                             Lawrence of Arabia  \n",
       "482          The Lord of the Rings: The Two Towers  \n",
       "454                              Shaun of the Dead  \n",
       "470                                    Stand by Me  \n",
       "488                                       Heathers  \n",
       "480                   The Bridge on the River Kwai  \n",
       "460                                 Cool Hand Luke  \n",
       "466                                 The Iron Giant  "
      ]
     },
     "execution_count": 16,
     "metadata": {},
     "output_type": "execute_result"
    }
   ],
   "source": [
    "# Ratings des Users filtern\n",
    "user_ratings = ratings[ratings.userId == user_id]\n",
    "user_ratings.sort_values('rating', ascending=False).head(10)"
   ]
  },
  {
   "cell_type": "code",
   "execution_count": 17,
   "metadata": {
    "execution": {
     "iopub.execute_input": "2023-12-16T13:57:37.510572Z",
     "iopub.status.busy": "2023-12-16T13:57:37.510051Z",
     "iopub.status.idle": "2023-12-16T13:57:37.517090Z",
     "shell.execute_reply": "2023-12-16T13:57:37.516452Z",
     "shell.execute_reply.started": "2023-12-16T13:57:37.510544Z"
    }
   },
   "outputs": [
    {
     "data": {
      "text/plain": [
       "title\n",
       "The Grand Budapest Hotel          0.77\n",
       "Toy Story 3                       0.76\n",
       "Jay and Silent Bob Strike Back    0.75\n",
       "Toy Story 2                       0.73\n",
       "Robin Hood                        0.70\n",
       "                                  ... \n",
       "The Godfather: Part III          -0.30\n",
       "Die Another Day                  -0.32\n",
       "Emma                             -0.35\n",
       "Good Night, and Good Luck.       -0.35\n",
       "Repo Man                         -0.40\n",
       "Name: Toy Story, Length: 994, dtype: float64"
      ]
     },
     "execution_count": 17,
     "metadata": {},
     "output_type": "execute_result"
    }
   ],
   "source": [
    "item_sim[movie.title].sort_values(ascending=False)"
   ]
  },
  {
   "cell_type": "code",
   "execution_count": 18,
   "metadata": {
    "execution": {
     "iopub.execute_input": "2023-12-16T13:57:37.518544Z",
     "iopub.status.busy": "2023-12-16T13:57:37.518223Z",
     "iopub.status.idle": "2023-12-16T13:57:37.524576Z",
     "shell.execute_reply": "2023-12-16T13:57:37.523826Z",
     "shell.execute_reply.started": "2023-12-16T13:57:37.518519Z"
    },
    "tags": []
   },
   "outputs": [
    {
     "data": {
      "text/plain": [
       "title\n",
       "The Grand Budapest Hotel                           0.77\n",
       "Toy Story 3                                        0.76\n",
       "Jay and Silent Bob Strike Back                     0.75\n",
       "Toy Story 2                                        0.73\n",
       "Robin Hood                                         0.70\n",
       "The Social Network                                 0.70\n",
       "A Bug's Life                                       0.69\n",
       "Master and Commander: The Far Side of the World    0.67\n",
       "Delicatessen                                       0.67\n",
       "White Men Can't Jump                               0.66\n",
       "Name: Toy Story, dtype: float64"
      ]
     },
     "execution_count": 18,
     "metadata": {},
     "output_type": "execute_result"
    }
   ],
   "source": [
    "# Filme sortiert nach Ähnlichkeit zu 'movie'\n",
    "most_similar_items = item_sim[movie.title].sort_values(ascending=False)\n",
    "most_similar_items.head(10)"
   ]
  },
  {
   "cell_type": "code",
   "execution_count": 19,
   "metadata": {
    "execution": {
     "iopub.execute_input": "2023-12-16T13:57:37.525965Z",
     "iopub.status.busy": "2023-12-16T13:57:37.525690Z",
     "iopub.status.idle": "2023-12-16T13:57:37.533183Z",
     "shell.execute_reply": "2023-12-16T13:57:37.532357Z",
     "shell.execute_reply.started": "2023-12-16T13:57:37.525940Z"
    }
   },
   "outputs": [
    {
     "data": {
      "text/plain": [
       "title\n",
       "The Grand Budapest Hotel                           NaN\n",
       "Toy Story 3                                        NaN\n",
       "Jay and Silent Bob Strike Back                     NaN\n",
       "Toy Story 2                                        4.0\n",
       "Robin Hood                                         NaN\n",
       "The Social Network                                 NaN\n",
       "A Bug's Life                                       NaN\n",
       "Master and Commander: The Far Side of the World    NaN\n",
       "Delicatessen                                       NaN\n",
       "White Men Can't Jump                               NaN\n",
       "Name: 5, dtype: float64"
      ]
     },
     "execution_count": 19,
     "metadata": {},
     "output_type": "execute_result"
    }
   ],
   "source": [
    "# ratings vom User sortiert nach Ähnlichkeit der Filme\n",
    "ratings_sorted_by_similarity = ratings_matrix[user_id][most_similar_items.index]\n",
    "ratings_sorted_by_similarity.head(10)"
   ]
  },
  {
   "cell_type": "markdown",
   "metadata": {},
   "source": [
    "Hinweis: [pandas.notnull](https://pandas.pydata.org/docs/reference/api/pandas.notnull.html) "
   ]
  },
  {
   "cell_type": "code",
   "execution_count": 20,
   "metadata": {
    "execution": {
     "iopub.execute_input": "2023-12-16T13:57:37.534576Z",
     "iopub.status.busy": "2023-12-16T13:57:37.534147Z",
     "iopub.status.idle": "2023-12-16T13:57:37.539994Z",
     "shell.execute_reply": "2023-12-16T13:57:37.539425Z",
     "shell.execute_reply.started": "2023-12-16T13:57:37.534551Z"
    }
   },
   "outputs": [
    {
     "data": {
      "text/plain": [
       "title\n",
       "The Grand Budapest Hotel          False\n",
       "Toy Story 3                       False\n",
       "Jay and Silent Bob Strike Back    False\n",
       "Toy Story 2                        True\n",
       "Robin Hood                        False\n",
       "                                  ...  \n",
       "The Godfather: Part III           False\n",
       "Die Another Day                   False\n",
       "Emma                              False\n",
       "Good Night, and Good Luck.        False\n",
       "Repo Man                          False\n",
       "Name: 5, Length: 994, dtype: bool"
      ]
     },
     "execution_count": 20,
     "metadata": {},
     "output_type": "execute_result"
    }
   ],
   "source": [
    "# Filtere nach tatsächlichen Ratings vom User\n",
    "rated_items = pd.notnull(ratings_sorted_by_similarity)\n",
    "rated_items"
   ]
  },
  {
   "cell_type": "code",
   "execution_count": 21,
   "metadata": {
    "execution": {
     "iopub.execute_input": "2023-12-16T13:57:37.541308Z",
     "iopub.status.busy": "2023-12-16T13:57:37.541083Z",
     "iopub.status.idle": "2023-12-16T13:57:37.547428Z",
     "shell.execute_reply": "2023-12-16T13:57:37.546836Z",
     "shell.execute_reply.started": "2023-12-16T13:57:37.541284Z"
    }
   },
   "outputs": [
    {
     "data": {
      "text/plain": [
       "title\n",
       "Toy Story 2                                 4.0\n",
       "Cool Hand Luke                              4.5\n",
       "Stand by Me                                 4.5\n",
       "Spider-Man 2                                4.0\n",
       "Lawrence of Arabia                          5.0\n",
       "The Iron Giant                              4.5\n",
       "Harry Potter and the Prisoner of Azkaban    3.5\n",
       "Judge Dredd                                 2.0\n",
       "Logan's Run                                 3.0\n",
       "Vertigo                                     4.0\n",
       "Name: 5, dtype: float64"
      ]
     },
     "execution_count": 21,
     "metadata": {},
     "output_type": "execute_result"
    }
   ],
   "source": [
    "# Bewertungen der Ähnlichsten Filme mit Bewertungen\n",
    "ratings_sorted_by_similarity[rated_items][:10]"
   ]
  },
  {
   "cell_type": "code",
   "execution_count": 22,
   "metadata": {
    "execution": {
     "iopub.execute_input": "2023-12-16T13:57:37.553771Z",
     "iopub.status.busy": "2023-12-16T13:57:37.553407Z",
     "iopub.status.idle": "2023-12-16T13:57:37.560067Z",
     "shell.execute_reply": "2023-12-16T13:57:37.559240Z",
     "shell.execute_reply.started": "2023-12-16T13:57:37.553745Z"
    }
   },
   "outputs": [
    {
     "data": {
      "text/plain": [
       "title\n",
       "Toy Story 2                                 0.73\n",
       "Cool Hand Luke                              0.53\n",
       "Stand by Me                                 0.50\n",
       "Spider-Man 2                                0.50\n",
       "Lawrence of Arabia                          0.48\n",
       "The Iron Giant                              0.48\n",
       "Harry Potter and the Prisoner of Azkaban    0.46\n",
       "Judge Dredd                                 0.44\n",
       "Logan's Run                                 0.44\n",
       "Vertigo                                     0.39\n",
       "Name: Toy Story, dtype: float64"
      ]
     },
     "execution_count": 22,
     "metadata": {},
     "output_type": "execute_result"
    }
   ],
   "source": [
    "# Ähnlichkeiten der Ähnlichsten Filme mit Bewertungen\n",
    "most_similar_items[rated_items][:10]"
   ]
  },
  {
   "cell_type": "markdown",
   "metadata": {},
   "source": [
    "Hinweis: [numpy.average](https://numpy.org/doc/stable/reference/generated/numpy.average.html)  "
   ]
  },
  {
   "cell_type": "code",
   "execution_count": 23,
   "metadata": {
    "execution": {
     "iopub.execute_input": "2023-12-16T13:57:37.561586Z",
     "iopub.status.busy": "2023-12-16T13:57:37.561032Z",
     "iopub.status.idle": "2023-12-16T13:57:37.567327Z",
     "shell.execute_reply": "2023-12-16T13:57:37.566604Z",
     "shell.execute_reply.started": "2023-12-16T13:57:37.561561Z"
    }
   },
   "outputs": [
    {
     "data": {
      "text/plain": [
       "3.936363636363637"
      ]
     },
     "execution_count": 23,
     "metadata": {},
     "output_type": "execute_result"
    }
   ],
   "source": [
    "# Weighted average der 10 Ähnlichsten Filme mit einem Rating vom User\n",
    "np.average(ratings_sorted_by_similarity[rated_items][:10], weights=most_similar_items[rated_items][:10].squeeze())"
   ]
  },
  {
   "cell_type": "markdown",
   "metadata": {},
   "source": [
    "Jetzt können wir für alle Filme für einen Benutzer eine Approximation machen, in dem wir den Code von oben in einem Loop zusammenführen und für alle Filme die Approximation in einem neuen DataFrame speichern\n",
    "\n",
    "Hinweis:\\\n",
    "[pandas.DataFrame.merge](https://pandas.pydata.org/docs/reference/api/pandas.DataFrame.merge.html)\\\n",
    "[pandas.DataFrame.iterrows](https://pandas.pydata.org/docs/reference/api/pandas.DataFrame.iterrows.html)\n"
   ]
  },
  {
   "cell_type": "code",
   "execution_count": 24,
   "metadata": {
    "execution": {
     "iopub.execute_input": "2023-12-16T13:57:37.568647Z",
     "iopub.status.busy": "2023-12-16T13:57:37.568219Z",
     "iopub.status.idle": "2023-12-16T13:57:37.580637Z",
     "shell.execute_reply": "2023-12-16T13:57:37.579934Z",
     "shell.execute_reply.started": "2023-12-16T13:57:37.568623Z"
    },
    "tags": []
   },
   "outputs": [
    {
     "data": {
      "text/html": [
       "<div>\n",
       "<style scoped>\n",
       "    .dataframe tbody tr th:only-of-type {\n",
       "        vertical-align: middle;\n",
       "    }\n",
       "\n",
       "    .dataframe tbody tr th {\n",
       "        vertical-align: top;\n",
       "    }\n",
       "\n",
       "    .dataframe thead th {\n",
       "        text-align: right;\n",
       "    }\n",
       "</style>\n",
       "<table border=\"1\" class=\"dataframe\">\n",
       "  <thead>\n",
       "    <tr style=\"text-align: right;\">\n",
       "      <th></th>\n",
       "      <th>title</th>\n",
       "      <th>rating</th>\n",
       "    </tr>\n",
       "  </thead>\n",
       "  <tbody>\n",
       "    <tr>\n",
       "      <th>0</th>\n",
       "      <td>Inception</td>\n",
       "      <td>NaN</td>\n",
       "    </tr>\n",
       "    <tr>\n",
       "      <th>1</th>\n",
       "      <td>The Dark Knight</td>\n",
       "      <td>NaN</td>\n",
       "    </tr>\n",
       "    <tr>\n",
       "      <th>2</th>\n",
       "      <td>Avatar</td>\n",
       "      <td>NaN</td>\n",
       "    </tr>\n",
       "    <tr>\n",
       "      <th>3</th>\n",
       "      <td>The Avengers (2012)</td>\n",
       "      <td>NaN</td>\n",
       "    </tr>\n",
       "    <tr>\n",
       "      <th>4</th>\n",
       "      <td>Interstellar</td>\n",
       "      <td>NaN</td>\n",
       "    </tr>\n",
       "    <tr>\n",
       "      <th>...</th>\n",
       "      <td>...</td>\n",
       "      <td>...</td>\n",
       "    </tr>\n",
       "    <tr>\n",
       "      <th>989</th>\n",
       "      <td>Bulworth</td>\n",
       "      <td>NaN</td>\n",
       "    </tr>\n",
       "    <tr>\n",
       "      <th>990</th>\n",
       "      <td>Waking Ned</td>\n",
       "      <td>NaN</td>\n",
       "    </tr>\n",
       "    <tr>\n",
       "      <th>991</th>\n",
       "      <td>Bob Roberts</td>\n",
       "      <td>NaN</td>\n",
       "    </tr>\n",
       "    <tr>\n",
       "      <th>992</th>\n",
       "      <td>Forget Paris</td>\n",
       "      <td>NaN</td>\n",
       "    </tr>\n",
       "    <tr>\n",
       "      <th>993</th>\n",
       "      <td>The Brothers McMullen</td>\n",
       "      <td>NaN</td>\n",
       "    </tr>\n",
       "  </tbody>\n",
       "</table>\n",
       "<p>994 rows × 2 columns</p>\n",
       "</div>"
      ],
      "text/plain": [
       "                     title  rating\n",
       "0                Inception     NaN\n",
       "1          The Dark Knight     NaN\n",
       "2                   Avatar     NaN\n",
       "3      The Avengers (2012)     NaN\n",
       "4             Interstellar     NaN\n",
       "..                     ...     ...\n",
       "989               Bulworth     NaN\n",
       "990             Waking Ned     NaN\n",
       "991            Bob Roberts     NaN\n",
       "992           Forget Paris     NaN\n",
       "993  The Brothers McMullen     NaN\n",
       "\n",
       "[994 rows x 2 columns]"
      ]
     },
     "execution_count": 24,
     "metadata": {},
     "output_type": "execute_result"
    }
   ],
   "source": [
    "# Neues DataFrame erstellen mit allen Filmen und den bestehenden Ratings des Users\n",
    "user_recommendations = movies[['title']].merge(user_ratings[['title', 'rating']], how='left')\n",
    "user_recommendations"
   ]
  },
  {
   "cell_type": "code",
   "execution_count": 25,
   "metadata": {
    "execution": {
     "iopub.execute_input": "2023-12-16T13:57:37.582246Z",
     "iopub.status.busy": "2023-12-16T13:57:37.581644Z",
     "iopub.status.idle": "2023-12-16T13:57:38.426825Z",
     "shell.execute_reply": "2023-12-16T13:57:38.426165Z",
     "shell.execute_reply.started": "2023-12-16T13:57:37.582219Z"
    }
   },
   "outputs": [],
   "source": [
    "# berechne für jeden Film für diesen User das predictete Rating\n",
    "predictions = []\n",
    "for i, movie in user_recommendations.iterrows():\n",
    "    \n",
    "    # Filme sortiert nach Ähnlichkeit zu 'movie'\n",
    "    most_similar_items = item_sim[movie.title].sort_values(ascending=False)\n",
    "    \n",
    "    # ratings vom User sortiert nach Ähnlichkeit der Filme\n",
    "    ratings_sorted_by_similarity = ratings_matrix[user_id][most_similar_items.index]\n",
    "    \n",
    "    # Filtere nach tatsächlichen Ratings vom User\n",
    "    rated_items = pd.notnull(ratings_sorted_by_similarity)\n",
    "    \n",
    "    # Weighted average der 10 Ähnlichsten Filme mit einem Rating vom User\n",
    "    predictions.append(np.average(ratings_sorted_by_similarity[rated_items][:10], weights=most_similar_items[rated_items][:10]))\n",
    "    \n",
    "user_recommendations['predictions'] = predictions"
   ]
  },
  {
   "cell_type": "code",
   "execution_count": 26,
   "metadata": {
    "execution": {
     "iopub.execute_input": "2023-12-16T13:57:38.428321Z",
     "iopub.status.busy": "2023-12-16T13:57:38.427796Z",
     "iopub.status.idle": "2023-12-16T13:57:38.441846Z",
     "shell.execute_reply": "2023-12-16T13:57:38.440333Z",
     "shell.execute_reply.started": "2023-12-16T13:57:38.428301Z"
    }
   },
   "outputs": [
    {
     "data": {
      "text/html": [
       "<div>\n",
       "<style scoped>\n",
       "    .dataframe tbody tr th:only-of-type {\n",
       "        vertical-align: middle;\n",
       "    }\n",
       "\n",
       "    .dataframe tbody tr th {\n",
       "        vertical-align: top;\n",
       "    }\n",
       "\n",
       "    .dataframe thead th {\n",
       "        text-align: right;\n",
       "    }\n",
       "</style>\n",
       "<table border=\"1\" class=\"dataframe\">\n",
       "  <thead>\n",
       "    <tr style=\"text-align: right;\">\n",
       "      <th></th>\n",
       "      <th>title</th>\n",
       "      <th>rating</th>\n",
       "      <th>predictions</th>\n",
       "    </tr>\n",
       "  </thead>\n",
       "  <tbody>\n",
       "    <tr>\n",
       "      <th>813</th>\n",
       "      <td>Election</td>\n",
       "      <td>NaN</td>\n",
       "      <td>4.169291</td>\n",
       "    </tr>\n",
       "    <tr>\n",
       "      <th>127</th>\n",
       "      <td>Braveheart</td>\n",
       "      <td>NaN</td>\n",
       "      <td>4.156766</td>\n",
       "    </tr>\n",
       "    <tr>\n",
       "      <th>71</th>\n",
       "      <td>Alien</td>\n",
       "      <td>NaN</td>\n",
       "      <td>4.088592</td>\n",
       "    </tr>\n",
       "    <tr>\n",
       "      <th>375</th>\n",
       "      <td>Citizen Kane</td>\n",
       "      <td>NaN</td>\n",
       "      <td>4.071429</td>\n",
       "    </tr>\n",
       "    <tr>\n",
       "      <th>858</th>\n",
       "      <td>Arsenic and Old Lace</td>\n",
       "      <td>NaN</td>\n",
       "      <td>4.060958</td>\n",
       "    </tr>\n",
       "    <tr>\n",
       "      <th>33</th>\n",
       "      <td>Finding Nemo</td>\n",
       "      <td>NaN</td>\n",
       "      <td>4.043152</td>\n",
       "    </tr>\n",
       "    <tr>\n",
       "      <th>48</th>\n",
       "      <td>Gladiator</td>\n",
       "      <td>NaN</td>\n",
       "      <td>4.038462</td>\n",
       "    </tr>\n",
       "    <tr>\n",
       "      <th>16</th>\n",
       "      <td>The Lord of the Rings: The Return of the King</td>\n",
       "      <td>5.0</td>\n",
       "      <td>4.035129</td>\n",
       "    </tr>\n",
       "    <tr>\n",
       "      <th>333</th>\n",
       "      <td>Final Destination</td>\n",
       "      <td>NaN</td>\n",
       "      <td>4.004491</td>\n",
       "    </tr>\n",
       "    <tr>\n",
       "      <th>917</th>\n",
       "      <td>The First Wives Club</td>\n",
       "      <td>NaN</td>\n",
       "      <td>3.994924</td>\n",
       "    </tr>\n",
       "  </tbody>\n",
       "</table>\n",
       "</div>"
      ],
      "text/plain": [
       "                                             title  rating  predictions\n",
       "813                                       Election     NaN     4.169291\n",
       "127                                     Braveheart     NaN     4.156766\n",
       "71                                           Alien     NaN     4.088592\n",
       "375                                   Citizen Kane     NaN     4.071429\n",
       "858                           Arsenic and Old Lace     NaN     4.060958\n",
       "33                                    Finding Nemo     NaN     4.043152\n",
       "48                                       Gladiator     NaN     4.038462\n",
       "16   The Lord of the Rings: The Return of the King     5.0     4.035129\n",
       "333                              Final Destination     NaN     4.004491\n",
       "917                           The First Wives Club     NaN     3.994924"
      ]
     },
     "execution_count": 26,
     "metadata": {},
     "output_type": "execute_result"
    }
   ],
   "source": [
    "# Top 10 recommendations für User\n",
    "user_recommendations.sort_values('predictions', ascending=False).head(10)"
   ]
  },
  {
   "cell_type": "code",
   "execution_count": null,
   "metadata": {},
   "outputs": [],
   "source": []
  }
 ],
 "metadata": {
  "kernelspec": {
   "display_name": "~Env (virtualenv_recommender)",
   "language": "python",
   "name": "virtualenv_recommender"
  },
  "language_info": {
   "codemirror_mode": {
    "name": "ipython",
    "version": 3
   },
   "file_extension": ".py",
   "mimetype": "text/x-python",
   "name": "python",
   "nbconvert_exporter": "python",
   "pygments_lexer": "ipython3",
   "version": "3.10.4"
  }
 },
 "nbformat": 4,
 "nbformat_minor": 4
}
