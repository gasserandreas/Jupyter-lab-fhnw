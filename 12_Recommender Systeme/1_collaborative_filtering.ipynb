{
 "cells": [
  {
   "cell_type": "code",
   "execution_count": 1,
   "id": "dress-persian",
   "metadata": {
    "execution": {
     "iopub.execute_input": "2023-12-16T13:28:49.774525Z",
     "iopub.status.busy": "2023-12-16T13:28:49.773883Z",
     "iopub.status.idle": "2023-12-16T13:28:50.437769Z",
     "shell.execute_reply": "2023-12-16T13:28:50.437093Z",
     "shell.execute_reply.started": "2023-12-16T13:28:49.774502Z"
    }
   },
   "outputs": [],
   "source": [
    "import numpy as np\n",
    "import pandas as pd\n",
    "from scipy.spatial.distance import pdist, squareform"
   ]
  },
  {
   "cell_type": "code",
   "execution_count": 2,
   "id": "underlying-embassy",
   "metadata": {
    "execution": {
     "iopub.execute_input": "2023-12-16T13:28:50.441431Z",
     "iopub.status.busy": "2023-12-16T13:28:50.440939Z",
     "iopub.status.idle": "2023-12-16T13:28:50.465139Z",
     "shell.execute_reply": "2023-12-16T13:28:50.464396Z",
     "shell.execute_reply.started": "2023-12-16T13:28:50.441410Z"
    }
   },
   "outputs": [
    {
     "data": {
      "text/html": [
       "<div>\n",
       "<style scoped>\n",
       "    .dataframe tbody tr th:only-of-type {\n",
       "        vertical-align: middle;\n",
       "    }\n",
       "\n",
       "    .dataframe tbody tr th {\n",
       "        vertical-align: top;\n",
       "    }\n",
       "\n",
       "    .dataframe thead th {\n",
       "        text-align: right;\n",
       "    }\n",
       "</style>\n",
       "<table border=\"1\" class=\"dataframe\">\n",
       "  <thead>\n",
       "    <tr style=\"text-align: right;\">\n",
       "      <th></th>\n",
       "      <th>A</th>\n",
       "      <th>B</th>\n",
       "      <th>C</th>\n",
       "      <th>D</th>\n",
       "      <th>E</th>\n",
       "    </tr>\n",
       "  </thead>\n",
       "  <tbody>\n",
       "    <tr>\n",
       "      <th>Avatar</th>\n",
       "      <td>NaN</td>\n",
       "      <td>NaN</td>\n",
       "      <td>7.0</td>\n",
       "      <td>NaN</td>\n",
       "      <td>10.0</td>\n",
       "    </tr>\n",
       "    <tr>\n",
       "      <th>Lord of the Rings</th>\n",
       "      <td>9.0</td>\n",
       "      <td>NaN</td>\n",
       "      <td>6.0</td>\n",
       "      <td>NaN</td>\n",
       "      <td>NaN</td>\n",
       "    </tr>\n",
       "    <tr>\n",
       "      <th>Saw</th>\n",
       "      <td>1.0</td>\n",
       "      <td>10.0</td>\n",
       "      <td>NaN</td>\n",
       "      <td>3.0</td>\n",
       "      <td>NaN</td>\n",
       "    </tr>\n",
       "    <tr>\n",
       "      <th>Star Wars</th>\n",
       "      <td>9.0</td>\n",
       "      <td>NaN</td>\n",
       "      <td>NaN</td>\n",
       "      <td>5.0</td>\n",
       "      <td>10.0</td>\n",
       "    </tr>\n",
       "    <tr>\n",
       "      <th>Titanic</th>\n",
       "      <td>NaN</td>\n",
       "      <td>4.0</td>\n",
       "      <td>10.0</td>\n",
       "      <td>NaN</td>\n",
       "      <td>3.0</td>\n",
       "    </tr>\n",
       "    <tr>\n",
       "      <th>The Hangover</th>\n",
       "      <td>5.0</td>\n",
       "      <td>2.0</td>\n",
       "      <td>NaN</td>\n",
       "      <td>9.0</td>\n",
       "      <td>6.0</td>\n",
       "    </tr>\n",
       "  </tbody>\n",
       "</table>\n",
       "</div>"
      ],
      "text/plain": [
       "                     A     B     C    D     E\n",
       "Avatar             NaN   NaN   7.0  NaN  10.0\n",
       "Lord of the Rings  9.0   NaN   6.0  NaN   NaN\n",
       "Saw                1.0  10.0   NaN  3.0   NaN\n",
       "Star Wars          9.0   NaN   NaN  5.0  10.0\n",
       "Titanic            NaN   4.0  10.0  NaN   3.0\n",
       "The Hangover       5.0   2.0   NaN  9.0   6.0"
      ]
     },
     "execution_count": 2,
     "metadata": {},
     "output_type": "execute_result"
    }
   ],
   "source": [
    "# Ratings Matrix\n",
    "movie_names = ['Avatar', 'Lord of the Rings', 'Saw', 'Star Wars', 'Titanic', 'The Hangover']\n",
    "user_names = ['A', 'B', 'C', 'D', 'E']\n",
    "ratings = pd.DataFrame(\n",
    "    index=movie_names, \n",
    "    columns=user_names,\n",
    "    data=[\n",
    "        [None, None, 7, None, 10],\n",
    "        [9, None, 6, None, None],\n",
    "        [1, 10, None, 3, None],\n",
    "        [9, None, None, 5, 10],\n",
    "        [None, 4, 10, None, 3],\n",
    "        [5, 2, None, 9, 6]\n",
    "    ],\n",
    "    dtype=np.float64\n",
    ").transpose()\n",
    "ratingsT = ratings.transpose()\n",
    "ratingsT"
   ]
  },
  {
   "cell_type": "code",
   "execution_count": 3,
   "id": "blocked-present",
   "metadata": {
    "execution": {
     "iopub.execute_input": "2023-12-16T13:28:50.466560Z",
     "iopub.status.busy": "2023-12-16T13:28:50.466217Z",
     "iopub.status.idle": "2023-12-16T13:28:50.480827Z",
     "shell.execute_reply": "2023-12-16T13:28:50.479865Z",
     "shell.execute_reply.started": "2023-12-16T13:28:50.466535Z"
    }
   },
   "outputs": [
    {
     "data": {
      "text/html": [
       "<div>\n",
       "<style scoped>\n",
       "    .dataframe tbody tr th:only-of-type {\n",
       "        vertical-align: middle;\n",
       "    }\n",
       "\n",
       "    .dataframe tbody tr th {\n",
       "        vertical-align: top;\n",
       "    }\n",
       "\n",
       "    .dataframe thead th {\n",
       "        text-align: right;\n",
       "    }\n",
       "</style>\n",
       "<table border=\"1\" class=\"dataframe\">\n",
       "  <thead>\n",
       "    <tr style=\"text-align: right;\">\n",
       "      <th></th>\n",
       "      <th>A</th>\n",
       "      <th>B</th>\n",
       "      <th>C</th>\n",
       "      <th>D</th>\n",
       "      <th>E</th>\n",
       "    </tr>\n",
       "  </thead>\n",
       "  <tbody>\n",
       "    <tr>\n",
       "      <th>A</th>\n",
       "      <td>0.00</td>\n",
       "      <td>0.4</td>\n",
       "      <td>0.17</td>\n",
       "      <td>0.75</td>\n",
       "      <td>0.33</td>\n",
       "    </tr>\n",
       "    <tr>\n",
       "      <th>B</th>\n",
       "      <td>0.40</td>\n",
       "      <td>0.0</td>\n",
       "      <td>0.20</td>\n",
       "      <td>0.50</td>\n",
       "      <td>0.40</td>\n",
       "    </tr>\n",
       "    <tr>\n",
       "      <th>C</th>\n",
       "      <td>0.17</td>\n",
       "      <td>0.2</td>\n",
       "      <td>0.00</td>\n",
       "      <td>0.00</td>\n",
       "      <td>0.40</td>\n",
       "    </tr>\n",
       "    <tr>\n",
       "      <th>D</th>\n",
       "      <td>0.75</td>\n",
       "      <td>0.5</td>\n",
       "      <td>0.00</td>\n",
       "      <td>0.00</td>\n",
       "      <td>0.40</td>\n",
       "    </tr>\n",
       "    <tr>\n",
       "      <th>E</th>\n",
       "      <td>0.33</td>\n",
       "      <td>0.4</td>\n",
       "      <td>0.40</td>\n",
       "      <td>0.40</td>\n",
       "      <td>0.00</td>\n",
       "    </tr>\n",
       "  </tbody>\n",
       "</table>\n",
       "</div>"
      ],
      "text/plain": [
       "      A    B     C     D     E\n",
       "A  0.00  0.4  0.17  0.75  0.33\n",
       "B  0.40  0.0  0.20  0.50  0.40\n",
       "C  0.17  0.2  0.00  0.00  0.40\n",
       "D  0.75  0.5  0.00  0.00  0.40\n",
       "E  0.33  0.4  0.40  0.40  0.00"
      ]
     },
     "execution_count": 3,
     "metadata": {},
     "output_type": "execute_result"
    }
   ],
   "source": [
    "# Jaccard Similarity aller User\n",
    "jaccard_similarities = squareform(1-pdist(ratings > 0, 'jaccard'))\n",
    "pd.DataFrame(jaccard_similarities.round(2), index=user_names, columns=user_names)"
   ]
  },
  {
   "cell_type": "code",
   "execution_count": 4,
   "id": "final-academy",
   "metadata": {
    "execution": {
     "iopub.execute_input": "2023-12-16T13:28:50.482582Z",
     "iopub.status.busy": "2023-12-16T13:28:50.482166Z",
     "iopub.status.idle": "2023-12-16T13:28:50.496392Z",
     "shell.execute_reply": "2023-12-16T13:28:50.495378Z",
     "shell.execute_reply.started": "2023-12-16T13:28:50.482557Z"
    }
   },
   "outputs": [
    {
     "data": {
      "text/html": [
       "<div>\n",
       "<style scoped>\n",
       "    .dataframe tbody tr th:only-of-type {\n",
       "        vertical-align: middle;\n",
       "    }\n",
       "\n",
       "    .dataframe tbody tr th {\n",
       "        vertical-align: top;\n",
       "    }\n",
       "\n",
       "    .dataframe thead th {\n",
       "        text-align: right;\n",
       "    }\n",
       "</style>\n",
       "<table border=\"1\" class=\"dataframe\">\n",
       "  <thead>\n",
       "    <tr style=\"text-align: right;\">\n",
       "      <th></th>\n",
       "      <th>A</th>\n",
       "      <th>B</th>\n",
       "      <th>C</th>\n",
       "      <th>D</th>\n",
       "      <th>E</th>\n",
       "    </tr>\n",
       "  </thead>\n",
       "  <tbody>\n",
       "    <tr>\n",
       "      <th>A</th>\n",
       "      <td>0.00</td>\n",
       "      <td>0.13</td>\n",
       "      <td>0.29</td>\n",
       "      <td>0.63</td>\n",
       "      <td>0.56</td>\n",
       "    </tr>\n",
       "    <tr>\n",
       "      <th>B</th>\n",
       "      <td>0.13</td>\n",
       "      <td>0.00</td>\n",
       "      <td>0.27</td>\n",
       "      <td>0.41</td>\n",
       "      <td>0.14</td>\n",
       "    </tr>\n",
       "    <tr>\n",
       "      <th>C</th>\n",
       "      <td>0.29</td>\n",
       "      <td>0.27</td>\n",
       "      <td>0.00</td>\n",
       "      <td>0.00</td>\n",
       "      <td>0.47</td>\n",
       "    </tr>\n",
       "    <tr>\n",
       "      <th>D</th>\n",
       "      <td>0.63</td>\n",
       "      <td>0.41</td>\n",
       "      <td>0.00</td>\n",
       "      <td>0.00</td>\n",
       "      <td>0.62</td>\n",
       "    </tr>\n",
       "    <tr>\n",
       "      <th>E</th>\n",
       "      <td>0.56</td>\n",
       "      <td>0.14</td>\n",
       "      <td>0.47</td>\n",
       "      <td>0.62</td>\n",
       "      <td>0.00</td>\n",
       "    </tr>\n",
       "  </tbody>\n",
       "</table>\n",
       "</div>"
      ],
      "text/plain": [
       "      A     B     C     D     E\n",
       "A  0.00  0.13  0.29  0.63  0.56\n",
       "B  0.13  0.00  0.27  0.41  0.14\n",
       "C  0.29  0.27  0.00  0.00  0.47\n",
       "D  0.63  0.41  0.00  0.00  0.62\n",
       "E  0.56  0.14  0.47  0.62  0.00"
      ]
     },
     "execution_count": 4,
     "metadata": {},
     "output_type": "execute_result"
    }
   ],
   "source": [
    "# Cosine Similarity aller User\n",
    "cosine_similarities = squareform(1-pdist(ratings.fillna(0), 'cosine'))\n",
    "pd.DataFrame(cosine_similarities.round(2), index=user_names, columns=user_names)"
   ]
  },
  {
   "cell_type": "code",
   "execution_count": 5,
   "id": "killing-catalog",
   "metadata": {
    "execution": {
     "iopub.execute_input": "2023-12-16T13:28:50.498372Z",
     "iopub.status.busy": "2023-12-16T13:28:50.497963Z",
     "iopub.status.idle": "2023-12-16T13:28:50.505918Z",
     "shell.execute_reply": "2023-12-16T13:28:50.504806Z",
     "shell.execute_reply.started": "2023-12-16T13:28:50.498343Z"
    }
   },
   "outputs": [],
   "source": [
    "def pearson_correlation(a, b):\n",
    "    m = np.isnan(a) | np.isnan(b)\n",
    "    ma = np.ma.array(a, mask=m)\n",
    "    mb = np.ma.array(b, mask=m)\n",
    "\n",
    "    mean_a = np.nanmean(a)\n",
    "    mean_b = np.nanmean(b)\n",
    "\n",
    "    nominator = np.ma.dot((ma - mean_a), (mb - mean_b))\n",
    "    denominator1 = np.ma.sqrt(np.ma.dot((ma - mean_a), (ma - mean_a)))\n",
    "    denominator2 = np.ma.sqrt(np.ma.dot((mb - mean_b), (mb - mean_b)))\n",
    "    denominator = denominator1 * denominator2\n",
    "    return nominator / denominator"
   ]
  },
  {
   "cell_type": "code",
   "execution_count": 6,
   "id": "danish-throat",
   "metadata": {
    "execution": {
     "iopub.execute_input": "2023-12-16T13:28:50.507819Z",
     "iopub.status.busy": "2023-12-16T13:28:50.507424Z",
     "iopub.status.idle": "2023-12-16T13:28:50.531092Z",
     "shell.execute_reply": "2023-12-16T13:28:50.529523Z",
     "shell.execute_reply.started": "2023-12-16T13:28:50.507779Z"
    },
    "tags": []
   },
   "outputs": [
    {
     "name": "stderr",
     "output_type": "stream",
     "text": [
      "/Users/ivo/.pyenv/versions/playground/lib/python3.10/site-packages/scipy/spatial/distance.py:2593: UserWarning: Warning: converting a masked element to nan.\n",
      "  dm[k] = metric(X[i], X[j], **kwargs)\n"
     ]
    },
    {
     "data": {
      "text/html": [
       "<div>\n",
       "<style scoped>\n",
       "    .dataframe tbody tr th:only-of-type {\n",
       "        vertical-align: middle;\n",
       "    }\n",
       "\n",
       "    .dataframe tbody tr th {\n",
       "        vertical-align: top;\n",
       "    }\n",
       "\n",
       "    .dataframe thead th {\n",
       "        text-align: right;\n",
       "    }\n",
       "</style>\n",
       "<table border=\"1\" class=\"dataframe\">\n",
       "  <thead>\n",
       "    <tr style=\"text-align: right;\">\n",
       "      <th></th>\n",
       "      <th>A</th>\n",
       "      <th>B</th>\n",
       "      <th>C</th>\n",
       "      <th>D</th>\n",
       "      <th>E</th>\n",
       "    </tr>\n",
       "  </thead>\n",
       "  <tbody>\n",
       "    <tr>\n",
       "      <th>A</th>\n",
       "      <td>0.00</td>\n",
       "      <td>-0.68</td>\n",
       "      <td>-1.00</td>\n",
       "      <td>0.31</td>\n",
       "      <td>0.99</td>\n",
       "    </tr>\n",
       "    <tr>\n",
       "      <th>B</th>\n",
       "      <td>-0.68</td>\n",
       "      <td>0.00</td>\n",
       "      <td>-1.00</td>\n",
       "      <td>-0.96</td>\n",
       "      <td>0.62</td>\n",
       "    </tr>\n",
       "    <tr>\n",
       "      <th>C</th>\n",
       "      <td>-1.00</td>\n",
       "      <td>-1.00</td>\n",
       "      <td>0.00</td>\n",
       "      <td>NaN</td>\n",
       "      <td>-0.96</td>\n",
       "    </tr>\n",
       "    <tr>\n",
       "      <th>D</th>\n",
       "      <td>0.31</td>\n",
       "      <td>-0.96</td>\n",
       "      <td>NaN</td>\n",
       "      <td>0.00</td>\n",
       "      <td>-0.58</td>\n",
       "    </tr>\n",
       "    <tr>\n",
       "      <th>E</th>\n",
       "      <td>0.99</td>\n",
       "      <td>0.62</td>\n",
       "      <td>-0.96</td>\n",
       "      <td>-0.58</td>\n",
       "      <td>0.00</td>\n",
       "    </tr>\n",
       "  </tbody>\n",
       "</table>\n",
       "</div>"
      ],
      "text/plain": [
       "      A     B     C     D     E\n",
       "A  0.00 -0.68 -1.00  0.31  0.99\n",
       "B -0.68  0.00 -1.00 -0.96  0.62\n",
       "C -1.00 -1.00  0.00   NaN -0.96\n",
       "D  0.31 -0.96   NaN  0.00 -0.58\n",
       "E  0.99  0.62 -0.96 -0.58  0.00"
      ]
     },
     "execution_count": 6,
     "metadata": {},
     "output_type": "execute_result"
    }
   ],
   "source": [
    "# Perason Correlation aller User\n",
    "pearson_correlations = squareform(pdist(ratings, pearson_correlation))\n",
    "user_sim = pd.DataFrame(pearson_correlations.round(2), index=user_names, columns=user_names)\n",
    "user_sim"
   ]
  },
  {
   "cell_type": "code",
   "execution_count": 7,
   "id": "talented-inventory",
   "metadata": {
    "execution": {
     "iopub.execute_input": "2023-12-16T13:28:50.538620Z",
     "iopub.status.busy": "2023-12-16T13:28:50.538322Z",
     "iopub.status.idle": "2023-12-16T13:28:50.570743Z",
     "shell.execute_reply": "2023-12-16T13:28:50.569757Z",
     "shell.execute_reply.started": "2023-12-16T13:28:50.538600Z"
    }
   },
   "outputs": [
    {
     "name": "stderr",
     "output_type": "stream",
     "text": [
      "/Users/ivo/.pyenv/versions/playground/lib/python3.10/site-packages/scipy/spatial/distance.py:2593: UserWarning: Warning: converting a masked element to nan.\n",
      "  dm[k] = metric(X[i], X[j], **kwargs)\n"
     ]
    },
    {
     "data": {
      "text/html": [
       "<div>\n",
       "<style scoped>\n",
       "    .dataframe tbody tr th:only-of-type {\n",
       "        vertical-align: middle;\n",
       "    }\n",
       "\n",
       "    .dataframe tbody tr th {\n",
       "        vertical-align: top;\n",
       "    }\n",
       "\n",
       "    .dataframe thead th {\n",
       "        text-align: right;\n",
       "    }\n",
       "</style>\n",
       "<table border=\"1\" class=\"dataframe\">\n",
       "  <thead>\n",
       "    <tr style=\"text-align: right;\">\n",
       "      <th></th>\n",
       "      <th>Avatar</th>\n",
       "      <th>Lord of the Rings</th>\n",
       "      <th>Saw</th>\n",
       "      <th>Star Wars</th>\n",
       "      <th>Titanic</th>\n",
       "      <th>The Hangover</th>\n",
       "    </tr>\n",
       "  </thead>\n",
       "  <tbody>\n",
       "    <tr>\n",
       "      <th>Avatar</th>\n",
       "      <td>0.00</td>\n",
       "      <td>1.0</td>\n",
       "      <td>NaN</td>\n",
       "      <td>1.00</td>\n",
       "      <td>-0.97</td>\n",
       "      <td>1.00</td>\n",
       "    </tr>\n",
       "    <tr>\n",
       "      <th>Lord of the Rings</th>\n",
       "      <td>1.00</td>\n",
       "      <td>0.0</td>\n",
       "      <td>-1.00</td>\n",
       "      <td>1.00</td>\n",
       "      <td>-1.00</td>\n",
       "      <td>-1.00</td>\n",
       "    </tr>\n",
       "    <tr>\n",
       "      <th>Saw</th>\n",
       "      <td>NaN</td>\n",
       "      <td>-1.0</td>\n",
       "      <td>0.00</td>\n",
       "      <td>0.10</td>\n",
       "      <td>-1.00</td>\n",
       "      <td>-0.68</td>\n",
       "    </tr>\n",
       "    <tr>\n",
       "      <th>Star Wars</th>\n",
       "      <td>1.00</td>\n",
       "      <td>1.0</td>\n",
       "      <td>0.10</td>\n",
       "      <td>0.00</td>\n",
       "      <td>-1.00</td>\n",
       "      <td>-0.75</td>\n",
       "    </tr>\n",
       "    <tr>\n",
       "      <th>Titanic</th>\n",
       "      <td>-0.97</td>\n",
       "      <td>-1.0</td>\n",
       "      <td>-1.00</td>\n",
       "      <td>-1.00</td>\n",
       "      <td>0.00</td>\n",
       "      <td>0.40</td>\n",
       "    </tr>\n",
       "    <tr>\n",
       "      <th>The Hangover</th>\n",
       "      <td>1.00</td>\n",
       "      <td>-1.0</td>\n",
       "      <td>-0.68</td>\n",
       "      <td>-0.75</td>\n",
       "      <td>0.40</td>\n",
       "      <td>0.00</td>\n",
       "    </tr>\n",
       "  </tbody>\n",
       "</table>\n",
       "</div>"
      ],
      "text/plain": [
       "                   Avatar  Lord of the Rings   Saw  Star Wars  Titanic  \\\n",
       "Avatar               0.00                1.0   NaN       1.00    -0.97   \n",
       "Lord of the Rings    1.00                0.0 -1.00       1.00    -1.00   \n",
       "Saw                   NaN               -1.0  0.00       0.10    -1.00   \n",
       "Star Wars            1.00                1.0  0.10       0.00    -1.00   \n",
       "Titanic             -0.97               -1.0 -1.00      -1.00     0.00   \n",
       "The Hangover         1.00               -1.0 -0.68      -0.75     0.40   \n",
       "\n",
       "                   The Hangover  \n",
       "Avatar                     1.00  \n",
       "Lord of the Rings         -1.00  \n",
       "Saw                       -0.68  \n",
       "Star Wars                 -0.75  \n",
       "Titanic                    0.40  \n",
       "The Hangover               0.00  "
      ]
     },
     "execution_count": 7,
     "metadata": {},
     "output_type": "execute_result"
    }
   ],
   "source": [
    "# Perason Correlation aller Objekte\n",
    "item_sim = pd.DataFrame(squareform(pdist(ratingsT, pearson_correlation)).round(2), index=movie_names, columns=movie_names)\n",
    "item_sim"
   ]
  },
  {
   "cell_type": "code",
   "execution_count": 8,
   "id": "particular-basics",
   "metadata": {
    "execution": {
     "iopub.execute_input": "2023-12-16T13:28:50.572396Z",
     "iopub.status.busy": "2023-12-16T13:28:50.571786Z",
     "iopub.status.idle": "2023-12-16T13:28:50.577026Z",
     "shell.execute_reply": "2023-12-16T13:28:50.576006Z",
     "shell.execute_reply.started": "2023-12-16T13:28:50.572373Z"
    }
   },
   "outputs": [],
   "source": [
    "# Prediction für 'Star Wars' für User 'C' anhand der 2 ähnlichsten Filme von Star Wars\n",
    "user = 'C'\n",
    "item = 'Star Wars'"
   ]
  },
  {
   "cell_type": "code",
   "execution_count": 9,
   "id": "greater-spouse",
   "metadata": {
    "execution": {
     "iopub.execute_input": "2023-12-16T13:28:50.579065Z",
     "iopub.status.busy": "2023-12-16T13:28:50.578646Z",
     "iopub.status.idle": "2023-12-16T13:28:50.587950Z",
     "shell.execute_reply": "2023-12-16T13:28:50.587009Z",
     "shell.execute_reply.started": "2023-12-16T13:28:50.579041Z"
    },
    "tags": []
   },
   "outputs": [
    {
     "data": {
      "text/plain": [
       "Avatar               1.0\n",
       "Lord of the Rings    1.0\n",
       "Name: Star Wars, dtype: float64"
      ]
     },
     "execution_count": 9,
     "metadata": {},
     "output_type": "execute_result"
    }
   ],
   "source": [
    "# Ähnliche Objekte und deren Ähnlichkeit ermitteln\n",
    "most_similar_items = item_sim[item].sort_values(ascending=False)[:2]\n",
    "most_similar_items"
   ]
  },
  {
   "cell_type": "code",
   "execution_count": 10,
   "id": "moderate-attribute",
   "metadata": {
    "execution": {
     "iopub.execute_input": "2023-12-16T13:28:50.590276Z",
     "iopub.status.busy": "2023-12-16T13:28:50.589754Z",
     "iopub.status.idle": "2023-12-16T13:28:50.597700Z",
     "shell.execute_reply": "2023-12-16T13:28:50.596520Z",
     "shell.execute_reply.started": "2023-12-16T13:28:50.590236Z"
    }
   },
   "outputs": [
    {
     "data": {
      "text/plain": [
       "Avatar               7.0\n",
       "Lord of the Rings    6.0\n",
       "Name: C, dtype: float64"
      ]
     },
     "execution_count": 10,
     "metadata": {},
     "output_type": "execute_result"
    }
   ],
   "source": [
    "# Bewertungen der ähnlichen Objekte durch User\n",
    "ratingsT[user][most_similar_items.index]"
   ]
  },
  {
   "cell_type": "code",
   "execution_count": 11,
   "id": "monthly-emperor",
   "metadata": {
    "execution": {
     "iopub.execute_input": "2023-12-16T13:28:50.599613Z",
     "iopub.status.busy": "2023-12-16T13:28:50.599042Z",
     "iopub.status.idle": "2023-12-16T13:28:50.607903Z",
     "shell.execute_reply": "2023-12-16T13:28:50.607043Z",
     "shell.execute_reply.started": "2023-12-16T13:28:50.599567Z"
    }
   },
   "outputs": [
    {
     "data": {
      "text/plain": [
       "6.5"
      ]
     },
     "execution_count": 11,
     "metadata": {},
     "output_type": "execute_result"
    }
   ],
   "source": [
    "# Gewichteter Durchschnitt der Bewertungen, mit den Ähnlichkeiten als Gewichte\n",
    "np.average(ratingsT[user][most_similar_items.index], weights=most_similar_items)"
   ]
  },
  {
   "cell_type": "code",
   "execution_count": null,
   "id": "arctic-winner",
   "metadata": {},
   "outputs": [],
   "source": []
  }
 ],
 "metadata": {
  "kernelspec": {
   "display_name": "~Env (virtualenv_playground)",
   "language": "python",
   "name": "virtualenv_playground"
  },
  "language_info": {
   "codemirror_mode": {
    "name": "ipython",
    "version": 3
   },
   "file_extension": ".py",
   "mimetype": "text/x-python",
   "name": "python",
   "nbconvert_exporter": "python",
   "pygments_lexer": "ipython3",
   "version": "3.10.4"
  }
 },
 "nbformat": 4,
 "nbformat_minor": 5
}
