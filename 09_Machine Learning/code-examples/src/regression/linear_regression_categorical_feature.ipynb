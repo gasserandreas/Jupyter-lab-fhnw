{
 "cells": [
  {
   "cell_type": "markdown",
   "source": [
    "# Linear Regression mit Kategorischen Features - Code\n",
    "\n",
    "In diesem Notebook schauen wir uns an, wie wir mit `Kategorischen Features` umgehen am Beispiel der `Linearen Regression`.\n",
    "\n",
    "## Setup\n",
    "\n",
    "Setup Code muss *nicht* verstanden werden."
   ],
   "metadata": {
    "collapsed": false
   }
  },
  {
   "cell_type": "code",
   "execution_count": 7,
   "outputs": [],
   "source": [
    "import pandas as pd\n",
    "import matplotlib.pyplot as plt\n",
    "import seaborn as sns\n",
    "from sklearn.metrics import mean_squared_error\n",
    "from sklearn.linear_model import LinearRegression\n",
    "import numpy as np"
   ],
   "metadata": {
    "collapsed": false
   }
  },
  {
   "cell_type": "code",
   "execution_count": 8,
   "outputs": [],
   "source": [
    "df = pd.read_csv('data/fish.csv')[['Width', 'Weight', 'Species']].rename(columns={\n",
    "    'Width': 'width (cm)',\n",
    "    'Weight': 'weight (g)',\n",
    "    'Species': 'species'\n",
    "})"
   ],
   "metadata": {
    "collapsed": false
   }
  },
  {
   "cell_type": "code",
   "execution_count": 9,
   "outputs": [],
   "source": [
    "palette={s: c for s, c in zip(df['species'].unique(), sns.color_palette())}"
   ],
   "metadata": {
    "collapsed": false
   }
  },
  {
   "cell_type": "code",
   "execution_count": 10,
   "outputs": [],
   "source": [
    "def plot_data(ax, data, x, y):\n",
    "    sns.scatterplot(data=data, x='width (cm)', y=y, ax=ax, hue='species', palette=palette)\n",
    "    ax.set_xlim(0, data['width (cm)'].max() + 1)\n",
    "    ax.set_ylim(0, data[y].max() + 500)\n",
    "\n",
    "def plot_model_oe(ax, data, x, y, lr_oe, oe):\n",
    "    plot_data(ax, data, x, y)\n",
    "    for category in oe.categories_[0]:\n",
    "        x = np.arange(0, 8, 0.1)\n",
    "        temp = pd.DataFrame({'width (cm)': x})\n",
    "        temp['species_ordinal_encoded'] = oe.transform([[category]])[0][0]\n",
    "        sns.lineplot(x=x, y=lr_oe.predict(temp), ax=ax, color=palette[category])\n",
    "\n",
    "def plot_model_ohe(ax, data, x, y, lr_ohe, ohe):\n",
    "    plot_data(ax, data, x, y)\n",
    "    for category in ohe.categories_[0]:\n",
    "        x = np.arange(0, 8, 0.1)\n",
    "        temp = pd.DataFrame({'width (cm)': x})\n",
    "        for c in ohe.categories_[0]:\n",
    "            temp[c] = 1 if category == c else 0\n",
    "        sns.lineplot(x=x, y=lr_ohe.predict(temp), ax=ax, color=palette[category])\n"
   ],
   "metadata": {
    "collapsed": false
   }
  },
  {
   "cell_type": "markdown",
   "source": [
    "## Baseline\n",
    "\n",
    "Zuerst erstellen wir eine Baseline, die ohne das Feature `specie` arbeitet.\n",
    "Ein Modell mit dem Feature `specie` sollte die Baseline natürlich schlagen."
   ],
   "metadata": {
    "collapsed": false
   }
  },
  {
   "cell_type": "code",
   "execution_count": 11,
   "outputs": [
    {
     "name": "stdout",
     "output_type": "stream",
     "text": [
      "Baseline Performanz: 27265\n"
     ]
    }
   ],
   "source": [
    "baseline_lr = LinearRegression()  # Erstellen vom Modell\n",
    "\n",
    "baseline_lr.fit(X=df[['width (cm)']], y=df['weight (g)'])  # Modell lernt (Lernphase)\n",
    "y_hat = baseline_lr.predict(df[['width (cm)']])\n",
    "baseline_performance = round(mean_squared_error(df['weight (g)'], y_hat))\n",
    "print(\"Baseline Performanz:\", baseline_performance)"
   ],
   "metadata": {
    "collapsed": false
   }
  },
  {
   "cell_type": "markdown",
   "source": [
    "## Warum Ordinal-Encoder hier nicht funktioniert\n",
    "\n",
    "### OrdinalEncoder"
   ],
   "metadata": {
    "collapsed": false
   }
  },
  {
   "cell_type": "code",
   "execution_count": 12,
   "outputs": [
    {
     "data": {
      "text/plain": "    species  species_ordinal_encoded\n52    Roach                      4.0\n51    Roach                      4.0\n36    Roach                      4.0\n125   Perch                      2.0\n63   Parkki                      1.0\n19    Bream                      0.0\n46    Roach                      4.0\n68   Parkki                      1.0\n34    Bream                      0.0\n83    Perch                      2.0",
      "text/html": "<div>\n<style scoped>\n    .dataframe tbody tr th:only-of-type {\n        vertical-align: middle;\n    }\n\n    .dataframe tbody tr th {\n        vertical-align: top;\n    }\n\n    .dataframe thead th {\n        text-align: right;\n    }\n</style>\n<table border=\"1\" class=\"dataframe\">\n  <thead>\n    <tr style=\"text-align: right;\">\n      <th></th>\n      <th>species</th>\n      <th>species_ordinal_encoded</th>\n    </tr>\n  </thead>\n  <tbody>\n    <tr>\n      <th>52</th>\n      <td>Roach</td>\n      <td>4.0</td>\n    </tr>\n    <tr>\n      <th>51</th>\n      <td>Roach</td>\n      <td>4.0</td>\n    </tr>\n    <tr>\n      <th>36</th>\n      <td>Roach</td>\n      <td>4.0</td>\n    </tr>\n    <tr>\n      <th>125</th>\n      <td>Perch</td>\n      <td>2.0</td>\n    </tr>\n    <tr>\n      <th>63</th>\n      <td>Parkki</td>\n      <td>1.0</td>\n    </tr>\n    <tr>\n      <th>19</th>\n      <td>Bream</td>\n      <td>0.0</td>\n    </tr>\n    <tr>\n      <th>46</th>\n      <td>Roach</td>\n      <td>4.0</td>\n    </tr>\n    <tr>\n      <th>68</th>\n      <td>Parkki</td>\n      <td>1.0</td>\n    </tr>\n    <tr>\n      <th>34</th>\n      <td>Bream</td>\n      <td>0.0</td>\n    </tr>\n    <tr>\n      <th>83</th>\n      <td>Perch</td>\n      <td>2.0</td>\n    </tr>\n  </tbody>\n</table>\n</div>"
     },
     "metadata": {},
     "output_type": "display_data"
    }
   ],
   "source": [
    "from sklearn.preprocessing import OrdinalEncoder\n",
    "\n",
    "df_oe = df.copy()\n",
    "\n",
    "oe = OrdinalEncoder()\n",
    "df_oe['species_ordinal_encoded']  = oe.fit_transform(df_oe[['species']].values)\n",
    "display(df_oe[['species', 'species_ordinal_encoded']].sample(10))"
   ],
   "metadata": {
    "collapsed": false
   }
  },
  {
   "cell_type": "code",
   "execution_count": 13,
   "outputs": [
    {
     "name": "stdout",
     "output_type": "stream",
     "text": [
      "OrdinalEncoder Performanz:  27029\n"
     ]
    }
   ],
   "source": [
    "lr_oe = LinearRegression()\n",
    "\n",
    "lr_oe.fit(X=df_oe[['width (cm)', 'species_ordinal_encoded']], y=df_oe['weight (g)'])\n",
    "y_hat = lr_oe.predict(df_oe[['width (cm)', 'species_ordinal_encoded']])\n",
    "oe_performance = round(mean_squared_error(df['weight (g)'], y_hat))\n",
    "print(\"OrdinalEncoder Performanz: \", oe_performance)"
   ],
   "metadata": {
    "collapsed": false
   }
  },
  {
   "cell_type": "code",
   "execution_count": 14,
   "outputs": [
    {
     "name": "stdout",
     "output_type": "stream",
     "text": [
      "-473.0641280751862 [192.20899737   9.85361763]\n"
     ]
    }
   ],
   "source": [
    "print(lr_oe.intercept_, lr_oe.coef_)"
   ],
   "metadata": {
    "collapsed": false
   }
  },
  {
   "cell_type": "code",
   "execution_count": 15,
   "outputs": [
    {
     "data": {
      "text/plain": "<Figure size 288x288 with 1 Axes>",
      "image/png": "[encoded data removed]"
     },
     "metadata": {
      "needs_background": "light"
     },
     "output_type": "display_data"
    }
   ],
   "source": [
    "_, ax = plt.subplots(1, 1, figsize=(4, 4))\n",
    "plot_model_oe(ax, df_oe, 'width (cm)', 'weight (g)', lr_oe, oe)\n",
    "plt.show()"
   ],
   "metadata": {
    "collapsed": false
   }
  },
  {
   "cell_type": "markdown",
   "source": [
    "## One-Hot-Encoder"
   ],
   "metadata": {
    "collapsed": false
   }
  },
  {
   "cell_type": "code",
   "execution_count": 16,
   "outputs": [
    {
     "data": {
      "text/plain": "    species  Bream  Parkki  Perch  Pike  Roach  Smelt  Whitefish\n122   Perch    0.0     0.0    1.0   0.0    0.0    0.0        0.0\n20    Bream    1.0     0.0    0.0   0.0    0.0    0.0        0.0\n82    Perch    0.0     0.0    1.0   0.0    0.0    0.0        0.0\n49    Roach    0.0     0.0    0.0   0.0    1.0    0.0        0.0\n10    Bream    1.0     0.0    0.0   0.0    0.0    0.0        0.0\n126   Perch    0.0     0.0    1.0   0.0    0.0    0.0        0.0\n129    Pike    0.0     0.0    0.0   1.0    0.0    0.0        0.0\n26    Bream    1.0     0.0    0.0   0.0    0.0    0.0        0.0\n65   Parkki    0.0     1.0    0.0   0.0    0.0    0.0        0.0\n85    Perch    0.0     0.0    1.0   0.0    0.0    0.0        0.0",
      "text/html": "<div>\n<style scoped>\n    .dataframe tbody tr th:only-of-type {\n        vertical-align: middle;\n    }\n\n    .dataframe tbody tr th {\n        vertical-align: top;\n    }\n\n    .dataframe thead th {\n        text-align: right;\n    }\n</style>\n<table border=\"1\" class=\"dataframe\">\n  <thead>\n    <tr style=\"text-align: right;\">\n      <th></th>\n      <th>species</th>\n      <th>Bream</th>\n      <th>Parkki</th>\n      <th>Perch</th>\n      <th>Pike</th>\n      <th>Roach</th>\n      <th>Smelt</th>\n      <th>Whitefish</th>\n    </tr>\n  </thead>\n  <tbody>\n    <tr>\n      <th>122</th>\n      <td>Perch</td>\n      <td>0.0</td>\n      <td>0.0</td>\n      <td>1.0</td>\n      <td>0.0</td>\n      <td>0.0</td>\n      <td>0.0</td>\n      <td>0.0</td>\n    </tr>\n    <tr>\n      <th>20</th>\n      <td>Bream</td>\n      <td>1.0</td>\n      <td>0.0</td>\n      <td>0.0</td>\n      <td>0.0</td>\n      <td>0.0</td>\n      <td>0.0</td>\n      <td>0.0</td>\n    </tr>\n    <tr>\n      <th>82</th>\n      <td>Perch</td>\n      <td>0.0</td>\n      <td>0.0</td>\n      <td>1.0</td>\n      <td>0.0</td>\n      <td>0.0</td>\n      <td>0.0</td>\n      <td>0.0</td>\n    </tr>\n    <tr>\n      <th>49</th>\n      <td>Roach</td>\n      <td>0.0</td>\n      <td>0.0</td>\n      <td>0.0</td>\n      <td>0.0</td>\n      <td>1.0</td>\n      <td>0.0</td>\n      <td>0.0</td>\n    </tr>\n    <tr>\n      <th>10</th>\n      <td>Bream</td>\n      <td>1.0</td>\n      <td>0.0</td>\n      <td>0.0</td>\n      <td>0.0</td>\n      <td>0.0</td>\n      <td>0.0</td>\n      <td>0.0</td>\n    </tr>\n    <tr>\n      <th>126</th>\n      <td>Perch</td>\n      <td>0.0</td>\n      <td>0.0</td>\n      <td>1.0</td>\n      <td>0.0</td>\n      <td>0.0</td>\n      <td>0.0</td>\n      <td>0.0</td>\n    </tr>\n    <tr>\n      <th>129</th>\n      <td>Pike</td>\n      <td>0.0</td>\n      <td>0.0</td>\n      <td>0.0</td>\n      <td>1.0</td>\n      <td>0.0</td>\n      <td>0.0</td>\n      <td>0.0</td>\n    </tr>\n    <tr>\n      <th>26</th>\n      <td>Bream</td>\n      <td>1.0</td>\n      <td>0.0</td>\n      <td>0.0</td>\n      <td>0.0</td>\n      <td>0.0</td>\n      <td>0.0</td>\n      <td>0.0</td>\n    </tr>\n    <tr>\n      <th>65</th>\n      <td>Parkki</td>\n      <td>0.0</td>\n      <td>1.0</td>\n      <td>0.0</td>\n      <td>0.0</td>\n      <td>0.0</td>\n      <td>0.0</td>\n      <td>0.0</td>\n    </tr>\n    <tr>\n      <th>85</th>\n      <td>Perch</td>\n      <td>0.0</td>\n      <td>0.0</td>\n      <td>1.0</td>\n      <td>0.0</td>\n      <td>0.0</td>\n      <td>0.0</td>\n      <td>0.0</td>\n    </tr>\n  </tbody>\n</table>\n</div>"
     },
     "metadata": {},
     "output_type": "display_data"
    }
   ],
   "source": [
    "from sklearn.preprocessing import OneHotEncoder\n",
    "\n",
    "df_ohe = df.copy()\n",
    "\n",
    "ohe = OneHotEncoder()\n",
    "X_ohe_species = ohe.fit_transform(df_ohe[['species']])\n",
    "X_species = pd.DataFrame(data=X_ohe_species.toarray(), index=df_ohe.index, columns=ohe.categories_[0])\n",
    "\n",
    "df_ohe = pd.concat([df_ohe, X_species], axis=1)\n",
    "\n",
    "display(df_ohe[['species', *ohe.categories_[0]]].sample(10))"
   ],
   "metadata": {
    "collapsed": false
   }
  },
  {
   "cell_type": "markdown",
   "source": [
    "Die gelernten $\\vec{\\beta}$ können wir aus der `Linearen Regression` wie folgt beziehen:"
   ],
   "metadata": {
    "collapsed": false
   }
  },
  {
   "cell_type": "code",
   "execution_count": 17,
   "outputs": [
    {
     "name": "stdout",
     "output_type": "stream",
     "text": [
      "One-Hot-Encoder Performanz:  15422\n"
     ]
    }
   ],
   "source": [
    "lr_ohe = LinearRegression()  # Erstellen vom Modell\n",
    "\n",
    "lr_ohe.fit(X=df_ohe[['width (cm)', *ohe.categories_[0]]], y=df_ohe['weight (g)'])  # Modell lernt (Lernphase)\n",
    "y_hat = lr_ohe.predict(df_ohe[['width (cm)', *ohe.categories_[0]]])\n",
    "ohe_performance = round(mean_squared_error(df['weight (g)'], y_hat))\n",
    "print(\"One-Hot-Encoder Performanz: \", ohe_performance)"
   ],
   "metadata": {
    "collapsed": false
   }
  },
  {
   "cell_type": "code",
   "execution_count": 18,
   "outputs": [
    {
     "name": "stdout",
     "output_type": "stream",
     "text": [
      "-501.7256452120844 [ 210.00330566  -20.26272523  -19.821456   -112.65263184  152.27441958\n",
      " -114.38494641  231.48028674 -116.63294685]\n"
     ]
    }
   ],
   "source": [
    "print(lr_ohe.intercept_, lr_ohe.coef_)"
   ],
   "metadata": {
    "collapsed": false
   }
  },
  {
   "cell_type": "code",
   "execution_count": 19,
   "outputs": [
    {
     "data": {
      "text/plain": "<Figure size 288x288 with 1 Axes>",
      "image/png": "[encoded data removed]"
     },
     "metadata": {
      "needs_background": "light"
     },
     "output_type": "display_data"
    }
   ],
   "source": [
    "_, ax = plt.subplots(1, 1, figsize=(4, 4))\n",
    "plot_model_ohe(ax, df_ohe, 'width (cm)', 'weight (g)', lr_ohe, ohe)\n",
    "plt.show()"
   ],
   "metadata": {
    "collapsed": false
   }
  },
  {
   "cell_type": "markdown",
   "source": [
    "## Conclusion"
   ],
   "metadata": {
    "collapsed": false
   }
  },
  {
   "cell_type": "code",
   "execution_count": 20,
   "outputs": [
    {
     "name": "stdout",
     "output_type": "stream",
     "text": [
      "Baseline Performanz:                                  27265\n",
      "OrdinalEncoder Performanz:                            27029\n",
      "One-Hot-Encoder Performanz:                           15422\n"
     ]
    }
   ],
   "source": [
    "print(\"Baseline Performanz:                                 \", baseline_performance)\n",
    "print(\"OrdinalEncoder Performanz:                           \", oe_performance)\n",
    "print(\"One-Hot-Encoder Performanz:                          \", ohe_performance)"
   ],
   "metadata": {
    "collapsed": false
   }
  }
 ],
 "metadata": {
  "kernelspec": {
   "display_name": "Python 3",
   "language": "python",
   "name": "python3"
  },
  "language_info": {
   "codemirror_mode": {
    "name": "ipython",
    "version": 2
   },
   "file_extension": ".py",
   "mimetype": "text/x-python",
   "name": "python",
   "nbconvert_exporter": "python",
   "pygments_lexer": "ipython2",
   "version": "2.7.6"
  }
 },
 "nbformat": 4,
 "nbformat_minor": 0
}
