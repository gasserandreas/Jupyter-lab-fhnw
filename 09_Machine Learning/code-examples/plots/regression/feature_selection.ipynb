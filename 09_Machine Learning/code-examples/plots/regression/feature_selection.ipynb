{
 "cells": [
  {
   "cell_type": "code",
   "execution_count": 246,
   "outputs": [],
   "source": [
    "import pandas as pd\n",
    "import seaborn as sns\n",
    "import matplotlib.pyplot as plt\n",
    "import os\n",
    "from sklearn.pipeline import Pipeline\n",
    "from sklearn.linear_model import LinearRegression\n",
    "from sklearn.datasets import make_classification\n",
    "from sklearn.ensemble import RandomForestClassifier\n",
    "from sklearn.linear_model import LogisticRegression\n",
    "from sklearn.model_selection import cross_val_score\n",
    "from sklearn.feature_selection import RFE"
   ],
   "metadata": {
    "collapsed": false
   }
  },
  {
   "cell_type": "code",
   "execution_count": 247,
   "outputs": [],
   "source": [
    "out_dir = os.path.join(os.getcwd(), \"../../out/feature_selection\")"
   ],
   "metadata": {
    "collapsed": false
   }
  },
  {
   "cell_type": "code",
   "execution_count": 248,
   "outputs": [],
   "source": [
    "from sklearn.datasets import make_regression\n",
    "\n",
    "X, y = make_regression(\n",
    "    n_samples=100,\n",
    "    n_features=100,\n",
    "    n_informative=5,\n",
    "    n_targets=1,\n",
    "    random_state=42,\n",
    "    noise=0.1\n",
    ")"
   ],
   "metadata": {
    "collapsed": false
   }
  },
  {
   "cell_type": "code",
   "execution_count": 249,
   "outputs": [],
   "source": [
    "df = pd.DataFrame(X, columns=list(map(lambda x: f\"x{x}\", range(0, 100))))\n",
    "df['target'] = y\n",
    "# sns.pairplot(\n",
    "#     df,\n",
    "#     x_vars=['target']\n",
    "# )\n",
    "# plt.show()"
   ],
   "metadata": {
    "collapsed": false
   }
  },
  {
   "cell_type": "code",
   "execution_count": 250,
   "outputs": [
    {
     "name": "stdout",
     "output_type": "stream",
     "text": [
      "Score: 17.60\n"
     ]
    }
   ],
   "source": [
    "\n",
    "model = LinearRegression()\n",
    "print(f\"Score: {-cross_val_score(model, X, y, cv=10, scoring='neg_root_mean_squared_error').mean():.2f}\")"
   ],
   "metadata": {
    "collapsed": false
   }
  },
  {
   "cell_type": "code",
   "execution_count": 251,
   "outputs": [
    {
     "name": "stdout",
     "output_type": "stream",
     "text": [
      "Score: 0.09\n"
     ]
    }
   ],
   "source": [
    "\n",
    "model = Pipeline([\n",
    "    ('feature_selection', RFE(LinearRegression(), n_features_to_select=5)),\n",
    "    ('regression', LinearRegression())\n",
    "])\n",
    "\n",
    "print(f\"Score: {-cross_val_score(model, X, y, cv=10, scoring='neg_root_mean_squared_error').mean():.2f}\")"
   ],
   "metadata": {
    "collapsed": false
   }
  },
  {
   "cell_type": "markdown",
   "source": [
    "## Inherent Feature Selection Property of Random Forest\n",
    "\n",
    "Note: We use classification here as generated regression data is linear at therefore difficult for tree based models."
   ],
   "metadata": {
    "collapsed": false
   }
  },
  {
   "cell_type": "code",
   "execution_count": 259,
   "outputs": [
    {
     "name": "stdout",
     "output_type": "stream",
     "text": [
      "******\n",
      "n_features=10, n_samples=50\n",
      "RandomForestClassifier: 0.82\n",
      "LogisticRegression: 0.86\n",
      "Feature Selection+LogisticRegression: 0.86\n",
      "******\n",
      "******\n",
      "n_features=100, n_samples=50\n",
      "RandomForestClassifier: 0.68\n",
      "LogisticRegression: 0.62\n",
      "Feature Selection+LogisticRegression: 0.78\n",
      "******\n",
      "******\n",
      "n_features=500, n_samples=50\n",
      "RandomForestClassifier: 0.78\n",
      "LogisticRegression: 0.68\n",
      "Feature Selection+LogisticRegression: 0.82\n",
      "******\n",
      "******\n",
      "n_features=10, n_samples=100\n",
      "RandomForestClassifier: 0.97\n",
      "LogisticRegression: 0.97\n",
      "Feature Selection+LogisticRegression: 0.97\n",
      "******\n",
      "******\n",
      "n_features=100, n_samples=100\n",
      "RandomForestClassifier: 0.96\n",
      "LogisticRegression: 0.89\n",
      "Feature Selection+LogisticRegression: 0.95\n",
      "******\n",
      "******\n",
      "n_features=500, n_samples=100\n",
      "RandomForestClassifier: 0.94\n",
      "LogisticRegression: 0.87\n",
      "Feature Selection+LogisticRegression: 0.9\n",
      "******\n",
      "******\n",
      "n_features=10, n_samples=1000\n",
      "RandomForestClassifier: 0.98\n",
      "LogisticRegression: 0.98\n",
      "Feature Selection+LogisticRegression: 0.98\n",
      "******\n",
      "******\n",
      "n_features=100, n_samples=1000\n",
      "RandomForestClassifier: 0.94\n",
      "LogisticRegression: 0.95\n",
      "Feature Selection+LogisticRegression: 0.97\n",
      "******\n",
      "******\n",
      "n_features=500, n_samples=1000\n",
      "RandomForestClassifier: 0.91\n",
      "LogisticRegression: 0.89\n",
      "Feature Selection+LogisticRegression: 0.97\n",
      "******\n"
     ]
    }
   ],
   "source": [
    "for n_samples in [50, 100, 1000]:\n",
    "    for n_features in [10, 100, 500]:\n",
    "        X, y = make_classification(\n",
    "            n_samples=n_samples,\n",
    "            n_features=n_features,\n",
    "            n_informative=5,\n",
    "            n_classes=2,\n",
    "            n_clusters_per_class=1,\n",
    "            random_state=42,\n",
    "        )\n",
    "        def get_score_for_model(model):\n",
    "            return f\"{cross_val_score(model, X, y, cv=10, scoring='accuracy').mean():.2}\"\n",
    "        get_score_for_model(RandomForestClassifier())\n",
    "        print(\"******\")\n",
    "        print(f\"{n_features=}, {n_samples=}\")\n",
    "        print(f\"RandomForestClassifier: {get_score_for_model(RandomForestClassifier())}\")\n",
    "        print(f\"LogisticRegression: {get_score_for_model(LogisticRegression())}\")\n",
    "        fs_lr = Pipeline([\n",
    "            ('feature_selection', RFE(LogisticRegression(), n_features_to_select=10)),\n",
    "            ('regression', LogisticRegression())\n",
    "        ])\n",
    "        print(f\"Feature Selection+LogisticRegression: {get_score_for_model(fs_lr)}\")\n",
    "        print(\"******\")"
   ],
   "metadata": {
    "collapsed": false
   }
  },
  {
   "cell_type": "code",
   "execution_count": null,
   "outputs": [],
   "source": [],
   "metadata": {
    "collapsed": false
   }
  }
 ],
 "metadata": {
  "kernelspec": {
   "display_name": "Python 3",
   "language": "python",
   "name": "python3"
  },
  "language_info": {
   "codemirror_mode": {
    "name": "ipython",
    "version": 2
   },
   "file_extension": ".py",
   "mimetype": "text/x-python",
   "name": "python",
   "nbconvert_exporter": "python",
   "pygments_lexer": "ipython2",
   "version": "2.7.6"
  }
 },
 "nbformat": 4,
 "nbformat_minor": 0
}
