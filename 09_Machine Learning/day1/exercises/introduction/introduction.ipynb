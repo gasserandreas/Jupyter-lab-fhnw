{
 "cells": [
  {
   "cell_type": "code",
   "execution_count": null,
   "metadata": {
    "collapsed": false,
    "jupyter": {
     "outputs_hidden": false
    },
    "pycharm": {
     "name": "#%%\n"
    }
   },
   "outputs": [],
   "source": [
    "from IPython.display import display\n",
    "from IPython.core.display import HTML"
   ]
  },
  {
   "cell_type": "markdown",
   "metadata": {},
   "source": [
    "# Machine Learning - Aufgabenblatt 1\n",
    "\n",
    "Als Vorbereitung für das CAS sollten Sie bereits `python`, `pandas`, `numpy`, `matplotlib` weitgehends angeschaut haben.\n",
    "Die Aufgaben hier wiederholen wichtige Funktionen an einem Anwendungsbeispiel."
   ]
  },
  {
   "cell_type": "markdown",
   "metadata": {},
   "source": [
    "## Datensatz"
   ]
  },
  {
   "cell_type": "markdown",
   "metadata": {},
   "source": [
    "Wir arbeiten in dieser Aufgabenblatt mit dem `fish.csv` Datensatz.\n",
    "\n",
    "Es handelt sich um **157 Fische** die am Finland’s Lake Laengelmaevesi gefangen wurden und folgende **7 Features** wurden erhoben:\n",
    "\n",
    "| Feature | Descriptiopn                                                                  |\n",
    "|---------|-------------------------------------------------------------------------------|\n",
    "| Species | Fischspezies                                                                  |\n",
    "| Weight  | Gewicht vom Fisch (in Gramm)                                                  |\n",
    "| Length1 | Länge des Fisches von der Nase bis zum Schwanzansatz (in Zentimetern)         |\n",
    "| Length2 | Länge des Fisches von der Nase bis zur Schwanzkerbe (in Zentimetern)          |\n",
    "| Length3 | Länge des Fisches von der Nase bis zum Schwanzende (in Zentimetern)           |\n",
    "| Height  | Maximale Höhe des Fisches (in Zentimetern)                                    |\n",
    "| Width   | Maximale Breite des Fisches (in Zentimetern)                                  |\n",
    "\n",
    "### (Extra) Weitere Links\n",
    "\n",
    "* Kaggle Competition auf dem Datensatz: https://www.kaggle.com/aungpyaeap/fish-market \n",
    "* Beschreibung: https://documentation.sas.com/doc/en/pgmsascdc/9.4_3.4/imlsug/imlsug_ugappdatasets_sect009.htm\n"
   ]
  },
  {
   "cell_type": "markdown",
   "metadata": {},
   "source": [
    "## Aufgabe 1 - pandas\n",
    "\n",
    "In dieser Aufgabe machen wir uns mit wichtigen Funktionen von `pandas` vertraut.\n",
    "\n",
    "### Aufgabe 1.1 - ```pd.read_csv```, ```df.head```\n",
    "\n",
    "1. Schauen Sie sich die `.csv` Datei `data/fish.csv` an.\n",
    "2. Lesen Sie die Datei mit Hilfe von `pd.read_csv` als pandas `DataFrame` ein.\n",
    "3. Geben Sie die ersten Zeilen des DataFrames mit Hilfe von `df.head` aus.\n",
    "\n",
    "#### Hilfreiche Links\n",
    "\n",
    "* pd.read_csv: https://pandas.pydata.org/docs/reference/api/pandas.read_csv.html\n",
    "* pd.DataFrame.head: https://pandas.pydata.org/docs/reference/api/pandas.DataFrame.head.html"
   ]
  },
  {
   "cell_type": "code",
   "execution_count": null,
   "metadata": {},
   "outputs": [],
   "source": [
    "# TODO"
   ]
  },
  {
   "cell_type": "markdown",
   "metadata": {},
   "source": [
    "### Aufgabe 1.2 - ```df.describe```\n",
    "\n",
    "1. Schauen Sie sich die Statistiken der **numerischen Features** mittels `df.describe` an.\n",
    "2. Was fällt Ihnen auf?\n",
    "\n",
    "#### Hilfreiche Links\n",
    "\n",
    "* pd.DataFrame.describe: https://pandas.pydata.org/docs/reference/api/pandas.DataFrame.describe.html"
   ]
  },
  {
   "cell_type": "code",
   "execution_count": null,
   "metadata": {},
   "outputs": [],
   "source": [
    "# TODO"
   ]
  },
  {
   "cell_type": "markdown",
   "metadata": {},
   "source": [
    "### Aufgabe 1.3 - Boolean Indexing\n",
    "\n",
    "Selektieren wir übungshalber einmal nur die Fische der Spezies `Roach`.\n",
    "\n",
    "Dazu können wir Boolean Indexing verwenden.\n",
    "Hier ist ein Beispiel wie Boolean Indexing funktioniert."
   ]
  },
  {
   "cell_type": "code",
   "execution_count": null,
   "metadata": {
    "collapsed": false,
    "jupyter": {
     "outputs_hidden": false
    },
    "pycharm": {
     "name": "#%%\n"
    }
   },
   "outputs": [],
   "source": [
    "df_mask = df['Weight'] == 0 # Gibt uns eine sogenannte Bool-Maske\n",
    "df_mask.head() # Bool-Masken sind überall False oder True (hier: entsprechend ob 'Weight' 0 ist oder nicht.)"
   ]
  },
  {
   "cell_type": "code",
   "execution_count": null,
   "metadata": {},
   "outputs": [],
   "source": [
    "# Wir können alle Zeilen selektieren, wo die Maske True ist mit df[df_mask]\n",
    "# Das Ergebnis sind alle Fische, wo das Gewicht gleich 0 ist (hier nur eine Zeile).\n",
    "df[df_mask]               "
   ]
  },
  {
   "cell_type": "code",
   "execution_count": null,
   "metadata": {},
   "outputs": [],
   "source": [
    "# Oben haben wir es für das Verständnis in zwei Schritten gemacht: Zuerst die Maske gespeichert und dann die Maske angewandt.\n",
    "# Üblicherweise schreibt man es kompakt in einer Zeile.\n",
    "df[df['Weight'] == 0]"
   ]
  },
  {
   "cell_type": "markdown",
   "metadata": {
    "pycharm": {
     "name": "#%% md\n"
    }
   },
   "source": [
    "1. Wenden Sie Boolean Indexing auf das DataFrame `df` an, dass wir alle Zeilen der Spezies `Roach` selektieren.\n",
    "2. Geben Sie die Anzahl Zeilen mittels `shape[0]` aus, es sollten **20 Zeilen** sein."
   ]
  },
  {
   "cell_type": "code",
   "execution_count": null,
   "metadata": {
    "collapsed": false,
    "jupyter": {
     "outputs_hidden": false
    },
    "pycharm": {
     "name": "#%%\n"
    },
    "scrolled": true,
    "tags": []
   },
   "outputs": [],
   "source": [
    "# TODO"
   ]
  },
  {
   "cell_type": "markdown",
   "metadata": {},
   "source": [
    "#### (Extra) Fortgeschrittene Links\n",
    "\n",
    "* Pandas hat viele weitere Index verfahren, die nützlich sein können: https://pandas.pydata.org/pandas-docs/stable/user_guide/indexing.html"
   ]
  },
  {
   "cell_type": "markdown",
   "metadata": {},
   "source": [
    "### Aufgabe 1.4 - ```df.mean```, ```df.groupby```"
   ]
  },
  {
   "cell_type": "markdown",
   "metadata": {
    "pycharm": {
     "name": "#%% md\n"
    }
   },
   "source": [
    "1. Berechnen Sie den **Durchschnitt aller Feature** mit ```df.mean``` für die Fische der Spezies `Roach`.\n",
    "2. Berechnen Sie den **Durchschnitt aller Features** mit ```df.mean``` **für alle Spezien**.\n",
    "Dies kann man auf zwei Varianten machen:\n",
    "    - Manuell mit `for` über alle Spezien (`df['Species'].unique()` gibt uns ein Array aller Spezien zurück) loopen und analog zu Schritt 1. `df.mean` anwenden.\n",
    "    - Automatisch für alle Spezien mit `df.groupby`.\n",
    "\n",
    "#### Hilfreiche Links\n",
    "* `df.mean`: https://pandas.pydata.org/pandas-docs/stable/reference/api/pandas.DataFrame.mean.html\n",
    "* `for` loop: https://www.w3schools.com/python/python_for_loops.asp\n",
    "* `df.groupby`: https://pandas.pydata.org/pandas-docs/stable/reference/api/pandas.DataFrame.groupby.html"
   ]
  },
  {
   "cell_type": "code",
   "execution_count": null,
   "metadata": {
    "collapsed": false,
    "jupyter": {
     "outputs_hidden": false
    },
    "pycharm": {
     "name": "#%%\n"
    }
   },
   "outputs": [],
   "source": [
    "# TODO"
   ]
  },
  {
   "cell_type": "markdown",
   "metadata": {},
   "source": [
    "### (Extra) Aufgabe 1.5 - ```df.to_numpy```\n",
    "\n",
    "`pandas` speichert die Daten im Hintergrund in `numpy`-Matrizen ab.\n",
    "Mittels ```to_numpy``` kann man die Werte als Matrix erhalten."
   ]
  },
  {
   "cell_type": "code",
   "execution_count": null,
   "metadata": {
    "collapsed": false,
    "jupyter": {
     "outputs_hidden": false
    },
    "pycharm": {
     "name": "#%%\n"
    }
   },
   "outputs": [],
   "source": [
    "matrix = df.to_numpy()\n",
    "print(matrix)\n",
    "print(matrix.shape)"
   ]
  },
  {
   "cell_type": "markdown",
   "metadata": {
    "pycharm": {
     "name": "#%% md\n"
    }
   },
   "source": [
    "Die Spalten haben in dieser Form **keine Namen** mehr und man muss wissen, welches Feature (Spalte) welchen Index hat.\n",
    "\n",
    "Daher ist es oft angenehmer mit `pandas` DataFrames zu arbeiten, als direkt mit `numpy` Matrizen.\n",
    "Numpy ist aber hinter den Kulissen extrem wichtig, da `sklearn`, wie auch `pandas` und `matplotlib` damit arbeiten.\n",
    "\n",
    "Es macht also durchaus Sinn sich mit `numpy` vertraut zu machen: https://numpy.org/devdocs/index.html\n",
    "\n",
    "Die Aufgabenblätter konzetrieren sich mehrheitlich auf `pandas`, `matplotlib`, `seaborn` und `sklearn`, da es üblicherweise mehr dem Arbeitsalltag entspricht.\n",
    "Nur in Spezialfällen muss man direkt auf `numpy` zurückgreift."
   ]
  },
  {
   "cell_type": "markdown",
   "metadata": {},
   "source": [
    "### (Extra) Aufgabe 1.6  - Weitere Resourcen\n",
    "\n",
    "In diesem Aufgabenblatt haben wir nur an der Oberfläche gekratzt, was Pandas alles kann.\n",
    "Wir werden Pandas in den späteren Aufgabenblättern immer wieder antreffen.\n",
    "Für Interessierte empfehlen wir den User Guide (oder andere Online-Resourcen), wenn man sich weiter einarbeiten möchte: https://pandas.pydata.org/docs/user_guide/index.html"
   ]
  },
  {
   "cell_type": "markdown",
   "metadata": {},
   "source": [
    "\n",
    "## Aufgabe 2 - matplotlib und seaborn\n",
    "\n",
    "In dieser Aufgabe machen wir uns mit wichtigen Funktionen von `matplotlib` und `seaborn` vertraut.\n",
    "`matplotlib` hilft uns beim erstellen von Plots (Grafiken).\n",
    "`seaborn` benutzt intern `matplotlib`, bietet aber oft benötigte Plots out-of-the-box an, die man sich sonst mühsam selbst mit `matplotlib` bauen müsste.\n",
    "\n",
    "In der Praxis wird oft `seaborn` verwendet, da es einfacher zu nutzen und oft ausreichend flexibel ist.\n"
   ]
  },
  {
   "cell_type": "markdown",
   "metadata": {},
   "source": [
    "### Aufgabe 2.1 - matplotlib - ```plt.scatter```\n",
    "\n",
    "Ein `scatter plot` repräsentiert Werte von zwei numerischen Features als Punktwolke.\n",
    "Die Punktwolke kann uns helfen Zusammenhänge zwischen diesen Features schnell zu verstehen.\n",
    "\n",
    "1. scatter-plotten Sie die Features `Width` und `Height` mittels `plt.scatter`\n",
    "2. Interpretieren Sie den Plot\n",
    "\n",
    "#### Hilfreiche Links\n",
    "* `scatter plot`: https://data36.com/scatter-plot-pandas-matplotlib/"
   ]
  },
  {
   "cell_type": "code",
   "execution_count": null,
   "metadata": {
    "collapsed": false,
    "jupyter": {
     "outputs_hidden": false
    },
    "pycharm": {
     "name": "#%%\n"
    }
   },
   "outputs": [],
   "source": [
    "# TODO"
   ]
  },
  {
   "cell_type": "markdown",
   "metadata": {},
   "source": [
    "### Aufgabe 2.2 - Seaborn - ```sns.scatterplot```\n",
    "\n",
    "1. Erstelle den selben Scatterplot von Aufgabe 2.1 nun mittels `seaborn` mittels `sns.scatterplot`. Anders als bei matplotlib geben wir bei `seaborn` immer das ganze DataFrame als `data` Parameter herein und geben die Achsen mittels Featurenamen mit den Parametern `x` und `y` an.\n",
    "2. Nutze den `hue` Parameter von `sns.scatterplot`, um die Punkte mit der jeweiligen Spezies (`Species`) einzufärben.\n",
    "\n",
    "#### Hilfreichelinks:\n",
    "\n",
    "* `sns.scatterplot`: https://seaborn.pydata.org/generated/seaborn.scatterplot.html"
   ]
  },
  {
   "cell_type": "code",
   "execution_count": null,
   "metadata": {
    "collapsed": false,
    "jupyter": {
     "outputs_hidden": false
    },
    "pycharm": {
     "name": "#%%\n"
    }
   },
   "outputs": [],
   "source": [
    "# TODO"
   ]
  },
  {
   "cell_type": "markdown",
   "metadata": {
    "pycharm": {
     "name": "#%% md\n"
    }
   },
   "source": [
    "### Aufgabe 2.3 - Seaborn - ```sns.countplot```\n",
    "\n",
    "Oft möchten wir die Verteilung eines **diskreten Features** mittels einem `countplot` oder `histplot` anschauen.\n",
    "\n",
    "1. Erstelle ein Histogram-Plot für die Species mittels `sns.countplot` (oder `sns.histplot`). Der Name des Feature, dass wir untersuchen wollen müssen wir in den `x` Parameter geben.\n",
    "2. Was zeigt uns dieser Plot?\n",
    "\n",
    "#### Hilfreichelinks:\n",
    "\n",
    "* `sns.countplot`:\n",
    "* `sns.histplot`: https://seaborn.pydata.org/generated/seaborn.histplot.html"
   ]
  },
  {
   "cell_type": "code",
   "execution_count": null,
   "metadata": {
    "collapsed": false,
    "jupyter": {
     "outputs_hidden": false
    },
    "pycharm": {
     "name": "#%%\n"
    }
   },
   "outputs": [],
   "source": [
    "# TODO"
   ]
  },
  {
   "cell_type": "markdown",
   "metadata": {
    "pycharm": {
     "name": "#%% md\n"
    }
   },
   "source": [
    "### (Extra) Aufgabe 2.4 - Seaborn - `sns.boxplot`, `sns.violinplot`, `sns.pairplot`\n",
    "\n",
    "Seaborn hat viele nützliche Plots out-of-the-box, wie:\n",
    "\n",
    "1. `sns.boxplot` oder `sns.violinplot`: Zusammenhänge von einem numerischen Feature zu einem kategorischen Feature zu untersuchen.\n",
    "2. `sns.pairplot`: Zusammenhänge von allen numerischen Features paar-weise zu untersuchen.\n",
    "3. `sns.histplot`: Der `histplot` von Aufgabe 2.3 kann auch zwei Parameter `x` und `y` entgegennehmen.\n",
    "4. `sns.kdeplot`: Plottet eine Verteilung anhand der gegeben Datenpunkte. Mit Vorsicht zu benutzen, da die dargestellte Verteilung eine Annäherung an die tatsächlichen Daten ist und allenfalls zu stark vereinfacht.\n",
    "5. Weitere plots finden Sie hier**: https://seaborn.pydata.org/examples/index.html\n",
    "\n",
    "Lesen Sie die Dokumentation zu den plots und erstellen Sie jeweils einen Plot für unseren Datensatz. Können Sie etwas Interessantes erkennen?"
   ]
  },
  {
   "cell_type": "code",
   "execution_count": null,
   "metadata": {
    "collapsed": false,
    "jupyter": {
     "outputs_hidden": false
    },
    "pycharm": {
     "name": "#%%\n"
    }
   },
   "outputs": [],
   "source": [
    "# TODO"
   ]
  },
  {
   "cell_type": "markdown",
   "metadata": {
    "pycharm": {
     "name": "#%% md\n"
    }
   },
   "source": [
    "## Schlusswort - Aufgabenblatt 1\n",
    "\n",
    "Wir haben wichtige Funktionen für `pandas` und `seaborn` gelernt und haben ein wenig `matplotlib` angeschaut.\n",
    "\n",
    "Nach diesen Aufgaben sollten Sie ein ungefähres Gefühl haben wie diese Programmier-Libraries funktionieren.\n",
    "\n",
    "Die Erwartung von uns ist, dass Sie diese Aufgaben (Extra ausgeschlossen) gut lösen konnten.\n",
    "Hatten Sie Probleme mit diesem Aufgabenblatt, sollten Sie dringend für das nächste Mal Ihre `python` und `pandas` Kenntnisse aufbessern.\n",
    "Alle weiteren Aufgabenblätter werden Machine Learning anwenden, wo wir immer wieder auch auf `pandas` und `seaborn` treffen werden."
   ]
  }
 ],
 "metadata": {
  "kernelspec": {
   "display_name": "Python 3 (ipykernel)",
   "language": "python",
   "name": "python3"
  },
  "language_info": {
   "codemirror_mode": {
    "name": "ipython",
    "version": 3
   },
   "file_extension": ".py",
   "mimetype": "text/x-python",
   "name": "python",
   "nbconvert_exporter": "python",
   "pygments_lexer": "ipython3",
   "version": "3.9.6"
  }
 },
 "nbformat": 4,
 "nbformat_minor": 4
}