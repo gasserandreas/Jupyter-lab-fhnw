{
 "cells": [
  {
   "cell_type": "markdown",
   "source": [
    "# Inconsistent Feature Preprocessing\n",
    "\n",
    "Man muss immer das identische Feature Preprocessing auf allen Daten (Train-Set, Val-Set, Test-Set, in Produktion) anwenden.\n",
    "\n",
    "## Von Hand\n",
    "\n",
    "Hier wird gezeigt, wie man es richtig macht.\n",
    "Die kritische Stelle, die oft vergessen bzw. falsch implementiert wird, ist mit einem Kommentar gekennzeichnet."
   ],
   "metadata": {
    "collapsed": false
   }
  },
  {
   "cell_type": "code",
   "execution_count": 3,
   "outputs": [],
   "source": [
    "import pandas as pd\n",
    "from sklearn.linear_model import Ridge\n",
    "from sklearn.model_selection import train_test_split\n",
    "from sklearn.preprocessing import StandardScaler\n",
    "from sklearn.pipeline import Pipeline"
   ],
   "metadata": {
    "collapsed": false
   }
  },
  {
   "cell_type": "code",
   "execution_count": 4,
   "outputs": [],
   "source": [
    "df = pd.read_csv('data/fish.csv')[['Width', 'Weight']].rename(columns={\n",
    "    'Width': 'width (cm)',\n",
    "    'Weight': 'weight (g)'\n",
    "})\n",
    "\n",
    "X = df[['width (cm)']]\n",
    "y = df['weight (g)']"
   ],
   "metadata": {
    "collapsed": false
   }
  },
  {
   "cell_type": "code",
   "execution_count": 5,
   "outputs": [],
   "source": [
    "\n",
    "X_train, X_val, y_train, y_val = train_test_split(X, y, random_state=42)\n",
    "\n",
    "ss = StandardScaler()\n",
    "ss.fit(X_train)  # \"Lernphase\": Berechnet Mean und Standardabweichung\n",
    "X_train_std = ss.transform(X_train)\n",
    "\n",
    "lr = Ridge()\n",
    "lr.fit(X_train_std, y_train)\n",
    "\n",
    "\"\"\"\n",
    "Kritische Stelle:\n",
    "1. We use the same StandardScaler as for X_train.\n",
    "2. We do NOT fit the StandardScaler on the validation data!\n",
    "\"\"\"\n",
    "X_val_std = ss.transform(X_val)\n",
    "y_val_hat = lr.predict(X_val_std)"
   ],
   "metadata": {
    "collapsed": false
   }
  },
  {
   "cell_type": "markdown",
   "source": [
    "## Pipelines\n",
    "\n",
    "`sklearn` hat das Konzept der `Pipeline`, um diese mehrschrittigen Prozesse zentral in einer Pipeline festzulegen.\n",
    "Das Anwenden von `fit` und `transform` wird innerhalb der Pipeline dann richtig (analog zu oben) behandelt.\n",
    "Mit einer Pipeline kann man es dann gar nicht mehr falsch machen!"
   ],
   "metadata": {
    "collapsed": false
   }
  },
  {
   "cell_type": "code",
   "execution_count": 6,
   "outputs": [],
   "source": [
    "model = Pipeline([\n",
    "    ('ss', StandardScaler()),\n",
    "    ('lr', Ridge()),\n",
    "])\n",
    "model.fit(X_train, y_train)         # Fits StandardScaler and Ridge, analog to this: \"ss.fit(X_train); ridge.fit(ss.transform(X_train))\"\n",
    "y_val_hat = model.predict(X_val)    # Applies StandardScaler and Ridge to X_test, analog to this: \"ridge.predict(ss.transform(X_test))\""
   ],
   "metadata": {
    "collapsed": false
   }
  },
  {
   "cell_type": "markdown",
   "source": [
    "Pipelines sind nützlich und führen zu verständlicherem Code."
   ],
   "metadata": {
    "collapsed": false
   }
  }
 ],
 "metadata": {
  "kernelspec": {
   "display_name": "Python 3",
   "language": "python",
   "name": "python3"
  },
  "language_info": {
   "codemirror_mode": {
    "name": "ipython",
    "version": 2
   },
   "file_extension": ".py",
   "mimetype": "text/x-python",
   "name": "python",
   "nbconvert_exporter": "python",
   "pygments_lexer": "ipython2",
   "version": "2.7.6"
  }
 },
 "nbformat": 4,
 "nbformat_minor": 0
}
