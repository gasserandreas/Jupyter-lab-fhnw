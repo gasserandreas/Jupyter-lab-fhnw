{
 "cells": [
  {
   "cell_type": "markdown",
   "metadata": {
    "cell_id": "9bcd233aa9bc48b8985c3b66ddfad58e",
    "deepnote_cell_type": "text-cell-h1",
    "formattedRanges": [],
    "is_collapsed": false,
    "tags": []
   },
   "source": [
    "# Einführung in die Zeitreihenanalyse\n",
    "\n",
    "Beispiel: Möglicher Einfluss des Klimawandels auf Temperaturen und Niederschläge in Luzern\n",
    "\n",
    "_CAS Data Science FHNW,  2022-2024, S. Billeter_\n",
    "\n",
    "**Hier liegt der Fokus auf den Lösungen der Aufgaben des Skripts *1-Zeitreihen-mit-Übungen.ipynb***"
   ]
  },
  {
   "cell_type": "code",
   "execution_count": null,
   "metadata": {
    "cell_id": "ee8be9ab0452436a8b0ef587e09af144",
    "deepnote_cell_type": "code",
    "deepnote_to_be_reexecuted": false,
    "execution_millis": 1337,
    "execution_start": 1670084644014,
    "output_cleared": true,
    "source_hash": "a8fe3637"
   },
   "outputs": [],
   "source": [
    "# Grundlegende Libraries importieren\n",
    "import pandas as pd\n",
    "import datetime\n",
    "import numpy as np\n",
    "import matplotlib.pyplot as plt"
   ]
  },
  {
   "cell_type": "markdown",
   "metadata": {
    "cell_id": "cebaa53d07f942a88ccfd13a3a7e5e1d",
    "deepnote_cell_type": "markdown"
   },
   "source": [
    "### Schritt 1: Exploration und technische Vorbereitung"
   ]
  },
  {
   "cell_type": "code",
   "execution_count": null,
   "metadata": {
    "cell_id": "d1da23ae653f48daa83a3122c83005bb",
    "deepnote_cell_type": "code",
    "deepnote_to_be_reexecuted": false,
    "execution_millis": 100,
    "execution_start": 1670084645397,
    "output_cleared": false,
    "source_hash": "c8571c8a"
   },
   "outputs": [],
   "source": [
    "# Zeitreihendaten einlesen\n",
    "df_Luzern=pd.read_csv('Luzern-TS.csv',sep=';')"
   ]
  },
  {
   "cell_type": "code",
   "execution_count": null,
   "metadata": {
    "cell_id": "3ae2c16820ed48b38e12aacb0bd64654",
    "deepnote_cell_type": "code",
    "deepnote_to_be_reexecuted": false,
    "execution_millis": 116,
    "execution_start": 1670084645507,
    "output_cleared": false,
    "source_hash": "8990b5c5"
   },
   "outputs": [],
   "source": [
    "# Daten erzeugen\n",
    "df_Luzern['Date']=pd.to_datetime(df_Luzern['Year'].astype(str).str.cat(df_Luzern['Month'].astype(str),sep='-'))\n",
    "# Die Zeitreihe hat einen Index gesetzt\n",
    "ts_Luzern=df_Luzern.set_index('Date')"
   ]
  },
  {
   "cell_type": "code",
   "execution_count": null,
   "metadata": {
    "cell_id": "93c549d4e6b44ed8bd29a814f1db3280",
    "deepnote_cell_type": "code",
    "deepnote_to_be_reexecuted": false,
    "execution_millis": 77,
    "execution_start": 1670084650044,
    "output_cleared": false,
    "source_hash": "25c36562"
   },
   "outputs": [],
   "source": [
    "# Zeitreihe der Temperaturen ab 1900 einpacken\n",
    "Luzern_Temp=df_Luzern[['Date','Temperature']]\n",
    "Luzern_Temp=Luzern_Temp.set_index('Date')\n",
    "Luzern_Temp=Luzern_Temp[Luzern_Temp.index>='1900-01-01']"
   ]
  },
  {
   "cell_type": "markdown",
   "metadata": {},
   "source": [
    "**Aufgabe:**\n",
    "Packen Sie die Niederschläge in eine Zeitreihe ein"
   ]
  },
  {
   "cell_type": "code",
   "execution_count": null,
   "metadata": {},
   "outputs": [],
   "source": [
    "# Lösung:\n",
    "Luzern_Prec=df_Luzern[['Date','Precipitation']]\n",
    "Luzern_Prec=Luzern_Prec.set_index('Date')\n",
    "Luzern_Prec=Luzern_Prec[Luzern_Prec.index>='1900-01-01']\n",
    "Luzern_Prec"
   ]
  },
  {
   "cell_type": "markdown",
   "metadata": {
    "cell_id": "7d36b1b631f841d5adccc6c92b04e3a9",
    "deepnote_cell_type": "markdown"
   },
   "source": [
    "### Schritt 2: Modellierung: Zerlegung"
   ]
  },
  {
   "cell_type": "code",
   "execution_count": null,
   "metadata": {
    "cell_id": "ca7c2aca272a48ab87b543c07aad1d68",
    "deepnote_cell_type": "code",
    "deepnote_to_be_reexecuted": false,
    "execution_millis": 1575,
    "execution_start": 1670084648468,
    "output_cleared": false,
    "source_hash": "99907739"
   },
   "outputs": [],
   "source": [
    "# Libraries für Zeitreihenanalyse\n",
    "import statsmodels\n",
    "from statsmodels.tsa.seasonal import seasonal_decompose\n",
    "from statsmodels.graphics.tsaplots import plot_acf, plot_pacf\n",
    "from statsmodels.tsa.stattools import acf, pacf, ccf\n",
    "from statsmodels.tsa.stattools import adfuller"
   ]
  },
  {
   "cell_type": "code",
   "execution_count": null,
   "metadata": {
    "cell_id": "997144cb8094474db64ff3175ff9b84f",
    "deepnote_cell_type": "code",
    "deepnote_to_be_reexecuted": false,
    "execution_millis": 1353,
    "execution_start": 1670084652623,
    "output_cleared": false,
    "source_hash": "48f0add7"
   },
   "outputs": [],
   "source": [
    "# Zerlegung in Komponenten\n",
    "Luzern_Temp_Komp=seasonal_decompose(Luzern_Temp, model='additive')"
   ]
  },
  {
   "cell_type": "code",
   "execution_count": null,
   "metadata": {},
   "outputs": [],
   "source": [
    "# Die NaNs werden nun entfernt, hier nur am Rand\n",
    "Temp_Trend=Luzern_Temp_Komp.trend\n",
    "Temp_Trend=Temp_Trend[Temp_Trend.notnull()]\n",
    "Temp_Resid=Luzern_Temp_Komp.resid\n",
    "Temp_Resid=Temp_Resid[Temp_Resid.notnull()]\n",
    "Temp_Seasonal=Luzern_Temp_Komp.seasonal\n",
    "Temp_Seasonal=Temp_Seasonal[Temp_Seasonal.notnull()]"
   ]
  },
  {
   "cell_type": "markdown",
   "metadata": {},
   "source": [
    "**Aufgabe:**\n",
    "Zerlegen Sie die Niederschläge in Komponenten. Welche Komponenten könnten stationär sein?"
   ]
  },
  {
   "cell_type": "code",
   "execution_count": null,
   "metadata": {},
   "outputs": [],
   "source": [
    "# Lösung\n",
    "# 1. Zerlegung\n",
    "Luzern_Nied_Komp=seasonal_decompose(Luzern_Prec, model='additive')\n",
    "fig=Luzern_Nied_Komp.plot()\n",
    "fig.set_size_inches(12,10)\n",
    "fig.tight_layout()\n",
    "\n",
    "# 2. Entfernung der NaNs\n",
    "Nied_Trend=Luzern_Nied_Komp.trend\n",
    "Nied_Trend=Nied_Trend[Nied_Trend.notnull()]\n",
    "Nied_Resid=Luzern_Nied_Komp.resid\n",
    "Nied_Resid=Nied_Resid[Nied_Resid.notnull()]\n",
    "Nied_Seasonal=Luzern_Nied_Komp.seasonal\n",
    "Nied_Seasonal=Nied_Seasonal[Nied_Seasonal.notnull()]\n",
    "# print(Nied_Resid)\n",
    "\n",
    "# 3. Stationaritätstests - Plots s. Zerlegung\n",
    "r=adfuller(Luzern_Prec,maxlag=12)\n",
    "print(f'p-Wert ganze Zeitreihe: {r[1]:.6f}')\n",
    "r=adfuller(Nied_Resid,maxlag=12)\n",
    "print(f'p-Wert Residuen: {r[1]:.6f}')\n",
    "r=adfuller(Nied_Trend,maxlag=12)\n",
    "print(f'p-Wert Trend: {r[1]:.6f}')"
   ]
  },
  {
   "cell_type": "markdown",
   "metadata": {},
   "source": [
    "### Schritt 2a: Manuelle Zerlegung"
   ]
  },
  {
   "cell_type": "code",
   "execution_count": null,
   "metadata": {},
   "outputs": [],
   "source": [
    "# Weitere Libraries für linearen Trend\n",
    "from sklearn.linear_model import LinearRegression"
   ]
  },
  {
   "cell_type": "markdown",
   "metadata": {},
   "source": [
    "**Langfrist-Trend**\n",
    "\n",
    "Einfaches lineares Modell"
   ]
  },
  {
   "cell_type": "code",
   "execution_count": null,
   "metadata": {},
   "outputs": [],
   "source": [
    "Luzern_Temp_Man=Luzern_Temp\n",
    "Luzern_Temp_Man['Year']=Luzern_Temp_Man.index.year+Luzern_Temp.index.month/12\n",
    "# Variablen zur Regression\n",
    "x=pd.to_numeric(Luzern_Temp_Man['Year']).values.reshape(-1,1)\n",
    "y=Luzern_Temp_Man['Temperature'].values"
   ]
  },
  {
   "cell_type": "code",
   "execution_count": null,
   "metadata": {},
   "outputs": [],
   "source": [
    "# Fit des linearen Trends\n",
    "Temp_Linear=LinearRegression().fit(x,y)"
   ]
  },
  {
   "cell_type": "code",
   "execution_count": null,
   "metadata": {},
   "outputs": [],
   "source": [
    "# Residuen (immer noch mit Saisonalität drin)\n",
    "Luzern_Temp_Man['Temp_Linear']=Temp_Linear.predict(x)\n",
    "Luzern_Temp_Man['Resid']=Luzern_Temp_Man['Temperature']-Luzern_Temp_Man['Temp_Linear']"
   ]
  },
  {
   "cell_type": "markdown",
   "metadata": {},
   "source": [
    "**Quadratischen Trend auch entfernen**\n",
    "\n",
    "*Aufpassen mit der Verhersagekraft*"
   ]
  },
  {
   "cell_type": "code",
   "execution_count": null,
   "metadata": {},
   "outputs": [],
   "source": [
    "# Quadratischen Trend herausnehmen - Variablen vorbereiten\n",
    "Luzern_Temp_Quad=Luzern_Temp\n",
    "Luzern_Temp_Quad['Year']=Luzern_Temp_Quad.index.year+Luzern_Temp_Quad.index.month/12\n",
    "# Variablen zur Regression\n",
    "Luzern_Temp_Quad['Year1']=Luzern_Temp_Quad['Year']-2000\n",
    "Luzern_Temp_Quad['Year2']=np.square(Luzern_Temp_Quad['Year']-2000)"
   ]
  },
  {
   "cell_type": "code",
   "execution_count": null,
   "metadata": {},
   "outputs": [],
   "source": [
    "# Zeit nach 1950\n",
    "Luzern_Temp_Quad=Luzern_Temp_Quad[Luzern_Temp_Quad['Year']>1950]"
   ]
  },
  {
   "cell_type": "markdown",
   "metadata": {},
   "source": [
    "### Schritt 3: Analyse"
   ]
  },
  {
   "cell_type": "markdown",
   "metadata": {},
   "source": [
    "**Aufgabe:**\n",
    "Analysieren Sie die Autokorrelationsstruktur der Niederschläge. Was lässt sich daraus ablesen?"
   ]
  },
  {
   "cell_type": "code",
   "execution_count": null,
   "metadata": {},
   "outputs": [],
   "source": [
    "# Lösung\n",
    "# 1. Residuen analysieren\n",
    "print('Residuen')\n",
    "fig,axs=plt.subplots(1,3)\n",
    "fig.set_size_inches(16,5)\n",
    "Nied_Resid.plot(title='Niederschlag Luzern, Residuen',ax=axs[0])\n",
    "plot_acf(Temp_Resid,title='ACF Niederschlag Luzern, Residuen',ax=axs[1])\n",
    "plot_pacf(Temp_Resid,title='PACF Niederschlag Luzern, Residuen',ax=axs[2])\n",
    "plt.show()\n",
    "\n",
    "# 2. Beitrag der Komponenten\n",
    "print('Vergleich mit Komponenten')\n",
    "fig,axs=plt.subplots(3,3)\n",
    "fig.set_size_inches(16,16)\n",
    "Nied_Seasonal.plot(title='Niederschlag Luzern, Saison',ax=axs[0,0])\n",
    "plot_acf(Nied_Seasonal,title='ACF Niederschlag Luzern, Saison',ax=axs[0,1])\n",
    "plot_pacf(Nied_Seasonal,title='PACF Niederschlag Luzern, Saison',ax=axs[0,2])\n",
    "Nied_Trend.plot(title='Niederschlag Luzern, Trend',ax=axs[1,0])\n",
    "plot_acf(Nied_Trend,title='ACF Niederschlag Luzern, Trend',ax=axs[1,1])\n",
    "plot_pacf(Nied_Trend,title='PACF Niederschlag Luzern, Trend',ax=axs[1,2])\n",
    "Luzern_Prec.plot(title='Niederschlag Luzern gesamt',ax=axs[2,0])\n",
    "plot_acf(Luzern_Prec,title='ACF Niederschlag Luzern gesamt',ax=axs[2,1])\n",
    "plot_pacf(Luzern_Prec,title='PACF Niederschlag Luzern gesamt',ax=axs[2,2])\n",
    "plt.show()"
   ]
  },
  {
   "cell_type": "markdown",
   "metadata": {},
   "source": [
    "**Welcher Zusammenhang besteht zwischen Temperatur und Niederschlag?**"
   ]
  },
  {
   "cell_type": "code",
   "execution_count": null,
   "metadata": {},
   "outputs": [],
   "source": [
    "# Kreuzkorrelationsfunktion\n",
    "fig,ax=plt.subplots(figsize=(12,6))\n",
    "ax.stem(ccf(Temp_Resid,Nied_Resid)[0:24])\n",
    "ax.set_title('Korrelation Temperatur und Niederschlag')\n",
    "ax.set_xlabel('Lag')\n",
    "ax.set_ylabel('CCF')\n",
    "plt.show()"
   ]
  },
  {
   "cell_type": "code",
   "execution_count": null,
   "metadata": {},
   "outputs": [],
   "source": [
    "# Welches Signal ist zuerst - anhand von Demodaten\n",
    "fig,[ax1,ax2]=plt.subplots(1,2,figsize=(16,6))\n",
    "marketing = np.array([3, 4, 5, 5, 7, 9, 13, 15, 12, 10, 8, 8])\n",
    "revenue = np.array([21, 19, 22, 24, 25, 29, 30, 34, 37, 40, 35, 30])\n",
    "print(ccf(marketing, revenue, adjusted=False))\n",
    "print(ccf(revenue, marketing, adjusted=False))\n",
    "ax1.plot(marketing,color='blue')\n",
    "ax1.plot(revenue,color='red')\n",
    "ax1.set_title('Zeitreihen')\n",
    "ax2.plot(ccf(revenue,marketing)[0:10],color='black')\n",
    "ax2.plot(ccf(marketing,revenue)[0:10],color='grey')\n",
    "ax2.set_title('Kreuzkorrelation (Schwarz: blau-rot)')\n",
    "plt.show()"
   ]
  },
  {
   "cell_type": "code",
   "execution_count": null,
   "metadata": {},
   "outputs": [],
   "source": [
    "# Kreuzkorrelationsfunktion - zeitlicher Zusammenhang\n",
    "fig,[ax1,ax2]=plt.subplots(1,2,figsize=(16,6))\n",
    "ax1.stem(ccf(Temp_Resid,Nied_Resid)[0:24])\n",
    "ax1.set_title('Temperatur mit Niederschlag')\n",
    "ax2.stem(ccf(Nied_Resid,Temp_Resid)[0:24])\n",
    "ax2.set_title('Niederschlag mit Temperatur')\n",
    "plt.show()"
   ]
  },
  {
   "cell_type": "markdown",
   "metadata": {},
   "source": [
    "**Aufgabe:** Was können Sie aus diesen Kreuzkorrelationen herauslesen?"
   ]
  },
  {
   "cell_type": "code",
   "execution_count": null,
   "metadata": {},
   "outputs": [],
   "source": [
    "# Lösung:\n",
    "# - In einem niederschlagsreichen Monat ist es deutlich kühler als im Durchschnitt erwartet\n",
    "# - Einem niederschlagsreichen Monat kann ein kühlerer Monat vorangehen (was könnte hier die Autokorrelation aussagen?)\n",
    "# - Einem überdurchschnittlich warmen Monat kann ein überdurchschnittlich niederschlagsreicher Monat vorangehen\n",
    "#\n",
    "# Folgeaufgabe: Warum sind die Lags um +/-6 wenig aussagekräftig?"
   ]
  },
  {
   "cell_type": "markdown",
   "metadata": {},
   "source": [
    "**Die statistischen Korrelationen sagen nicht alles aus**\n",
    "\n",
    "_Brauchen Sie Ihr Vorwissen_"
   ]
  },
  {
   "cell_type": "markdown",
   "metadata": {
    "cell_id": "92f2ddaff74f426f955046533279c66b",
    "deepnote_cell_type": "markdown"
   },
   "source": [
    "### Schritt 4: Stochastische Modellierung"
   ]
  },
  {
   "cell_type": "code",
   "execution_count": null,
   "metadata": {
    "cell_id": "daa4baec74e44581b5ffe29f91c48623",
    "deepnote_cell_type": "code",
    "deepnote_to_be_reexecuted": false,
    "execution_millis": 26,
    "execution_start": 1670085215337,
    "output_cleared": true,
    "source_hash": "452c6411"
   },
   "outputs": [],
   "source": [
    "from statsmodels.tsa.arima.model import ARIMA"
   ]
  },
  {
   "cell_type": "markdown",
   "metadata": {},
   "source": [
    "**Aufgaben:**\n",
    "1. Finden Sie ein geeignetes ARIMA-Modell der Niederschläge\n",
    "2. Interpretieren Sie das Ergebnis\n",
    "3. Schlagen Sie Massnahmen vor, um das Ergebnis aussagekräftiger zu machen"
   ]
  },
  {
   "cell_type": "code",
   "execution_count": null,
   "metadata": {},
   "outputs": [],
   "source": [
    "# Lösung:\n",
    "# 1a. Korrelogramme\n",
    "fig,axs=plt.subplots(1,3)\n",
    "fig.set_size_inches(16,6)\n",
    "Nied_Resid.plot(title='Niederschlag Luzern, Residuen',ax=axs[0])\n",
    "plot_acf(Nied_Resid,title='ACF Niederschlag Luzern, Residuen',ax=axs[1])\n",
    "plot_pacf(Nied_Resid,title='PACF Niederschlag Luzern, Residuen',ax=axs[2])\n",
    "plt.show()\n",
    "\n",
    "# 1b. Moving-Average (ARIMA-)Modell\n",
    "Nied_Modell=ARIMA(Nied_Resid,order=(0,0,5),freq=Nied_Resid.index.inferred_freq)\n",
    "Nied_resid_fit=Nied_Modell.fit()\n",
    "print(Nied_resid_fit.summary())\n",
    "\n",
    "# 2. Interpretationen:\n",
    "# - Ein noch zu suchender Prozess beeinflusst und stabilisiert die Niederschläge ungefähr innert Monatsfrist\n",
    "# - Wir sehen Reste noch nicht vollständig entfernter Saisonalitäten und Trends\n",
    "\n",
    "# 3. \n",
    "# - Kürzere Zeitabschnitte\n",
    "# - Realistischeres Modell der Saisonalitäten\n",
    "# - Händische Entfernung eines Langfrist-Trends\n",
    "# - Unterschiedliche Zeitskalen\n",
    "# - Vorwissen über den verborgenen Prozess verwenden\n",
    "# - Deterministische Komponenten tiefer analysieren"
   ]
  },
  {
   "cell_type": "markdown",
   "metadata": {},
   "source": [
    "**Anwendungen**\n",
    "_Ausserhalb dieses Skripts (kein Standardvorgehen)_\n",
    "\n",
    "*Folien 35-37*\n",
    "\n",
    "- Vorhersagen\n",
    "- Bedingte Vorhersagen\n",
    "- Weiterverwendung in anderen Modellen\n",
    "- Extremwertanalysen\n"
   ]
  },
  {
   "cell_type": "markdown",
   "metadata": {},
   "source": [
    "### Vorhersagen\n",
    "\n",
    "Hier kommt alles zusammen\n",
    "\n",
    "*Einige Beispiele, es müssen unbedingt an die Problemstellungen angepasst werden*"
   ]
  },
  {
   "cell_type": "code",
   "execution_count": null,
   "metadata": {},
   "outputs": [],
   "source": [
    "Luzern_Temp_Man['Seasonal']=Temp_Seasonal\n",
    "Luzern_Temp_Man['Resid_Seasonal']=Luzern_Temp_Man['Temperature']-Luzern_Temp_Man['Seasonal']-Luzern_Temp_Man['Temp_Linear']\n",
    "Luzern_Temp_Man_Modell=ARIMA(Luzern_Temp_Man['Resid_Seasonal'],order=(1,0,0),freq=Luzern_Temp_Man.index.inferred_freq).fit()"
   ]
  },
  {
   "cell_type": "markdown",
   "metadata": {},
   "source": [
    "**Aufgaben:**\n",
    "\n",
    "1. Am 31. Mai 2030 sei es 20.1 Grad C. Welche Temperatur ist am 1. Juni 2030 zu erwarten?\n",
    "2. Was sagen die Residuen der Jahre 2000 bis 2021 über das Modell aus? Welche Komponente muss vor allem verbessert werden?"
   ]
  },
  {
   "cell_type": "code",
   "execution_count": null,
   "metadata": {},
   "outputs": [],
   "source": [
    "# Lösungen:\n",
    "# 1. Aufgabe: Residuum des Vormonats, dann AR(1)-Simulation\n",
    "t=[[2030+(31+28+31+30+31)/365.24]]\n",
    "t_1=[[2030+(31+28+31+30+3)/365.24]]\n",
    "T_t=Temp_Linear.predict(t)[0]\n",
    "S_t=Luzern_Temp_Man['Seasonal']['2021-06-01']\n",
    "R_t_1=20.1-Temp_Linear.predict(t_1)[0]-Luzern_Temp_Man['Seasonal']['2021-05-01']\n",
    "R_t=Luzern_Temp_Man_Modell.params['ar.L1']*R_t_1 # Warum mit w_t=0?\n",
    "x_t=T_t+S_t+R_t\n",
    "print(f\"Temperatur: {x_t:.3f}, Residuum (t): {R_t:.3f}, Residuum (t-1): {R_t_1:.3f} Grad C\")\n",
    "# 2. Aufgabe: Wird besprochen. Erster Schritt: Werte überprüfen\n",
    "ZR=Luzern_Temp_Man['Resid_Seasonal'][Luzern_Temp_Man.index>='2000-01-01']\n",
    "plt.plot(ZR)\n",
    "plt.show()\n",
    "print(f\"Mittelwert: {ZR.mean():.3f}, Standardabweichung: {np.sqrt(ZR.var()):.3f}\")"
   ]
  }
 ],
 "metadata": {
  "deepnote": {},
  "deepnote_execution_queue": [],
  "deepnote_full_width": true,
  "deepnote_notebook_id": "f86999f65b6845f0973db883ae386c83",
  "kernelspec": {
   "display_name": "Python 3 (ipykernel)",
   "language": "python",
   "name": "python3"
  },
  "language_info": {
   "codemirror_mode": {
    "name": "ipython",
    "version": 3
   },
   "file_extension": ".py",
   "mimetype": "text/x-python",
   "name": "python",
   "nbconvert_exporter": "python",
   "pygments_lexer": "ipython3",
   "version": "3.11.8"
  }
 },
 "nbformat": 4,
 "nbformat_minor": 4
}
