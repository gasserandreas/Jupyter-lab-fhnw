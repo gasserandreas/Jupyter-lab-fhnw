{
 "cells": [
  {
   "cell_type": "markdown",
   "metadata": {
    "cell_id": "9e4acc7136af48a8b41f2d93d53fe7ff",
    "deepnote_cell_type": "text-cell-h1",
    "formattedRanges": [],
    "is_collapsed": false,
    "tags": []
   },
   "source": [
    "# Extremwerte\n",
    "_CAS Data Science FHNW, 2023, S. Billeter_\n",
    "\n",
    "**Dieses Skript dient in einer Live-Demonstration zur Erklärung und muss vor einer Anwendung zwingend angepasst werden**"
   ]
  },
  {
   "cell_type": "code",
   "execution_count": null,
   "metadata": {
    "cell_id": "eebba536f61049ad85e19cb0f561e5d2",
    "deepnote_cell_type": "code",
    "deepnote_to_be_reexecuted": false,
    "execution_millis": 7084,
    "execution_start": 1682021903678,
    "output_cleared": false,
    "source_hash": "da8cc091",
    "tags": []
   },
   "outputs": [],
   "source": [
    "# Libraries installieren wenn nötig\n",
    "#!pip install statsmodels\n",
    "#!pip install pyextremes"
   ]
  },
  {
   "cell_type": "code",
   "execution_count": null,
   "metadata": {
    "cell_id": "95d7ad64ee754f44a855e2835ecbcb33",
    "deepnote_cell_type": "code",
    "deepnote_to_be_reexecuted": false,
    "execution_millis": 1378,
    "execution_start": 1682021910771,
    "output_cleared": false,
    "source_hash": "f92dffc8"
   },
   "outputs": [],
   "source": [
    "import pandas as pd\n",
    "import datetime\n",
    "import numpy as np\n",
    "import matplotlib.pyplot as plt\n",
    "import numpy as np\n",
    "import statsmodels\n",
    "from statsmodels.tsa.seasonal import seasonal_decompose\n",
    "import scipy"
   ]
  },
  {
   "cell_type": "markdown",
   "metadata": {
    "cell_id": "ad19b7b4945147d2ae714941573efdb8",
    "deepnote_cell_type": "markdown",
    "tags": []
   },
   "source": [
    "### Vorbereitung der Extremwertanalyse\n",
    "\n",
    "Daten vorbereiten"
   ]
  },
  {
   "cell_type": "code",
   "execution_count": null,
   "metadata": {
    "cell_id": "32e9fb6fb4d841aeafac821d627d01dd",
    "deepnote_cell_type": "code",
    "deepnote_to_be_reexecuted": false,
    "execution_millis": 824,
    "execution_start": 1682021912156,
    "output_cleared": false,
    "source_hash": "5fea5ff6"
   },
   "outputs": [],
   "source": [
    "# Gleiche Vorbereitung wie im ersten Skript\n",
    "df_Luzern=pd.read_csv('Luzern-TS.csv',sep=';')\n",
    "df_Luzern['Date']=pd.to_datetime(df_Luzern['Year'].astype(str).str.cat(df_Luzern['Month'].astype(str),sep='-'))\n",
    "Luzern_Temp=df_Luzern[['Date','Temperature']]\n",
    "Luzern_Temp=Luzern_Temp.set_index('Date')\n",
    "Luzern_Temp=Luzern_Temp[Luzern_Temp.index>='1900-01-01']\n",
    "Luzern_Temp_Komp=seasonal_decompose(Luzern_Temp, model='additive')\n",
    "fig=Luzern_Temp_Komp.plot()\n",
    "fig.set_size_inches(12,6)\n",
    "plt.show()"
   ]
  },
  {
   "cell_type": "code",
   "execution_count": null,
   "metadata": {
    "cell_id": "d242c16ffafe48cba9d980f68121e1ae",
    "deepnote_cell_type": "code",
    "deepnote_to_be_reexecuted": false,
    "execution_millis": 61,
    "execution_start": 1682021912982,
    "output_cleared": false,
    "source_hash": "5c3bbdaf"
   },
   "outputs": [],
   "source": [
    "# Residuen über drei Referenzperioden\n",
    "Luzern_Temp_Resid=pd.Series.to_frame(Luzern_Temp_Komp.resid)\n",
    "# Luzern_Temp_Resid[Luzern_Temp_Resid.resid.notnull()]\n",
    "Luzern_Temp_Resid=Luzern_Temp_Resid[Luzern_Temp_Resid.index>='1920-01-01']\n",
    "Luzern_Temp_Resid=Luzern_Temp_Resid[Luzern_Temp_Resid.index<='2019-12-31']\n",
    "Luzern_Temp_Resid"
   ]
  },
  {
   "cell_type": "code",
   "execution_count": null,
   "metadata": {
    "cell_id": "39423649952f4d48ae046fda83f59e2e",
    "deepnote_cell_type": "code",
    "deepnote_to_be_reexecuted": false,
    "execution_millis": 6,
    "execution_start": 1682021913047,
    "output_cleared": false,
    "source_hash": "6493ebf4"
   },
   "outputs": [],
   "source": [
    "Residuen=pd.to_numeric(Luzern_Temp_Resid.resid).values\n",
    "Residuen"
   ]
  },
  {
   "cell_type": "markdown",
   "metadata": {
    "cell_id": "37e5eca954674480ac7e074fab9ecea3",
    "deepnote_cell_type": "markdown",
    "tags": []
   },
   "source": [
    "**Extremwerte**: Passt die Normalverteilung?"
   ]
  },
  {
   "cell_type": "code",
   "execution_count": null,
   "metadata": {},
   "outputs": [],
   "source": [
    "# Zeitliche Verteilung vernachlässigt\n",
    "fig,ax=plt.subplots()\n",
    "fig.set_size_inches(8,6)\n",
    "ax.plot(Residuen,'o')\n",
    "plt.show()"
   ]
  },
  {
   "cell_type": "code",
   "execution_count": null,
   "metadata": {},
   "outputs": [],
   "source": [
    "# Wie viele wie grosse Werte gibt es?\n",
    "fig,ax=plt.subplots()\n",
    "fig.set_size_inches(8,6)\n",
    "ax.hist(Residuen,bins=20, density=True, label='Residuen')\n",
    "plt.show()"
   ]
  },
  {
   "cell_type": "code",
   "execution_count": null,
   "metadata": {
    "cell_id": "3c5d9299924b4500b22e1df9704f93ff",
    "deepnote_cell_type": "code",
    "deepnote_to_be_reexecuted": false,
    "execution_millis": 399,
    "execution_start": 1682021913054,
    "output_cleared": false,
    "source_hash": "e2ba16d0"
   },
   "outputs": [],
   "source": [
    "# Histogramm mit Normalverteilung\n",
    "fig,ax=plt.subplots()\n",
    "fig.set_size_inches(8,6)\n",
    "plt.hist(Residuen,bins=20, density=True, label='Residuen')\n",
    "\n",
    "from scipy.stats import norm\n",
    "\n",
    "# Wahrscheinlichkeitsdichte normalverteilt\n",
    "mu, sig = norm.fit(Residuen) \n",
    "xmin, xmax = plt.xlim()\n",
    "x = np.linspace(xmin, xmax, 100)\n",
    "p = norm.pdf(x, mu, sig)\n",
    "  \n",
    "plt.plot(x, p, 'k', linewidth=2, label='Normalverteilung')\n",
    "# plt.tight_layout()\n",
    "plt.legend()\n",
    "plt.title('Residuen Temperatur')\n",
    "plt.show()\n",
    "print(mu)\n",
    "print(sig)"
   ]
  },
  {
   "cell_type": "code",
   "execution_count": null,
   "metadata": {
    "cell_id": "bff12b3f926e48a7bcf758413d49e770",
    "deepnote_cell_type": "code",
    "deepnote_to_be_reexecuted": false,
    "execution_millis": 381,
    "execution_start": 1682021913449,
    "output_cleared": false,
    "source_hash": "d9d939cf"
   },
   "outputs": [],
   "source": [
    "# Kumulierte Wahrscheinlichkeit, Normalverteilung\n",
    "# Emipirische Verteilung\n",
    "from statsmodels.distributions import ECDF\n",
    "res_cdf=ECDF(Residuen)\n",
    "\n",
    "fig,ax=plt.subplots()\n",
    "fig.set_size_inches(8,6)\n",
    "\n",
    "plt.plot(x,res_cdf(x),label='Residuen')\n",
    "plt.plot(x,norm.cdf(x,mu,sig),label='Normalverteilung')\n",
    "plt.legend()\n",
    "plt.title('Residuen Temperatur')\n",
    "plt.show()"
   ]
  },
  {
   "cell_type": "code",
   "execution_count": null,
   "metadata": {
    "cell_id": "b8879f8ccd7849e08e8207cd035efc2a",
    "deepnote_cell_type": "code",
    "deepnote_to_be_reexecuted": false,
    "execution_millis": 475,
    "execution_start": 1682021913825,
    "output_cleared": false,
    "source_hash": "d1e7b9d9"
   },
   "outputs": [],
   "source": [
    "# Quantil-Quantil, Normalverteilung\n",
    "from statsmodels.api import qqplot\n",
    "fig=qqplot(Residuen, dist=norm)\n",
    "fig.set_size_inches(8,6)\n",
    "plt.title('QQ-Plot, Normalverteilung')\n",
    "plt.show()"
   ]
  },
  {
   "cell_type": "markdown",
   "metadata": {
    "cell_id": "5d4b51cc71dd434d86c2c43048cf3c3a",
    "deepnote_cell_type": "markdown",
    "tags": []
   },
   "source": [
    "**Extremwerte**: Passt eine GEV-Verteilung?"
   ]
  },
  {
   "cell_type": "code",
   "execution_count": null,
   "metadata": {
    "cell_id": "48bc4cf92af144c3b1cbb120898853f9",
    "deepnote_cell_type": "code",
    "deepnote_to_be_reexecuted": false,
    "execution_millis": 575,
    "execution_start": 1682021914301,
    "output_cleared": false,
    "source_hash": "1fe1e0ae"
   },
   "outputs": [],
   "source": [
    "# Histogramm, GEV-Verteilung\n",
    "fig,ax=plt.subplots()\n",
    "fig.set_size_inches(8,6)\n",
    "\n",
    "ax.hist(Residuen, bins=20, density=True, label='Residuen')\n",
    "  \n",
    "# Wahrscheinlichkeitsdichte normalverteilt\n",
    "from scipy.stats import genextreme\n",
    "\n",
    "c, loc, scl = genextreme.fit(Residuen) \n",
    "print(c, loc, scl)\n",
    "\n",
    "xmin, xmax = plt.xlim()\n",
    "x = np.linspace(xmin, xmax, 100)\n",
    "p = genextreme.pdf(x, c, loc, scl)\n",
    "\n",
    "ax.plot(x, p, 'k', linewidth=2, label='GEV-Verteilung')\n",
    "plt.legend()\n",
    "plt.title('Residuen Temperatur')\n",
    "plt.show()"
   ]
  },
  {
   "cell_type": "code",
   "execution_count": null,
   "metadata": {
    "cell_id": "e9598e766c854aff9a1e97ad2ee57557",
    "deepnote_cell_type": "code",
    "deepnote_to_be_reexecuted": false,
    "execution_millis": 440,
    "execution_start": 1682021914876,
    "output_cleared": false,
    "source_hash": "69fd5de8"
   },
   "outputs": [],
   "source": [
    "# CDF, GEV-Verteilung\n",
    "fig,ax=plt.subplots()\n",
    "fig.set_size_inches(8,6)\n",
    "\n",
    "res_cdf=ECDF(Residuen)\n",
    "plt.plot(x,res_cdf(x),label='Residuen')\n",
    "plt.plot(x,genextreme.cdf(x, c, loc, scl),label='GEV-Verteilung')\n",
    "plt.legend()\n",
    "plt.title('Residuen Temperatur')\n",
    "plt.show()"
   ]
  },
  {
   "cell_type": "code",
   "execution_count": null,
   "metadata": {
    "cell_id": "f255de00fced467b8a18f038863f0927",
    "deepnote_cell_type": "code",
    "deepnote_to_be_reexecuted": false,
    "execution_millis": 513,
    "execution_start": 1682021915314,
    "output_cleared": false,
    "source_hash": "19f261be"
   },
   "outputs": [],
   "source": [
    "# QQ-Plot, GEV-Verteilung\n",
    "c, loc, scl = genextreme.fit(Residuen)\n",
    "fig=qqplot(Residuen, dist=genextreme, distargs=(c,), loc=loc, scale=scl)\n",
    "fig.set_size_inches(8,6)\n",
    "plt.title(f'QQ-Plot, GEV-Verteilung, c: {c:.3f}')\n",
    "plt.show()"
   ]
  },
  {
   "cell_type": "markdown",
   "metadata": {},
   "source": [
    "**Extremwerte**: Passt eine eine zensierte Verteilung besser (\"Peak Over Threshold\")?"
   ]
  },
  {
   "cell_type": "code",
   "execution_count": null,
   "metadata": {
    "cell_id": "e61343404d2246c2a47450e804c8144b",
    "deepnote_cell_type": "code",
    "deepnote_to_be_reexecuted": false,
    "execution_millis": 230,
    "execution_start": 1682021915821,
    "output_cleared": false,
    "scrolled": true,
    "source_hash": "fc1bfd09"
   },
   "outputs": [],
   "source": [
    "# QQ-Plot, Zensierte GEV-Verteilung\n",
    "Res_filt=Residuen[Residuen>2]\n",
    "c, loc, scl = genextreme.fit(Res_filt)\n",
    "fig=qqplot(Res_filt, dist=genextreme, distargs=(c,), loc=loc, scale=scl)\n",
    "fig.set_size_inches(8,6)\n",
    "plt.title(f'QQ-Plot, GEV-Verteilung, c: {c:.3f}')\n",
    "plt.show()"
   ]
  },
  {
   "cell_type": "markdown",
   "metadata": {
    "cell_id": "ab332aff8241437ba4d7e95b4a2a227d",
    "deepnote_cell_type": "markdown",
    "tags": []
   },
   "source": [
    "**GEV-Verteilung**: Formparameter"
   ]
  },
  {
   "cell_type": "code",
   "execution_count": null,
   "metadata": {
    "cell_id": "8ea48a71a4b7404cad577e67189d28c4",
    "deepnote_cell_type": "code",
    "deepnote_to_be_reexecuted": false,
    "execution_millis": 343,
    "execution_start": 1682021916062,
    "output_cleared": false,
    "source_hash": "c4435b37"
   },
   "outputs": [],
   "source": [
    "# Vergleich Formparameter\n",
    "x=np.linspace(-4, 4, 100)\n",
    "\n",
    "c1, loc1, scl1 = 0.8, loc, scl\n",
    "fig,ax=plt.subplots(figsize=(8,5.5))\n",
    "ax.plot(x, genextreme.cdf(x, c, loc, scl), label=f'c: {c:.3f}, loc: {loc:.3f}, scl: {scl:.3f}',color='blue')\n",
    "ax.plot(x, genextreme.cdf(x, c1, loc1, scl1), label=f'c: {c1:.3f}, loc: {loc1:.3f}, scl: {scl1:.3f}',color='red')\n",
    "plt.title('GEV-Verteilungen, CDF')\n",
    "plt.legend()\n",
    "plt.show()\n",
    "c"
   ]
  },
  {
   "cell_type": "markdown",
   "metadata": {
    "cell_id": "576907957ccb4a8cb72826dc0d9a8b83",
    "deepnote_cell_type": "markdown",
    "tags": []
   },
   "source": [
    "**Aufgaben Wiederkehrwert**:\n",
    "- Was bedeuten die Zahlen unten?\n",
    "- Für welche Wiederkehrperiode gelten sie?"
   ]
  },
  {
   "cell_type": "code",
   "execution_count": null,
   "metadata": {
    "cell_id": "edef9bbe92e04b18a151b3fe96a2cf2c",
    "deepnote_cell_type": "code",
    "deepnote_to_be_reexecuted": false,
    "execution_millis": 1,
    "execution_start": 1682021916408,
    "output_cleared": false,
    "source_hash": "edd59a93",
    "tags": []
   },
   "outputs": [],
   "source": [
    "print(genextreme.ppf(0.01/12,c,loc,scl))\n",
    "print(genextreme.ppf(1-0.01/12,c,loc,scl))"
   ]
  },
  {
   "cell_type": "markdown",
   "metadata": {},
   "source": [
    "### Extremwertanalyse mit Libraryfunktionen\n",
    "\n",
    "Hier ist die Variante mit Block Maxima gezeigt<p>\n",
    "Die Library unterstützt auch Peak Over Threshold ('POT') von vorher"
   ]
  },
  {
   "cell_type": "code",
   "execution_count": null,
   "metadata": {},
   "outputs": [],
   "source": [
    "# Benötigte Funktionen\n",
    "from pyextremes import EVA, plot_mean_residual_life"
   ]
  },
  {
   "cell_type": "code",
   "execution_count": null,
   "metadata": {},
   "outputs": [],
   "source": [
    "# Residuen müssen nicht gefiltert werden - statt den Werten (Residuen=pd.to_numeric(Luzern_Temp_Resid.resid).values) das Series Objekt Luzern_Temp_Resid.resid verwenden\n",
    "Residuen_Reihe = Luzern_Temp_Resid.resid\n",
    "Residuen_Reihe.head()"
   ]
  },
  {
   "cell_type": "code",
   "execution_count": null,
   "metadata": {},
   "outputs": [],
   "source": [
    "# Modell trainieren mit der Blockmaxima-Methode\n",
    "Modell_Max = EVA(Residuen_Reihe)\n",
    "Modell_Max.get_extremes(method=\"BM\", block_size=\"5Y\", extremes_type=\"low\")\n",
    "Modell_Max.plot_extremes()\n",
    "plt.show()"
   ]
  },
  {
   "cell_type": "code",
   "execution_count": null,
   "metadata": {},
   "outputs": [],
   "source": [
    "# Nun können wir die Verteilung fitten\n",
    "Modell_Max.fit_model(distribution='genextreme')\n",
    "#Modell_Max\n",
    "Modell_Max.distribution\n",
    "# ... und anwenden ... hier Wiederkehrwert bei 120 Monaten\n",
    "#Modell_Max.distribution.distribution.ppf(1-1/120)"
   ]
  },
  {
   "cell_type": "code",
   "execution_count": null,
   "metadata": {},
   "outputs": [],
   "source": [
    "# Nützliche Zusammenfassung - ist das Modell gut?\n",
    "Modell_Max.plot_diagnostic()\n",
    "plt.show()"
   ]
  },
  {
   "cell_type": "code",
   "execution_count": null,
   "metadata": {},
   "outputs": [],
   "source": [
    "# Wie überdurchschnittlich ist der Niederschlag eines Jahres- und Jahrzehntmonats?\n",
    "Modell_Max.get_summary(return_period=[12, 120], alpha=0.95, n_samples=1000)"
   ]
  },
  {
   "cell_type": "code",
   "execution_count": null,
   "metadata": {},
   "outputs": [],
   "source": [
    "# Tipps\n",
    "# Verteilungsfamilie ändern\n",
    "# Wie vorher: Verteilungsparameter festhalten\n",
    "# Modell_Max.fit_model(distribution='genextreme',distribution_kwargs={\"fc\": 0.5})\n",
    "# Schwelle bzw. Blockgrösse ändern"
   ]
  },
  {
   "cell_type": "markdown",
   "metadata": {},
   "source": [
    "**Aufgaben Verteilungsfit**:\n",
    "- Bestimmen Sie die Verteilung besonders kühler Monate\n",
    "- Wie gross ist der Jahrzenteweiderkehrwert?\n",
    "- Was heisst dieser Wert für einen Juli?"
   ]
  }
 ],
 "metadata": {
  "deepnote": {},
  "deepnote_execution_queue": [],
  "deepnote_full_width": true,
  "deepnote_notebook_id": "684b9a4ba2474c7189918a58ba69c283",
  "deepnote_persisted_session": {
   "createdAt": "2023-04-20T20:46:42.212Z"
  },
  "kernelspec": {
   "display_name": "Python 3 (ipykernel)",
   "language": "python",
   "name": "python3"
  },
  "language_info": {
   "codemirror_mode": {
    "name": "ipython",
    "version": 3
   },
   "file_extension": ".py",
   "mimetype": "text/x-python",
   "name": "python",
   "nbconvert_exporter": "python",
   "pygments_lexer": "ipython3",
   "version": "3.11.8"
  }
 },
 "nbformat": 4,
 "nbformat_minor": 4
}
