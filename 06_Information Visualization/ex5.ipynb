{
 "cells": [
  {
   "cell_type": "code",
   "execution_count": null,
   "id": "e2f12ca2-75c0-4e8e-a8af-c04f89946360",
   "metadata": {},
   "outputs": [],
   "source": [
    "# libraries importieren\n",
    "import pandas as pd\n",
    "import matplotlib.pyplot as plt\n",
    "import seaborn as sns\n",
    "import plotly.express as px\n",
    "import warnings\n",
    "warnings.filterwarnings('ignore')\n",
    "sns.set_theme()"
   ]
  },
  {
   "cell_type": "code",
   "execution_count": null,
   "id": "7cd229f0-9255-4cba-8629-4b1cd3d00ff4",
   "metadata": {},
   "outputs": [],
   "source": [
    "housing = <YOUR CODE>"
   ]
  },
  {
   "cell_type": "markdown",
   "id": "8711c689-b817-41e4-8c15-5ecf7f97160a",
   "metadata": {},
   "source": [
    "Verwenden Sie sinnvolle Variablen"
   ]
  },
  {
   "cell_type": "markdown",
   "id": "94dc0574-941f-4365-b5b3-7d70195cfa2d",
   "metadata": {},
   "source": [
    "px.scatter(housing, \n",
    "           x='col',\n",
    "           y='col', \n",
    "           color='col'\n",
    ")"
   ]
  },
  {
   "cell_type": "markdown",
   "id": "ea25939f-cf9d-4822-bf2b-2636c8e493ec",
   "metadata": {},
   "source": [
    "* Erstellen Sie eine Aggregation über Regionname und den Mittleren Price\n",
    "* Plotten Sie mit px.bar()"
   ]
  },
  {
   "cell_type": "code",
   "execution_count": null,
   "id": "4263bf16-d3bf-4265-bfb4-43921fb7103f",
   "metadata": {},
   "outputs": [],
   "source": [
    "dfx = <YOUR CODE>"
   ]
  },
  {
   "cell_type": "markdown",
   "id": "0410fa8f-be87-4523-81cd-a054bfda966a",
   "metadata": {},
   "source": [
    "* Gapminder Daten einlesen"
   ]
  },
  {
   "cell_type": "code",
   "execution_count": null,
   "id": "567aa791-a252-49ed-804b-39a010d9c4e1",
   "metadata": {},
   "outputs": [],
   "source": [
    "gap = <YOUR CODE>"
   ]
  },
  {
   "cell_type": "markdown",
   "id": "a6807e43-81fe-4ff2-8cba-40d407e934ba",
   "metadata": {},
   "source": [
    "* Wählen Sie sinnvolle Variablen\n",
    "* Plotten Sie eine Karte mit `px.scatter_geo()`"
   ]
  },
  {
   "cell_type": "code",
   "execution_count": null,
   "id": "734e66e7-671d-423f-a856-3fbf88dc4584",
   "metadata": {},
   "outputs": [],
   "source": [
    "px.scatter_geo(gap, \n",
    "               locations='country', \n",
    "               locationmode='country names', \n",
    "               color='col', # die Werte dieser Variable bestimmen die Farbe der Marker\n",
    "               size='col', # die Werte dieser Variable bestimmte die Grösse der Marker\n",
    "               animation_frame='col', # damit kann der Plot über Werte diesser Variable animiert werden (Slider)\n",
    "               width=800, # stellen sie höhe und breite (in pixel) ein\n",
    "               height=800,\n",
    ")"
   ]
  }
 ],
 "metadata": {
  "kernelspec": {
   "display_name": "Python 3 (ipykernel)",
   "language": "python",
   "name": "python3"
  },
  "language_info": {
   "codemirror_mode": {
    "name": "ipython",
    "version": 3
   },
   "file_extension": ".py",
   "mimetype": "text/x-python",
   "name": "python",
   "nbconvert_exporter": "python",
   "pygments_lexer": "ipython3",
   "version": "3.10.12"
  }
 },
 "nbformat": 4,
 "nbformat_minor": 5
}
