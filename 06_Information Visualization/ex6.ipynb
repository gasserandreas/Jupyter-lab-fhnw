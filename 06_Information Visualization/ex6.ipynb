{
 "cells": [
  {
   "cell_type": "code",
   "execution_count": null,
   "id": "f3768375-3c09-4275-816d-9219b3675108",
   "metadata": {},
   "outputs": [],
   "source": [
    "# libraries importieren\n",
    "import pandas as pd\n",
    "import matplotlib.pyplot as plt\n",
    "import seaborn as sns\n",
    "import plotly.express as px\n",
    "import warnings\n",
    "warnings.filterwarnings('ignore')\n",
    "sns.set_theme()"
   ]
  },
  {
   "cell_type": "code",
   "execution_count": null,
   "id": "41cd570a-98a8-4a67-abe5-2612491ad784",
   "metadata": {},
   "outputs": [],
   "source": [
    "pd.options.display.max_colwidth = None\n",
    "pd.options.display.max_columns = None\n",
    "pd.options.display.max_rows = 100"
   ]
  },
  {
   "cell_type": "code",
   "execution_count": null,
   "id": "05ebaf10-ae1c-4964-8df3-ab00feb604a7",
   "metadata": {},
   "outputs": [],
   "source": [
    "# uniques(df) ermittelt die einheitlichen Werte aller kategorischen (nicht numerischen) Spalten\n",
    "def uniques(df, topn=50):\n",
    "    import numpy as np \n",
    "    dfx = df.select_dtypes([object])\n",
    "    return pd.DataFrame({'column': dfx.columns,\n",
    "                         'values': [dfx[col].unique()[:topn] for col in dfx.columns]})"
   ]
  },
  {
   "cell_type": "code",
   "execution_count": null,
   "id": "317c2fc4-8ddc-4be0-82b4-fc09c0944daf",
   "metadata": {},
   "outputs": [],
   "source": [
    "# Daten einlesen"
   ]
  },
  {
   "cell_type": "code",
   "execution_count": null,
   "id": "1f8637ed-aefb-4d73-baf3-121d030c31f3",
   "metadata": {},
   "outputs": [],
   "source": [
    "housing = <CODE>"
   ]
  },
  {
   "cell_type": "markdown",
   "id": "1fcfb8d5-c35d-415c-93f3-ef45fe62da3c",
   "metadata": {},
   "source": [
    "Als erstes wollen wir verstehen, wie die Daten beschaffen sind\n",
    "\n",
    "* Dazu verwenden wir verschieden Funktionen\n",
    "* `DataFrame.info()` zeigt alle Spalten\n",
    "* `DataFrame.sample(n)` zeigt eine Zufallsauswahl von n Zeilen\n",
    "* Mit der Hilfsfunktion `uniques(df)` erhalten wir einen Eindruck der kategorischen Variablen\n",
    "* `sns.histplot(data=dataframe, y='col')` zeigt ein Histogram für die Variable `col` an\n"
   ]
  },
  {
   "cell_type": "markdown",
   "id": "774eed0a-e79d-48cd-8894-be35e0c8a525",
   "metadata": {},
   "source": [
    "Die Daten verstehen\n",
    "\n",
    "* Weil es sehr viele Daten sind zeigen wir eine Zufallsauswahl von 10 Rows an\n",
    "* Dazu verwenden wir die Funktion `DataFrame.sample()`"
   ]
  },
  {
   "cell_type": "code",
   "execution_count": null,
   "id": "6a643579-1bb4-4a49-a801-ee0a3de3a79c",
   "metadata": {},
   "outputs": [],
   "source": [
    "<CODE>"
   ]
  },
  {
   "cell_type": "markdown",
   "id": "e3db59ef-9d3b-4590-b7c2-dac938eccd66",
   "metadata": {},
   "source": [
    "Gibt es einen Einfluss durch die Region? Tipp: `sns.scatterplot()`"
   ]
  },
  {
   "cell_type": "code",
   "execution_count": null,
   "id": "f8fb11f1-4342-4ed4-b9aa-125a15df1945",
   "metadata": {},
   "outputs": [],
   "source": [
    "<CODE>"
   ]
  },
  {
   "cell_type": "markdown",
   "id": "d48eed27-ca76-49df-8fe5-2899ffd5493b",
   "metadata": {},
   "source": [
    "Wie verhalten sich die Preise innerhalb einer Region? Tipp: `sns.stripplot(), sns.boxplot()`"
   ]
  },
  {
   "cell_type": "code",
   "execution_count": null,
   "id": "5f3efcbf-2dcf-4db3-9c30-364a6f07dd62",
   "metadata": {},
   "outputs": [],
   "source": [
    "<CODE>"
   ]
  },
  {
   "cell_type": "markdown",
   "id": "c17220cd-c89a-4ec6-8649-328f803590dd",
   "metadata": {},
   "source": [
    "gibt es einen Trend über Zeit? Tipp: Daten müssen transformiert werden; Jahr herauslesen, dann mit `sns.lineplot()`"
   ]
  },
  {
   "cell_type": "code",
   "execution_count": null,
   "id": "11350089-d786-4094-9645-454b7c8bc45e",
   "metadata": {},
   "outputs": [],
   "source": [
    "<CODE>"
   ]
  },
  {
   "cell_type": "markdown",
   "id": "cea4b8fc-3e8e-4586-9ea4-189368e63608",
   "metadata": {},
   "source": [
    "* Gib es einen Zusammenhang zwischen verschiedenen Faktoren? Tipp: `sns.heatmap()`\n",
    "* Erst Korrelation (corr) berechnen"
   ]
  },
  {
   "cell_type": "code",
   "execution_count": null,
   "id": "b448d5dd-b850-4f7f-b333-31eb6108dcfa",
   "metadata": {},
   "outputs": [],
   "source": [
    "corr = (housing\n",
    "        .select_dtypes(include='number')\n",
    "        .corr()\n",
    "       )"
   ]
  },
  {
   "cell_type": "code",
   "execution_count": null,
   "id": "f9a37ebf-a621-4e9c-a91b-ddbe4838e9cd",
   "metadata": {},
   "outputs": [],
   "source": [
    "<CODE>"
   ]
  }
 ],
 "metadata": {
  "kernelspec": {
   "display_name": "Python 3 (ipykernel)",
   "language": "python",
   "name": "python3"
  },
  "language_info": {
   "codemirror_mode": {
    "name": "ipython",
    "version": 3
   },
   "file_extension": ".py",
   "mimetype": "text/x-python",
   "name": "python",
   "nbconvert_exporter": "python",
   "pygments_lexer": "ipython3",
   "version": "3.10.12"
  }
 },
 "nbformat": 4,
 "nbformat_minor": 5
}
