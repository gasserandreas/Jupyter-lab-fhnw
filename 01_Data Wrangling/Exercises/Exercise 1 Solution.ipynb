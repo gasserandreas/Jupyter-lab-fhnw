{
 "cells": [
  {
   "cell_type": "markdown",
   "metadata": {},
   "source": [
    "## Task 1\n",
    "We will convert a simple excel file to various other formats and back and then look at the results after each step. You can use the pd.read_\\[File_format\\] and \\[dataframe\\].to_\\[File_format\\] methods of pandas to read and write in different data formats."
   ]
  },
  {
   "cell_type": "code",
   "execution_count": 1,
   "metadata": {},
   "outputs": [],
   "source": [
    "import numpy as np\n",
    "import pandas as pd\n",
    "import xml.etree.ElementTree as ET"
   ]
  },
  {
   "cell_type": "markdown",
   "metadata": {},
   "source": [
    "Load the file melbourne_de.xlsx into a dataframe called df. Then show the first 5 lines with df.head()"
   ]
  },
  {
   "cell_type": "code",
   "execution_count": 2,
   "metadata": {},
   "outputs": [
    {
     "data": {
      "text/html": [
       "<div>\n",
       "<style scoped>\n",
       "    .dataframe tbody tr th:only-of-type {\n",
       "        vertical-align: middle;\n",
       "    }\n",
       "\n",
       "    .dataframe tbody tr th {\n",
       "        vertical-align: top;\n",
       "    }\n",
       "\n",
       "    .dataframe thead th {\n",
       "        text-align: right;\n",
       "    }\n",
       "</style>\n",
       "<table border=\"1\" class=\"dataframe\">\n",
       "  <thead>\n",
       "    <tr style=\"text-align: right;\">\n",
       "      <th></th>\n",
       "      <th>Außenbezirk</th>\n",
       "      <th>Adresse</th>\n",
       "      <th>Räume</th>\n",
       "      <th>Preis</th>\n",
       "      <th>Datum</th>\n",
       "      <th>PLZ</th>\n",
       "      <th>Parkplätze</th>\n",
       "      <th>Landgrösse</th>\n",
       "      <th>Breitengrad</th>\n",
       "      <th>Längengrad</th>\n",
       "    </tr>\n",
       "  </thead>\n",
       "  <tbody>\n",
       "    <tr>\n",
       "      <th>0</th>\n",
       "      <td>Abbotsford</td>\n",
       "      <td>68 Studley St</td>\n",
       "      <td>2</td>\n",
       "      <td>NaN</td>\n",
       "      <td>2016-09-03</td>\n",
       "      <td>3067</td>\n",
       "      <td>1.0</td>\n",
       "      <td>126.0</td>\n",
       "      <td>-37.8014</td>\n",
       "      <td>144.9958</td>\n",
       "    </tr>\n",
       "    <tr>\n",
       "      <th>1</th>\n",
       "      <td>Abbotsford</td>\n",
       "      <td>85 Turner St</td>\n",
       "      <td>2</td>\n",
       "      <td>1480000.0</td>\n",
       "      <td>2016-12-03</td>\n",
       "      <td>3067</td>\n",
       "      <td>1.0</td>\n",
       "      <td>202.0</td>\n",
       "      <td>-37.7996</td>\n",
       "      <td>144.9984</td>\n",
       "    </tr>\n",
       "    <tr>\n",
       "      <th>2</th>\n",
       "      <td>Abbotsford</td>\n",
       "      <td>25 Bloomburg St</td>\n",
       "      <td>2</td>\n",
       "      <td>1035000.0</td>\n",
       "      <td>2016-02-04</td>\n",
       "      <td>3067</td>\n",
       "      <td>0.0</td>\n",
       "      <td>156.0</td>\n",
       "      <td>-37.8079</td>\n",
       "      <td>144.9934</td>\n",
       "    </tr>\n",
       "    <tr>\n",
       "      <th>3</th>\n",
       "      <td>Abbotsford</td>\n",
       "      <td>18/659 Victoria St</td>\n",
       "      <td>3</td>\n",
       "      <td>NaN</td>\n",
       "      <td>2016-02-04</td>\n",
       "      <td>3067</td>\n",
       "      <td>1.0</td>\n",
       "      <td>0.0</td>\n",
       "      <td>-37.8114</td>\n",
       "      <td>145.0116</td>\n",
       "    </tr>\n",
       "    <tr>\n",
       "      <th>4</th>\n",
       "      <td>Abbotsford</td>\n",
       "      <td>5 Charles St</td>\n",
       "      <td>3</td>\n",
       "      <td>1465000.0</td>\n",
       "      <td>2017-03-04</td>\n",
       "      <td>3067</td>\n",
       "      <td>0.0</td>\n",
       "      <td>134.0</td>\n",
       "      <td>-37.8093</td>\n",
       "      <td>144.9944</td>\n",
       "    </tr>\n",
       "  </tbody>\n",
       "</table>\n",
       "</div>"
      ],
      "text/plain": [
       "  Außenbezirk             Adresse  Räume      Preis      Datum   PLZ  \\\n",
       "0  Abbotsford       68 Studley St      2        NaN 2016-09-03  3067   \n",
       "1  Abbotsford        85 Turner St      2  1480000.0 2016-12-03  3067   \n",
       "2  Abbotsford     25 Bloomburg St      2  1035000.0 2016-02-04  3067   \n",
       "3  Abbotsford  18/659 Victoria St      3        NaN 2016-02-04  3067   \n",
       "4  Abbotsford        5 Charles St      3  1465000.0 2017-03-04  3067   \n",
       "\n",
       "   Parkplätze  Landgrösse  Breitengrad  Längengrad  \n",
       "0         1.0       126.0     -37.8014    144.9958  \n",
       "1         1.0       202.0     -37.7996    144.9984  \n",
       "2         0.0       156.0     -37.8079    144.9934  \n",
       "3         1.0         0.0     -37.8114    145.0116  \n",
       "4         0.0       134.0     -37.8093    144.9944  "
      ]
     },
     "execution_count": 2,
     "metadata": {},
     "output_type": "execute_result"
    }
   ],
   "source": [
    "df = pd.read_excel('melbourne_de.xlsx')\n",
    "df.head()"
   ]
  },
  {
   "cell_type": "markdown",
   "metadata": {},
   "source": [
    "Save the dataframe as a csv with the name df1.csv. What encoding has been used with the default values?"
   ]
  },
  {
   "cell_type": "code",
   "execution_count": 3,
   "metadata": {},
   "outputs": [],
   "source": [
    "df.to_csv('df1.csv')"
   ]
  },
  {
   "cell_type": "markdown",
   "metadata": {},
   "source": [
    "Now read the file df1.csv and show the first 5 lines. Has something changed? What happens if you use the additional parameter index_col when reading the file?"
   ]
  },
  {
   "cell_type": "code",
   "execution_count": 6,
   "metadata": {},
   "outputs": [
    {
     "data": {
      "text/html": [
       "<div>\n",
       "<style scoped>\n",
       "    .dataframe tbody tr th:only-of-type {\n",
       "        vertical-align: middle;\n",
       "    }\n",
       "\n",
       "    .dataframe tbody tr th {\n",
       "        vertical-align: top;\n",
       "    }\n",
       "\n",
       "    .dataframe thead th {\n",
       "        text-align: right;\n",
       "    }\n",
       "</style>\n",
       "<table border=\"1\" class=\"dataframe\">\n",
       "  <thead>\n",
       "    <tr style=\"text-align: right;\">\n",
       "      <th></th>\n",
       "      <th>Außenbezirk</th>\n",
       "      <th>Adresse</th>\n",
       "      <th>Räume</th>\n",
       "      <th>Preis</th>\n",
       "      <th>Datum</th>\n",
       "      <th>PLZ</th>\n",
       "      <th>Parkplätze</th>\n",
       "      <th>Landgrösse</th>\n",
       "      <th>Breitengrad</th>\n",
       "      <th>Längengrad</th>\n",
       "    </tr>\n",
       "  </thead>\n",
       "  <tbody>\n",
       "    <tr>\n",
       "      <th>0</th>\n",
       "      <td>Abbotsford</td>\n",
       "      <td>68 Studley St</td>\n",
       "      <td>2</td>\n",
       "      <td>NaN</td>\n",
       "      <td>2016-09-03</td>\n",
       "      <td>3067</td>\n",
       "      <td>1.0</td>\n",
       "      <td>126.0</td>\n",
       "      <td>-37.8014</td>\n",
       "      <td>144.9958</td>\n",
       "    </tr>\n",
       "    <tr>\n",
       "      <th>1</th>\n",
       "      <td>Abbotsford</td>\n",
       "      <td>85 Turner St</td>\n",
       "      <td>2</td>\n",
       "      <td>1480000.0</td>\n",
       "      <td>2016-12-03</td>\n",
       "      <td>3067</td>\n",
       "      <td>1.0</td>\n",
       "      <td>202.0</td>\n",
       "      <td>-37.7996</td>\n",
       "      <td>144.9984</td>\n",
       "    </tr>\n",
       "    <tr>\n",
       "      <th>2</th>\n",
       "      <td>Abbotsford</td>\n",
       "      <td>25 Bloomburg St</td>\n",
       "      <td>2</td>\n",
       "      <td>1035000.0</td>\n",
       "      <td>2016-02-04</td>\n",
       "      <td>3067</td>\n",
       "      <td>0.0</td>\n",
       "      <td>156.0</td>\n",
       "      <td>-37.8079</td>\n",
       "      <td>144.9934</td>\n",
       "    </tr>\n",
       "    <tr>\n",
       "      <th>3</th>\n",
       "      <td>Abbotsford</td>\n",
       "      <td>18/659 Victoria St</td>\n",
       "      <td>3</td>\n",
       "      <td>NaN</td>\n",
       "      <td>2016-02-04</td>\n",
       "      <td>3067</td>\n",
       "      <td>1.0</td>\n",
       "      <td>0.0</td>\n",
       "      <td>-37.8114</td>\n",
       "      <td>145.0116</td>\n",
       "    </tr>\n",
       "    <tr>\n",
       "      <th>4</th>\n",
       "      <td>Abbotsford</td>\n",
       "      <td>5 Charles St</td>\n",
       "      <td>3</td>\n",
       "      <td>1465000.0</td>\n",
       "      <td>2017-03-04</td>\n",
       "      <td>3067</td>\n",
       "      <td>0.0</td>\n",
       "      <td>134.0</td>\n",
       "      <td>-37.8093</td>\n",
       "      <td>144.9944</td>\n",
       "    </tr>\n",
       "  </tbody>\n",
       "</table>\n",
       "</div>"
      ],
      "text/plain": [
       "  Außenbezirk             Adresse  Räume      Preis       Datum   PLZ  \\\n",
       "0  Abbotsford       68 Studley St      2        NaN  2016-09-03  3067   \n",
       "1  Abbotsford        85 Turner St      2  1480000.0  2016-12-03  3067   \n",
       "2  Abbotsford     25 Bloomburg St      2  1035000.0  2016-02-04  3067   \n",
       "3  Abbotsford  18/659 Victoria St      3        NaN  2016-02-04  3067   \n",
       "4  Abbotsford        5 Charles St      3  1465000.0  2017-03-04  3067   \n",
       "\n",
       "   Parkplätze  Landgrösse  Breitengrad  Längengrad  \n",
       "0         1.0       126.0     -37.8014    144.9958  \n",
       "1         1.0       202.0     -37.7996    144.9984  \n",
       "2         0.0       156.0     -37.8079    144.9934  \n",
       "3         1.0         0.0     -37.8114    145.0116  \n",
       "4         0.0       134.0     -37.8093    144.9944  "
      ]
     },
     "execution_count": 6,
     "metadata": {},
     "output_type": "execute_result"
    }
   ],
   "source": [
    "df = pd.read_csv('df1.csv', index_col=0)\n",
    "df.head()"
   ]
  },
  {
   "cell_type": "markdown",
   "metadata": {},
   "source": [
    "Save the dataframe as a json with the name df2.json. "
   ]
  },
  {
   "cell_type": "code",
   "execution_count": 7,
   "metadata": {},
   "outputs": [],
   "source": [
    "df.to_json('df2.json')"
   ]
  },
  {
   "cell_type": "markdown",
   "metadata": {},
   "source": [
    "Now read the file df2.json as a pandas dataframe and check again if something changed."
   ]
  },
  {
   "cell_type": "code",
   "execution_count": 8,
   "metadata": {},
   "outputs": [
    {
     "data": {
      "text/html": [
       "<div>\n",
       "<style scoped>\n",
       "    .dataframe tbody tr th:only-of-type {\n",
       "        vertical-align: middle;\n",
       "    }\n",
       "\n",
       "    .dataframe tbody tr th {\n",
       "        vertical-align: top;\n",
       "    }\n",
       "\n",
       "    .dataframe thead th {\n",
       "        text-align: right;\n",
       "    }\n",
       "</style>\n",
       "<table border=\"1\" class=\"dataframe\">\n",
       "  <thead>\n",
       "    <tr style=\"text-align: right;\">\n",
       "      <th></th>\n",
       "      <th>Außenbezirk</th>\n",
       "      <th>Adresse</th>\n",
       "      <th>Räume</th>\n",
       "      <th>Preis</th>\n",
       "      <th>Datum</th>\n",
       "      <th>PLZ</th>\n",
       "      <th>Parkplätze</th>\n",
       "      <th>Landgrösse</th>\n",
       "      <th>Breitengrad</th>\n",
       "      <th>Längengrad</th>\n",
       "    </tr>\n",
       "  </thead>\n",
       "  <tbody>\n",
       "    <tr>\n",
       "      <th>0</th>\n",
       "      <td>Abbotsford</td>\n",
       "      <td>68 Studley St</td>\n",
       "      <td>2</td>\n",
       "      <td>NaN</td>\n",
       "      <td>2016-09-03</td>\n",
       "      <td>3067</td>\n",
       "      <td>1.0</td>\n",
       "      <td>126.0</td>\n",
       "      <td>-37.8014</td>\n",
       "      <td>144.9958</td>\n",
       "    </tr>\n",
       "    <tr>\n",
       "      <th>1</th>\n",
       "      <td>Abbotsford</td>\n",
       "      <td>85 Turner St</td>\n",
       "      <td>2</td>\n",
       "      <td>1480000.0</td>\n",
       "      <td>2016-12-03</td>\n",
       "      <td>3067</td>\n",
       "      <td>1.0</td>\n",
       "      <td>202.0</td>\n",
       "      <td>-37.7996</td>\n",
       "      <td>144.9984</td>\n",
       "    </tr>\n",
       "    <tr>\n",
       "      <th>2</th>\n",
       "      <td>Abbotsford</td>\n",
       "      <td>25 Bloomburg St</td>\n",
       "      <td>2</td>\n",
       "      <td>1035000.0</td>\n",
       "      <td>2016-02-04</td>\n",
       "      <td>3067</td>\n",
       "      <td>0.0</td>\n",
       "      <td>156.0</td>\n",
       "      <td>-37.8079</td>\n",
       "      <td>144.9934</td>\n",
       "    </tr>\n",
       "    <tr>\n",
       "      <th>3</th>\n",
       "      <td>Abbotsford</td>\n",
       "      <td>18/659 Victoria St</td>\n",
       "      <td>3</td>\n",
       "      <td>NaN</td>\n",
       "      <td>2016-02-04</td>\n",
       "      <td>3067</td>\n",
       "      <td>1.0</td>\n",
       "      <td>0.0</td>\n",
       "      <td>-37.8114</td>\n",
       "      <td>145.0116</td>\n",
       "    </tr>\n",
       "    <tr>\n",
       "      <th>4</th>\n",
       "      <td>Abbotsford</td>\n",
       "      <td>5 Charles St</td>\n",
       "      <td>3</td>\n",
       "      <td>1465000.0</td>\n",
       "      <td>2017-03-04</td>\n",
       "      <td>3067</td>\n",
       "      <td>0.0</td>\n",
       "      <td>134.0</td>\n",
       "      <td>-37.8093</td>\n",
       "      <td>144.9944</td>\n",
       "    </tr>\n",
       "  </tbody>\n",
       "</table>\n",
       "</div>"
      ],
      "text/plain": [
       "  Außenbezirk             Adresse  Räume      Preis       Datum   PLZ  \\\n",
       "0  Abbotsford       68 Studley St      2        NaN  2016-09-03  3067   \n",
       "1  Abbotsford        85 Turner St      2  1480000.0  2016-12-03  3067   \n",
       "2  Abbotsford     25 Bloomburg St      2  1035000.0  2016-02-04  3067   \n",
       "3  Abbotsford  18/659 Victoria St      3        NaN  2016-02-04  3067   \n",
       "4  Abbotsford        5 Charles St      3  1465000.0  2017-03-04  3067   \n",
       "\n",
       "   Parkplätze  Landgrösse  Breitengrad  Längengrad  \n",
       "0         1.0       126.0     -37.8014    144.9958  \n",
       "1         1.0       202.0     -37.7996    144.9984  \n",
       "2         0.0       156.0     -37.8079    144.9934  \n",
       "3         1.0         0.0     -37.8114    145.0116  \n",
       "4         0.0       134.0     -37.8093    144.9944  "
      ]
     },
     "execution_count": 8,
     "metadata": {},
     "output_type": "execute_result"
    }
   ],
   "source": [
    "df = pd.read_json('df2.json')\n",
    "df.head()"
   ]
  },
  {
   "cell_type": "code",
   "execution_count": 8,
   "metadata": {},
   "outputs": [],
   "source": [
    "# Hint: older versions of pandas will mess with the order of the dataframe"
   ]
  },
  {
   "cell_type": "markdown",
   "metadata": {},
   "source": [
    "Now save the file as excel file with the name df3.xlsx. Open it with excel, google sheets or any other tool you might have and look at how it is formatted."
   ]
  },
  {
   "cell_type": "code",
   "execution_count": 9,
   "metadata": {},
   "outputs": [],
   "source": [
    "df.to_excel('df3.xlsx')"
   ]
  },
  {
   "cell_type": "markdown",
   "metadata": {},
   "source": [
    "In whatever Tool you used to open the excel file, save the file again as a tab separated file named df4.tsv"
   ]
  },
  {
   "cell_type": "code",
   "execution_count": null,
   "metadata": {},
   "outputs": [],
   "source": []
  },
  {
   "cell_type": "markdown",
   "metadata": {},
   "source": [
    "Finally load the df4.tsv file into a pandas dataframe and look at the first 5 lines. Did you manage to keep all special characters?"
   ]
  },
  {
   "cell_type": "code",
   "execution_count": 12,
   "metadata": {},
   "outputs": [
    {
     "data": {
      "text/html": [
       "<div>\n",
       "<style scoped>\n",
       "    .dataframe tbody tr th:only-of-type {\n",
       "        vertical-align: middle;\n",
       "    }\n",
       "\n",
       "    .dataframe tbody tr th {\n",
       "        vertical-align: top;\n",
       "    }\n",
       "\n",
       "    .dataframe thead th {\n",
       "        text-align: right;\n",
       "    }\n",
       "</style>\n",
       "<table border=\"1\" class=\"dataframe\">\n",
       "  <thead>\n",
       "    <tr style=\"text-align: right;\">\n",
       "      <th></th>\n",
       "      <th>Außenbezirk</th>\n",
       "      <th>Adresse</th>\n",
       "      <th>Räume</th>\n",
       "      <th>Preis</th>\n",
       "      <th>Datum</th>\n",
       "      <th>PLZ</th>\n",
       "      <th>Parkplätze</th>\n",
       "      <th>Landgrösse</th>\n",
       "      <th>Breitengrad</th>\n",
       "      <th>Längengrad</th>\n",
       "    </tr>\n",
       "  </thead>\n",
       "  <tbody>\n",
       "    <tr>\n",
       "      <th>0</th>\n",
       "      <td>Abbotsford</td>\n",
       "      <td>68 Studley St</td>\n",
       "      <td>2</td>\n",
       "      <td>NaN</td>\n",
       "      <td>2016-09-03</td>\n",
       "      <td>3067</td>\n",
       "      <td>1.0</td>\n",
       "      <td>126.0</td>\n",
       "      <td>-37.8014</td>\n",
       "      <td>144.9958</td>\n",
       "    </tr>\n",
       "    <tr>\n",
       "      <th>1</th>\n",
       "      <td>Abbotsford</td>\n",
       "      <td>85 Turner St</td>\n",
       "      <td>2</td>\n",
       "      <td>1480000.0</td>\n",
       "      <td>2016-12-03</td>\n",
       "      <td>3067</td>\n",
       "      <td>1.0</td>\n",
       "      <td>202.0</td>\n",
       "      <td>-37.7996</td>\n",
       "      <td>144.9984</td>\n",
       "    </tr>\n",
       "    <tr>\n",
       "      <th>2</th>\n",
       "      <td>Abbotsford</td>\n",
       "      <td>25 Bloomburg St</td>\n",
       "      <td>2</td>\n",
       "      <td>1035000.0</td>\n",
       "      <td>2016-02-04</td>\n",
       "      <td>3067</td>\n",
       "      <td>0.0</td>\n",
       "      <td>156.0</td>\n",
       "      <td>-37.8079</td>\n",
       "      <td>144.9934</td>\n",
       "    </tr>\n",
       "    <tr>\n",
       "      <th>3</th>\n",
       "      <td>Abbotsford</td>\n",
       "      <td>18/659 Victoria St</td>\n",
       "      <td>3</td>\n",
       "      <td>NaN</td>\n",
       "      <td>2016-02-04</td>\n",
       "      <td>3067</td>\n",
       "      <td>1.0</td>\n",
       "      <td>0.0</td>\n",
       "      <td>-37.8114</td>\n",
       "      <td>145.0116</td>\n",
       "    </tr>\n",
       "    <tr>\n",
       "      <th>4</th>\n",
       "      <td>Abbotsford</td>\n",
       "      <td>5 Charles St</td>\n",
       "      <td>3</td>\n",
       "      <td>1465000.0</td>\n",
       "      <td>2017-03-04</td>\n",
       "      <td>3067</td>\n",
       "      <td>0.0</td>\n",
       "      <td>134.0</td>\n",
       "      <td>-37.8093</td>\n",
       "      <td>144.9944</td>\n",
       "    </tr>\n",
       "  </tbody>\n",
       "</table>\n",
       "</div>"
      ],
      "text/plain": [
       "  Außenbezirk             Adresse  Räume      Preis       Datum   PLZ  \\\n",
       "0  Abbotsford       68 Studley St      2        NaN  2016-09-03  3067   \n",
       "1  Abbotsford        85 Turner St      2  1480000.0  2016-12-03  3067   \n",
       "2  Abbotsford     25 Bloomburg St      2  1035000.0  2016-02-04  3067   \n",
       "3  Abbotsford  18/659 Victoria St      3        NaN  2016-02-04  3067   \n",
       "4  Abbotsford        5 Charles St      3  1465000.0  2017-03-04  3067   \n",
       "\n",
       "   Parkplätze  Landgrösse  Breitengrad  Längengrad  \n",
       "0         1.0       126.0     -37.8014    144.9958  \n",
       "1         1.0       202.0     -37.7996    144.9984  \n",
       "2         0.0       156.0     -37.8079    144.9934  \n",
       "3         1.0         0.0     -37.8114    145.0116  \n",
       "4         0.0       134.0     -37.8093    144.9944  "
      ]
     },
     "execution_count": 12,
     "metadata": {},
     "output_type": "execute_result"
    }
   ],
   "source": [
    "df = pd.read_csv('df4.txt', encoding='cp1252', delimiter='\\t', index_col=0)\n",
    "df.head()"
   ]
  },
  {
   "cell_type": "code",
   "execution_count": null,
   "metadata": {},
   "outputs": [],
   "source": []
  },
  {
   "cell_type": "markdown",
   "metadata": {},
   "source": [
    "Bonus: reading from XML is often a bit more difficult. Since a few versions ago, pandas can read many simple xml files as well, but more complex ones are still out of reach. The following code gives an example to load data from an xml file without pandas."
   ]
  },
  {
   "cell_type": "code",
   "execution_count": null,
   "metadata": {},
   "outputs": [],
   "source": [
    "df.to_xml('df5.xml')"
   ]
  },
  {
   "cell_type": "code",
   "execution_count": 11,
   "metadata": {},
   "outputs": [
    {
     "data": {
      "text/plain": [
       "<Element 'data' at 0x000001EF95AE4D60>"
      ]
     },
     "execution_count": 11,
     "metadata": {},
     "output_type": "execute_result"
    }
   ],
   "source": [
    "tree = ET.parse('df5.xml')\n",
    "root = tree.getroot()\n",
    "root"
   ]
  },
  {
   "cell_type": "code",
   "execution_count": 12,
   "metadata": {},
   "outputs": [
    {
     "data": {
      "text/html": [
       "<div>\n",
       "<style scoped>\n",
       "    .dataframe tbody tr th:only-of-type {\n",
       "        vertical-align: middle;\n",
       "    }\n",
       "\n",
       "    .dataframe tbody tr th {\n",
       "        vertical-align: top;\n",
       "    }\n",
       "\n",
       "    .dataframe thead th {\n",
       "        text-align: right;\n",
       "    }\n",
       "</style>\n",
       "<table border=\"1\" class=\"dataframe\">\n",
       "  <thead>\n",
       "    <tr style=\"text-align: right;\">\n",
       "      <th></th>\n",
       "      <th>index</th>\n",
       "      <th>Außenbezirk</th>\n",
       "      <th>Adresse</th>\n",
       "      <th>Räume</th>\n",
       "      <th>Preis</th>\n",
       "      <th>Datum</th>\n",
       "      <th>PLZ</th>\n",
       "      <th>Parkplätze</th>\n",
       "      <th>Landgrösse</th>\n",
       "      <th>Breitengrad</th>\n",
       "      <th>Längengrad</th>\n",
       "    </tr>\n",
       "  </thead>\n",
       "  <tbody>\n",
       "    <tr>\n",
       "      <th>0</th>\n",
       "      <td>0</td>\n",
       "      <td>Abbotsford</td>\n",
       "      <td>68 Studley St</td>\n",
       "      <td>2</td>\n",
       "      <td>None</td>\n",
       "      <td>2016-09-03 00:00:00</td>\n",
       "      <td>3067</td>\n",
       "      <td>1.0</td>\n",
       "      <td>126.0</td>\n",
       "      <td>-37.8014</td>\n",
       "      <td>144.9958</td>\n",
       "    </tr>\n",
       "    <tr>\n",
       "      <th>1</th>\n",
       "      <td>1</td>\n",
       "      <td>Abbotsford</td>\n",
       "      <td>85 Turner St</td>\n",
       "      <td>2</td>\n",
       "      <td>1480000.0</td>\n",
       "      <td>2016-12-03 00:00:00</td>\n",
       "      <td>3067</td>\n",
       "      <td>1.0</td>\n",
       "      <td>202.0</td>\n",
       "      <td>-37.7996</td>\n",
       "      <td>144.9984</td>\n",
       "    </tr>\n",
       "    <tr>\n",
       "      <th>2</th>\n",
       "      <td>2</td>\n",
       "      <td>Abbotsford</td>\n",
       "      <td>25 Bloomburg St</td>\n",
       "      <td>2</td>\n",
       "      <td>1035000.0</td>\n",
       "      <td>2016-02-04 00:00:00</td>\n",
       "      <td>3067</td>\n",
       "      <td>0.0</td>\n",
       "      <td>156.0</td>\n",
       "      <td>-37.8079</td>\n",
       "      <td>144.9934</td>\n",
       "    </tr>\n",
       "    <tr>\n",
       "      <th>3</th>\n",
       "      <td>3</td>\n",
       "      <td>Abbotsford</td>\n",
       "      <td>18/659 Victoria St</td>\n",
       "      <td>3</td>\n",
       "      <td>None</td>\n",
       "      <td>2016-02-04 00:00:00</td>\n",
       "      <td>3067</td>\n",
       "      <td>1.0</td>\n",
       "      <td>0.0</td>\n",
       "      <td>-37.8114</td>\n",
       "      <td>145.0116</td>\n",
       "    </tr>\n",
       "    <tr>\n",
       "      <th>4</th>\n",
       "      <td>4</td>\n",
       "      <td>Abbotsford</td>\n",
       "      <td>5 Charles St</td>\n",
       "      <td>3</td>\n",
       "      <td>1465000.0</td>\n",
       "      <td>2017-03-04 00:00:00</td>\n",
       "      <td>3067</td>\n",
       "      <td>0.0</td>\n",
       "      <td>134.0</td>\n",
       "      <td>-37.8093</td>\n",
       "      <td>144.9944</td>\n",
       "    </tr>\n",
       "  </tbody>\n",
       "</table>\n",
       "</div>"
      ],
      "text/plain": [
       "  index Außenbezirk             Adresse Räume      Preis                Datum  \\\n",
       "0     0  Abbotsford       68 Studley St     2       None  2016-09-03 00:00:00   \n",
       "1     1  Abbotsford        85 Turner St     2  1480000.0  2016-12-03 00:00:00   \n",
       "2     2  Abbotsford     25 Bloomburg St     2  1035000.0  2016-02-04 00:00:00   \n",
       "3     3  Abbotsford  18/659 Victoria St     3       None  2016-02-04 00:00:00   \n",
       "4     4  Abbotsford        5 Charles St     3  1465000.0  2017-03-04 00:00:00   \n",
       "\n",
       "    PLZ Parkplätze Landgrösse Breitengrad Längengrad  \n",
       "0  3067        1.0      126.0    -37.8014   144.9958  \n",
       "1  3067        1.0      202.0    -37.7996   144.9984  \n",
       "2  3067        0.0      156.0    -37.8079   144.9934  \n",
       "3  3067        1.0        0.0    -37.8114   145.0116  \n",
       "4  3067        0.0      134.0    -37.8093   144.9944  "
      ]
     },
     "execution_count": 12,
     "metadata": {},
     "output_type": "execute_result"
    }
   ],
   "source": [
    "all_data = []\n",
    "for row in root:\n",
    "    record = {}\n",
    "    for field in row:\n",
    "        rec_key = field.tag\n",
    "        record[rec_key] = field.text\n",
    "    all_data.append(record)\n",
    "xml_df = pd.DataFrame(all_data)\n",
    "xml_df.head()"
   ]
  },
  {
   "cell_type": "markdown",
   "metadata": {},
   "source": [
    "## Task 2"
   ]
  },
  {
   "cell_type": "markdown",
   "metadata": {},
   "source": [
    "The file building3d.dae contains a 3d file which can be opened with photoshop and other tools. Source: https://www.swisstopo.admin.ch/de/karten-daten-online/karten-geodaten-online/3d-viewer.html Your task is to read the file with python and calculate the height of the building. Open it with a text editor first to find out where the relevant information is located. The actual programming part of this exercise is optional, the important part is figuring out how to approach the problem at hand.\n",
    "\n",
    "Hint1: It helps to know that the building is around 540m above sea.\n",
    "\n",
    "Hint2: You can use root.iter(x) to directly access all elements with name x. Be aware that in the case of this file, x might contain also the name of the schema which is '{http://www.collada.org/2005/11/COLLADASchema}'."
   ]
  },
  {
   "cell_type": "code",
   "execution_count": 13,
   "metadata": {},
   "outputs": [],
   "source": [
    "'''calculates height from 3d model '''\n",
    "def topo3d_height(file):\n",
    "    root = ET.parse(file)\n",
    "    coordinates_z = []\n",
    "    schema = '{http://www.collada.org/2005/11/COLLADASchema}'\n",
    "    for f in root.iter(schema + 'float_array'):\n",
    "        coordinates = f.text.split(' ')\n",
    "        coordinates_z += coordinates[2::3]\n",
    "    # warning: This will work in this case, but it's actually really wrong...\n",
    "    min_height = float(min(coordinates_z))\n",
    "    height = float(max(coordinates_z)) - min_height\n",
    "    return height"
   ]
  },
  {
   "cell_type": "code",
   "execution_count": 14,
   "metadata": {},
   "outputs": [
    {
     "data": {
      "text/plain": [
       "11.38900000000001"
      ]
     },
     "execution_count": 14,
     "metadata": {},
     "output_type": "execute_result"
    }
   ],
   "source": [
    "topo3d_height('building3d.dae')"
   ]
  },
  {
   "cell_type": "markdown",
   "metadata": {},
   "source": [
    "Alternative with collada:"
   ]
  },
  {
   "cell_type": "code",
   "execution_count": 15,
   "metadata": {},
   "outputs": [
    {
     "data": {
      "text/plain": [
       "array([ -1.4042342,   8.651006 , 546.924    ], dtype=float32)"
      ]
     },
     "execution_count": 15,
     "metadata": {},
     "output_type": "execute_result"
    }
   ],
   "source": [
    "import collada\n",
    "\n",
    "col = collada.Collada('building3d.dae')\n",
    "geo = col.geometries[0]\n",
    "# example code to get the vertices\n",
    "p = geo.primitives[0]\n",
    "p.vertex[0]"
   ]
  },
  {
   "cell_type": "code",
   "execution_count": 16,
   "metadata": {},
   "outputs": [
    {
     "data": {
      "text/plain": [
       "11.388977"
      ]
     },
     "execution_count": 16,
     "metadata": {},
     "output_type": "execute_result"
    }
   ],
   "source": [
    "zmin = 9999\n",
    "zmax = 0\n",
    "for geo in col.geometries:\n",
    "    for prim in geo.primitives:\n",
    "        for v in prim.vertex:\n",
    "            if v[2] > zmax:\n",
    "                zmax = v[2]\n",
    "            if v[2] < zmin:\n",
    "                zmin = v[2]\n",
    "height = zmax - zmin\n",
    "height"
   ]
  },
  {
   "cell_type": "code",
   "execution_count": null,
   "metadata": {},
   "outputs": [],
   "source": []
  }
 ],
 "metadata": {
  "kernelspec": {
   "display_name": "Python 3",
   "language": "python",
   "name": "python3"
  },
  "language_info": {
   "codemirror_mode": {
    "name": "ipython",
    "version": 3
   },
   "file_extension": ".py",
   "mimetype": "text/x-python",
   "name": "python",
   "nbconvert_exporter": "python",
   "pygments_lexer": "ipython3",
   "version": "3.8.8"
  }
 },
 "nbformat": 4,
 "nbformat_minor": 2
}
