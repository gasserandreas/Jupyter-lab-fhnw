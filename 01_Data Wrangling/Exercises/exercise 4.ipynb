{
 "cells": [
  {
   "cell_type": "markdown",
   "metadata": {},
   "source": [
    "# Data Combination\n",
    "\n",
    "In this exercise we received 3 files about the sales of chocolate in 2020 from the imaginary company Sprint & Lüngli. The company sells 3 types of chocolate: normal, fancy and frozen. Before doing some machine learning with it (next lesson) we want to combine the files in one dataframe. However, the files are in different formats and contain different parts of the data. The exercise is the following: Take the 3 files chocolate1.csv, chocolate2.xlsx and chocolate3.xlsx and create one new dataframe that contains the combination of all information in the three files."
   ]
  },
  {
   "cell_type": "markdown",
   "metadata": {},
   "source": [
    "Hint1: chocolate1.csv has the time in the format \"%d/%m/%Y\" and datetime.strptime can convert it to a python datetime object.\n",
    "\n",
    "Hint2: datetime.datetime(year, month, day) might help for chocolate2.xlsx\n",
    "\n",
    "Hint3: We are only interested in the sales in 2020, other data can be ignored"
   ]
  },
  {
   "cell_type": "code",
   "execution_count": null,
   "metadata": {},
   "outputs": [],
   "source": []
  }
 ],
 "metadata": {
  "kernelspec": {
   "display_name": "Python 3",
   "language": "python",
   "name": "python3"
  },
  "language_info": {
   "codemirror_mode": {
    "name": "ipython",
    "version": 3
   },
   "file_extension": ".py",
   "mimetype": "text/x-python",
   "name": "python",
   "nbconvert_exporter": "python",
   "pygments_lexer": "ipython3",
   "version": "3.8.3"
  }
 },
 "nbformat": 4,
 "nbformat_minor": 2
}
