{
 "cells": [
  {
   "cell_type": "markdown",
   "metadata": {},
   "source": [
    "## Feature Extraction\n",
    "In this exercise we take the chocolate data from exercise 4 and do some machine learning with it. Our intention is to take the data from 2020 and use it to predict for every day of 2021 how much chocolate of which type we will be selling."
   ]
  },
  {
   "cell_type": "code",
   "execution_count": 1,
   "metadata": {},
   "outputs": [],
   "source": [
    "import numpy as np\n",
    "import pandas as pd\n",
    "from sklearn.linear_model import LinearRegression"
   ]
  },
  {
   "cell_type": "code",
   "execution_count": 2,
   "metadata": {},
   "outputs": [],
   "source": [
    "#np.set_printoptions(suppress=True) # in case you prefer to avoid the scientific notations numpy often uses"
   ]
  },
  {
   "cell_type": "markdown",
   "metadata": {},
   "source": [
    "Some helper functions"
   ]
  },
  {
   "cell_type": "code",
   "execution_count": 2,
   "metadata": {},
   "outputs": [],
   "source": [
    "def dataframe_to_Xy(df, predict_column, feature_columns):\n",
    "    \"\"\"Convert the dataframe to a format usable for the ML algorithms\"\"\"\n",
    "    X = df[feature_columns].values.reshape(-1, df[feature_columns].shape[1]) # all features\n",
    "    y = df[[predict_column]].values.reshape(-1, 1) # values to predict\n",
    "    return X, y"
   ]
  },
  {
   "cell_type": "code",
   "execution_count": 3,
   "metadata": {},
   "outputs": [],
   "source": [
    "def score(df_train, df_predict, predict_column, feature_columns):\n",
    "    \"\"\"Trains a linear regression model and evaluates it on a second dataset\"\"\"\n",
    "    X1, y1 = dataframe_to_Xy(df_train, predict_column, feature_columns)\n",
    "    X2, y2 = dataframe_to_Xy(df_predict, predict_column, feature_columns)\n",
    "    lr = LinearRegression()\n",
    "    reg = lr.fit(X1, y1)\n",
    "    print(f\"intercept: {lr.intercept_[0]} coefficients: {lr.coef_[0]}\")\n",
    "    mean_abs_error = abs(reg.predict(X2) - y2).mean()\n",
    "    return mean_abs_error"
   ]
  },
  {
   "cell_type": "code",
   "execution_count": 4,
   "metadata": {},
   "outputs": [],
   "source": [
    "def all_possible_feature_columns(df):\n",
    "    columns = df.columns.values.tolist()\n",
    "    return [s for s in columns if s not in ['datetime', 'year', 'chocolate_normal', 'chocolate_fancy','chocolate_frozen']]"
   ]
  },
  {
   "cell_type": "markdown",
   "metadata": {},
   "source": [
    "Read the two files for 2020 and 2021"
   ]
  },
  {
   "cell_type": "code",
   "execution_count": 5,
   "metadata": {},
   "outputs": [
    {
     "data": {
      "text/html": [
       "<div>\n",
       "<style scoped>\n",
       "    .dataframe tbody tr th:only-of-type {\n",
       "        vertical-align: middle;\n",
       "    }\n",
       "\n",
       "    .dataframe tbody tr th {\n",
       "        vertical-align: top;\n",
       "    }\n",
       "\n",
       "    .dataframe thead th {\n",
       "        text-align: right;\n",
       "    }\n",
       "</style>\n",
       "<table border=\"1\" class=\"dataframe\">\n",
       "  <thead>\n",
       "    <tr style=\"text-align: right;\">\n",
       "      <th></th>\n",
       "      <th>datetime</th>\n",
       "      <th>year</th>\n",
       "      <th>month</th>\n",
       "      <th>day</th>\n",
       "      <th>weekday</th>\n",
       "      <th>chocolate_normal</th>\n",
       "      <th>chocolate_fancy</th>\n",
       "      <th>chocolate_frozen</th>\n",
       "    </tr>\n",
       "  </thead>\n",
       "  <tbody>\n",
       "    <tr>\n",
       "      <th>0</th>\n",
       "      <td>2020-01-01</td>\n",
       "      <td>2020</td>\n",
       "      <td>1</td>\n",
       "      <td>1</td>\n",
       "      <td>4</td>\n",
       "      <td>254.0</td>\n",
       "      <td>167</td>\n",
       "      <td>61</td>\n",
       "    </tr>\n",
       "    <tr>\n",
       "      <th>1</th>\n",
       "      <td>2020-01-02</td>\n",
       "      <td>2020</td>\n",
       "      <td>1</td>\n",
       "      <td>2</td>\n",
       "      <td>5</td>\n",
       "      <td>428.0</td>\n",
       "      <td>202</td>\n",
       "      <td>65</td>\n",
       "    </tr>\n",
       "    <tr>\n",
       "      <th>2</th>\n",
       "      <td>2020-01-03</td>\n",
       "      <td>2020</td>\n",
       "      <td>1</td>\n",
       "      <td>3</td>\n",
       "      <td>6</td>\n",
       "      <td>970.0</td>\n",
       "      <td>360</td>\n",
       "      <td>174</td>\n",
       "    </tr>\n",
       "    <tr>\n",
       "      <th>3</th>\n",
       "      <td>2020-01-04</td>\n",
       "      <td>2020</td>\n",
       "      <td>1</td>\n",
       "      <td>4</td>\n",
       "      <td>7</td>\n",
       "      <td>1005.0</td>\n",
       "      <td>302</td>\n",
       "      <td>152</td>\n",
       "    </tr>\n",
       "    <tr>\n",
       "      <th>4</th>\n",
       "      <td>2020-01-05</td>\n",
       "      <td>2020</td>\n",
       "      <td>1</td>\n",
       "      <td>5</td>\n",
       "      <td>1</td>\n",
       "      <td>722.0</td>\n",
       "      <td>342</td>\n",
       "      <td>145</td>\n",
       "    </tr>\n",
       "  </tbody>\n",
       "</table>\n",
       "</div>"
      ],
      "text/plain": [
       "     datetime  year  month  day  weekday  chocolate_normal  chocolate_fancy  \\\n",
       "0  2020-01-01  2020      1    1        4             254.0              167   \n",
       "1  2020-01-02  2020      1    2        5             428.0              202   \n",
       "2  2020-01-03  2020      1    3        6             970.0              360   \n",
       "3  2020-01-04  2020      1    4        7            1005.0              302   \n",
       "4  2020-01-05  2020      1    5        1             722.0              342   \n",
       "\n",
       "   chocolate_frozen  \n",
       "0                61  \n",
       "1                65  \n",
       "2               174  \n",
       "3               152  \n",
       "4               145  "
      ]
     },
     "execution_count": 5,
     "metadata": {},
     "output_type": "execute_result"
    }
   ],
   "source": [
    "df = pd.read_csv(\"chocolate_combined.csv\")\n",
    "df.head()"
   ]
  },
  {
   "cell_type": "code",
   "execution_count": 6,
   "metadata": {},
   "outputs": [
    {
     "data": {
      "text/html": [
       "<div>\n",
       "<style scoped>\n",
       "    .dataframe tbody tr th:only-of-type {\n",
       "        vertical-align: middle;\n",
       "    }\n",
       "\n",
       "    .dataframe tbody tr th {\n",
       "        vertical-align: top;\n",
       "    }\n",
       "\n",
       "    .dataframe thead th {\n",
       "        text-align: right;\n",
       "    }\n",
       "</style>\n",
       "<table border=\"1\" class=\"dataframe\">\n",
       "  <thead>\n",
       "    <tr style=\"text-align: right;\">\n",
       "      <th></th>\n",
       "      <th>datetime</th>\n",
       "      <th>year</th>\n",
       "      <th>month</th>\n",
       "      <th>day</th>\n",
       "      <th>weekday</th>\n",
       "      <th>chocolate_normal</th>\n",
       "      <th>chocolate_fancy</th>\n",
       "      <th>chocolate_frozen</th>\n",
       "    </tr>\n",
       "  </thead>\n",
       "  <tbody>\n",
       "    <tr>\n",
       "      <th>0</th>\n",
       "      <td>2021-01-01</td>\n",
       "      <td>2021</td>\n",
       "      <td>1</td>\n",
       "      <td>1</td>\n",
       "      <td>6</td>\n",
       "      <td>403</td>\n",
       "      <td>170</td>\n",
       "      <td>87</td>\n",
       "    </tr>\n",
       "    <tr>\n",
       "      <th>1</th>\n",
       "      <td>2021-01-02</td>\n",
       "      <td>2021</td>\n",
       "      <td>1</td>\n",
       "      <td>2</td>\n",
       "      <td>7</td>\n",
       "      <td>820</td>\n",
       "      <td>396</td>\n",
       "      <td>92</td>\n",
       "    </tr>\n",
       "    <tr>\n",
       "      <th>2</th>\n",
       "      <td>2021-01-03</td>\n",
       "      <td>2021</td>\n",
       "      <td>1</td>\n",
       "      <td>3</td>\n",
       "      <td>1</td>\n",
       "      <td>966</td>\n",
       "      <td>473</td>\n",
       "      <td>151</td>\n",
       "    </tr>\n",
       "    <tr>\n",
       "      <th>3</th>\n",
       "      <td>2021-01-04</td>\n",
       "      <td>2021</td>\n",
       "      <td>1</td>\n",
       "      <td>4</td>\n",
       "      <td>2</td>\n",
       "      <td>565</td>\n",
       "      <td>393</td>\n",
       "      <td>127</td>\n",
       "    </tr>\n",
       "    <tr>\n",
       "      <th>4</th>\n",
       "      <td>2021-01-05</td>\n",
       "      <td>2021</td>\n",
       "      <td>1</td>\n",
       "      <td>5</td>\n",
       "      <td>3</td>\n",
       "      <td>945</td>\n",
       "      <td>363</td>\n",
       "      <td>159</td>\n",
       "    </tr>\n",
       "  </tbody>\n",
       "</table>\n",
       "</div>"
      ],
      "text/plain": [
       "     datetime  year  month  day  weekday  chocolate_normal  chocolate_fancy  \\\n",
       "0  2021-01-01  2021      1    1        6               403              170   \n",
       "1  2021-01-02  2021      1    2        7               820              396   \n",
       "2  2021-01-03  2021      1    3        1               966              473   \n",
       "3  2021-01-04  2021      1    4        2               565              393   \n",
       "4  2021-01-05  2021      1    5        3               945              363   \n",
       "\n",
       "   chocolate_frozen  \n",
       "0                87  \n",
       "1                92  \n",
       "2               151  \n",
       "3               127  \n",
       "4               159  "
      ]
     },
     "execution_count": 6,
     "metadata": {},
     "output_type": "execute_result"
    }
   ],
   "source": [
    "df_2021 = pd.read_csv(\"chocolate_2021.csv\")\n",
    "df_2021.head()"
   ]
  },
  {
   "cell_type": "markdown",
   "metadata": {},
   "source": [
    "Try our first regression model"
   ]
  },
  {
   "cell_type": "code",
   "execution_count": 30,
   "metadata": {},
   "outputs": [
    {
     "name": "stdout",
     "output_type": "stream",
     "text": [
      "intercept: 893.1823817665359 coefficients: [14.07651485 -3.89773571 36.42940525]\n"
     ]
    },
    {
     "data": {
      "text/plain": [
       "400.73596163760567"
      ]
     },
     "execution_count": 30,
     "metadata": {},
     "output_type": "execute_result"
    }
   ],
   "source": [
    "score_chocolate_normal = score(df, df_2021, 'chocolate_normal', ['month', 'day', 'weekday'])\n",
    "score_chocolate_normal"
   ]
  },
  {
   "cell_type": "code",
   "execution_count": 31,
   "metadata": {},
   "outputs": [
    {
     "name": "stdout",
     "output_type": "stream",
     "text": [
      "intercept: 400.9376149488954 coefficients: [13.96310598 -1.66197636  2.98526001]\n"
     ]
    },
    {
     "data": {
      "text/plain": [
       "217.78544285365496"
      ]
     },
     "execution_count": 31,
     "metadata": {},
     "output_type": "execute_result"
    }
   ],
   "source": [
    "score_chocolate_fancy = score(df, df_2021, 'chocolate_fancy', ['month', 'day', 'weekday'])\n",
    "score_chocolate_fancy"
   ]
  },
  {
   "cell_type": "code",
   "execution_count": 32,
   "metadata": {},
   "outputs": [
    {
     "name": "stdout",
     "output_type": "stream",
     "text": [
      "intercept: 417.5123535935806 coefficients: [44.66223397 -0.25762083  1.11905266]\n"
     ]
    },
    {
     "data": {
      "text/plain": [
       "410.4963691519664"
      ]
     },
     "execution_count": 32,
     "metadata": {},
     "output_type": "execute_result"
    }
   ],
   "source": [
    "score_chocolate_frozen = score(df, df_2021, 'chocolate_frozen', ['month', 'day', 'weekday'])\n",
    "score_chocolate_frozen"
   ]
  },
  {
   "cell_type": "markdown",
   "metadata": {},
   "source": [
    "## Start Exercise\n",
    "Now it's up to you: add new columns to the two dataframes (make sure to treat both the same way) to improve the regression model. You might want to start with a one-hot encoding of either month or weekday. Hint: since we are using pandas dataframes it might be easier to use the pd.get_dummies() method for this instead of the OneHotEncoder from sklearn.\n",
    "\n",
    "Your goal in this exercise is to add more columns to both dataframes and then run the score functions again with new columns added, resulting in a mean absolute error that is as low as possible. "
   ]
  },
  {
   "cell_type": "code",
   "execution_count": 43,
   "metadata": {},
   "outputs": [
    {
     "name": "stdout",
     "output_type": "stream",
     "text": [
      "intercept: 6091984862946012.0 coefficients: [-6.09198486e+15 -6.09198486e+15 -6.09198486e+15 -6.09198486e+15\n",
      " -6.09198486e+15 -6.09198486e+15 -6.09198486e+15 -6.09198486e+15\n",
      " -6.09198486e+15 -6.09198486e+15 -6.09198486e+15 -6.09198486e+15]\n",
      "chocolate_normal 321.2896174863388\n",
      "intercept: 1408828640056183.8 coefficients: [-1.40882864e+15 -1.40882864e+15 -1.40882864e+15 -1.40882864e+15\n",
      " -1.40882864e+15 -1.40882864e+15 -1.40882864e+15 -1.40882864e+15\n",
      " -1.40882864e+15 -1.40882864e+15 -1.40882864e+15 -1.40882864e+15]\n",
      "chocolate_fancy 200.5737704918033\n",
      "intercept: 569830487816053.8 coefficients: [-5.69830488e+14 -5.69830488e+14 -5.69830488e+14 -5.69830488e+14\n",
      " -5.69830488e+14 -5.69830488e+14 -5.69830488e+14 -5.69830488e+14\n",
      " -5.69830488e+14 -5.69830488e+14 -5.69830488e+14 -5.69830488e+14]\n",
      "chocolate_frozen 148.8125\n"
     ]
    },
    {
     "data": {
      "text/html": [
       "<div>\n",
       "<style scoped>\n",
       "    .dataframe tbody tr th:only-of-type {\n",
       "        vertical-align: middle;\n",
       "    }\n",
       "\n",
       "    .dataframe tbody tr th {\n",
       "        vertical-align: top;\n",
       "    }\n",
       "\n",
       "    .dataframe thead th {\n",
       "        text-align: right;\n",
       "    }\n",
       "</style>\n",
       "<table border=\"1\" class=\"dataframe\">\n",
       "  <thead>\n",
       "    <tr style=\"text-align: right;\">\n",
       "      <th></th>\n",
       "      <th>datetime</th>\n",
       "      <th>year</th>\n",
       "      <th>month</th>\n",
       "      <th>day</th>\n",
       "      <th>weekday</th>\n",
       "      <th>chocolate_normal</th>\n",
       "      <th>chocolate_fancy</th>\n",
       "      <th>chocolate_frozen</th>\n",
       "      <th>Jan</th>\n",
       "      <th>Feb</th>\n",
       "      <th>Mar</th>\n",
       "      <th>Apr</th>\n",
       "      <th>May</th>\n",
       "      <th>Jun</th>\n",
       "      <th>Jul</th>\n",
       "      <th>Aug</th>\n",
       "      <th>Sep</th>\n",
       "      <th>Oct</th>\n",
       "      <th>Nov</th>\n",
       "      <th>Dec</th>\n",
       "    </tr>\n",
       "  </thead>\n",
       "  <tbody>\n",
       "    <tr>\n",
       "      <th>0</th>\n",
       "      <td>2020-01-01</td>\n",
       "      <td>2020</td>\n",
       "      <td>1</td>\n",
       "      <td>1</td>\n",
       "      <td>4</td>\n",
       "      <td>254.0</td>\n",
       "      <td>167</td>\n",
       "      <td>61</td>\n",
       "      <td>True</td>\n",
       "      <td>False</td>\n",
       "      <td>False</td>\n",
       "      <td>False</td>\n",
       "      <td>False</td>\n",
       "      <td>False</td>\n",
       "      <td>False</td>\n",
       "      <td>False</td>\n",
       "      <td>False</td>\n",
       "      <td>False</td>\n",
       "      <td>False</td>\n",
       "      <td>False</td>\n",
       "    </tr>\n",
       "    <tr>\n",
       "      <th>1</th>\n",
       "      <td>2020-01-02</td>\n",
       "      <td>2020</td>\n",
       "      <td>1</td>\n",
       "      <td>2</td>\n",
       "      <td>5</td>\n",
       "      <td>428.0</td>\n",
       "      <td>202</td>\n",
       "      <td>65</td>\n",
       "      <td>True</td>\n",
       "      <td>False</td>\n",
       "      <td>False</td>\n",
       "      <td>False</td>\n",
       "      <td>False</td>\n",
       "      <td>False</td>\n",
       "      <td>False</td>\n",
       "      <td>False</td>\n",
       "      <td>False</td>\n",
       "      <td>False</td>\n",
       "      <td>False</td>\n",
       "      <td>False</td>\n",
       "    </tr>\n",
       "    <tr>\n",
       "      <th>2</th>\n",
       "      <td>2020-01-03</td>\n",
       "      <td>2020</td>\n",
       "      <td>1</td>\n",
       "      <td>3</td>\n",
       "      <td>6</td>\n",
       "      <td>970.0</td>\n",
       "      <td>360</td>\n",
       "      <td>174</td>\n",
       "      <td>True</td>\n",
       "      <td>False</td>\n",
       "      <td>False</td>\n",
       "      <td>False</td>\n",
       "      <td>False</td>\n",
       "      <td>False</td>\n",
       "      <td>False</td>\n",
       "      <td>False</td>\n",
       "      <td>False</td>\n",
       "      <td>False</td>\n",
       "      <td>False</td>\n",
       "      <td>False</td>\n",
       "    </tr>\n",
       "    <tr>\n",
       "      <th>3</th>\n",
       "      <td>2020-01-04</td>\n",
       "      <td>2020</td>\n",
       "      <td>1</td>\n",
       "      <td>4</td>\n",
       "      <td>7</td>\n",
       "      <td>1005.0</td>\n",
       "      <td>302</td>\n",
       "      <td>152</td>\n",
       "      <td>True</td>\n",
       "      <td>False</td>\n",
       "      <td>False</td>\n",
       "      <td>False</td>\n",
       "      <td>False</td>\n",
       "      <td>False</td>\n",
       "      <td>False</td>\n",
       "      <td>False</td>\n",
       "      <td>False</td>\n",
       "      <td>False</td>\n",
       "      <td>False</td>\n",
       "      <td>False</td>\n",
       "    </tr>\n",
       "    <tr>\n",
       "      <th>4</th>\n",
       "      <td>2020-01-05</td>\n",
       "      <td>2020</td>\n",
       "      <td>1</td>\n",
       "      <td>5</td>\n",
       "      <td>1</td>\n",
       "      <td>722.0</td>\n",
       "      <td>342</td>\n",
       "      <td>145</td>\n",
       "      <td>True</td>\n",
       "      <td>False</td>\n",
       "      <td>False</td>\n",
       "      <td>False</td>\n",
       "      <td>False</td>\n",
       "      <td>False</td>\n",
       "      <td>False</td>\n",
       "      <td>False</td>\n",
       "      <td>False</td>\n",
       "      <td>False</td>\n",
       "      <td>False</td>\n",
       "      <td>False</td>\n",
       "    </tr>\n",
       "  </tbody>\n",
       "</table>\n",
       "</div>"
      ],
      "text/plain": [
       "     datetime  year  month  day  weekday  chocolate_normal  chocolate_fancy  \\\n",
       "0  2020-01-01  2020      1    1        4             254.0              167   \n",
       "1  2020-01-02  2020      1    2        5             428.0              202   \n",
       "2  2020-01-03  2020      1    3        6             970.0              360   \n",
       "3  2020-01-04  2020      1    4        7            1005.0              302   \n",
       "4  2020-01-05  2020      1    5        1             722.0              342   \n",
       "\n",
       "   chocolate_frozen   Jan    Feb    Mar    Apr    May    Jun    Jul    Aug  \\\n",
       "0                61  True  False  False  False  False  False  False  False   \n",
       "1                65  True  False  False  False  False  False  False  False   \n",
       "2               174  True  False  False  False  False  False  False  False   \n",
       "3               152  True  False  False  False  False  False  False  False   \n",
       "4               145  True  False  False  False  False  False  False  False   \n",
       "\n",
       "     Sep    Oct    Nov    Dec  \n",
       "0  False  False  False  False  \n",
       "1  False  False  False  False  \n",
       "2  False  False  False  False  \n",
       "3  False  False  False  False  \n",
       "4  False  False  False  False  "
      ]
     },
     "execution_count": 43,
     "metadata": {},
     "output_type": "execute_result"
    }
   ],
   "source": [
    "# One-hot encoding\n",
    "df_month = pd.get_dummies(df['month'], prefix='month')\n",
    "df_2021_month = pd.get_dummies(df_2021['month'], prefix='month')\n",
    "\n",
    "# rename month columns\n",
    "rename_dict = {\n",
    "    'month_1': 'Jan', \n",
    "    'month_2': 'Feb', \n",
    "    'month_3': 'Mar', \n",
    "    'month_4': 'Apr', \n",
    "    'month_5': 'May', \n",
    "    'month_6': 'Jun', \n",
    "    'month_7': 'Jul', \n",
    "    'month_8': 'Aug', \n",
    "    'month_9': 'Sep', \n",
    "    'month_10': 'Oct', \n",
    "    'month_11': 'Nov', \n",
    "    'month_12': 'Dec'\n",
    "}\n",
    "df_month = df_month.rename(columns=rename_dict)\n",
    "df_2021_month = df_2021_month.rename(columns=rename_dict)\n",
    "\n",
    "df_1 = df.join(df_month)\n",
    "df_2021_1 = df_2021.join(df_2021_month)\n",
    "\n",
    "# show difference in chocolate_normal between months\n",
    "print(f\"chocolate_normal\", score(df_1, df_2021_1, 'chocolate_normal', ['Jan', 'Feb', 'Mar', 'Apr', 'May', 'Jun', 'Jul', 'Aug', 'Sep', 'Oct', 'Nov', 'Dec']))\n",
    "print(f\"chocolate_fancy\", score(df_1, df_2021_1, 'chocolate_fancy', ['Jan', 'Feb', 'Mar', 'Apr', 'May', 'Jun', 'Jul', 'Aug', 'Sep', 'Oct', 'Nov', 'Dec']))\n",
    "print(f\"chocolate_frozen\", score(df_1, df_2021_1, 'chocolate_frozen', ['Jan', 'Feb', 'Mar', 'Apr', 'May', 'Jun', 'Jul', 'Aug', 'Sep', 'Oct', 'Nov', 'Dec']))\n",
    "\n",
    "df_1.head()"
   ]
  },
  {
   "cell_type": "code",
   "execution_count": 44,
   "metadata": {},
   "outputs": [
    {
     "name": "stdout",
     "output_type": "stream",
     "text": [
      "intercept: 7694722824814188.0 coefficients: [-1.16623912e+16 -1.16623912e+16 -1.16623912e+16 -1.16623912e+16\n",
      " -1.16623912e+16 -1.16623912e+16 -1.16623912e+16  3.96766838e+15\n",
      "  3.96766838e+15  3.96766838e+15  3.96766838e+15  3.96766838e+15\n",
      "  3.96766838e+15  3.96766838e+15  3.96766838e+15  3.96766838e+15\n",
      "  3.96766838e+15  3.96766838e+15  3.96766838e+15]\n",
      "intercept: 4135586645835690.0 coefficients: [-2.97023916e+15 -2.97023916e+15 -2.97023916e+15 -2.97023916e+15\n",
      " -2.97023916e+15 -2.97023916e+15 -2.97023916e+15 -1.16534749e+15\n",
      " -1.16534749e+15 -1.16534749e+15 -1.16534749e+15 -1.16534749e+15\n",
      " -1.16534749e+15 -1.16534749e+15 -1.16534749e+15 -1.16534749e+15\n",
      " -1.16534749e+15 -1.16534749e+15 -1.16534749e+15]\n",
      "intercept: 853321329933085.2 coefficients: [-1.46105738e+15 -1.46105738e+15 -1.46105738e+15 -1.46105738e+15\n",
      " -1.46105738e+15 -1.46105738e+15 -1.46105738e+15  6.07736046e+14\n",
      "  6.07736046e+14  6.07736046e+14  6.07736046e+14  6.07736046e+14\n",
      "  6.07736046e+14  6.07736046e+14  6.07736046e+14  6.07736046e+14\n",
      "  6.07736046e+14  6.07736046e+14  6.07736046e+14]\n",
      "chocolate_normal 311.3524590163934\n",
      "chocolate_fancy 199.05464480874318\n",
      "chocolate_frozen 146.28415300546447\n",
      "\n",
      " \n",
      " Show table head\n",
      "       datetime  year  month  day  weekday  chocolate_normal  chocolate_fancy  \\\n",
      "0    2020-01-01  2020      1    1        4             254.0              167   \n",
      "1    2020-01-02  2020      1    2        5             428.0              202   \n",
      "2    2020-01-03  2020      1    3        6             970.0              360   \n",
      "3    2020-01-04  2020      1    4        7            1005.0              302   \n",
      "4    2020-01-05  2020      1    5        1             722.0              342   \n",
      "..          ...   ...    ...  ...      ...               ...              ...   \n",
      "361  2020-12-27  2020     12   27        1             744.0              441   \n",
      "362  2020-12-28  2020     12   28        2             685.0              320   \n",
      "363  2020-12-29  2020     12   29        3             561.0              415   \n",
      "364  2020-12-30  2020     12   30        4            1017.0              300   \n",
      "365  2020-12-31  2020     12   31        5            1267.0              350   \n",
      "\n",
      "     chocolate_frozen    Jan    Feb  ...    Oct    Nov    Dec    Mon    Tue  \\\n",
      "0                  61   True  False  ...  False  False  False  False  False   \n",
      "1                  65   True  False  ...  False  False  False  False  False   \n",
      "2                 174   True  False  ...  False  False  False  False  False   \n",
      "3                 152   True  False  ...  False  False  False  False  False   \n",
      "4                 145   True  False  ...  False  False  False   True  False   \n",
      "..                ...    ...    ...  ...    ...    ...    ...    ...    ...   \n",
      "361               365  False  False  ...  False  False   True   True  False   \n",
      "362               194  False  False  ...  False  False   True  False   True   \n",
      "363               211  False  False  ...  False  False   True  False  False   \n",
      "364               185  False  False  ...  False  False   True  False  False   \n",
      "365               259  False  False  ...  False  False   True  False  False   \n",
      "\n",
      "       Wed    Thu    Fri    Sat    Sun  \n",
      "0    False   True  False  False  False  \n",
      "1    False  False   True  False  False  \n",
      "2    False  False  False   True  False  \n",
      "3    False  False  False  False   True  \n",
      "4    False  False  False  False  False  \n",
      "..     ...    ...    ...    ...    ...  \n",
      "361  False  False  False  False  False  \n",
      "362  False  False  False  False  False  \n",
      "363   True  False  False  False  False  \n",
      "364  False   True  False  False  False  \n",
      "365  False  False   True  False  False  \n",
      "\n",
      "[366 rows x 27 columns]\n"
     ]
    }
   ],
   "source": [
    "# further increase the number of features\n",
    "df_weekday = pd.get_dummies(df['weekday'], prefix='weekday')\n",
    "df_2021_weekday = pd.get_dummies(df_2021['weekday'], prefix='weekday')\n",
    "\n",
    "# rename weekday columns\n",
    "rename_dict = {\n",
    "    'weekday_1': 'Mon', \n",
    "    'weekday_2': 'Tue', \n",
    "    'weekday_3': 'Wed', \n",
    "    'weekday_4': 'Thu', \n",
    "    'weekday_5': 'Fri', \n",
    "    'weekday_6': 'Sat', \n",
    "    'weekday_7': 'Sun'\n",
    "}\n",
    "\n",
    "df_weekday = df_weekday.rename(columns=rename_dict)\n",
    "df_2021_weekday = df_2021_weekday.rename(columns=rename_dict)\n",
    "\n",
    "df_2 = df_1.join(df_weekday)\n",
    "df_2021_2 = df_2021_1.join(df_2021_weekday)\n",
    "\n",
    "score_chocolate_normal_new = score(df_2, df_2021_2, 'chocolate_normal', ['Mon', 'Tue', 'Wed', 'Thu', 'Fri', 'Sat', 'Sun', 'Jan', 'Feb', 'Mar', 'Apr', 'May', 'Jun', 'Jul', 'Aug', 'Sep', 'Oct', 'Nov', 'Dec'])\n",
    "score_chocolate_fancy_new = score(df_2, df_2021_2, 'chocolate_fancy', ['Mon', 'Tue', 'Wed', 'Thu', 'Fri', 'Sat', 'Sun', 'Jan', 'Feb', 'Mar', 'Apr', 'May', 'Jun', 'Jul', 'Aug', 'Sep', 'Oct', 'Nov', 'Dec'])\n",
    "score_chocolate_frozen_new = score(df_2, df_2021_2, 'chocolate_frozen', ['Mon', 'Tue', 'Wed', 'Thu', 'Fri', 'Sat', 'Sun', 'Jan', 'Feb', 'Mar', 'Apr', 'May', 'Jun', 'Jul', 'Aug', 'Sep', 'Oct', 'Nov', 'Dec'])\n",
    "\n",
    "# show difference in chocolate_normal between months\n",
    "print(f\"chocolate_normal\", score_chocolate_normal_new)\n",
    "print(f\"chocolate_fancy\", score_chocolate_fancy_new)\n",
    "print(f\"chocolate_frozen\", score_chocolate_frozen_new)\n",
    "\n",
    "print(f\"\\n \\n Show table head\")\n",
    "print(df_2)"
   ]
  },
  {
   "cell_type": "code",
   "execution_count": 36,
   "metadata": {},
   "outputs": [
    {
     "name": "stdout",
     "output_type": "stream",
     "text": [
      "score_chocolate_normal: 400.73596163760567, score_chocolate_normal_new: 311.3524590163934\n",
      "score_chocolate_frozen: 410.4963691519664, score_chocolate_frozen_new: 146.28415300546447\n",
      "score_chocolate_fancy: 217.78544285365496, score_chocolate_fancy_new: 199.05464480874318\n"
     ]
    }
   ],
   "source": [
    "# show difference in chocolate_normal between months\n",
    "print(f\"score_chocolate_normal: {score_chocolate_normal}, score_chocolate_normal_new: {score_chocolate_normal_new}\")\n",
    "print(f\"score_chocolate_frozen: {score_chocolate_frozen}, score_chocolate_frozen_new: {score_chocolate_frozen_new}\")\n",
    "print(f\"score_chocolate_fancy: {score_chocolate_fancy}, score_chocolate_fancy_new: {score_chocolate_fancy_new}\")"
   ]
  },
  {
   "cell_type": "code",
   "execution_count": null,
   "metadata": {},
   "outputs": [],
   "source": [
    "# new ideas to test\n",
    "# days to valentine's day\n",
    "# days to easter\n",
    "# days to christmas\n"
   ]
  }
 ],
 "metadata": {
  "kernelspec": {
   "display_name": "Python 3 (ipykernel)",
   "language": "python",
   "name": "python3"
  },
  "language_info": {
   "codemirror_mode": {
    "name": "ipython",
    "version": 3
   },
   "file_extension": ".py",
   "mimetype": "text/x-python",
   "name": "python",
   "nbconvert_exporter": "python",
   "pygments_lexer": "ipython3",
   "version": "3.11.6"
  }
 },
 "nbformat": 4,
 "nbformat_minor": 4
}
