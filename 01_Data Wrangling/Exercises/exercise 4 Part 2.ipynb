{
 "cells": [
  {
   "cell_type": "markdown",
   "metadata": {},
   "source": [
    "## Feature Extraction\n",
    "In this exercise we take the chocolate data from exercise 4 and do some machine learning with it. Our intention is to take the data from 2020 and use it to predict for every day of 2021 how much chocolate of which type we will be selling."
   ]
  },
  {
   "cell_type": "code",
   "execution_count": 1,
   "metadata": {},
   "outputs": [],
   "source": [
    "import numpy as np\n",
    "import pandas as pd\n",
    "from sklearn.linear_model import LinearRegression"
   ]
  },
  {
   "cell_type": "code",
   "execution_count": 2,
   "metadata": {},
   "outputs": [],
   "source": [
    "#np.set_printoptions(suppress=True) # in case you prefer to avoid the scientific notations numpy often uses"
   ]
  },
  {
   "cell_type": "markdown",
   "metadata": {},
   "source": [
    "Some helper functions"
   ]
  },
  {
   "cell_type": "code",
   "execution_count": 2,
   "metadata": {},
   "outputs": [],
   "source": [
    "def dataframe_to_Xy(df, predict_column, feature_columns):\n",
    "    \"\"\"Convert the dataframe to a format usable for the ML algorithms\"\"\"\n",
    "    X = df[feature_columns].values.reshape(-1, df[feature_columns].shape[1]) # all features\n",
    "    y = df[[predict_column]].values.reshape(-1, 1) # values to predict\n",
    "    return X, y"
   ]
  },
  {
   "cell_type": "code",
   "execution_count": 3,
   "metadata": {},
   "outputs": [],
   "source": [
    "def score(df_train, df_predict, predict_column, feature_columns):\n",
    "    \"\"\"Trains a linear regression model and evaluates it on a second dataset\"\"\"\n",
    "    X1, y1 = dataframe_to_Xy(df_train, predict_column, feature_columns)\n",
    "    X2, y2 = dataframe_to_Xy(df_predict, predict_column, feature_columns)\n",
    "    lr = LinearRegression()\n",
    "    reg = lr.fit(X1, y1)\n",
    "    print(f\"intercept: {lr.intercept_[0]} coefficients: {lr.coef_[0]}\")\n",
    "    mean_abs_error = abs(reg.predict(X2) - y2).mean()\n",
    "    return mean_abs_error"
   ]
  },
  {
   "cell_type": "code",
   "execution_count": null,
   "metadata": {},
   "outputs": [],
   "source": [
    "def all_possible_feature_columns(df):\n",
    "    columns = df.columns.values.tolist()\n",
    "    return [s for s in columns if s not in ['datetime', 'year', 'chocolate_normal', 'chocolate_fancy','chocolate_frozen']]"
   ]
  },
  {
   "cell_type": "markdown",
   "metadata": {},
   "source": [
    "Read the two files for 2020 and 2021"
   ]
  },
  {
   "cell_type": "code",
   "execution_count": 4,
   "metadata": {},
   "outputs": [
    {
     "data": {
      "text/html": [
       "<div>\n",
       "<style scoped>\n",
       "    .dataframe tbody tr th:only-of-type {\n",
       "        vertical-align: middle;\n",
       "    }\n",
       "\n",
       "    .dataframe tbody tr th {\n",
       "        vertical-align: top;\n",
       "    }\n",
       "\n",
       "    .dataframe thead th {\n",
       "        text-align: right;\n",
       "    }\n",
       "</style>\n",
       "<table border=\"1\" class=\"dataframe\">\n",
       "  <thead>\n",
       "    <tr style=\"text-align: right;\">\n",
       "      <th></th>\n",
       "      <th>datetime</th>\n",
       "      <th>year</th>\n",
       "      <th>month</th>\n",
       "      <th>day</th>\n",
       "      <th>weekday</th>\n",
       "      <th>chocolate_normal</th>\n",
       "      <th>chocolate_fancy</th>\n",
       "      <th>chocolate_frozen</th>\n",
       "    </tr>\n",
       "  </thead>\n",
       "  <tbody>\n",
       "    <tr>\n",
       "      <th>0</th>\n",
       "      <td>2020-01-01</td>\n",
       "      <td>2020</td>\n",
       "      <td>1</td>\n",
       "      <td>1</td>\n",
       "      <td>4</td>\n",
       "      <td>254.0</td>\n",
       "      <td>167</td>\n",
       "      <td>61</td>\n",
       "    </tr>\n",
       "    <tr>\n",
       "      <th>1</th>\n",
       "      <td>2020-01-02</td>\n",
       "      <td>2020</td>\n",
       "      <td>1</td>\n",
       "      <td>2</td>\n",
       "      <td>5</td>\n",
       "      <td>428.0</td>\n",
       "      <td>202</td>\n",
       "      <td>65</td>\n",
       "    </tr>\n",
       "    <tr>\n",
       "      <th>2</th>\n",
       "      <td>2020-01-03</td>\n",
       "      <td>2020</td>\n",
       "      <td>1</td>\n",
       "      <td>3</td>\n",
       "      <td>6</td>\n",
       "      <td>970.0</td>\n",
       "      <td>360</td>\n",
       "      <td>174</td>\n",
       "    </tr>\n",
       "    <tr>\n",
       "      <th>3</th>\n",
       "      <td>2020-01-04</td>\n",
       "      <td>2020</td>\n",
       "      <td>1</td>\n",
       "      <td>4</td>\n",
       "      <td>7</td>\n",
       "      <td>1005.0</td>\n",
       "      <td>302</td>\n",
       "      <td>152</td>\n",
       "    </tr>\n",
       "    <tr>\n",
       "      <th>4</th>\n",
       "      <td>2020-01-05</td>\n",
       "      <td>2020</td>\n",
       "      <td>1</td>\n",
       "      <td>5</td>\n",
       "      <td>1</td>\n",
       "      <td>722.0</td>\n",
       "      <td>342</td>\n",
       "      <td>145</td>\n",
       "    </tr>\n",
       "  </tbody>\n",
       "</table>\n",
       "</div>"
      ],
      "text/plain": [
       "     datetime  year  month  day  weekday  chocolate_normal  chocolate_fancy  \\\n",
       "0  2020-01-01  2020      1    1        4             254.0              167   \n",
       "1  2020-01-02  2020      1    2        5             428.0              202   \n",
       "2  2020-01-03  2020      1    3        6             970.0              360   \n",
       "3  2020-01-04  2020      1    4        7            1005.0              302   \n",
       "4  2020-01-05  2020      1    5        1             722.0              342   \n",
       "\n",
       "   chocolate_frozen  \n",
       "0                61  \n",
       "1                65  \n",
       "2               174  \n",
       "3               152  \n",
       "4               145  "
      ]
     },
     "execution_count": 4,
     "metadata": {},
     "output_type": "execute_result"
    }
   ],
   "source": [
    "df = pd.read_csv(\"chocolate_combined.csv\")\n",
    "df.head()"
   ]
  },
  {
   "cell_type": "code",
   "execution_count": 5,
   "metadata": {},
   "outputs": [
    {
     "data": {
      "text/html": [
       "<div>\n",
       "<style scoped>\n",
       "    .dataframe tbody tr th:only-of-type {\n",
       "        vertical-align: middle;\n",
       "    }\n",
       "\n",
       "    .dataframe tbody tr th {\n",
       "        vertical-align: top;\n",
       "    }\n",
       "\n",
       "    .dataframe thead th {\n",
       "        text-align: right;\n",
       "    }\n",
       "</style>\n",
       "<table border=\"1\" class=\"dataframe\">\n",
       "  <thead>\n",
       "    <tr style=\"text-align: right;\">\n",
       "      <th></th>\n",
       "      <th>datetime</th>\n",
       "      <th>year</th>\n",
       "      <th>month</th>\n",
       "      <th>day</th>\n",
       "      <th>weekday</th>\n",
       "      <th>chocolate_normal</th>\n",
       "      <th>chocolate_fancy</th>\n",
       "      <th>chocolate_frozen</th>\n",
       "    </tr>\n",
       "  </thead>\n",
       "  <tbody>\n",
       "    <tr>\n",
       "      <th>0</th>\n",
       "      <td>2021-01-01</td>\n",
       "      <td>2021</td>\n",
       "      <td>1</td>\n",
       "      <td>1</td>\n",
       "      <td>6</td>\n",
       "      <td>403</td>\n",
       "      <td>170</td>\n",
       "      <td>87</td>\n",
       "    </tr>\n",
       "    <tr>\n",
       "      <th>1</th>\n",
       "      <td>2021-01-02</td>\n",
       "      <td>2021</td>\n",
       "      <td>1</td>\n",
       "      <td>2</td>\n",
       "      <td>7</td>\n",
       "      <td>820</td>\n",
       "      <td>396</td>\n",
       "      <td>92</td>\n",
       "    </tr>\n",
       "    <tr>\n",
       "      <th>2</th>\n",
       "      <td>2021-01-03</td>\n",
       "      <td>2021</td>\n",
       "      <td>1</td>\n",
       "      <td>3</td>\n",
       "      <td>1</td>\n",
       "      <td>966</td>\n",
       "      <td>473</td>\n",
       "      <td>151</td>\n",
       "    </tr>\n",
       "    <tr>\n",
       "      <th>3</th>\n",
       "      <td>2021-01-04</td>\n",
       "      <td>2021</td>\n",
       "      <td>1</td>\n",
       "      <td>4</td>\n",
       "      <td>2</td>\n",
       "      <td>565</td>\n",
       "      <td>393</td>\n",
       "      <td>127</td>\n",
       "    </tr>\n",
       "    <tr>\n",
       "      <th>4</th>\n",
       "      <td>2021-01-05</td>\n",
       "      <td>2021</td>\n",
       "      <td>1</td>\n",
       "      <td>5</td>\n",
       "      <td>3</td>\n",
       "      <td>945</td>\n",
       "      <td>363</td>\n",
       "      <td>159</td>\n",
       "    </tr>\n",
       "  </tbody>\n",
       "</table>\n",
       "</div>"
      ],
      "text/plain": [
       "     datetime  year  month  day  weekday  chocolate_normal  chocolate_fancy  \\\n",
       "0  2021-01-01  2021      1    1        6               403              170   \n",
       "1  2021-01-02  2021      1    2        7               820              396   \n",
       "2  2021-01-03  2021      1    3        1               966              473   \n",
       "3  2021-01-04  2021      1    4        2               565              393   \n",
       "4  2021-01-05  2021      1    5        3               945              363   \n",
       "\n",
       "   chocolate_frozen  \n",
       "0                87  \n",
       "1                92  \n",
       "2               151  \n",
       "3               127  \n",
       "4               159  "
      ]
     },
     "execution_count": 5,
     "metadata": {},
     "output_type": "execute_result"
    }
   ],
   "source": [
    "df_2021 = pd.read_csv(\"chocolate_2021.csv\")\n",
    "df_2021.head()"
   ]
  },
  {
   "cell_type": "markdown",
   "metadata": {},
   "source": [
    "Try our first regression model"
   ]
  },
  {
   "cell_type": "code",
   "execution_count": 6,
   "metadata": {},
   "outputs": [
    {
     "name": "stdout",
     "output_type": "stream",
     "text": [
      "intercept: 893.1823817665356 coefficients: [14.07651485 -3.89773571 36.42940525]\n"
     ]
    },
    {
     "data": {
      "text/plain": [
       "400.73596163760567"
      ]
     },
     "execution_count": 6,
     "metadata": {},
     "output_type": "execute_result"
    }
   ],
   "source": [
    "score(df, df_2021, 'chocolate_normal', ['month', 'day', 'weekday'])"
   ]
  },
  {
   "cell_type": "code",
   "execution_count": 7,
   "metadata": {},
   "outputs": [
    {
     "name": "stdout",
     "output_type": "stream",
     "text": [
      "intercept: 400.9376149488952 coefficients: [13.96310598 -1.66197636  2.98526001]\n"
     ]
    },
    {
     "data": {
      "text/plain": [
       "217.785442853655"
      ]
     },
     "execution_count": 7,
     "metadata": {},
     "output_type": "execute_result"
    }
   ],
   "source": [
    "score(df, df_2021, 'chocolate_fancy', ['month', 'day', 'weekday'])"
   ]
  },
  {
   "cell_type": "code",
   "execution_count": 8,
   "metadata": {},
   "outputs": [
    {
     "name": "stdout",
     "output_type": "stream",
     "text": [
      "intercept: 417.5123535935799 coefficients: [44.66223397 -0.25762083  1.11905266]\n"
     ]
    },
    {
     "data": {
      "text/plain": [
       "410.4963691519663"
      ]
     },
     "execution_count": 8,
     "metadata": {},
     "output_type": "execute_result"
    }
   ],
   "source": [
    "score(df, df_2021, 'chocolate_frozen', ['month', 'day', 'weekday'])"
   ]
  },
  {
   "cell_type": "markdown",
   "metadata": {},
   "source": [
    "## Start Exercise\n",
    "Now it's up to you: add new columns to the two dataframes (make sure to treat both the same way) to improve the regression model. You might want to start with a one-hot encoding of either month or weekday. Hint: since we are using pandas dataframes it might be easier to use the pd.get_dummies() method for this instead of the OneHotEncoder from sklearn.\n",
    "\n",
    "Your goal in this exercise is to add more columns to both dataframes and then run the score functions again with new columns added, resulting in a mean absolute error that is as low as possible. "
   ]
  },
  {
   "cell_type": "code",
   "execution_count": null,
   "metadata": {},
   "outputs": [],
   "source": []
  }
 ],
 "metadata": {
  "kernelspec": {
   "display_name": "Python 3",
   "language": "python",
   "name": "python3"
  },
  "language_info": {
   "codemirror_mode": {
    "name": "ipython",
    "version": 3
   },
   "file_extension": ".py",
   "mimetype": "text/x-python",
   "name": "python",
   "nbconvert_exporter": "python",
   "pygments_lexer": "ipython3",
   "version": "3.8.3"
  }
 },
 "nbformat": 4,
 "nbformat_minor": 4
}
