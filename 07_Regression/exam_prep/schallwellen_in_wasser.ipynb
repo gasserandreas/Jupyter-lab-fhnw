{
 "cells": [
  {
   "cell_type": "code",
   "execution_count": 18,
   "metadata": {},
   "outputs": [],
   "source": [
    "import os\n",
    "import numpy as np\n",
    "import matplotlib.pyplot as plt\n",
    "import pandas as pd\n",
    "import statsmodels.formula.api as smf\n",
    "import scipy as scp\n",
    "import warnings\n",
    "warnings.filterwarnings('ignore')"
   ]
  },
  {
   "cell_type": "code",
   "execution_count": 19,
   "metadata": {},
   "outputs": [
    {
     "name": "stdout",
     "output_type": "stream",
     "text": [
      "               T            c          x\n",
      "count   6.000000     6.000000   6.000000\n",
      "mean   12.500000  1495.333333  10.148931\n",
      "std     9.354143    32.370769   7.028939\n",
      "min     0.000000  1448.000000   0.000000\n",
      "25%     6.250000  1475.500000   5.768573\n",
      "50%    12.500000  1498.500000  10.767476\n",
      "75%    18.750000  1518.500000  15.071711\n",
      "max    25.000000  1534.000000  18.749908\n"
     ]
    }
   ],
   "source": [
    "df = pd.read_csv('schallwellen_in_wasser.csv')\n",
    "\n",
    "df['x'] = df['T'] * np.exp(-1 * df['T'] / 86.9)\n",
    "\n",
    "print(df.describe())"
   ]
  },
  {
   "cell_type": "code",
   "execution_count": 15,
   "metadata": {},
   "outputs": [
    {
     "data": {
      "image/png": "[encoded data removed]",
      "text/plain": [
       "<Figure size 640x480 with 1 Axes>"
      ]
     },
     "metadata": {},
     "output_type": "display_data"
    }
   ],
   "source": [
    "# print values as scatterplot\n",
    "\n",
    "plt.xlim(1400, 1600)\n",
    "plt.ylim(0.5, 20.0)\n",
    "\n",
    "plt.xlabel('c')\n",
    "plt.ylabel('x')\n",
    "plt.title('c vs transformed')\n",
    "\n",
    "plt.scatter(df['c'], df['x'], color='red')\n",
    "\n",
    "plt.grid()\n",
    "\n",
    "plt.show()"
   ]
  },
  {
   "cell_type": "code",
   "execution_count": 16,
   "metadata": {},
   "outputs": [
    {
     "name": "stdout",
     "output_type": "stream",
     "text": [
      "beta_1: 0.21705998203940133\n"
     ]
    }
   ],
   "source": [
    "x_bar = np.mean(df['c'])\n",
    "y_bar = np.mean(df['x'])\n",
    "\n",
    "Sxx = np.sum((df['c'] - x_bar)**2)\n",
    "Sxy = np.sum((df['c'] - x_bar)*(df['x'] - y_bar))\n",
    "\n",
    "beta_1 = Sxy/Sxx\n",
    "\n",
    "print('beta_1:', beta_1)"
   ]
  },
  {
   "cell_type": "code",
   "execution_count": 17,
   "metadata": {},
   "outputs": [
    {
     "name": "stdout",
     "output_type": "stream",
     "text": [
      "                            OLS Regression Results                            \n",
      "==============================================================================\n",
      "Dep. Variable:                      c   R-squared:                       0.999\n",
      "Model:                            OLS   Adj. R-squared:                  0.999\n",
      "Method:                 Least Squares   F-statistic:                     5531.\n",
      "Date:                Sun, 21 Apr 2024   Prob (F-statistic):           1.96e-07\n",
      "Time:                        18:07:14   Log-Likelihood:                -7.1324\n",
      "No. Observations:                   6   AIC:                             18.26\n",
      "Df Residuals:                       4   BIC:                             17.85\n",
      "Df Model:                           1                                         \n",
      "Covariance Type:            nonrobust                                         \n",
      "==============================================================================\n",
      "                 coef    std err          t      P>|t|      [0.025      0.975]\n",
      "------------------------------------------------------------------------------\n",
      "Intercept   1448.6108      0.743   1949.013      0.000    1446.547    1450.674\n",
      "x              4.6037      0.062     74.372      0.000       4.432       4.776\n",
      "==============================================================================\n",
      "Omnibus:                          nan   Durbin-Watson:                   2.499\n",
      "Prob(Omnibus):                    nan   Jarque-Bera (JB):                0.590\n",
      "Skew:                           0.368   Prob(JB):                        0.745\n",
      "Kurtosis:                       1.652   Cond. No.                         22.6\n",
      "==============================================================================\n",
      "\n",
      "Notes:\n",
      "[1] Standard Errors assume that the covariance matrix of the errors is correctly specified.\n"
     ]
    }
   ],
   "source": [
    "model = smf.ols('c ~ x', data=df).fit()\n",
    "print(model.summary())"
   ]
  },
  {
   "cell_type": "markdown",
   "metadata": {},
   "source": [
    "Parameter a = 1448.6108 and b = 4.6037"
   ]
  },
  {
   "cell_type": "markdown",
   "metadata": {},
   "source": []
  }
 ],
 "metadata": {
  "kernelspec": {
   "display_name": "Python 3 (ipykernel)",
   "language": "python",
   "name": "python3"
  },
  "language_info": {
   "codemirror_mode": {
    "name": "ipython",
    "version": 3
   },
   "file_extension": ".py",
   "mimetype": "text/x-python",
   "name": "python",
   "nbconvert_exporter": "python",
   "pygments_lexer": "ipython3",
   "version": "3.11.6"
  }
 },
 "nbformat": 4,
 "nbformat_minor": 2
}
