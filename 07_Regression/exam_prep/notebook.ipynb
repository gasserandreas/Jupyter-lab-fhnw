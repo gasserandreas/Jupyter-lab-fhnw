{
 "cells": [
  {
   "cell_type": "code",
   "execution_count": 46,
   "metadata": {},
   "outputs": [],
   "source": [
    "import os\n",
    "import numpy as np\n",
    "import matplotlib.pyplot as plt\n",
    "import pandas as pd\n",
    "import statsmodels.formula.api as smf\n",
    "import scipy as scp\n",
    "import warnings\n",
    "warnings.filterwarnings('ignore')"
   ]
  },
  {
   "cell_type": "code",
   "execution_count": 50,
   "metadata": {},
   "outputs": [
    {
     "name": "stdout",
     "output_type": "stream",
     "text": [
      "            Temp      celcius\n",
      "count   6.000000     6.000000\n",
      "mean   12.500000  1495.333333\n",
      "std     9.354143    32.370769\n",
      "min     0.000000  1448.000000\n",
      "25%     6.250000  1475.500000\n",
      "50%    12.500000  1498.500000\n",
      "75%    18.750000  1518.500000\n",
      "max    25.000000  1534.000000\n"
     ]
    }
   ],
   "source": [
    "# import data\n",
    "df = pd.read_csv('data.csv')\n",
    "print(df.describe())"
   ]
  },
  {
   "cell_type": "code",
   "execution_count": 51,
   "metadata": {},
   "outputs": [
    {
     "data": {
      "image/png": "[encoded data removed]",
      "text/plain": [
       "<Figure size 640x480 with 1 Axes>"
      ]
     },
     "metadata": {},
     "output_type": "display_data"
    }
   ],
   "source": [
    "# print values as scatterplot\n",
    "\n",
    "plt.xlim(0, 30)\n",
    "plt.ylim(1400, 1600)\n",
    "\n",
    "plt.xlabel('Temp')\n",
    "plt.ylabel('celcius')\n",
    "plt.title('Temp vs celcius')\n",
    "\n",
    "plt.scatter(df['Temp'], df['celcius'], color='red')\n",
    "\n",
    "plt.grid()\n",
    "\n",
    "plt.show()"
   ]
  },
  {
   "cell_type": "code",
   "execution_count": 52,
   "metadata": {},
   "outputs": [
    {
     "name": "stdout",
     "output_type": "stream",
     "text": [
      "beta_1: 3.44\n"
     ]
    }
   ],
   "source": [
    "x_bar = np.mean(df['Temp'])\n",
    "y_bar = np.mean(df['celcius'])\n",
    "\n",
    "Sxx = np.sum((df['Temp'] - x_bar)**2)\n",
    "Sxy = np.sum((df['Temp'] - x_bar)*(df['celcius'] - y_bar))\n",
    "\n",
    "beta_1 = Sxy/Sxx\n",
    "\n",
    "print('beta_1:', beta_1)"
   ]
  },
  {
   "cell_type": "code",
   "execution_count": 53,
   "metadata": {},
   "outputs": [
    {
     "name": "stdout",
     "output_type": "stream",
     "text": [
      "                            OLS Regression Results                            \n",
      "==============================================================================\n",
      "Dep. Variable:                celcius   R-squared:                       0.988\n",
      "Model:                            OLS   Adj. R-squared:                  0.985\n",
      "Method:                 Least Squares   F-statistic:                     333.3\n",
      "Date:                Sun, 21 Apr 2024   Prob (F-statistic):           5.29e-05\n",
      "Time:                        17:56:22   Log-Likelihood:                -15.526\n",
      "No. Observations:                   6   AIC:                             35.05\n",
      "Df Residuals:                       4   BIC:                             34.64\n",
      "Df Model:                           1                                         \n",
      "Covariance Type:            nonrobust                                         \n",
      "==============================================================================\n",
      "                 coef    std err          t      P>|t|      [0.025      0.975]\n",
      "------------------------------------------------------------------------------\n",
      "Intercept   1452.3333      2.852    509.152      0.000    1444.414    1460.253\n",
      "Temp           3.4400      0.188     18.256      0.000       2.917       3.963\n",
      "==============================================================================\n",
      "Omnibus:                          nan   Durbin-Watson:                   1.204\n",
      "Prob(Omnibus):                    nan   Jarque-Bera (JB):                0.671\n",
      "Skew:                          -0.400   Prob(JB):                        0.715\n",
      "Kurtosis:                       1.570   Cond. No.                         26.9\n",
      "==============================================================================\n",
      "\n",
      "Notes:\n",
      "[1] Standard Errors assume that the covariance matrix of the errors is correctly specified.\n"
     ]
    }
   ],
   "source": [
    "model = smf.ols('celcius ~ Temp', data=df).fit()\n",
    "print(model.summary())"
   ]
  },
  {
   "cell_type": "code",
   "execution_count": null,
   "metadata": {},
   "outputs": [],
   "source": []
  }
 ],
 "metadata": {
  "kernelspec": {
   "display_name": "Python 3 (ipykernel)",
   "language": "python",
   "name": "python3"
  },
  "language_info": {
   "codemirror_mode": {
    "name": "ipython",
    "version": 3
   },
   "file_extension": ".py",
   "mimetype": "text/x-python",
   "name": "python",
   "nbconvert_exporter": "python",
   "pygments_lexer": "ipython3",
   "version": "3.11.6"
  }
 },
 "nbformat": 4,
 "nbformat_minor": 2
}
