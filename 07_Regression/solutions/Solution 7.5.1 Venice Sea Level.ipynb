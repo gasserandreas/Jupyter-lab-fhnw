{
 "cells": [
  {
   "cell_type": "markdown",
   "id": "basic-karma",
   "metadata": {},
   "source": [
    "# Solution 7.5.1 Venice Sea Level"
   ]
  },
  {
   "cell_type": "markdown",
   "id": "absent-subdivision",
   "metadata": {},
   "source": [
    "Author: Marcel Steiner-Curtis \\\n",
    "Date: 21.08.2019 sml, 05.03.2021 sml: Python-Jupyter Notebook"
   ]
  },
  {
   "cell_type": "code",
   "execution_count": 1,
   "id": "sixth-annotation",
   "metadata": {},
   "outputs": [],
   "source": [
    "import os\n",
    "import numpy as np\n",
    "import matplotlib.pyplot as plt\n",
    "import pandas as pd\n",
    "import statsmodels.formula.api as smf\n",
    "import scipy as scp"
   ]
  },
  {
   "cell_type": "markdown",
   "id": "present-alias",
   "metadata": {},
   "source": [
    "##   Solution 7.5.1 Venice Sea Level Data"
   ]
  },
  {
   "cell_type": "markdown",
   "id": "veterinary-ranch",
   "metadata": {},
   "source": [
    "read data"
   ]
  },
  {
   "cell_type": "code",
   "execution_count": 2,
   "id": "massive-numbers",
   "metadata": {},
   "outputs": [
    {
     "data": {
      "text/html": [
       "<div>\n",
       "<style scoped>\n",
       "    .dataframe tbody tr th:only-of-type {\n",
       "        vertical-align: middle;\n",
       "    }\n",
       "\n",
       "    .dataframe tbody tr th {\n",
       "        vertical-align: top;\n",
       "    }\n",
       "\n",
       "    .dataframe thead th {\n",
       "        text-align: right;\n",
       "    }\n",
       "</style>\n",
       "<table border=\"1\" class=\"dataframe\">\n",
       "  <thead>\n",
       "    <tr style=\"text-align: right;\">\n",
       "      <th></th>\n",
       "      <th>Year</th>\n",
       "      <th>SeaLevel</th>\n",
       "    </tr>\n",
       "  </thead>\n",
       "  <tbody>\n",
       "    <tr>\n",
       "      <th>0</th>\n",
       "      <td>1931</td>\n",
       "      <td>103</td>\n",
       "    </tr>\n",
       "    <tr>\n",
       "      <th>1</th>\n",
       "      <td>1932</td>\n",
       "      <td>78</td>\n",
       "    </tr>\n",
       "    <tr>\n",
       "      <th>2</th>\n",
       "      <td>1933</td>\n",
       "      <td>121</td>\n",
       "    </tr>\n",
       "    <tr>\n",
       "      <th>3</th>\n",
       "      <td>1934</td>\n",
       "      <td>116</td>\n",
       "    </tr>\n",
       "    <tr>\n",
       "      <th>4</th>\n",
       "      <td>1935</td>\n",
       "      <td>115</td>\n",
       "    </tr>\n",
       "  </tbody>\n",
       "</table>\n",
       "</div>"
      ],
      "text/plain": [
       "   Year  SeaLevel\n",
       "0  1931       103\n",
       "1  1932        78\n",
       "2  1933       121\n",
       "3  1934       116\n",
       "4  1935       115"
      ]
     },
     "execution_count": 2,
     "metadata": {},
     "output_type": "execute_result"
    }
   ],
   "source": [
    "os.chdir('../04 Datasets')\n",
    "data = pd.read_csv('venice.dat', sep='\\t')\n",
    "data.head()"
   ]
  },
  {
   "cell_type": "markdown",
   "id": "medical-platinum",
   "metadata": {},
   "source": [
    "# (a) Scatter Diagram: Sea Level versus Year"
   ]
  },
  {
   "cell_type": "code",
   "execution_count": 3,
   "id": "charitable-royalty",
   "metadata": {},
   "outputs": [
    {
     "data": {
      "image/png": "[encoded data removed]",
      "text/plain": [
       "<Figure size 640x480 with 1 Axes>"
      ]
     },
     "metadata": {},
     "output_type": "display_data"
    }
   ],
   "source": [
    "plt.close()\n",
    "plt.xlim([1920,1990])\n",
    "plt.ylim([60,200])\n",
    "plt.scatter(data.Year, data.SeaLevel, color='blue')\n",
    "plt.grid()            \n",
    "plt.axhline(y=0, color='black', linewidth=0.5)\n",
    "plt.axvline(x=0, color='black', linewidth=0.5)\n",
    "plt.title('Sea Level versus Year')\n",
    "plt.xlabel('Year')\n",
    "plt.ylabel('Sea Level')\n",
    "plt.show()"
   ]
  },
  {
   "cell_type": "markdown",
   "id": "hollywood-charter",
   "metadata": {},
   "source": [
    "REMARK: The diagram indicates that there might be a weak relationship between the sea level and the year.\n",
    "It seems that we can see in the data that Venice sinks."
   ]
  },
  {
   "cell_type": "markdown",
   "id": "changing-seminar",
   "metadata": {},
   "source": [
    "# (b) Parameter Estimation"
   ]
  },
  {
   "cell_type": "markdown",
   "id": "extreme-batman",
   "metadata": {},
   "source": [
    "Estimation of the parameters (explicit formulae)"
   ]
  },
  {
   "cell_type": "code",
   "execution_count": 4,
   "id": "upper-labor",
   "metadata": {},
   "outputs": [],
   "source": [
    "YearBar = np.mean(data.Year)\n",
    "SeaLevelBar = np.mean(data.SeaLevel)\n",
    "Sxx = sum((data.Year-YearBar)**2)\n",
    "Sxy = sum((data.Year-YearBar)*(data.SeaLevel-SeaLevelBar))"
   ]
  },
  {
   "cell_type": "markdown",
   "id": "significant-monitor",
   "metadata": {},
   "source": [
    "slope"
   ]
  },
  {
   "cell_type": "code",
   "execution_count": 5,
   "id": "vanilla-thesaurus",
   "metadata": {},
   "outputs": [
    {
     "data": {
      "text/plain": [
       "0.5669683257918552"
      ]
     },
     "execution_count": 5,
     "metadata": {},
     "output_type": "execute_result"
    }
   ],
   "source": [
    "beta1 = Sxy/Sxx;   beta1"
   ]
  },
  {
   "cell_type": "markdown",
   "id": "prime-desperate",
   "metadata": {},
   "source": [
    "intercept"
   ]
  },
  {
   "cell_type": "code",
   "execution_count": 6,
   "id": "statewide-saver",
   "metadata": {},
   "outputs": [
    {
     "data": {
      "text/plain": [
       "-989.3822021116138"
      ]
     },
     "execution_count": 6,
     "metadata": {},
     "output_type": "execute_result"
    }
   ],
   "source": [
    "beta0 = SeaLevelBar - beta1*YearBar;   beta0"
   ]
  },
  {
   "cell_type": "markdown",
   "id": "maritime-steps",
   "metadata": {},
   "source": [
    "REMARK: The intercept is the sea level in the year 0, that is 2000 years ago. This shows clearly that the intercept in this\n",
    "example has no physical meaning, since it is much too far away from the point cloud."
   ]
  },
  {
   "cell_type": "markdown",
   "id": "excess-franklin",
   "metadata": {},
   "source": [
    "fitted values"
   ]
  },
  {
   "cell_type": "code",
   "execution_count": 7,
   "id": "protected-characteristic",
   "metadata": {},
   "outputs": [],
   "source": [
    "SeaLevelHat = beta0 + beta1*data.Year"
   ]
  },
  {
   "cell_type": "markdown",
   "id": "confirmed-andrews",
   "metadata": {},
   "source": [
    "residuals"
   ]
  },
  {
   "cell_type": "code",
   "execution_count": 8,
   "id": "hearing-louisiana",
   "metadata": {},
   "outputs": [
    {
     "data": {
      "text/plain": [
       "-7.802037882856002e-14"
      ]
     },
     "execution_count": 8,
     "metadata": {},
     "output_type": "execute_result"
    }
   ],
   "source": [
    "res = data.SeaLevel - SeaLevelHat\n",
    "np.mean(res)"
   ]
  },
  {
   "cell_type": "markdown",
   "id": "center-gospel",
   "metadata": {},
   "source": [
    "error sum of squares"
   ]
  },
  {
   "cell_type": "code",
   "execution_count": 9,
   "id": "korean-death",
   "metadata": {},
   "outputs": [],
   "source": [
    "sigma2Hat = sum(res**2)/(data.shape[0]-2)"
   ]
  },
  {
   "cell_type": "markdown",
   "id": "elect-diagram",
   "metadata": {},
   "source": [
    "residual standard error"
   ]
  },
  {
   "cell_type": "code",
   "execution_count": 10,
   "id": "infectious-crest",
   "metadata": {},
   "outputs": [
    {
     "data": {
      "text/plain": [
       "18.6197724079446"
      ]
     },
     "execution_count": 10,
     "metadata": {},
     "output_type": "execute_result"
    }
   ],
   "source": [
    "np.sqrt(sigma2Hat)"
   ]
  },
  {
   "cell_type": "markdown",
   "id": "driving-trance",
   "metadata": {},
   "source": [
    "### Estimation of the parameters (smf.ols)"
   ]
  },
  {
   "cell_type": "code",
   "execution_count": 11,
   "id": "bored-weekly",
   "metadata": {},
   "outputs": [
    {
     "data": {
      "text/html": [
       "<table class=\"simpletable\">\n",
       "<caption>OLS Regression Results</caption>\n",
       "<tr>\n",
       "  <th>Dep. Variable:</th>        <td>SeaLevel</td>     <th>  R-squared:         </th> <td>   0.173</td>\n",
       "</tr>\n",
       "<tr>\n",
       "  <th>Model:</th>                   <td>OLS</td>       <th>  Adj. R-squared:    </th> <td>   0.156</td>\n",
       "</tr>\n",
       "<tr>\n",
       "  <th>Method:</th>             <td>Least Squares</td>  <th>  F-statistic:       </th> <td>   10.25</td>\n",
       "</tr>\n",
       "<tr>\n",
       "  <th>Date:</th>             <td>Mon, 13 Feb 2023</td> <th>  Prob (F-statistic):</th>  <td>0.00241</td>\n",
       "</tr>\n",
       "<tr>\n",
       "  <th>Time:</th>                 <td>13:08:37</td>     <th>  Log-Likelihood:    </th> <td> -220.48</td>\n",
       "</tr>\n",
       "<tr>\n",
       "  <th>No. Observations:</th>      <td>    51</td>      <th>  AIC:               </th> <td>   445.0</td>\n",
       "</tr>\n",
       "<tr>\n",
       "  <th>Df Residuals:</th>          <td>    49</td>      <th>  BIC:               </th> <td>   448.8</td>\n",
       "</tr>\n",
       "<tr>\n",
       "  <th>Df Model:</th>              <td>     1</td>      <th>                     </th>     <td> </td>   \n",
       "</tr>\n",
       "<tr>\n",
       "  <th>Covariance Type:</th>      <td>nonrobust</td>    <th>                     </th>     <td> </td>   \n",
       "</tr>\n",
       "</table>\n",
       "<table class=\"simpletable\">\n",
       "<tr>\n",
       "      <td></td>         <th>coef</th>     <th>std err</th>      <th>t</th>      <th>P>|t|</th>  <th>[0.025</th>    <th>0.975]</th>  \n",
       "</tr>\n",
       "<tr>\n",
       "  <th>Intercept</th> <td> -989.3822</td> <td>  346.477</td> <td>   -2.856</td> <td> 0.006</td> <td>-1685.654</td> <td> -293.111</td>\n",
       "</tr>\n",
       "<tr>\n",
       "  <th>Year</th>      <td>    0.5670</td> <td>    0.177</td> <td>    3.201</td> <td> 0.002</td> <td>    0.211</td> <td>    0.923</td>\n",
       "</tr>\n",
       "</table>\n",
       "<table class=\"simpletable\">\n",
       "<tr>\n",
       "  <th>Omnibus:</th>       <td>18.209</td> <th>  Durbin-Watson:     </th> <td>   1.543</td>\n",
       "</tr>\n",
       "<tr>\n",
       "  <th>Prob(Omnibus):</th> <td> 0.000</td> <th>  Jarque-Bera (JB):  </th> <td>  25.802</td>\n",
       "</tr>\n",
       "<tr>\n",
       "  <th>Skew:</th>          <td> 1.204</td> <th>  Prob(JB):          </th> <td>2.50e-06</td>\n",
       "</tr>\n",
       "<tr>\n",
       "  <th>Kurtosis:</th>      <td> 5.519</td> <th>  Cond. No.          </th> <td>2.60e+05</td>\n",
       "</tr>\n",
       "</table><br/><br/>Notes:<br/>[1] Standard Errors assume that the covariance matrix of the errors is correctly specified.<br/>[2] The condition number is large, 2.6e+05. This might indicate that there are<br/>strong multicollinearity or other numerical problems."
      ],
      "text/plain": [
       "<class 'statsmodels.iolib.summary.Summary'>\n",
       "\"\"\"\n",
       "                            OLS Regression Results                            \n",
       "==============================================================================\n",
       "Dep. Variable:               SeaLevel   R-squared:                       0.173\n",
       "Model:                            OLS   Adj. R-squared:                  0.156\n",
       "Method:                 Least Squares   F-statistic:                     10.25\n",
       "Date:                Mon, 13 Feb 2023   Prob (F-statistic):            0.00241\n",
       "Time:                        13:08:37   Log-Likelihood:                -220.48\n",
       "No. Observations:                  51   AIC:                             445.0\n",
       "Df Residuals:                      49   BIC:                             448.8\n",
       "Df Model:                           1                                         \n",
       "Covariance Type:            nonrobust                                         \n",
       "==============================================================================\n",
       "                 coef    std err          t      P>|t|      [0.025      0.975]\n",
       "------------------------------------------------------------------------------\n",
       "Intercept   -989.3822    346.477     -2.856      0.006   -1685.654    -293.111\n",
       "Year           0.5670      0.177      3.201      0.002       0.211       0.923\n",
       "==============================================================================\n",
       "Omnibus:                       18.209   Durbin-Watson:                   1.543\n",
       "Prob(Omnibus):                  0.000   Jarque-Bera (JB):               25.802\n",
       "Skew:                           1.204   Prob(JB):                     2.50e-06\n",
       "Kurtosis:                       5.519   Cond. No.                     2.60e+05\n",
       "==============================================================================\n",
       "\n",
       "Notes:\n",
       "[1] Standard Errors assume that the covariance matrix of the errors is correctly specified.\n",
       "[2] The condition number is large, 2.6e+05. This might indicate that there are\n",
       "strong multicollinearity or other numerical problems.\n",
       "\"\"\""
      ]
     },
     "execution_count": 11,
     "metadata": {},
     "output_type": "execute_result"
    }
   ],
   "source": [
    "mod = smf.ols(formula='SeaLevel ~ Year', data=data).fit()\n",
    "mod.summary()"
   ]
  },
  {
   "cell_type": "markdown",
   "id": "promotional-clearing",
   "metadata": {},
   "source": [
    "residuals"
   ]
  },
  {
   "cell_type": "code",
   "execution_count": 12,
   "id": "incorporated-result",
   "metadata": {},
   "outputs": [
    {
     "data": {
      "text/plain": [
       "0     -2.433635\n",
       "1    -28.000603\n",
       "2     14.432428\n",
       "3      8.865460\n",
       "4      7.298492\n",
       "5     38.731523\n",
       "6     10.164555\n",
       "7      4.597587\n",
       "8    -20.969382\n",
       "9     -8.536350\n",
       "10   -12.103318\n",
       "11   -20.670287\n",
       "12   -15.237255\n",
       "13    -6.804223\n",
       "14    -8.371192\n",
       "15    22.061840\n",
       "16    11.494872\n",
       "17    16.927903\n",
       "18   -11.639065\n",
       "19     0.793967\n",
       "20    34.226998\n",
       "21    -1.339970\n",
       "22   -10.906938\n",
       "23    -6.473906\n",
       "24   -22.040875\n",
       "25   -24.607843\n",
       "26    -1.174811\n",
       "27     3.258220\n",
       "28    -3.308748\n",
       "29    23.124284\n",
       "30    -0.442685\n",
       "31    -9.009653\n",
       "32    -5.576621\n",
       "33   -17.143590\n",
       "34   -14.710558\n",
       "35    68.722474\n",
       "36    12.155505\n",
       "37    17.588537\n",
       "38    11.021569\n",
       "39    -4.545400\n",
       "40    -6.112368\n",
       "41    -8.679336\n",
       "42   -15.246305\n",
       "43   -33.813273\n",
       "44    -5.380241\n",
       "45    -6.947210\n",
       "46   -11.514178\n",
       "47    -0.081146\n",
       "48    33.351885\n",
       "49     0.784917\n",
       "50     4.217949\n",
       "dtype: float64"
      ]
     },
     "execution_count": 12,
     "metadata": {},
     "output_type": "execute_result"
    }
   ],
   "source": [
    "mod.resid"
   ]
  },
  {
   "cell_type": "markdown",
   "id": "elect-advocate",
   "metadata": {},
   "source": [
    "fitted values"
   ]
  },
  {
   "cell_type": "code",
   "execution_count": 13,
   "id": "honest-liechtenstein",
   "metadata": {},
   "outputs": [
    {
     "data": {
      "text/plain": [
       "0     105.433635\n",
       "1     106.000603\n",
       "2     106.567572\n",
       "3     107.134540\n",
       "4     107.701508\n",
       "5     108.268477\n",
       "6     108.835445\n",
       "7     109.402413\n",
       "8     109.969382\n",
       "9     110.536350\n",
       "10    111.103318\n",
       "11    111.670287\n",
       "12    112.237255\n",
       "13    112.804223\n",
       "14    113.371192\n",
       "15    113.938160\n",
       "16    114.505128\n",
       "17    115.072097\n",
       "18    115.639065\n",
       "19    116.206033\n",
       "20    116.773002\n",
       "21    117.339970\n",
       "22    117.906938\n",
       "23    118.473906\n",
       "24    119.040875\n",
       "25    119.607843\n",
       "26    120.174811\n",
       "27    120.741780\n",
       "28    121.308748\n",
       "29    121.875716\n",
       "30    122.442685\n",
       "31    123.009653\n",
       "32    123.576621\n",
       "33    124.143590\n",
       "34    124.710558\n",
       "35    125.277526\n",
       "36    125.844495\n",
       "37    126.411463\n",
       "38    126.978431\n",
       "39    127.545400\n",
       "40    128.112368\n",
       "41    128.679336\n",
       "42    129.246305\n",
       "43    129.813273\n",
       "44    130.380241\n",
       "45    130.947210\n",
       "46    131.514178\n",
       "47    132.081146\n",
       "48    132.648115\n",
       "49    133.215083\n",
       "50    133.782051\n",
       "dtype: float64"
      ]
     },
     "execution_count": 13,
     "metadata": {},
     "output_type": "execute_result"
    }
   ],
   "source": [
    "mod.fittedvalues"
   ]
  },
  {
   "cell_type": "markdown",
   "id": "favorite-constraint",
   "metadata": {},
   "source": [
    "degrees of freedom"
   ]
  },
  {
   "cell_type": "code",
   "execution_count": 14,
   "id": "arranged-journalist",
   "metadata": {},
   "outputs": [
    {
     "data": {
      "text/plain": [
       "49.0"
      ]
     },
     "execution_count": 14,
     "metadata": {},
     "output_type": "execute_result"
    }
   ],
   "source": [
    "dfree = mod.df_resid;   dfree"
   ]
  },
  {
   "cell_type": "markdown",
   "id": "incoming-annotation",
   "metadata": {},
   "source": [
    "residual standard error"
   ]
  },
  {
   "cell_type": "code",
   "execution_count": 15,
   "id": "fatty-oxford",
   "metadata": {},
   "outputs": [
    {
     "data": {
      "text/plain": [
       "18.619772407944605"
      ]
     },
     "execution_count": 15,
     "metadata": {},
     "output_type": "execute_result"
    }
   ],
   "source": [
    "sigmaHat = np.sqrt(mod.scale);   sigmaHat"
   ]
  },
  {
   "cell_type": "markdown",
   "id": "liberal-perception",
   "metadata": {},
   "source": [
    "### (c) Scatter Diagram: Time versus Volume with the best Model"
   ]
  },
  {
   "cell_type": "code",
   "execution_count": 16,
   "id": "double-calendar",
   "metadata": {},
   "outputs": [
    {
     "data": {
      "image/png": "[encoded data removed]",
      "text/plain": [
       "<Figure size 640x480 with 1 Axes>"
      ]
     },
     "metadata": {},
     "output_type": "display_data"
    }
   ],
   "source": [
    "plt.close()\n",
    "plt.xlim([1920,1990])\n",
    "plt.ylim([60,200])\n",
    "plt.scatter(data.Year, data.SeaLevel, color='blue')\n",
    "plt.grid()            \n",
    "plt.axhline(y=0, color='black', linewidth=0.5)\n",
    "plt.axvline(x=0, color='black', linewidth=0.5)\n",
    "plt.title('Sea Level versus Year')\n",
    "plt.xlabel('Time')\n",
    "plt.ylabel('Sea Level')\n",
    "#   add best model\n",
    "plt.plot(data.Year, mod.predict(), color='red')\n",
    "plt.show()"
   ]
  },
  {
   "cell_type": "markdown",
   "id": "final-literature",
   "metadata": {},
   "source": [
    "REMARK: The best model indeed has a positive slope indicating that the data could support the hypothesis the Venice sinks.\n",
    "On the other hand the points scatter a lot around the straight line.\n",
    "We will have to test the hypothesis H0: slope=0"
   ]
  },
  {
   "cell_type": "markdown",
   "id": "flying-modification",
   "metadata": {},
   "source": [
    "### (d) Testing Hypothesis"
   ]
  },
  {
   "cell_type": "markdown",
   "id": "centered-brain",
   "metadata": {},
   "source": [
    "null hypothesis        H0: slope=0\n",
    "alternative hypothesis H1: slope <> 0"
   ]
  },
  {
   "cell_type": "code",
   "execution_count": 17,
   "id": "covered-provider",
   "metadata": {},
   "outputs": [],
   "source": [
    "beta10 = 0"
   ]
  },
  {
   "cell_type": "markdown",
   "id": "advanced-workplace",
   "metadata": {},
   "source": [
    "estimator of slope"
   ]
  },
  {
   "cell_type": "code",
   "execution_count": 18,
   "id": "difficult-fishing",
   "metadata": {},
   "outputs": [
    {
     "data": {
      "text/plain": [
       "0.5669683257918573"
      ]
     },
     "execution_count": 18,
     "metadata": {},
     "output_type": "execute_result"
    }
   ],
   "source": [
    "beta1Hat = mod.params.Year;   beta1Hat"
   ]
  },
  {
   "cell_type": "markdown",
   "id": "spectacular-filter",
   "metadata": {},
   "source": [
    "standard error ($S_{xx}$ from Ex. 7.2.1)"
   ]
  },
  {
   "cell_type": "code",
   "execution_count": 19,
   "id": "acquired-majority",
   "metadata": {},
   "outputs": [
    {
     "data": {
      "text/plain": [
       "0.17713045133310948"
      ]
     },
     "execution_count": 19,
     "metadata": {},
     "output_type": "execute_result"
    }
   ],
   "source": [
    "sebeta1 = np.sqrt(sigmaHat**2/Sxx);   sebeta1"
   ]
  },
  {
   "cell_type": "markdown",
   "id": "remarkable-crazy",
   "metadata": {},
   "source": [
    "test statistic"
   ]
  },
  {
   "cell_type": "code",
   "execution_count": 20,
   "id": "irish-release",
   "metadata": {},
   "outputs": [
    {
     "data": {
      "text/plain": [
       "3.2008518102041257"
      ]
     },
     "execution_count": 20,
     "metadata": {},
     "output_type": "execute_result"
    }
   ],
   "source": [
    "Testbeta1 = (beta1Hat-beta10)/sebeta1;   Testbeta1"
   ]
  },
  {
   "cell_type": "markdown",
   "id": "peripheral-dream",
   "metadata": {},
   "source": [
    "critical value (two-sided)"
   ]
  },
  {
   "cell_type": "code",
   "execution_count": 21,
   "id": "computational-panama",
   "metadata": {},
   "outputs": [],
   "source": [
    "alpha = 0.05"
   ]
  },
  {
   "cell_type": "markdown",
   "id": "entire-sarah",
   "metadata": {},
   "source": [
    "the degrees of freedom were defined in Ex. 7.2.1"
   ]
  },
  {
   "cell_type": "code",
   "execution_count": 22,
   "id": "structural-palestinian",
   "metadata": {},
   "outputs": [
    {
     "data": {
      "text/plain": [
       "2.009575234489209"
      ]
     },
     "execution_count": 22,
     "metadata": {},
     "output_type": "execute_result"
    }
   ],
   "source": [
    "tcrit = scp.stats.t.ppf(1-alpha/2, df=dfree);   tcrit"
   ]
  },
  {
   "cell_type": "markdown",
   "id": "forty-pathology",
   "metadata": {},
   "source": [
    "REMARK: Since abs(Test.beta1)=3.200852 > t.crit=2.009575 we reject the null hypothesis and conclude that the Sea level\n",
    "depends significantly on the year.\n",
    "In other words the data set supports the the hypothesis that Venice sinks.\n",
    "The annual sinking rate is 0.5669683 cm/year."
   ]
  },
  {
   "cell_type": "markdown",
   "id": "lovely-hypothetical",
   "metadata": {},
   "source": [
    "total amount of sinking"
   ]
  },
  {
   "cell_type": "code",
   "execution_count": 23,
   "id": "controlling-fruit",
   "metadata": {},
   "outputs": [
    {
     "data": {
      "text/plain": [
       "28.348416289592866"
      ]
     },
     "execution_count": 23,
     "metadata": {},
     "output_type": "execute_result"
    }
   ],
   "source": [
    "(max(data.Year)-min(data.Year)) * beta1Hat"
   ]
  },
  {
   "cell_type": "markdown",
   "id": "integrated-hunger",
   "metadata": {},
   "source": [
    "REMARK: In the years 1931-1981 Venice sank 28.34842 cm."
   ]
  },
  {
   "cell_type": "code",
   "execution_count": 24,
   "id": "paperback-brave",
   "metadata": {},
   "outputs": [
    {
     "data": {
      "text/html": [
       "<table class=\"simpletable\">\n",
       "<caption>OLS Regression Results</caption>\n",
       "<tr>\n",
       "  <th>Dep. Variable:</th>        <td>SeaLevel</td>     <th>  R-squared:         </th> <td>   0.173</td>\n",
       "</tr>\n",
       "<tr>\n",
       "  <th>Model:</th>                   <td>OLS</td>       <th>  Adj. R-squared:    </th> <td>   0.156</td>\n",
       "</tr>\n",
       "<tr>\n",
       "  <th>Method:</th>             <td>Least Squares</td>  <th>  F-statistic:       </th> <td>   10.25</td>\n",
       "</tr>\n",
       "<tr>\n",
       "  <th>Date:</th>             <td>Mon, 13 Feb 2023</td> <th>  Prob (F-statistic):</th>  <td>0.00241</td>\n",
       "</tr>\n",
       "<tr>\n",
       "  <th>Time:</th>                 <td>13:08:37</td>     <th>  Log-Likelihood:    </th> <td> -220.48</td>\n",
       "</tr>\n",
       "<tr>\n",
       "  <th>No. Observations:</th>      <td>    51</td>      <th>  AIC:               </th> <td>   445.0</td>\n",
       "</tr>\n",
       "<tr>\n",
       "  <th>Df Residuals:</th>          <td>    49</td>      <th>  BIC:               </th> <td>   448.8</td>\n",
       "</tr>\n",
       "<tr>\n",
       "  <th>Df Model:</th>              <td>     1</td>      <th>                     </th>     <td> </td>   \n",
       "</tr>\n",
       "<tr>\n",
       "  <th>Covariance Type:</th>      <td>nonrobust</td>    <th>                     </th>     <td> </td>   \n",
       "</tr>\n",
       "</table>\n",
       "<table class=\"simpletable\">\n",
       "<tr>\n",
       "      <td></td>         <th>coef</th>     <th>std err</th>      <th>t</th>      <th>P>|t|</th>  <th>[0.025</th>    <th>0.975]</th>  \n",
       "</tr>\n",
       "<tr>\n",
       "  <th>Intercept</th> <td> -989.3822</td> <td>  346.477</td> <td>   -2.856</td> <td> 0.006</td> <td>-1685.654</td> <td> -293.111</td>\n",
       "</tr>\n",
       "<tr>\n",
       "  <th>Year</th>      <td>    0.5670</td> <td>    0.177</td> <td>    3.201</td> <td> 0.002</td> <td>    0.211</td> <td>    0.923</td>\n",
       "</tr>\n",
       "</table>\n",
       "<table class=\"simpletable\">\n",
       "<tr>\n",
       "  <th>Omnibus:</th>       <td>18.209</td> <th>  Durbin-Watson:     </th> <td>   1.543</td>\n",
       "</tr>\n",
       "<tr>\n",
       "  <th>Prob(Omnibus):</th> <td> 0.000</td> <th>  Jarque-Bera (JB):  </th> <td>  25.802</td>\n",
       "</tr>\n",
       "<tr>\n",
       "  <th>Skew:</th>          <td> 1.204</td> <th>  Prob(JB):          </th> <td>2.50e-06</td>\n",
       "</tr>\n",
       "<tr>\n",
       "  <th>Kurtosis:</th>      <td> 5.519</td> <th>  Cond. No.          </th> <td>2.60e+05</td>\n",
       "</tr>\n",
       "</table><br/><br/>Notes:<br/>[1] Standard Errors assume that the covariance matrix of the errors is correctly specified.<br/>[2] The condition number is large, 2.6e+05. This might indicate that there are<br/>strong multicollinearity or other numerical problems."
      ],
      "text/plain": [
       "<class 'statsmodels.iolib.summary.Summary'>\n",
       "\"\"\"\n",
       "                            OLS Regression Results                            \n",
       "==============================================================================\n",
       "Dep. Variable:               SeaLevel   R-squared:                       0.173\n",
       "Model:                            OLS   Adj. R-squared:                  0.156\n",
       "Method:                 Least Squares   F-statistic:                     10.25\n",
       "Date:                Mon, 13 Feb 2023   Prob (F-statistic):            0.00241\n",
       "Time:                        13:08:37   Log-Likelihood:                -220.48\n",
       "No. Observations:                  51   AIC:                             445.0\n",
       "Df Residuals:                      49   BIC:                             448.8\n",
       "Df Model:                           1                                         \n",
       "Covariance Type:            nonrobust                                         \n",
       "==============================================================================\n",
       "                 coef    std err          t      P>|t|      [0.025      0.975]\n",
       "------------------------------------------------------------------------------\n",
       "Intercept   -989.3822    346.477     -2.856      0.006   -1685.654    -293.111\n",
       "Year           0.5670      0.177      3.201      0.002       0.211       0.923\n",
       "==============================================================================\n",
       "Omnibus:                       18.209   Durbin-Watson:                   1.543\n",
       "Prob(Omnibus):                  0.000   Jarque-Bera (JB):               25.802\n",
       "Skew:                           1.204   Prob(JB):                     2.50e-06\n",
       "Kurtosis:                       5.519   Cond. No.                     2.60e+05\n",
       "==============================================================================\n",
       "\n",
       "Notes:\n",
       "[1] Standard Errors assume that the covariance matrix of the errors is correctly specified.\n",
       "[2] The condition number is large, 2.6e+05. This might indicate that there are\n",
       "strong multicollinearity or other numerical problems.\n",
       "\"\"\""
      ]
     },
     "execution_count": 24,
     "metadata": {},
     "output_type": "execute_result"
    }
   ],
   "source": [
    "mod.summary()"
   ]
  }
 ],
 "metadata": {
  "kernelspec": {
   "display_name": "Python 3 (ipykernel)",
   "language": "python",
   "name": "python3"
  },
  "language_info": {
   "codemirror_mode": {
    "name": "ipython",
    "version": 3
   },
   "file_extension": ".py",
   "mimetype": "text/x-python",
   "name": "python",
   "nbconvert_exporter": "python",
   "pygments_lexer": "ipython3",
   "version": "3.9.12"
  }
 },
 "nbformat": 4,
 "nbformat_minor": 5
}
