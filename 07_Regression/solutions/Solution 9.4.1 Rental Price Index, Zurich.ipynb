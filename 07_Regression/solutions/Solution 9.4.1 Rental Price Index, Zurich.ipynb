{
 "cells": [
  {
   "cell_type": "markdown",
   "id": "basic-karma",
   "metadata": {},
   "source": [
    "# Solution 8.5.3 Simulation"
   ]
  },
  {
   "cell_type": "markdown",
   "id": "absent-subdivision",
   "metadata": {},
   "source": [
    "Author: Marcel Steiner-Curtis \\\n",
    "Date: 26.08.2019 sml, 07.03.2021 sml: Python-Jupyter Notebook"
   ]
  },
  {
   "cell_type": "code",
   "execution_count": 1,
   "id": "driven-orientation",
   "metadata": {},
   "outputs": [],
   "source": [
    "import os\n",
    "import numpy as np\n",
    "import matplotlib.pyplot as plt\n",
    "import pandas as pd\n",
    "import statsmodels.formula.api as smf\n",
    "from statsmodels.stats.anova import anova_lm"
   ]
  },
  {
   "cell_type": "markdown",
   "id": "metallic-fitting",
   "metadata": {},
   "source": [
    "## Solution 9.4.1 Rental Price Index, Zurich"
   ]
  },
  {
   "cell_type": "markdown",
   "id": "imposed-morning",
   "metadata": {},
   "source": [
    "read data"
   ]
  },
  {
   "cell_type": "code",
   "execution_count": 2,
   "id": "prospective-charge",
   "metadata": {},
   "outputs": [
    {
     "data": {
      "text/html": [
       "<div>\n",
       "<style scoped>\n",
       "    .dataframe tbody tr th:only-of-type {\n",
       "        vertical-align: middle;\n",
       "    }\n",
       "\n",
       "    .dataframe tbody tr th {\n",
       "        vertical-align: top;\n",
       "    }\n",
       "\n",
       "    .dataframe thead th {\n",
       "        text-align: right;\n",
       "    }\n",
       "</style>\n",
       "<table border=\"1\" class=\"dataframe\">\n",
       "  <thead>\n",
       "    <tr style=\"text-align: right;\">\n",
       "      <th></th>\n",
       "      <th>Month</th>\n",
       "      <th>Year</th>\n",
       "      <th>RPI</th>\n",
       "      <th>MI</th>\n",
       "      <th>CPI</th>\n",
       "    </tr>\n",
       "  </thead>\n",
       "  <tbody>\n",
       "    <tr>\n",
       "      <th>0</th>\n",
       "      <td>Feb</td>\n",
       "      <td>94</td>\n",
       "      <td>98.50</td>\n",
       "      <td>6.0</td>\n",
       "      <td>95.1</td>\n",
       "    </tr>\n",
       "    <tr>\n",
       "      <th>1</th>\n",
       "      <td>Mai</td>\n",
       "      <td>94</td>\n",
       "      <td>96.42</td>\n",
       "      <td>5.5</td>\n",
       "      <td>94.6</td>\n",
       "    </tr>\n",
       "    <tr>\n",
       "      <th>2</th>\n",
       "      <td>Aug</td>\n",
       "      <td>94</td>\n",
       "      <td>96.55</td>\n",
       "      <td>5.5</td>\n",
       "      <td>95.1</td>\n",
       "    </tr>\n",
       "    <tr>\n",
       "      <th>3</th>\n",
       "      <td>Nov</td>\n",
       "      <td>94</td>\n",
       "      <td>96.80</td>\n",
       "      <td>5.5</td>\n",
       "      <td>95.1</td>\n",
       "    </tr>\n",
       "    <tr>\n",
       "      <th>4</th>\n",
       "      <td>Feb</td>\n",
       "      <td>95</td>\n",
       "      <td>97.16</td>\n",
       "      <td>5.5</td>\n",
       "      <td>96.6</td>\n",
       "    </tr>\n",
       "  </tbody>\n",
       "</table>\n",
       "</div>"
      ],
      "text/plain": [
       "  Month  Year    RPI   MI   CPI\n",
       "0   Feb    94  98.50  6.0  95.1\n",
       "1   Mai    94  96.42  5.5  94.6\n",
       "2   Aug    94  96.55  5.5  95.1\n",
       "3   Nov    94  96.80  5.5  95.1\n",
       "4   Feb    95  97.16  5.5  96.6"
      ]
     },
     "execution_count": 2,
     "metadata": {},
     "output_type": "execute_result"
    }
   ],
   "source": [
    "os.chdir('../04 Datasets')\n",
    "data = pd.read_csv('RPI-ZH.dat', delimiter='\\t')\n",
    "data.head()"
   ]
  },
  {
   "cell_type": "code",
   "execution_count": 3,
   "id": "available-reynolds",
   "metadata": {},
   "outputs": [
    {
     "data": {
      "text/plain": [
       "array(['Month', 'Year', 'RPI', 'MI', 'CPI'], dtype=object)"
      ]
     },
     "execution_count": 3,
     "metadata": {},
     "output_type": "execute_result"
    }
   ],
   "source": [
    "data.columns.values"
   ]
  },
  {
   "cell_type": "markdown",
   "id": "constant-hudson",
   "metadata": {},
   "source": [
    "### (a) Fit Regression Model"
   ]
  },
  {
   "cell_type": "code",
   "execution_count": 4,
   "id": "colored-crest",
   "metadata": {},
   "outputs": [
    {
     "data": {
      "text/html": [
       "<table class=\"simpletable\">\n",
       "<caption>OLS Regression Results</caption>\n",
       "<tr>\n",
       "  <th>Dep. Variable:</th>           <td>RPI</td>       <th>  R-squared:         </th> <td>   0.927</td>\n",
       "</tr>\n",
       "<tr>\n",
       "  <th>Model:</th>                   <td>OLS</td>       <th>  Adj. R-squared:    </th> <td>   0.924</td>\n",
       "</tr>\n",
       "<tr>\n",
       "  <th>Method:</th>             <td>Least Squares</td>  <th>  F-statistic:       </th> <td>   272.7</td>\n",
       "</tr>\n",
       "<tr>\n",
       "  <th>Date:</th>             <td>Mon, 13 Feb 2023</td> <th>  Prob (F-statistic):</th> <td>3.74e-25</td>\n",
       "</tr>\n",
       "<tr>\n",
       "  <th>Time:</th>                 <td>13:15:00</td>     <th>  Log-Likelihood:    </th> <td> -64.075</td>\n",
       "</tr>\n",
       "<tr>\n",
       "  <th>No. Observations:</th>      <td>    46</td>      <th>  AIC:               </th> <td>   134.2</td>\n",
       "</tr>\n",
       "<tr>\n",
       "  <th>Df Residuals:</th>          <td>    43</td>      <th>  BIC:               </th> <td>   139.6</td>\n",
       "</tr>\n",
       "<tr>\n",
       "  <th>Df Model:</th>              <td>     2</td>      <th>                     </th>     <td> </td>   \n",
       "</tr>\n",
       "<tr>\n",
       "  <th>Covariance Type:</th>      <td>nonrobust</td>    <th>                     </th>     <td> </td>   \n",
       "</tr>\n",
       "</table>\n",
       "<table class=\"simpletable\">\n",
       "<tr>\n",
       "      <td></td>         <th>coef</th>     <th>std err</th>      <th>t</th>      <th>P>|t|</th>  <th>[0.025</th>    <th>0.975]</th>  \n",
       "</tr>\n",
       "<tr>\n",
       "  <th>Intercept</th> <td>  -68.7083</td> <td>   10.226</td> <td>   -6.719</td> <td> 0.000</td> <td>  -89.331</td> <td>  -48.086</td>\n",
       "</tr>\n",
       "<tr>\n",
       "  <th>CPI</th>       <td>    1.6183</td> <td>    0.089</td> <td>   18.140</td> <td> 0.000</td> <td>    1.438</td> <td>    1.798</td>\n",
       "</tr>\n",
       "<tr>\n",
       "  <th>MI</th>        <td>    2.0069</td> <td>    0.368</td> <td>    5.454</td> <td> 0.000</td> <td>    1.265</td> <td>    2.749</td>\n",
       "</tr>\n",
       "</table>\n",
       "<table class=\"simpletable\">\n",
       "<tr>\n",
       "  <th>Omnibus:</th>       <td> 1.032</td> <th>  Durbin-Watson:     </th> <td>   0.957</td>\n",
       "</tr>\n",
       "<tr>\n",
       "  <th>Prob(Omnibus):</th> <td> 0.597</td> <th>  Jarque-Bera (JB):  </th> <td>   0.570</td>\n",
       "</tr>\n",
       "<tr>\n",
       "  <th>Skew:</th>          <td>-0.268</td> <th>  Prob(JB):          </th> <td>   0.752</td>\n",
       "</tr>\n",
       "<tr>\n",
       "  <th>Kurtosis:</th>      <td> 3.104</td> <th>  Cond. No.          </th> <td>6.87e+03</td>\n",
       "</tr>\n",
       "</table><br/><br/>Notes:<br/>[1] Standard Errors assume that the covariance matrix of the errors is correctly specified.<br/>[2] The condition number is large, 6.87e+03. This might indicate that there are<br/>strong multicollinearity or other numerical problems."
      ],
      "text/plain": [
       "<class 'statsmodels.iolib.summary.Summary'>\n",
       "\"\"\"\n",
       "                            OLS Regression Results                            \n",
       "==============================================================================\n",
       "Dep. Variable:                    RPI   R-squared:                       0.927\n",
       "Model:                            OLS   Adj. R-squared:                  0.924\n",
       "Method:                 Least Squares   F-statistic:                     272.7\n",
       "Date:                Mon, 13 Feb 2023   Prob (F-statistic):           3.74e-25\n",
       "Time:                        13:15:00   Log-Likelihood:                -64.075\n",
       "No. Observations:                  46   AIC:                             134.2\n",
       "Df Residuals:                      43   BIC:                             139.6\n",
       "Df Model:                           2                                         \n",
       "Covariance Type:            nonrobust                                         \n",
       "==============================================================================\n",
       "                 coef    std err          t      P>|t|      [0.025      0.975]\n",
       "------------------------------------------------------------------------------\n",
       "Intercept    -68.7083     10.226     -6.719      0.000     -89.331     -48.086\n",
       "CPI            1.6183      0.089     18.140      0.000       1.438       1.798\n",
       "MI             2.0069      0.368      5.454      0.000       1.265       2.749\n",
       "==============================================================================\n",
       "Omnibus:                        1.032   Durbin-Watson:                   0.957\n",
       "Prob(Omnibus):                  0.597   Jarque-Bera (JB):                0.570\n",
       "Skew:                          -0.268   Prob(JB):                        0.752\n",
       "Kurtosis:                       3.104   Cond. No.                     6.87e+03\n",
       "==============================================================================\n",
       "\n",
       "Notes:\n",
       "[1] Standard Errors assume that the covariance matrix of the errors is correctly specified.\n",
       "[2] The condition number is large, 6.87e+03. This might indicate that there are\n",
       "strong multicollinearity or other numerical problems.\n",
       "\"\"\""
      ]
     },
     "execution_count": 4,
     "metadata": {},
     "output_type": "execute_result"
    }
   ],
   "source": [
    "mod = smf.ols(formula='RPI ~ CPI + MI', data=data).fit()\n",
    "mod.summary()"
   ]
  },
  {
   "cell_type": "markdown",
   "id": "outstanding-binary",
   "metadata": {},
   "source": [
    "estimate of sigma"
   ]
  },
  {
   "cell_type": "code",
   "execution_count": 5,
   "id": "thick-shannon",
   "metadata": {},
   "outputs": [
    {
     "data": {
      "text/plain": [
       "1.0077560277821493"
      ]
     },
     "execution_count": 5,
     "metadata": {},
     "output_type": "execute_result"
    }
   ],
   "source": [
    "np.sqrt(mod.scale)"
   ]
  },
  {
   "cell_type": "markdown",
   "id": "accepted-ontario",
   "metadata": {},
   "source": [
    "REMARKS:    We find $\\hat{\\beta}_0=-68.7083$, $\\hat{\\beta}_1=1.6183$, $\\hat{\\beta}_2=2.0069$ and $\\hat{\\sigma}=1.00776$.\n",
    "            The overall test has $F=272.7$ on $(2,43)$ degrees of fredom and its P-value is much smaller than $5\\%$.\n",
    "            Therefore at least one of the coefficients $\\beta_1$ and $\\beta_2$ is different of zero."
   ]
  },
  {
   "cell_type": "markdown",
   "id": "ruled-dancing",
   "metadata": {},
   "source": [
    "The same F-statistic and P-value we obtain with an anova and the trivial model with an intercept only."
   ]
  },
  {
   "cell_type": "code",
   "execution_count": 6,
   "id": "passing-analyst",
   "metadata": {},
   "outputs": [
    {
     "data": {
      "text/html": [
       "<div>\n",
       "<style scoped>\n",
       "    .dataframe tbody tr th:only-of-type {\n",
       "        vertical-align: middle;\n",
       "    }\n",
       "\n",
       "    .dataframe tbody tr th {\n",
       "        vertical-align: top;\n",
       "    }\n",
       "\n",
       "    .dataframe thead th {\n",
       "        text-align: right;\n",
       "    }\n",
       "</style>\n",
       "<table border=\"1\" class=\"dataframe\">\n",
       "  <thead>\n",
       "    <tr style=\"text-align: right;\">\n",
       "      <th></th>\n",
       "      <th>df_resid</th>\n",
       "      <th>ssr</th>\n",
       "      <th>df_diff</th>\n",
       "      <th>ss_diff</th>\n",
       "      <th>F</th>\n",
       "      <th>Pr(&gt;F)</th>\n",
       "    </tr>\n",
       "  </thead>\n",
       "  <tbody>\n",
       "    <tr>\n",
       "      <th>0</th>\n",
       "      <td>43.0</td>\n",
       "      <td>43.669605</td>\n",
       "      <td>0.0</td>\n",
       "      <td>NaN</td>\n",
       "      <td>NaN</td>\n",
       "      <td>NaN</td>\n",
       "    </tr>\n",
       "    <tr>\n",
       "      <th>1</th>\n",
       "      <td>45.0</td>\n",
       "      <td>597.517174</td>\n",
       "      <td>-2.0</td>\n",
       "      <td>-553.847569</td>\n",
       "      <td>20.855585</td>\n",
       "      <td>NaN</td>\n",
       "    </tr>\n",
       "  </tbody>\n",
       "</table>\n",
       "</div>"
      ],
      "text/plain": [
       "   df_resid         ssr  df_diff     ss_diff          F  Pr(>F)\n",
       "0      43.0   43.669605      0.0         NaN        NaN     NaN\n",
       "1      45.0  597.517174     -2.0 -553.847569  20.855585     NaN"
      ]
     },
     "execution_count": 6,
     "metadata": {},
     "output_type": "execute_result"
    }
   ],
   "source": [
    "modconst = smf.ols(formula='RPI ~ 1', data=data).fit()\n",
    "anova_lm(mod, modconst)"
   ]
  },
  {
   "cell_type": "markdown",
   "id": "automotive-metropolitan",
   "metadata": {},
   "source": [
    "### (b) R-squared"
   ]
  },
  {
   "cell_type": "markdown",
   "id": "significant-tiffany",
   "metadata": {},
   "source": [
    "In multiple regression  the coefficient of determination, often called $R^2$ is identical to the squared correlation between the response variable and the fitted values. The coefficient of determination is a measure of the linear relationship between the response variable and the fit."
   ]
  },
  {
   "cell_type": "code",
   "execution_count": 7,
   "id": "appreciated-question",
   "metadata": {},
   "outputs": [
    {
     "data": {
      "text/plain": [
       "0.9269148955002267"
      ]
     },
     "execution_count": 7,
     "metadata": {},
     "output_type": "execute_result"
    }
   ],
   "source": [
    "mod.rsquared"
   ]
  },
  {
   "cell_type": "code",
   "execution_count": 8,
   "id": "binary-arcade",
   "metadata": {},
   "outputs": [
    {
     "data": {
      "text/plain": [
       "array([[1.       , 0.9269149],\n",
       "       [0.9269149, 1.       ]])"
      ]
     },
     "execution_count": 8,
     "metadata": {},
     "output_type": "execute_result"
    }
   ],
   "source": [
    "np.corrcoef(data.RPI, mod.fittedvalues.values)**2"
   ]
  },
  {
   "cell_type": "markdown",
   "id": "continent-employer",
   "metadata": {},
   "source": [
    "visualisation"
   ]
  },
  {
   "cell_type": "code",
   "execution_count": 9,
   "id": "rational-commission",
   "metadata": {},
   "outputs": [
    {
     "data": {
      "image/png": "[encoded data removed]",
      "text/plain": [
       "<Figure size 640x480 with 1 Axes>"
      ]
     },
     "metadata": {},
     "output_type": "display_data"
    }
   ],
   "source": [
    "plt.close()\n",
    "plt.xlim([90,110])\n",
    "plt.ylim([90,110])\n",
    "plt.scatter(data.RPI, mod.fittedvalues.values, color='red')\n",
    "plt.grid()            \n",
    "plt.axhline(y=0, color='black', linewidth=0.5)\n",
    "plt.axvline(x=0, color='black', linewidth=0.5)\n",
    "plt.title('Rental Price Index, Zurich: Measured versus Fitted')\n",
    "plt.xlabel('mod.fittedvalues.values')\n",
    "plt.ylabel('RPI')\n",
    "plt.axline((1, 1), slope=1, color='black', ls=\"--\")\n",
    "plt.show()"
   ]
  },
  {
   "cell_type": "markdown",
   "id": "small-return",
   "metadata": {},
   "source": [
    "REMARKS: $92.7\\%$ of the variability in the response is explained by the explanatory variables CPI and MI.\n",
    "         This is a very good."
   ]
  },
  {
   "cell_type": "markdown",
   "id": "educated-realtor",
   "metadata": {},
   "source": [
    "### (c) Confidence Interval on $\\beta_1$"
   ]
  },
  {
   "cell_type": "code",
   "execution_count": 10,
   "id": "contemporary-morning",
   "metadata": {},
   "outputs": [
    {
     "data": {
      "text/html": [
       "<div>\n",
       "<style scoped>\n",
       "    .dataframe tbody tr th:only-of-type {\n",
       "        vertical-align: middle;\n",
       "    }\n",
       "\n",
       "    .dataframe tbody tr th {\n",
       "        vertical-align: top;\n",
       "    }\n",
       "\n",
       "    .dataframe thead th {\n",
       "        text-align: right;\n",
       "    }\n",
       "</style>\n",
       "<table border=\"1\" class=\"dataframe\">\n",
       "  <thead>\n",
       "    <tr style=\"text-align: right;\">\n",
       "      <th></th>\n",
       "      <th>0</th>\n",
       "      <th>1</th>\n",
       "    </tr>\n",
       "  </thead>\n",
       "  <tbody>\n",
       "    <tr>\n",
       "      <th>Intercept</th>\n",
       "      <td>-93.416581</td>\n",
       "      <td>-44.000035</td>\n",
       "    </tr>\n",
       "    <tr>\n",
       "      <th>CPI</th>\n",
       "      <td>1.402744</td>\n",
       "      <td>1.833861</td>\n",
       "    </tr>\n",
       "    <tr>\n",
       "      <th>MI</th>\n",
       "      <td>1.117831</td>\n",
       "      <td>2.895994</td>\n",
       "    </tr>\n",
       "  </tbody>\n",
       "</table>\n",
       "</div>"
      ],
      "text/plain": [
       "                   0          1\n",
       "Intercept -93.416581 -44.000035\n",
       "CPI         1.402744   1.833861\n",
       "MI          1.117831   2.895994"
      ]
     },
     "execution_count": 10,
     "metadata": {},
     "output_type": "execute_result"
    }
   ],
   "source": [
    "mod.conf_int(alpha=0.02)"
   ]
  },
  {
   "cell_type": "markdown",
   "id": "first-paste",
   "metadata": {},
   "source": [
    "### (d) Prediction and Prediction Interval"
   ]
  },
  {
   "cell_type": "markdown",
   "id": "comic-western",
   "metadata": {},
   "source": [
    "data frame for the new observation"
   ]
  },
  {
   "cell_type": "code",
   "execution_count": 11,
   "id": "nominated-plate",
   "metadata": {},
   "outputs": [],
   "source": [
    "datanew = pd.DataFrame(data={'CPI': [100.5], 'MI': [4.5]})"
   ]
  },
  {
   "cell_type": "markdown",
   "id": "prospective-paragraph",
   "metadata": {},
   "source": [
    "prediction and $95\\%$ prediction interval"
   ]
  },
  {
   "cell_type": "code",
   "execution_count": 12,
   "id": "sunrise-federal",
   "metadata": {},
   "outputs": [
    {
     "data": {
      "text/html": [
       "<div>\n",
       "<style scoped>\n",
       "    .dataframe tbody tr th:only-of-type {\n",
       "        vertical-align: middle;\n",
       "    }\n",
       "\n",
       "    .dataframe tbody tr th {\n",
       "        vertical-align: top;\n",
       "    }\n",
       "\n",
       "    .dataframe thead th {\n",
       "        text-align: right;\n",
       "    }\n",
       "</style>\n",
       "<table border=\"1\" class=\"dataframe\">\n",
       "  <thead>\n",
       "    <tr style=\"text-align: right;\">\n",
       "      <th></th>\n",
       "      <th>mean</th>\n",
       "      <th>mean_se</th>\n",
       "      <th>mean_ci_lower</th>\n",
       "      <th>mean_ci_upper</th>\n",
       "      <th>obs_ci_lower</th>\n",
       "      <th>obs_ci_upper</th>\n",
       "    </tr>\n",
       "  </thead>\n",
       "  <tbody>\n",
       "    <tr>\n",
       "      <th>0</th>\n",
       "      <td>102.962208</td>\n",
       "      <td>0.181934</td>\n",
       "      <td>102.595304</td>\n",
       "      <td>103.329113</td>\n",
       "      <td>100.897021</td>\n",
       "      <td>105.027396</td>\n",
       "    </tr>\n",
       "  </tbody>\n",
       "</table>\n",
       "</div>"
      ],
      "text/plain": [
       "         mean   mean_se  mean_ci_lower  mean_ci_upper  obs_ci_lower  \\\n",
       "0  102.962208  0.181934     102.595304     103.329113    100.897021   \n",
       "\n",
       "   obs_ci_upper  \n",
       "0    105.027396  "
      ]
     },
     "execution_count": 12,
     "metadata": {},
     "output_type": "execute_result"
    }
   ],
   "source": [
    "mod.get_prediction(datanew).summary_frame(alpha=0.05)\n"
   ]
  }
 ],
 "metadata": {
  "kernelspec": {
   "display_name": "Python 3 (ipykernel)",
   "language": "python",
   "name": "python3"
  },
  "language_info": {
   "codemirror_mode": {
    "name": "ipython",
    "version": 3
   },
   "file_extension": ".py",
   "mimetype": "text/x-python",
   "name": "python",
   "nbconvert_exporter": "python",
   "pygments_lexer": "ipython3",
   "version": "3.9.12"
  }
 },
 "nbformat": 4,
 "nbformat_minor": 5
}
