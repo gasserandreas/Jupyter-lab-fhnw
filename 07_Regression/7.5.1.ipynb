{
 "cells": [
  {
   "cell_type": "markdown",
   "metadata": {},
   "source": [
    "# Problem 7.5.1 (Venice Sea Level, cf. [9], Example 5.1)\n",
    "\n",
    "The annual maximum sea levels [in cm] in Venice, 1931-1981 have been recorded by P. A. Pirazzoli.\n",
    "\n",
    "The data set venice.dat contains the annual maximum tides at Venice for the 51 years."
   ]
  },
  {
   "cell_type": "code",
   "execution_count": 48,
   "metadata": {},
   "outputs": [],
   "source": [
    "import os\n",
    "import numpy as np\n",
    "import matplotlib.pyplot as plt\n",
    "import pandas as pd\n",
    "import statsmodels.formula.api as smf\n",
    "import scipy as scp"
   ]
  },
  {
   "cell_type": "code",
   "execution_count": 64,
   "metadata": {},
   "outputs": [
    {
     "data": {
      "text/html": [
       "<div>\n",
       "<style scoped>\n",
       "    .dataframe tbody tr th:only-of-type {\n",
       "        vertical-align: middle;\n",
       "    }\n",
       "\n",
       "    .dataframe tbody tr th {\n",
       "        vertical-align: top;\n",
       "    }\n",
       "\n",
       "    .dataframe thead th {\n",
       "        text-align: right;\n",
       "    }\n",
       "</style>\n",
       "<table border=\"1\" class=\"dataframe\">\n",
       "  <thead>\n",
       "    <tr style=\"text-align: right;\">\n",
       "      <th></th>\n",
       "      <th>Year</th>\n",
       "      <th>SeaLevel</th>\n",
       "    </tr>\n",
       "  </thead>\n",
       "  <tbody>\n",
       "    <tr>\n",
       "      <th>0</th>\n",
       "      <td>1931</td>\n",
       "      <td>103</td>\n",
       "    </tr>\n",
       "    <tr>\n",
       "      <th>1</th>\n",
       "      <td>1932</td>\n",
       "      <td>78</td>\n",
       "    </tr>\n",
       "    <tr>\n",
       "      <th>2</th>\n",
       "      <td>1933</td>\n",
       "      <td>121</td>\n",
       "    </tr>\n",
       "    <tr>\n",
       "      <th>3</th>\n",
       "      <td>1934</td>\n",
       "      <td>116</td>\n",
       "    </tr>\n",
       "    <tr>\n",
       "      <th>4</th>\n",
       "      <td>1935</td>\n",
       "      <td>115</td>\n",
       "    </tr>\n",
       "    <tr>\n",
       "      <th>5</th>\n",
       "      <td>1936</td>\n",
       "      <td>147</td>\n",
       "    </tr>\n",
       "    <tr>\n",
       "      <th>6</th>\n",
       "      <td>1937</td>\n",
       "      <td>119</td>\n",
       "    </tr>\n",
       "    <tr>\n",
       "      <th>7</th>\n",
       "      <td>1938</td>\n",
       "      <td>114</td>\n",
       "    </tr>\n",
       "    <tr>\n",
       "      <th>8</th>\n",
       "      <td>1939</td>\n",
       "      <td>89</td>\n",
       "    </tr>\n",
       "    <tr>\n",
       "      <th>9</th>\n",
       "      <td>1940</td>\n",
       "      <td>102</td>\n",
       "    </tr>\n",
       "  </tbody>\n",
       "</table>\n",
       "</div>"
      ],
      "text/plain": [
       "   Year  SeaLevel\n",
       "0  1931       103\n",
       "1  1932        78\n",
       "2  1933       121\n",
       "3  1934       116\n",
       "4  1935       115\n",
       "5  1936       147\n",
       "6  1937       119\n",
       "7  1938       114\n",
       "8  1939        89\n",
       "9  1940       102"
      ]
     },
     "execution_count": 64,
     "metadata": {},
     "output_type": "execute_result"
    }
   ],
   "source": [
    "# read dataset first\n",
    "df = pd.read_csv('./venice.dat', sep='\\t', )\n",
    "df.head(10)"
   ]
  },
  {
   "cell_type": "markdown",
   "metadata": {},
   "source": [
    "#### a. Represent the data in a scatter diagram sea level versus year and describe the functional context in words."
   ]
  },
  {
   "cell_type": "code",
   "execution_count": 72,
   "metadata": {},
   "outputs": [
    {
     "name": "stdout",
     "output_type": "stream",
     "text": [
      "1931 1981\n",
      "78 194\n"
     ]
    }
   ],
   "source": [
    "year_min = df['Year'].min()\n",
    "year_max = df['Year'].max()\n",
    "print(year_min, year_max)\n",
    "\n",
    "sea_level_min = df['SeaLevel'].min()\n",
    "sea_level_max = df['SeaLevel'].max()\n",
    "print(sea_level_min, sea_level_max)"
   ]
  },
  {
   "cell_type": "code",
   "execution_count": 74,
   "metadata": {},
   "outputs": [
    {
     "data": {
      "image/png": "[encoded data removed]",
      "text/plain": [
       "<Figure size 640x480 with 1 Axes>"
      ]
     },
     "metadata": {},
     "output_type": "display_data"
    }
   ],
   "source": [
    "plt.close()\n",
    "# set limits\n",
    "plt.xlim([1920, 1990])\n",
    "plt.ylim([60, 200])\n",
    "\n",
    "# label x and y axis\n",
    "plt.xlabel('Year')\n",
    "plt.ylabel('Sea Level (mm)')\n",
    "plt.title('Venice Sea Level vs Year')\n",
    "\n",
    "# plot the data\n",
    "plt.scatter(df['Year'], df['SeaLevel'], color='blue')\n",
    "\n",
    "plt.grid()\n",
    "\n",
    "plt.show()\n"
   ]
  },
  {
   "cell_type": "markdown",
   "metadata": {},
   "source": [
    "#### b. Fit a straight line to the data points. Give the estimated parameter values."
   ]
  },
  {
   "cell_type": "code",
   "execution_count": 78,
   "metadata": {},
   "outputs": [
    {
     "name": "stdout",
     "output_type": "stream",
     "text": [
      "1956.0 119.6078431372549\n",
      "11050.0 6265.0\n"
     ]
    }
   ],
   "source": [
    "year_bar = np.mean(df['Year'])\n",
    "sea_level_bar = np.mean(df['SeaLevel'])\n",
    "print(year_bar, sea_level_bar)\n",
    "\n",
    "all_xx = (df['Year'] - year_bar)**2\n",
    "all_xy = (df['Year'] - year_bar) * (df['SeaLevel'] - sea_level_bar)\n",
    "\n",
    "Sxx = sum(all_xx)\n",
    "Sxy = sum(all_xy)\n",
    "\n",
    "print(Sxx, Sxy)\n"
   ]
  },
  {
   "cell_type": "code",
   "execution_count": 79,
   "metadata": {},
   "outputs": [
    {
     "data": {
      "text/plain": [
       "0.5669683257918552"
      ]
     },
     "execution_count": 79,
     "metadata": {},
     "output_type": "execute_result"
    }
   ],
   "source": [
    "# slope berechnen\n",
    "beta1 = Sxy / Sxx\n",
    "beta1"
   ]
  },
  {
   "cell_type": "code",
   "execution_count": 80,
   "metadata": {},
   "outputs": [
    {
     "data": {
      "text/plain": [
       "-989.3822021116138"
      ]
     },
     "execution_count": 80,
     "metadata": {},
     "output_type": "execute_result"
    }
   ],
   "source": [
    "# intercept\n",
    "beta0 = sea_level_bar - beta1 * year_bar\n",
    "beta0"
   ]
  },
  {
   "cell_type": "code",
   "execution_count": null,
   "metadata": {},
   "outputs": [],
   "source": []
  }
 ],
 "metadata": {
  "kernelspec": {
   "display_name": "Python 3 (ipykernel)",
   "language": "python",
   "name": "python3"
  },
  "language_info": {
   "codemirror_mode": {
    "name": "ipython",
    "version": 3
   },
   "file_extension": ".py",
   "mimetype": "text/x-python",
   "name": "python",
   "nbconvert_exporter": "python",
   "pygments_lexer": "ipython3",
   "version": "3.11.6"
  }
 },
 "nbformat": 4,
 "nbformat_minor": 2
}
