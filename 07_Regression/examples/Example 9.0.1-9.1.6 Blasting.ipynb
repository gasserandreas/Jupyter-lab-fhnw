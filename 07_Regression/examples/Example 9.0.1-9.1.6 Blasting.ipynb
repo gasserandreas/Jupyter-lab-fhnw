{
 "cells": [
  {
   "cell_type": "markdown",
   "id": "seven-examination",
   "metadata": {},
   "source": [
    "# Example 9.0.1-9.1.6 Blasting"
   ]
  },
  {
   "cell_type": "markdown",
   "id": "integral-forestry",
   "metadata": {},
   "source": [
    "Author: Marcel Steiner-Curtis \\\n",
    "Date: 03.03.2019 sml, 05.03.2021 sml: Python-Jupyter Notebook"
   ]
  },
  {
   "cell_type": "code",
   "execution_count": 1,
   "id": "unexpected-sword",
   "metadata": {},
   "outputs": [],
   "source": [
    "import os\n",
    "import numpy as np\n",
    "import matplotlib.pyplot as plt\n",
    "import pandas as pd\n",
    "import statsmodels.formula.api as smf\n",
    "import scipy as scp"
   ]
  },
  {
   "cell_type": "markdown",
   "id": "supported-silver",
   "metadata": {},
   "source": [
    "## Example 9.0.1 Blasting"
   ]
  },
  {
   "cell_type": "markdown",
   "id": "intimate-wales",
   "metadata": {},
   "source": [
    "read data"
   ]
  },
  {
   "cell_type": "code",
   "execution_count": 2,
   "id": "guilty-strand",
   "metadata": {},
   "outputs": [
    {
     "data": {
      "text/html": [
       "<div>\n",
       "<style scoped>\n",
       "    .dataframe tbody tr th:only-of-type {\n",
       "        vertical-align: middle;\n",
       "    }\n",
       "\n",
       "    .dataframe tbody tr th {\n",
       "        vertical-align: top;\n",
       "    }\n",
       "\n",
       "    .dataframe thead th {\n",
       "        text-align: right;\n",
       "    }\n",
       "</style>\n",
       "<table border=\"1\" class=\"dataframe\">\n",
       "  <thead>\n",
       "    <tr style=\"text-align: right;\">\n",
       "      <th></th>\n",
       "      <th>Position</th>\n",
       "      <th>Charge</th>\n",
       "      <th>Distance</th>\n",
       "      <th>Vibration</th>\n",
       "    </tr>\n",
       "  </thead>\n",
       "  <tbody>\n",
       "    <tr>\n",
       "      <th>0</th>\n",
       "      <td>1</td>\n",
       "      <td>2.18</td>\n",
       "      <td>188</td>\n",
       "      <td>0.32</td>\n",
       "    </tr>\n",
       "    <tr>\n",
       "      <th>1</th>\n",
       "      <td>1</td>\n",
       "      <td>3.33</td>\n",
       "      <td>183</td>\n",
       "      <td>0.53</td>\n",
       "    </tr>\n",
       "    <tr>\n",
       "      <th>2</th>\n",
       "      <td>1</td>\n",
       "      <td>3.33</td>\n",
       "      <td>177</td>\n",
       "      <td>0.50</td>\n",
       "    </tr>\n",
       "    <tr>\n",
       "      <th>3</th>\n",
       "      <td>2</td>\n",
       "      <td>3.33</td>\n",
       "      <td>53</td>\n",
       "      <td>6.71</td>\n",
       "    </tr>\n",
       "    <tr>\n",
       "      <th>4</th>\n",
       "      <td>2</td>\n",
       "      <td>3.12</td>\n",
       "      <td>49</td>\n",
       "      <td>5.99</td>\n",
       "    </tr>\n",
       "  </tbody>\n",
       "</table>\n",
       "</div>"
      ],
      "text/plain": [
       "   Position  Charge  Distance  Vibration\n",
       "0         1    2.18       188       0.32\n",
       "1         1    3.33       183       0.53\n",
       "2         1    3.33       177       0.50\n",
       "3         2    3.33        53       6.71\n",
       "4         2    3.12        49       5.99"
      ]
     },
     "execution_count": 2,
     "metadata": {},
     "output_type": "execute_result"
    }
   ],
   "source": [
    "os.chdir('../04 Datasets')\n",
    "data = pd.read_csv('blasting.dat', delimiter='\\t')\n",
    "data.head()"
   ]
  },
  {
   "cell_type": "markdown",
   "id": "manual-truth",
   "metadata": {},
   "source": [
    "define new log10-transformed variables"
   ]
  },
  {
   "cell_type": "code",
   "execution_count": 3,
   "id": "extra-briefs",
   "metadata": {},
   "outputs": [],
   "source": [
    "data['Chargelog']    = np.log10(data.Charge)\n",
    "data['Distancelog']  = np.log10(data.Distance)\n",
    "data['Vibrationlog'] = np.log10(data.Vibration)"
   ]
  },
  {
   "cell_type": "markdown",
   "id": "operating-denmark",
   "metadata": {},
   "source": [
    "Scatter diagram: Vibration versus Distance, size=Charge"
   ]
  },
  {
   "cell_type": "code",
   "execution_count": 4,
   "id": "innovative-toddler",
   "metadata": {},
   "outputs": [
    {
     "data": {
      "image/png": "[encoded data removed]",
      "text/plain": [
       "<Figure size 432x288 with 1 Axes>"
      ]
     },
     "metadata": {
      "needs_background": "light"
     },
     "output_type": "display_data"
    }
   ],
   "source": [
    "plt.close()\n",
    "Chargeprop = (data.Charge-min(data.Charge))/max(data.Charge-min(data.Charge))\n",
    "plt.xlim([0,200])\n",
    "plt.ylim([0,12])\n",
    "plt.scatter(data.Distance, data.Vibration, \n",
    "            marker='o', color='blue', edgecolor='black', \n",
    "            s=200*(Chargeprop+0.1))\n",
    "plt.grid()            \n",
    "plt.axhline(y=0, color='black', linewidth=0.5)\n",
    "plt.axvline(x=0, color='black', linewidth=0.5)\n",
    "plt.title('Blasting: Vibration versus Distance')\n",
    "plt.xlabel('Distance')\n",
    "plt.ylabel('Vibration')\n",
    "plt.show()"
   ]
  },
  {
   "cell_type": "markdown",
   "id": "objective-breath",
   "metadata": {},
   "source": [
    "##  Example 9.1.1 Estimation"
   ]
  },
  {
   "cell_type": "markdown",
   "id": "social-orbit",
   "metadata": {},
   "source": [
    "### estimation of the parameters <span style=\"color:red\">(explicit formulae)</span>"
   ]
  },
  {
   "cell_type": "code",
   "execution_count": 5,
   "id": "sitting-principle",
   "metadata": {},
   "outputs": [
    {
     "data": {
      "text/plain": [
       "48"
      ]
     },
     "execution_count": 5,
     "metadata": {},
     "output_type": "execute_result"
    }
   ],
   "source": [
    "n = data.shape[0];   n"
   ]
  },
  {
   "cell_type": "markdown",
   "id": "photographic-neighborhood",
   "metadata": {},
   "source": [
    "vector of the observations"
   ]
  },
  {
   "cell_type": "code",
   "execution_count": 6,
   "id": "through-diameter",
   "metadata": {},
   "outputs": [
    {
     "data": {
      "text/plain": [
       "48"
      ]
     },
     "execution_count": 6,
     "metadata": {},
     "output_type": "execute_result"
    }
   ],
   "source": [
    "y = data.Vibrationlog\n",
    "len(y)"
   ]
  },
  {
   "cell_type": "markdown",
   "id": "pursuant-notebook",
   "metadata": {},
   "source": [
    "matrix of the levels of the regressor variables"
   ]
  },
  {
   "cell_type": "code",
   "execution_count": 7,
   "id": "moderate-friendly",
   "metadata": {},
   "outputs": [
    {
     "data": {
      "text/plain": [
       "(48, 3)"
      ]
     },
     "execution_count": 7,
     "metadata": {},
     "output_type": "execute_result"
    }
   ],
   "source": [
    "X = np.vstack(([1]*n, data.Distancelog, data.Chargelog)).T\n",
    "X.shape"
   ]
  },
  {
   "cell_type": "code",
   "execution_count": 8,
   "id": "female-maine",
   "metadata": {},
   "outputs": [
    {
     "data": {
      "text/plain": [
       "array([[1.        , 2.27415785, 0.33845649],\n",
       "       [1.        , 2.26245109, 0.52244423],\n",
       "       [1.        , 2.24797327, 0.52244423],\n",
       "       [1.        , 1.72427587, 0.52244423],\n",
       "       [1.        , 1.69019608, 0.49415459],\n",
       "       [1.        , 1.66275783, 0.49415459],\n",
       "       [1.        , 1.64345268, 0.49415459],\n",
       "       [1.        , 1.62324929, 0.41497335],\n",
       "       [1.        , 1.62324929, 0.31806333],\n",
       "       [1.        , 1.64345268, 0.31806333],\n",
       "       [1.        , 1.65321251, 0.41497335],\n",
       "       [1.        , 1.68124124, 0.41497335],\n",
       "       [1.        , 1.69897   , 0.41497335],\n",
       "       [1.        , 2.02938378, 0.56110138],\n",
       "       [1.        , 2.        , 0.31806333],\n",
       "       [1.        , 1.96848295, 0.39794001],\n",
       "       [1.        , 1.93449845, 0.41497335],\n",
       "       [1.        , 1.90308999, 0.41497335],\n",
       "       [1.        , 1.86923172, 0.49415459],\n",
       "       [1.        , 1.85125835, 0.41497335],\n",
       "       [1.        , 1.83884909, 0.31806333],\n",
       "       [1.        , 1.81954394, 0.41497335],\n",
       "       [1.        , 1.81291336, 0.33845649],\n",
       "       [1.        , 1.78532984, 0.41497335],\n",
       "       [1.        , 2.161368  , 0.33845649],\n",
       "       [1.        , 2.13353891, 0.52244423],\n",
       "       [1.        , 2.12385164, 0.52244423],\n",
       "       [1.        , 1.5563025 , 0.52244423],\n",
       "       [1.        , 1.5563025 , 0.49415459],\n",
       "       [1.        , 1.59106461, 0.49415459],\n",
       "       [1.        , 1.60205999, 0.49415459],\n",
       "       [1.        , 1.63346846, 0.41497335],\n",
       "       [1.        , 1.67209786, 0.31806333],\n",
       "       [1.        , 1.70757018, 0.31806333],\n",
       "       [1.        , 1.74818803, 0.41497335],\n",
       "       [1.        , 1.78532984, 0.41497335],\n",
       "       [1.        , 1.81291336, 0.41497335],\n",
       "       [1.        , 1.81291336, 0.56110138],\n",
       "       [1.        , 1.77085201, 0.31806333],\n",
       "       [1.        , 1.71600334, 0.39794001],\n",
       "       [1.        , 1.67209786, 0.41497335],\n",
       "       [1.        , 1.63346846, 0.41497335],\n",
       "       [1.        , 1.59106461, 0.49415459],\n",
       "       [1.        , 1.5797836 , 0.41497335],\n",
       "       [1.        , 1.5797836 , 0.31806333],\n",
       "       [1.        , 1.56820172, 0.41497335],\n",
       "       [1.        , 1.56820172, 0.33845649],\n",
       "       [1.        , 1.5797836 , 0.41497335]])"
      ]
     },
     "execution_count": 8,
     "metadata": {},
     "output_type": "execute_result"
    }
   ],
   "source": [
    "X"
   ]
  },
  {
   "cell_type": "markdown",
   "id": "dominant-supply",
   "metadata": {},
   "source": [
    "least-squares estimator"
   ]
  },
  {
   "cell_type": "code",
   "execution_count": 9,
   "id": "organized-relaxation",
   "metadata": {},
   "outputs": [
    {
     "data": {
      "text/plain": [
       "array([ 2.83225525, -1.51071284,  0.80834385])"
      ]
     },
     "execution_count": 9,
     "metadata": {},
     "output_type": "execute_result"
    }
   ],
   "source": [
    "betahat = np.matmul(np.matmul(np.linalg.inv(np.matmul(X.T,X)),X.T),y);   betahat"
   ]
  },
  {
   "cell_type": "markdown",
   "id": "military-topic",
   "metadata": {},
   "source": [
    "### estimation of the parameters <span style=\"color:red\">(smf.ols)</span>"
   ]
  },
  {
   "cell_type": "code",
   "execution_count": 10,
   "id": "excess-spare",
   "metadata": {},
   "outputs": [
    {
     "name": "stdout",
     "output_type": "stream",
     "text": [
      "                            OLS Regression Results                            \n",
      "==============================================================================\n",
      "Dep. Variable:           Vibrationlog   R-squared:                       0.805\n",
      "Model:                            OLS   Adj. R-squared:                  0.796\n",
      "Method:                 Least Squares   F-statistic:                     92.79\n",
      "Date:                Mon, 13 Feb 2023   Prob (F-statistic):           1.08e-16\n",
      "Time:                        14:11:31   Log-Likelihood:                 23.579\n",
      "No. Observations:                  48   AIC:                            -41.16\n",
      "Df Residuals:                      45   BIC:                            -35.54\n",
      "Df Model:                           2                                         \n",
      "Covariance Type:            nonrobust                                         \n",
      "===============================================================================\n",
      "                  coef    std err          t      P>|t|      [0.025      0.975]\n",
      "-------------------------------------------------------------------------------\n",
      "Intercept       2.8323      0.223     12.707      0.000       2.383       3.281\n",
      "Distancelog    -1.5107      0.111    -13.592      0.000      -1.735      -1.287\n",
      "Chargelog       0.8083      0.304      2.658      0.011       0.196       1.421\n",
      "==============================================================================\n",
      "Omnibus:                        1.002   Durbin-Watson:                   1.143\n",
      "Prob(Omnibus):                  0.606   Jarque-Bera (JB):                0.342\n",
      "Skew:                          -0.098   Prob(JB):                        0.843\n",
      "Kurtosis:                       3.364   Cond. No.                         31.4\n",
      "==============================================================================\n",
      "\n",
      "Notes:\n",
      "[1] Standard Errors assume that the covariance matrix of the errors is correctly specified.\n"
     ]
    }
   ],
   "source": [
    "mod = smf.ols(formula='Vibrationlog ~ Distancelog + Chargelog', data=data).fit()\n",
    "print(mod.summary())"
   ]
  },
  {
   "cell_type": "markdown",
   "id": "decreased-attention",
   "metadata": {},
   "source": [
    "## Example 9.1.2 Tests on the Significance of any Individual Regression Coefficient"
   ]
  },
  {
   "cell_type": "markdown",
   "id": "entitled-complement",
   "metadata": {},
   "source": [
    "hat matrix"
   ]
  },
  {
   "cell_type": "code",
   "execution_count": 11,
   "id": "differential-think",
   "metadata": {},
   "outputs": [
    {
     "data": {
      "text/plain": [
       "(48, 48)"
      ]
     },
     "execution_count": 11,
     "metadata": {},
     "output_type": "execute_result"
    }
   ],
   "source": [
    "H = np.matmul(np.matmul(X, np.linalg.inv(np.matmul(X.T,X))), X.T)\n",
    "H.shape"
   ]
  },
  {
   "cell_type": "markdown",
   "id": "pressed-gossip",
   "metadata": {},
   "source": [
    "mean of all leverages is p/n (cf. Chap. 10.2)"
   ]
  },
  {
   "cell_type": "code",
   "execution_count": 12,
   "id": "copyrighted-torture",
   "metadata": {},
   "outputs": [
    {
     "data": {
      "text/plain": [
       "-1.1102230246251565e-16"
      ]
     },
     "execution_count": 12,
     "metadata": {},
     "output_type": "execute_result"
    }
   ],
   "source": [
    "np.diag(H).mean()-(1+2)/data.shape[0]"
   ]
  },
  {
   "cell_type": "markdown",
   "id": "technical-retro",
   "metadata": {},
   "source": [
    "fitted values"
   ]
  },
  {
   "cell_type": "code",
   "execution_count": 13,
   "id": "anticipated-warning",
   "metadata": {},
   "outputs": [],
   "source": [
    "Vibrationloghat = np.matmul(H, y)"
   ]
  },
  {
   "cell_type": "markdown",
   "id": "blank-collective",
   "metadata": {},
   "source": [
    "residuals"
   ]
  },
  {
   "cell_type": "code",
   "execution_count": 14,
   "id": "transsexual-contact",
   "metadata": {},
   "outputs": [],
   "source": [
    "res = data.Vibrationlog - Vibrationloghat"
   ]
  },
  {
   "cell_type": "markdown",
   "id": "about-mattress",
   "metadata": {},
   "source": [
    "error sum of squares"
   ]
  },
  {
   "cell_type": "code",
   "execution_count": 15,
   "id": "sought-proceeding",
   "metadata": {},
   "outputs": [],
   "source": [
    "sigma2hat = sum(res**2)/(data.shape[0]-3)"
   ]
  },
  {
   "cell_type": "markdown",
   "id": "turkish-flour",
   "metadata": {},
   "source": [
    "residual standard error"
   ]
  },
  {
   "cell_type": "code",
   "execution_count": 16,
   "id": "speaking-rapid",
   "metadata": {},
   "outputs": [
    {
     "data": {
      "text/plain": [
       "0.1529101963212803"
      ]
     },
     "execution_count": 16,
     "metadata": {},
     "output_type": "execute_result"
    }
   ],
   "source": [
    "np.sqrt(sigma2hat)"
   ]
  },
  {
   "cell_type": "markdown",
   "id": "medium-taiwan",
   "metadata": {},
   "source": [
    "three standard errors"
   ]
  },
  {
   "cell_type": "code",
   "execution_count": 17,
   "id": "coastal-optimization",
   "metadata": {},
   "outputs": [
    {
     "data": {
      "text/plain": [
       "array([0.2228918 , 0.11114721, 0.30417236])"
      ]
     },
     "execution_count": 17,
     "metadata": {},
     "output_type": "execute_result"
    }
   ],
   "source": [
    "sebeta = np.sqrt(sigma2hat) * np.sqrt(np.diag(np.linalg.inv(np.matmul(X.T,X))));   sebeta"
   ]
  },
  {
   "cell_type": "markdown",
   "id": "retained-plymouth",
   "metadata": {},
   "source": [
    "null hypothesis"
   ]
  },
  {
   "cell_type": "code",
   "execution_count": 18,
   "id": "differential-packet",
   "metadata": {},
   "outputs": [],
   "source": [
    "beta0 = [0]*3"
   ]
  },
  {
   "cell_type": "markdown",
   "id": "eastern-dollar",
   "metadata": {},
   "source": [
    "three test statistics"
   ]
  },
  {
   "cell_type": "code",
   "execution_count": 19,
   "id": "compressed-think",
   "metadata": {},
   "outputs": [
    {
     "data": {
      "text/plain": [
       "array([ 12.70686176, -13.59200002,   2.65751909])"
      ]
     },
     "execution_count": 19,
     "metadata": {},
     "output_type": "execute_result"
    }
   ],
   "source": [
    "Testbeta = (betahat-beta0)/sebeta;   Testbeta"
   ]
  },
  {
   "cell_type": "markdown",
   "id": "professional-bikini",
   "metadata": {},
   "source": [
    "three $P$-values"
   ]
  },
  {
   "cell_type": "code",
   "execution_count": 20,
   "id": "exceptional-dodge",
   "metadata": {},
   "outputs": [
    {
     "data": {
      "text/plain": [
       "array([2.22044605e-16, 0.00000000e+00, 1.08572500e-02])"
      ]
     },
     "execution_count": 20,
     "metadata": {},
     "output_type": "execute_result"
    }
   ],
   "source": [
    "2*(1-scp.stats.t.cdf(np.abs(Testbeta), df=n-3))"
   ]
  },
  {
   "cell_type": "markdown",
   "id": "roman-hierarchy",
   "metadata": {},
   "source": [
    "## Example 9.1.3 Confidence Intervals on the Regression Coefficient"
   ]
  },
  {
   "cell_type": "markdown",
   "id": "innocent-donna",
   "metadata": {},
   "source": [
    "significance level"
   ]
  },
  {
   "cell_type": "code",
   "execution_count": 21,
   "id": "distant-college",
   "metadata": {},
   "outputs": [],
   "source": [
    "alpha = 0.05"
   ]
  },
  {
   "cell_type": "markdown",
   "id": "paperback-alabama",
   "metadata": {},
   "source": [
    "three 95% confidence intervals <span style=\"color:red\">(explicit formulae)</span>"
   ]
  },
  {
   "cell_type": "code",
   "execution_count": 22,
   "id": "gothic-rental",
   "metadata": {},
   "outputs": [
    {
     "data": {
      "text/plain": [
       "2.0141033848332923"
      ]
     },
     "execution_count": 22,
     "metadata": {},
     "output_type": "execute_result"
    }
   ],
   "source": [
    "tcrit = scp.stats.t.ppf(1-alpha/2, df=data.shape[0]-3);   tcrit"
   ]
  },
  {
   "cell_type": "code",
   "execution_count": 23,
   "id": "seventh-helen",
   "metadata": {},
   "outputs": [
    {
     "data": {
      "text/plain": [
       "array([[ 2.38332812, -1.73457481,  0.19570927],\n",
       "       [ 3.28118237, -1.28685088,  1.42097843]])"
      ]
     },
     "execution_count": 23,
     "metadata": {},
     "output_type": "execute_result"
    }
   ],
   "source": [
    "CI = np.vstack((betahat - tcrit*sebeta, betahat + tcrit*sebeta))\n",
    "CI"
   ]
  },
  {
   "cell_type": "markdown",
   "id": "hollow-community",
   "metadata": {},
   "source": [
    "three 95% confidence intervals <span style=\"color:red\">(smf.ols)</span>"
   ]
  },
  {
   "cell_type": "code",
   "execution_count": 24,
   "id": "connected-batman",
   "metadata": {},
   "outputs": [
    {
     "data": {
      "text/html": [
       "<div>\n",
       "<style scoped>\n",
       "    .dataframe tbody tr th:only-of-type {\n",
       "        vertical-align: middle;\n",
       "    }\n",
       "\n",
       "    .dataframe tbody tr th {\n",
       "        vertical-align: top;\n",
       "    }\n",
       "\n",
       "    .dataframe thead th {\n",
       "        text-align: right;\n",
       "    }\n",
       "</style>\n",
       "<table border=\"1\" class=\"dataframe\">\n",
       "  <thead>\n",
       "    <tr style=\"text-align: right;\">\n",
       "      <th></th>\n",
       "      <th>0</th>\n",
       "      <th>1</th>\n",
       "    </tr>\n",
       "  </thead>\n",
       "  <tbody>\n",
       "    <tr>\n",
       "      <th>Intercept</th>\n",
       "      <td>2.383328</td>\n",
       "      <td>3.281182</td>\n",
       "    </tr>\n",
       "    <tr>\n",
       "      <th>Distancelog</th>\n",
       "      <td>-1.734575</td>\n",
       "      <td>-1.286851</td>\n",
       "    </tr>\n",
       "    <tr>\n",
       "      <th>Chargelog</th>\n",
       "      <td>0.195709</td>\n",
       "      <td>1.420978</td>\n",
       "    </tr>\n",
       "  </tbody>\n",
       "</table>\n",
       "</div>"
      ],
      "text/plain": [
       "                    0         1\n",
       "Intercept    2.383328  3.281182\n",
       "Distancelog -1.734575 -1.286851\n",
       "Chargelog    0.195709  1.420978"
      ]
     },
     "execution_count": 24,
     "metadata": {},
     "output_type": "execute_result"
    }
   ],
   "source": [
    "mod.conf_int(alpha=alpha)"
   ]
  },
  {
   "cell_type": "markdown",
   "id": "necessary-throat",
   "metadata": {},
   "source": [
    "## Example 9.1.4 Confidence Interval of the Response"
   ]
  },
  {
   "cell_type": "markdown",
   "id": "flexible-europe",
   "metadata": {},
   "source": [
    "confidence interval of the response <span style=\"color:red\">(explicit formulae)</span>"
   ]
  },
  {
   "cell_type": "code",
   "execution_count": 25,
   "id": "controlled-house",
   "metadata": {},
   "outputs": [
    {
     "data": {
      "text/plain": [
       "array([4.47999438, 3.91036534, 5.13260218])"
      ]
     },
     "execution_count": 25,
     "metadata": {},
     "output_type": "execute_result"
    }
   ],
   "source": [
    "x0 = np.array([1, np.log10(50), np.log10(3.0)])\n",
    "y0hat  = np.matmul(x0, betahat)\n",
    "seconf = np.sqrt(sigma2hat * np.matmul(np.matmul(x0, np.linalg.inv(np.matmul(X.T,X))), x0))\n",
    "10**(y0hat + np.array([0,-1,1])*scp.stats.t.ppf(1-alpha/2, df=data.shape[0]-3)*seconf)"
   ]
  },
  {
   "cell_type": "markdown",
   "id": "narrow-roberts",
   "metadata": {},
   "source": [
    "define new point"
   ]
  },
  {
   "cell_type": "code",
   "execution_count": 26,
   "id": "sustainable-clear",
   "metadata": {},
   "outputs": [],
   "source": [
    "datanew = pd.DataFrame(data={'Distancelog': [np.log10(50)], 'Chargelog': [np.log10(3.0)]})"
   ]
  },
  {
   "cell_type": "markdown",
   "id": "limited-service",
   "metadata": {},
   "source": [
    "predict <span style=\"color:red\">(smf.ols)</span>"
   ]
  },
  {
   "cell_type": "code",
   "execution_count": 27,
   "id": "sustainable-spider",
   "metadata": {},
   "outputs": [
    {
     "data": {
      "text/html": [
       "<div>\n",
       "<style scoped>\n",
       "    .dataframe tbody tr th:only-of-type {\n",
       "        vertical-align: middle;\n",
       "    }\n",
       "\n",
       "    .dataframe tbody tr th {\n",
       "        vertical-align: top;\n",
       "    }\n",
       "\n",
       "    .dataframe thead th {\n",
       "        text-align: right;\n",
       "    }\n",
       "</style>\n",
       "<table border=\"1\" class=\"dataframe\">\n",
       "  <thead>\n",
       "    <tr style=\"text-align: right;\">\n",
       "      <th></th>\n",
       "      <th>mean</th>\n",
       "      <th>mean_se</th>\n",
       "      <th>mean_ci_lower</th>\n",
       "      <th>mean_ci_upper</th>\n",
       "      <th>obs_ci_lower</th>\n",
       "      <th>obs_ci_upper</th>\n",
       "    </tr>\n",
       "  </thead>\n",
       "  <tbody>\n",
       "    <tr>\n",
       "      <th>0</th>\n",
       "      <td>4.479994</td>\n",
       "      <td>1.069851</td>\n",
       "      <td>3.910365</td>\n",
       "      <td>5.132602</td>\n",
       "      <td>2.17615</td>\n",
       "      <td>9.222873</td>\n",
       "    </tr>\n",
       "  </tbody>\n",
       "</table>\n",
       "</div>"
      ],
      "text/plain": [
       "       mean   mean_se  mean_ci_lower  mean_ci_upper  obs_ci_lower  \\\n",
       "0  4.479994  1.069851       3.910365       5.132602       2.17615   \n",
       "\n",
       "   obs_ci_upper  \n",
       "0      9.222873  "
      ]
     },
     "execution_count": 27,
     "metadata": {},
     "output_type": "execute_result"
    }
   ],
   "source": [
    "VibrationlogConf = mod.get_prediction(datanew).summary_frame(alpha=0.05)\n",
    "10**VibrationlogConf"
   ]
  },
  {
   "cell_type": "markdown",
   "id": "unlikely-wagner",
   "metadata": {},
   "source": [
    "## Example 9.1.5 Prediction Interval"
   ]
  },
  {
   "cell_type": "markdown",
   "id": "amino-reputation",
   "metadata": {},
   "source": [
    "prediction interval of the response <span style=\"color:red\">(explicit formulae)</span>"
   ]
  },
  {
   "cell_type": "code",
   "execution_count": 28,
   "id": "ordered-collectible",
   "metadata": {},
   "outputs": [
    {
     "data": {
      "text/plain": [
       "array([4.47999438, 2.45355949, 8.18009497])"
      ]
     },
     "execution_count": 28,
     "metadata": {},
     "output_type": "execute_result"
    }
   ],
   "source": [
    "sepred = np.sqrt(sigma2hat + seconf**2)\n",
    "10**(y0hat + np.array([0,-1,1])*scp.stats.t.ppf(1-alpha, df=data.shape[0]-3)*sepred)"
   ]
  },
  {
   "cell_type": "markdown",
   "id": "reported-windsor",
   "metadata": {},
   "source": [
    "predict <span style=\"color:red\">(smf.ols)</span> (one-sided, thereforealpha=0.1)"
   ]
  },
  {
   "cell_type": "code",
   "execution_count": 29,
   "id": "recreational-distance",
   "metadata": {},
   "outputs": [
    {
     "data": {
      "text/html": [
       "<div>\n",
       "<style scoped>\n",
       "    .dataframe tbody tr th:only-of-type {\n",
       "        vertical-align: middle;\n",
       "    }\n",
       "\n",
       "    .dataframe tbody tr th {\n",
       "        vertical-align: top;\n",
       "    }\n",
       "\n",
       "    .dataframe thead th {\n",
       "        text-align: right;\n",
       "    }\n",
       "</style>\n",
       "<table border=\"1\" class=\"dataframe\">\n",
       "  <thead>\n",
       "    <tr style=\"text-align: right;\">\n",
       "      <th></th>\n",
       "      <th>mean</th>\n",
       "      <th>mean_se</th>\n",
       "      <th>mean_ci_lower</th>\n",
       "      <th>mean_ci_upper</th>\n",
       "      <th>obs_ci_lower</th>\n",
       "      <th>obs_ci_upper</th>\n",
       "    </tr>\n",
       "  </thead>\n",
       "  <tbody>\n",
       "    <tr>\n",
       "      <th>0</th>\n",
       "      <td>4.479994</td>\n",
       "      <td>1.069851</td>\n",
       "      <td>3.999734</td>\n",
       "      <td>5.017921</td>\n",
       "      <td>2.453559</td>\n",
       "      <td>8.180095</td>\n",
       "    </tr>\n",
       "  </tbody>\n",
       "</table>\n",
       "</div>"
      ],
      "text/plain": [
       "       mean   mean_se  mean_ci_lower  mean_ci_upper  obs_ci_lower  \\\n",
       "0  4.479994  1.069851       3.999734       5.017921      2.453559   \n",
       "\n",
       "   obs_ci_upper  \n",
       "0      8.180095  "
      ]
     },
     "execution_count": 29,
     "metadata": {},
     "output_type": "execute_result"
    }
   ],
   "source": [
    "VibrationlogConf = mod.get_prediction(datanew).summary_frame(alpha=0.1)\n",
    "10**VibrationlogConf"
   ]
  },
  {
   "cell_type": "markdown",
   "id": "revolutionary-identifier",
   "metadata": {},
   "source": [
    "## Example 9.1.6 Coefficient of Determination, Multiple $R$-squared"
   ]
  },
  {
   "cell_type": "markdown",
   "id": "nominated-nickel",
   "metadata": {},
   "source": [
    "multiple $R$-squared <span style=\"color:red\">(explicit formulae)</span>"
   ]
  },
  {
   "cell_type": "code",
   "execution_count": 30,
   "id": "frozen-corporation",
   "metadata": {},
   "outputs": [
    {
     "data": {
      "text/plain": [
       "array([[1.       , 0.8048385],\n",
       "       [0.8048385, 1.       ]])"
      ]
     },
     "execution_count": 30,
     "metadata": {},
     "output_type": "execute_result"
    }
   ],
   "source": [
    "np.corrcoef(data.Vibrationlog, mod.fittedvalues.values)**2"
   ]
  },
  {
   "cell_type": "markdown",
   "id": "binding-function",
   "metadata": {},
   "source": [
    "multiple $R$-squared <span style=\"color:red\">(smf.ols)</span>"
   ]
  },
  {
   "cell_type": "code",
   "execution_count": 31,
   "id": "public-commercial",
   "metadata": {},
   "outputs": [
    {
     "data": {
      "text/plain": [
       "0.8048384966875008"
      ]
     },
     "execution_count": 31,
     "metadata": {},
     "output_type": "execute_result"
    }
   ],
   "source": [
    "mod.rsquared"
   ]
  }
 ],
 "metadata": {
  "kernelspec": {
   "display_name": "Python 3 (ipykernel)",
   "language": "python",
   "name": "python3"
  },
  "language_info": {
   "codemirror_mode": {
    "name": "ipython",
    "version": 3
   },
   "file_extension": ".py",
   "mimetype": "text/x-python",
   "name": "python",
   "nbconvert_exporter": "python",
   "pygments_lexer": "ipython3",
   "version": "3.9.12"
  }
 },
 "nbformat": 4,
 "nbformat_minor": 5
}
