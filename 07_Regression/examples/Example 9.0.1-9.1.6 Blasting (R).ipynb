{
 "cells": [
  {
   "cell_type": "markdown",
   "metadata": {},
   "source": [
    "# Example 9.0.1-9.1.6 Blasting"
   ]
  },
  {
   "cell_type": "markdown",
   "metadata": {},
   "source": [
    "Author: Marcel Steiner-Curtis \\\n",
    "Date: 26.08.2018 sml, 11.09.2020 sml: R-Jupyter Notebook"
   ]
  },
  {
   "cell_type": "markdown",
   "metadata": {},
   "source": [
    "Path to export figures for lecture notes"
   ]
  },
  {
   "cell_type": "code",
   "execution_count": 1,
   "metadata": {},
   "outputs": [],
   "source": [
    "#setwd(\"../04 Datasets/02 Script/Chapter-09/pic-09\")\n",
    "export <- FALSE"
   ]
  },
  {
   "cell_type": "markdown",
   "metadata": {},
   "source": [
    "## Example 9.0.1 Blasting "
   ]
  },
  {
   "cell_type": "markdown",
   "metadata": {},
   "source": [
    "read data"
   ]
  },
  {
   "cell_type": "code",
   "execution_count": 2,
   "metadata": {},
   "outputs": [
    {
     "name": "stdout",
     "output_type": "stream",
     "text": [
      "'data.frame':\t48 obs. of  4 variables:\n",
      " $ Position : int  1 1 1 2 2 2 2 2 2 2 ...\n",
      " $ Charge   : num  2.18 3.33 3.33 3.33 3.12 3.12 3.12 2.6 2.08 2.08 ...\n",
      " $ Distance : int  188 183 177 53 49 46 44 42 42 44 ...\n",
      " $ Vibration: num  0.32 0.53 0.5 6.71 5.99 5.39 4.88 5.99 5.63 9.47 ...\n"
     ]
    }
   ],
   "source": [
    "file <- \"../04 Datasets/blasting.dat\"\n",
    "data <- read.table(file, header=TRUE)\n",
    "str(data)"
   ]
  },
  {
   "cell_type": "markdown",
   "metadata": {},
   "source": [
    "define new $\\log_{10}$-transformed variables"
   ]
  },
  {
   "cell_type": "code",
   "execution_count": 3,
   "metadata": {},
   "outputs": [],
   "source": [
    "data$Charge.log    <- log10(data$Charge)\n",
    "data$Distance.log  <- log10(data$Distance)\n",
    "data$Vibration.log <- log10(data$Vibration)"
   ]
  },
  {
   "cell_type": "markdown",
   "metadata": {},
   "source": [
    "Scatter diagram: ``Vibration`` versus ``Distance``, ``thermometers=Charge``"
   ]
  },
  {
   "cell_type": "code",
   "execution_count": 4,
   "metadata": {},
   "outputs": [
    {
     "data": {
      "image/png": "[encoded data removed]",
      "text/plain": [
       "Plot with title \"Blasting: Vibration versus Distance\""
      ]
     },
     "metadata": {
      "image/png": {
       "height": 420,
       "width": 420
      }
     },
     "output_type": "display_data"
    }
   ],
   "source": [
    "if(export){ postscript(\"BlastingVibrationsvsDistance.eps\", \n",
    "                       width=7.5*sqrt(2), height=7.5) }\n",
    "    Charge.prop <- (data$Charge-min(data$Charge))/\n",
    "                    max(data$Charge-min(data$Charge))\n",
    "    symbols(data$Vibration ~ data$Distance, \n",
    "            thermometers=cbind(1, 3, Charge.prop),\n",
    "            inches=0.2,\n",
    "            xlim=c(0,200),\n",
    "            ylim=c(0,12),\n",
    "            xlab=\"Distance\",\n",
    "            ylab=\"Vibration\",\n",
    "            main=\"Blasting: Vibration versus Distance\")\n",
    "    grid()\n",
    "    abline(h=0, v=0)\n",
    "    text(x=175,y=9.7, labels=\"Charge\")\n",
    "    symbols(x=c(170,170), y=c(8.3,9), thermometers=cbind(1,3,c(0,1)), \n",
    "            inches=0.25, add=T)\n",
    "    text(x=c(185,185), y=c(8.3,9), labels=range(data$Charge))\n",
    "if(export){ dev.off() }"
   ]
  },
  {
   "cell_type": "markdown",
   "metadata": {},
   "source": [
    "## Example 9.1.1 Estimation"
   ]
  },
  {
   "cell_type": "markdown",
   "metadata": {},
   "source": [
    "### estimation of the parameters <span style=\"color:red\">(explicit formulae)</span>"
   ]
  },
  {
   "cell_type": "code",
   "execution_count": 5,
   "metadata": {},
   "outputs": [
    {
     "data": {
      "text/html": [
       "48"
      ],
      "text/latex": [
       "48"
      ],
      "text/markdown": [
       "48"
      ],
      "text/plain": [
       "[1] 48"
      ]
     },
     "metadata": {},
     "output_type": "display_data"
    }
   ],
   "source": [
    "n <- nrow(data);   n"
   ]
  },
  {
   "cell_type": "markdown",
   "metadata": {},
   "source": [
    "vector of the observations"
   ]
  },
  {
   "cell_type": "code",
   "execution_count": 6,
   "metadata": {},
   "outputs": [
    {
     "data": {
      "text/html": [
       "48"
      ],
      "text/latex": [
       "48"
      ],
      "text/markdown": [
       "48"
      ],
      "text/plain": [
       "[1] 48"
      ]
     },
     "metadata": {},
     "output_type": "display_data"
    }
   ],
   "source": [
    "y <- as.vector(data$Vibration.log)\n",
    "length(y)"
   ]
  },
  {
   "cell_type": "markdown",
   "metadata": {},
   "source": [
    "matrix of the levels of the regressor variables"
   ]
  },
  {
   "cell_type": "code",
   "execution_count": 7,
   "metadata": {},
   "outputs": [
    {
     "data": {
      "text/html": [
       "<style>\n",
       ".list-inline {list-style: none; margin:0; padding: 0}\n",
       ".list-inline>li {display: inline-block}\n",
       ".list-inline>li:not(:last-child)::after {content: \"\\00b7\"; padding: 0 .5ex}\n",
       "</style>\n",
       "<ol class=list-inline><li>48</li><li>3</li></ol>\n"
      ],
      "text/latex": [
       "\\begin{enumerate*}\n",
       "\\item 48\n",
       "\\item 3\n",
       "\\end{enumerate*}\n"
      ],
      "text/markdown": [
       "1. 48\n",
       "2. 3\n",
       "\n",
       "\n"
      ],
      "text/plain": [
       "[1] 48  3"
      ]
     },
     "metadata": {},
     "output_type": "display_data"
    }
   ],
   "source": [
    "X <- as.matrix(cbind(Intercept=rep(1,n), \n",
    "                     data[,c(\"Distance.log\", \"Charge.log\")]))\n",
    "dim(X)"
   ]
  },
  {
   "cell_type": "code",
   "execution_count": 8,
   "metadata": {},
   "outputs": [
    {
     "data": {
      "text/html": [
       "<table class=\"dataframe\">\n",
       "<caption>A matrix: 6 × 3 of type dbl</caption>\n",
       "<thead>\n",
       "\t<tr><th scope=col>Intercept</th><th scope=col>Distance.log</th><th scope=col>Charge.log</th></tr>\n",
       "</thead>\n",
       "<tbody>\n",
       "\t<tr><td>1</td><td>2.274158</td><td>0.3384565</td></tr>\n",
       "\t<tr><td>1</td><td>2.262451</td><td>0.5224442</td></tr>\n",
       "\t<tr><td>1</td><td>2.247973</td><td>0.5224442</td></tr>\n",
       "\t<tr><td>1</td><td>1.724276</td><td>0.5224442</td></tr>\n",
       "\t<tr><td>1</td><td>1.690196</td><td>0.4941546</td></tr>\n",
       "\t<tr><td>1</td><td>1.662758</td><td>0.4941546</td></tr>\n",
       "</tbody>\n",
       "</table>\n"
      ],
      "text/latex": [
       "A matrix: 6 × 3 of type dbl\n",
       "\\begin{tabular}{lll}\n",
       " Intercept & Distance.log & Charge.log\\\\\n",
       "\\hline\n",
       "\t 1 & 2.274158 & 0.3384565\\\\\n",
       "\t 1 & 2.262451 & 0.5224442\\\\\n",
       "\t 1 & 2.247973 & 0.5224442\\\\\n",
       "\t 1 & 1.724276 & 0.5224442\\\\\n",
       "\t 1 & 1.690196 & 0.4941546\\\\\n",
       "\t 1 & 1.662758 & 0.4941546\\\\\n",
       "\\end{tabular}\n"
      ],
      "text/markdown": [
       "\n",
       "A matrix: 6 × 3 of type dbl\n",
       "\n",
       "| Intercept | Distance.log | Charge.log |\n",
       "|---|---|---|\n",
       "| 1 | 2.274158 | 0.3384565 |\n",
       "| 1 | 2.262451 | 0.5224442 |\n",
       "| 1 | 2.247973 | 0.5224442 |\n",
       "| 1 | 1.724276 | 0.5224442 |\n",
       "| 1 | 1.690196 | 0.4941546 |\n",
       "| 1 | 1.662758 | 0.4941546 |\n",
       "\n"
      ],
      "text/plain": [
       "     Intercept Distance.log Charge.log\n",
       "[1,] 1         2.274158     0.3384565 \n",
       "[2,] 1         2.262451     0.5224442 \n",
       "[3,] 1         2.247973     0.5224442 \n",
       "[4,] 1         1.724276     0.5224442 \n",
       "[5,] 1         1.690196     0.4941546 \n",
       "[6,] 1         1.662758     0.4941546 "
      ]
     },
     "metadata": {},
     "output_type": "display_data"
    }
   ],
   "source": [
    "head(X)"
   ]
  },
  {
   "cell_type": "markdown",
   "metadata": {},
   "source": [
    "least-squares estimator"
   ]
  },
  {
   "cell_type": "code",
   "execution_count": 9,
   "metadata": {},
   "outputs": [
    {
     "data": {
      "text/html": [
       "<table class=\"dataframe\">\n",
       "<caption>A matrix: 3 × 1 of type dbl</caption>\n",
       "<tbody>\n",
       "\t<tr><th scope=row>Intercept</th><td> 2.8322552</td></tr>\n",
       "\t<tr><th scope=row>Distance.log</th><td>-1.5107128</td></tr>\n",
       "\t<tr><th scope=row>Charge.log</th><td> 0.8083438</td></tr>\n",
       "</tbody>\n",
       "</table>\n"
      ],
      "text/latex": [
       "A matrix: 3 × 1 of type dbl\n",
       "\\begin{tabular}{r|l}\n",
       "\tIntercept &  2.8322552\\\\\n",
       "\tDistance.log & -1.5107128\\\\\n",
       "\tCharge.log &  0.8083438\\\\\n",
       "\\end{tabular}\n"
      ],
      "text/markdown": [
       "\n",
       "A matrix: 3 × 1 of type dbl\n",
       "\n",
       "| Intercept |  2.8322552 |\n",
       "| Distance.log | -1.5107128 |\n",
       "| Charge.log |  0.8083438 |\n",
       "\n"
      ],
      "text/plain": [
       "             [,1]      \n",
       "Intercept     2.8322552\n",
       "Distance.log -1.5107128\n",
       "Charge.log    0.8083438"
      ]
     },
     "metadata": {},
     "output_type": "display_data"
    }
   ],
   "source": [
    "beta.hat <- solve(t(X)%*%X) %*% t(X) %*% y;   beta.hat"
   ]
  },
  {
   "cell_type": "markdown",
   "metadata": {},
   "source": [
    "### estimation of the parameters <span style=\"color:blue\">(lm)</span>"
   ]
  },
  {
   "cell_type": "code",
   "execution_count": 10,
   "metadata": {},
   "outputs": [
    {
     "data": {
      "text/plain": [
       "\n",
       "Call:\n",
       "lm(formula = Vibration.log ~ Distance.log + Charge.log, data = data)\n",
       "\n",
       "Residuals:\n",
       "     Min       1Q   Median       3Q      Max \n",
       "-0.43571 -0.11580  0.00227  0.09715  0.36978 \n",
       "\n",
       "Coefficients:\n",
       "             Estimate Std. Error t value Pr(>|t|)    \n",
       "(Intercept)    2.8323     0.2229  12.707   <2e-16 ***\n",
       "Distance.log  -1.5107     0.1111 -13.592   <2e-16 ***\n",
       "Charge.log     0.8083     0.3042   2.658   0.0109 *  \n",
       "---\n",
       "Signif. codes:  0 '***' 0.001 '**' 0.01 '*' 0.05 '.' 0.1 ' ' 1\n",
       "\n",
       "Residual standard error: 0.1529 on 45 degrees of freedom\n",
       "Multiple R-squared:  0.8048,\tAdjusted R-squared:  0.7962 \n",
       "F-statistic: 92.79 on 2 and 45 DF,  p-value: < 2.2e-16\n"
      ]
     },
     "metadata": {},
     "output_type": "display_data"
    }
   ],
   "source": [
    "mod <- lm(Vibration.log ~ Distance.log + Charge.log, data)\n",
    "summary(mod)"
   ]
  },
  {
   "cell_type": "markdown",
   "metadata": {},
   "source": [
    "## Example 9.1.2 Tests on the Significance of any Individual Regression Coefficient"
   ]
  },
  {
   "cell_type": "markdown",
   "metadata": {},
   "source": [
    "hat matrix"
   ]
  },
  {
   "cell_type": "code",
   "execution_count": 11,
   "metadata": {},
   "outputs": [
    {
     "data": {
      "text/html": [
       "<style>\n",
       ".list-inline {list-style: none; margin:0; padding: 0}\n",
       ".list-inline>li {display: inline-block}\n",
       ".list-inline>li:not(:last-child)::after {content: \"\\00b7\"; padding: 0 .5ex}\n",
       "</style>\n",
       "<ol class=list-inline><li>48</li><li>48</li></ol>\n"
      ],
      "text/latex": [
       "\\begin{enumerate*}\n",
       "\\item 48\n",
       "\\item 48\n",
       "\\end{enumerate*}\n"
      ],
      "text/markdown": [
       "1. 48\n",
       "2. 48\n",
       "\n",
       "\n"
      ],
      "text/plain": [
       "[1] 48 48"
      ]
     },
     "metadata": {},
     "output_type": "display_data"
    }
   ],
   "source": [
    "H <- X %*% solve(t(X)%*%X) %*% t(X)\n",
    "dim(H)"
   ]
  },
  {
   "cell_type": "markdown",
   "metadata": {},
   "source": [
    "mean of all leverages is $\\frac{p}{n}$ (cf. Chap. 10.2)"
   ]
  },
  {
   "cell_type": "code",
   "execution_count": 12,
   "metadata": {},
   "outputs": [
    {
     "data": {
      "text/html": [
       "5.82867087928207e-16"
      ],
      "text/latex": [
       "5.82867087928207e-16"
      ],
      "text/markdown": [
       "5.82867087928207e-16"
      ],
      "text/plain": [
       "[1] 5.828671e-16"
      ]
     },
     "metadata": {},
     "output_type": "display_data"
    }
   ],
   "source": [
    "mean(diag(H))-(1+2)/nrow(data)"
   ]
  },
  {
   "cell_type": "markdown",
   "metadata": {},
   "source": [
    "fitted values"
   ]
  },
  {
   "cell_type": "code",
   "execution_count": 13,
   "metadata": {},
   "outputs": [],
   "source": [
    "Vibration.log.hat <- H %*% y"
   ]
  },
  {
   "cell_type": "markdown",
   "metadata": {},
   "source": [
    "residuals"
   ]
  },
  {
   "cell_type": "code",
   "execution_count": 14,
   "metadata": {},
   "outputs": [],
   "source": [
    "res <- data$Vibration.log - Vibration.log.hat"
   ]
  },
  {
   "cell_type": "markdown",
   "metadata": {},
   "source": [
    "error sum of squares"
   ]
  },
  {
   "cell_type": "code",
   "execution_count": 15,
   "metadata": {},
   "outputs": [],
   "source": [
    "sigma2.hat <- sum(res^2)/(nrow(data)-3)"
   ]
  },
  {
   "cell_type": "markdown",
   "metadata": {},
   "source": [
    "residual standard error"
   ]
  },
  {
   "cell_type": "code",
   "execution_count": 16,
   "metadata": {},
   "outputs": [
    {
     "data": {
      "text/html": [
       "0.152910196321281"
      ],
      "text/latex": [
       "0.152910196321281"
      ],
      "text/markdown": [
       "0.152910196321281"
      ],
      "text/plain": [
       "[1] 0.1529102"
      ]
     },
     "metadata": {},
     "output_type": "display_data"
    }
   ],
   "source": [
    "sqrt(sigma2.hat)"
   ]
  },
  {
   "cell_type": "markdown",
   "metadata": {},
   "source": [
    "three standard errors"
   ]
  },
  {
   "cell_type": "code",
   "execution_count": 17,
   "metadata": {},
   "outputs": [
    {
     "data": {
      "text/html": [
       "<style>\n",
       ".dl-inline {width: auto; margin:0; padding: 0}\n",
       ".dl-inline>dt, .dl-inline>dd {float: none; width: auto; display: inline-block}\n",
       ".dl-inline>dt::after {content: \":\\0020\"; padding-right: .5ex}\n",
       ".dl-inline>dt:not(:first-of-type) {padding-left: .5ex}\n",
       "</style><dl class=dl-inline><dt>Intercept</dt><dd>0.222891796636371</dd><dt>Distance.log</dt><dd>0.111147207348268</dd><dt>Charge.log</dt><dd>0.304172358316116</dd></dl>\n"
      ],
      "text/latex": [
       "\\begin{description*}\n",
       "\\item[Intercept] 0.222891796636371\n",
       "\\item[Distance.log] 0.111147207348268\n",
       "\\item[Charge.log] 0.304172358316116\n",
       "\\end{description*}\n"
      ],
      "text/markdown": [
       "Intercept\n",
       ":   0.222891796636371Distance.log\n",
       ":   0.111147207348268Charge.log\n",
       ":   0.304172358316116\n",
       "\n"
      ],
      "text/plain": [
       "   Intercept Distance.log   Charge.log \n",
       "   0.2228918    0.1111472    0.3041724 "
      ]
     },
     "metadata": {},
     "output_type": "display_data"
    }
   ],
   "source": [
    "se.beta <- sqrt(sigma2.hat) * sqrt(diag(solve(t(X)%*%X)));   se.beta"
   ]
  },
  {
   "cell_type": "markdown",
   "metadata": {},
   "source": [
    "null hypothesis"
   ]
  },
  {
   "cell_type": "code",
   "execution_count": 18,
   "metadata": {},
   "outputs": [],
   "source": [
    "beta0 <- rep(0,3)"
   ]
  },
  {
   "cell_type": "markdown",
   "metadata": {},
   "source": [
    "three test statistics"
   ]
  },
  {
   "cell_type": "code",
   "execution_count": 19,
   "metadata": {},
   "outputs": [
    {
     "data": {
      "text/html": [
       "<table class=\"dataframe\">\n",
       "<caption>A matrix: 3 × 1 of type dbl</caption>\n",
       "<tbody>\n",
       "\t<tr><th scope=row>Intercept</th><td> 12.706862</td></tr>\n",
       "\t<tr><th scope=row>Distance.log</th><td>-13.592000</td></tr>\n",
       "\t<tr><th scope=row>Charge.log</th><td>  2.657519</td></tr>\n",
       "</tbody>\n",
       "</table>\n"
      ],
      "text/latex": [
       "A matrix: 3 × 1 of type dbl\n",
       "\\begin{tabular}{r|l}\n",
       "\tIntercept &  12.706862\\\\\n",
       "\tDistance.log & -13.592000\\\\\n",
       "\tCharge.log &   2.657519\\\\\n",
       "\\end{tabular}\n"
      ],
      "text/markdown": [
       "\n",
       "A matrix: 3 × 1 of type dbl\n",
       "\n",
       "| Intercept |  12.706862 |\n",
       "| Distance.log | -13.592000 |\n",
       "| Charge.log |   2.657519 |\n",
       "\n"
      ],
      "text/plain": [
       "             [,1]      \n",
       "Intercept     12.706862\n",
       "Distance.log -13.592000\n",
       "Charge.log     2.657519"
      ]
     },
     "metadata": {},
     "output_type": "display_data"
    }
   ],
   "source": [
    "Test.beta <- (beta.hat-beta0)/se.beta;   Test.beta"
   ]
  },
  {
   "cell_type": "markdown",
   "metadata": {},
   "source": [
    "three $P$-values"
   ]
  },
  {
   "cell_type": "code",
   "execution_count": 20,
   "metadata": {},
   "outputs": [
    {
     "data": {
      "text/html": [
       "<table class=\"dataframe\">\n",
       "<caption>A matrix: 3 × 1 of type dbl</caption>\n",
       "<tbody>\n",
       "\t<tr><th scope=row>Intercept</th><td>2.220446e-16</td></tr>\n",
       "\t<tr><th scope=row>Distance.log</th><td>0.000000e+00</td></tr>\n",
       "\t<tr><th scope=row>Charge.log</th><td>1.085725e-02</td></tr>\n",
       "</tbody>\n",
       "</table>\n"
      ],
      "text/latex": [
       "A matrix: 3 × 1 of type dbl\n",
       "\\begin{tabular}{r|l}\n",
       "\tIntercept & 2.220446e-16\\\\\n",
       "\tDistance.log & 0.000000e+00\\\\\n",
       "\tCharge.log & 1.085725e-02\\\\\n",
       "\\end{tabular}\n"
      ],
      "text/markdown": [
       "\n",
       "A matrix: 3 × 1 of type dbl\n",
       "\n",
       "| Intercept | 2.220446e-16 |\n",
       "| Distance.log | 0.000000e+00 |\n",
       "| Charge.log | 1.085725e-02 |\n",
       "\n"
      ],
      "text/plain": [
       "             [,1]        \n",
       "Intercept    2.220446e-16\n",
       "Distance.log 0.000000e+00\n",
       "Charge.log   1.085725e-02"
      ]
     },
     "metadata": {},
     "output_type": "display_data"
    }
   ],
   "source": [
    "2*(1-pt(abs(Test.beta), df=n-3))"
   ]
  },
  {
   "cell_type": "markdown",
   "metadata": {},
   "source": [
    "## Example 9.1.3 Confidence Intervals on the Regression Coefficient"
   ]
  },
  {
   "cell_type": "markdown",
   "metadata": {},
   "source": [
    "significance level"
   ]
  },
  {
   "cell_type": "code",
   "execution_count": 21,
   "metadata": {},
   "outputs": [],
   "source": [
    "alpha <- 0.05"
   ]
  },
  {
   "cell_type": "markdown",
   "metadata": {},
   "source": [
    "three $95\\%$ confidence intervals <span style=\"color:red\">(explicit formulae)</span>"
   ]
  },
  {
   "cell_type": "code",
   "execution_count": 22,
   "metadata": {},
   "outputs": [
    {
     "data": {
      "text/html": [
       "2.01410338888085"
      ],
      "text/latex": [
       "2.01410338888085"
      ],
      "text/markdown": [
       "2.01410338888085"
      ],
      "text/plain": [
       "[1] 2.014103"
      ]
     },
     "metadata": {},
     "output_type": "display_data"
    },
    {
     "data": {
      "text/html": [
       "<table class=\"dataframe\">\n",
       "<caption>A matrix: 3 × 2 of type dbl</caption>\n",
       "<thead>\n",
       "\t<tr><th></th><th scope=col>lower CI</th><th scope=col>upper CI</th></tr>\n",
       "</thead>\n",
       "<tbody>\n",
       "\t<tr><th scope=row>Intercept</th><td> 2.3833281</td><td> 3.281182</td></tr>\n",
       "\t<tr><th scope=row>Distance.log</th><td>-1.7345748</td><td>-1.286851</td></tr>\n",
       "\t<tr><th scope=row>Charge.log</th><td> 0.1957093</td><td> 1.420978</td></tr>\n",
       "</tbody>\n",
       "</table>\n"
      ],
      "text/latex": [
       "A matrix: 3 × 2 of type dbl\n",
       "\\begin{tabular}{r|ll}\n",
       "  & lower CI & upper CI\\\\\n",
       "\\hline\n",
       "\tIntercept &  2.3833281 &  3.281182\\\\\n",
       "\tDistance.log & -1.7345748 & -1.286851\\\\\n",
       "\tCharge.log &  0.1957093 &  1.420978\\\\\n",
       "\\end{tabular}\n"
      ],
      "text/markdown": [
       "\n",
       "A matrix: 3 × 2 of type dbl\n",
       "\n",
       "| <!--/--> | lower CI | upper CI |\n",
       "|---|---|---|\n",
       "| Intercept |  2.3833281 |  3.281182 |\n",
       "| Distance.log | -1.7345748 | -1.286851 |\n",
       "| Charge.log |  0.1957093 |  1.420978 |\n",
       "\n"
      ],
      "text/plain": [
       "             lower CI   upper CI \n",
       "Intercept     2.3833281  3.281182\n",
       "Distance.log -1.7345748 -1.286851\n",
       "Charge.log    0.1957093  1.420978"
      ]
     },
     "metadata": {},
     "output_type": "display_data"
    }
   ],
   "source": [
    "t.crit <- qt(p=1-alpha/2, df=nrow(data)-3);   t.crit\n",
    "CI <- cbind(beta.hat - t.crit*se.beta, beta.hat + t.crit*se.beta)\n",
    "colnames(CI) <- c(\"lower CI\", \"upper CI\");   CI"
   ]
  },
  {
   "cell_type": "markdown",
   "metadata": {},
   "source": [
    "three $95\\%$ confidence intervals <span style=\"color:blue\">(lm)</span>"
   ]
  },
  {
   "cell_type": "code",
   "execution_count": 23,
   "metadata": {},
   "outputs": [
    {
     "data": {
      "text/html": [
       "<table class=\"dataframe\">\n",
       "<caption>A matrix: 3 × 2 of type dbl</caption>\n",
       "<thead>\n",
       "\t<tr><th></th><th scope=col>2.5 %</th><th scope=col>97.5 %</th></tr>\n",
       "</thead>\n",
       "<tbody>\n",
       "\t<tr><th scope=row>(Intercept)</th><td> 2.3833281</td><td> 3.281182</td></tr>\n",
       "\t<tr><th scope=row>Distance.log</th><td>-1.7345748</td><td>-1.286851</td></tr>\n",
       "\t<tr><th scope=row>Charge.log</th><td> 0.1957093</td><td> 1.420978</td></tr>\n",
       "</tbody>\n",
       "</table>\n"
      ],
      "text/latex": [
       "A matrix: 3 × 2 of type dbl\n",
       "\\begin{tabular}{r|ll}\n",
       "  & 2.5 \\% & 97.5 \\%\\\\\n",
       "\\hline\n",
       "\t(Intercept) &  2.3833281 &  3.281182\\\\\n",
       "\tDistance.log & -1.7345748 & -1.286851\\\\\n",
       "\tCharge.log &  0.1957093 &  1.420978\\\\\n",
       "\\end{tabular}\n"
      ],
      "text/markdown": [
       "\n",
       "A matrix: 3 × 2 of type dbl\n",
       "\n",
       "| <!--/--> | 2.5 % | 97.5 % |\n",
       "|---|---|---|\n",
       "| (Intercept) |  2.3833281 |  3.281182 |\n",
       "| Distance.log | -1.7345748 | -1.286851 |\n",
       "| Charge.log |  0.1957093 |  1.420978 |\n",
       "\n"
      ],
      "text/plain": [
       "             2.5 %      97.5 %   \n",
       "(Intercept)   2.3833281  3.281182\n",
       "Distance.log -1.7345748 -1.286851\n",
       "Charge.log    0.1957093  1.420978"
      ]
     },
     "metadata": {},
     "output_type": "display_data"
    }
   ],
   "source": [
    "confint(mod, level=1-alpha)"
   ]
  },
  {
   "cell_type": "markdown",
   "metadata": {},
   "source": [
    "## Example 9.1.4 Confidence Interval of the Response"
   ]
  },
  {
   "cell_type": "markdown",
   "metadata": {},
   "source": [
    "confidence interval of the response <span style=\"color:red\">(explicit formulae)</span>"
   ]
  },
  {
   "cell_type": "code",
   "execution_count": 24,
   "metadata": {},
   "outputs": [
    {
     "data": {
      "text/html": [
       "<style>\n",
       ".list-inline {list-style: none; margin:0; padding: 0}\n",
       ".list-inline>li {display: inline-block}\n",
       ".list-inline>li:not(:last-child)::after {content: \"\\00b7\"; padding: 0 .5ex}\n",
       "</style>\n",
       "<ol class=list-inline><li>4.47999438104633</li><li>3.91036533479418</li><li>5.13260218313158</li></ol>\n"
      ],
      "text/latex": [
       "\\begin{enumerate*}\n",
       "\\item 4.47999438104633\n",
       "\\item 3.91036533479418\n",
       "\\item 5.13260218313158\n",
       "\\end{enumerate*}\n"
      ],
      "text/markdown": [
       "1. 4.47999438104633\n",
       "2. 3.91036533479418\n",
       "3. 5.13260218313158\n",
       "\n",
       "\n"
      ],
      "text/plain": [
       "[1] 4.479994 3.910365 5.132602"
      ]
     },
     "metadata": {},
     "output_type": "display_data"
    }
   ],
   "source": [
    "x0 <- c(1, log10(50), log10(3.0))\n",
    "y0.hat  <- (t(x0) %*% beta.hat)[1,1]\n",
    "se.conf <- sqrt(sigma2.hat * t(x0) %*% solve(t(X)%*%X) %*% x0)[1,1]\n",
    "10^(y0.hat + c(0,-1,1)*qt(p=1-alpha/2, df=nrow(data)-3)*se.conf)"
   ]
  },
  {
   "cell_type": "markdown",
   "metadata": {},
   "source": [
    "define new point"
   ]
  },
  {
   "cell_type": "code",
   "execution_count": 25,
   "metadata": {},
   "outputs": [],
   "source": [
    "data.new <- data.frame(Distance.log=log10(50), Charge.log=log10(3.0))"
   ]
  },
  {
   "cell_type": "markdown",
   "metadata": {},
   "source": [
    "predict using ``interval=\"confidence\"`` <span style=\"color:blue\">(lm)</span>"
   ]
  },
  {
   "cell_type": "code",
   "execution_count": 26,
   "metadata": {},
   "outputs": [
    {
     "data": {
      "text/html": [
       "<table class=\"dataframe\">\n",
       "<caption>A matrix: 1 × 3 of type dbl</caption>\n",
       "<thead>\n",
       "\t<tr><th></th><th scope=col>fit</th><th scope=col>lwr</th><th scope=col>upr</th></tr>\n",
       "</thead>\n",
       "<tbody>\n",
       "\t<tr><th scope=row>1</th><td>4.479994</td><td>3.910365</td><td>5.132602</td></tr>\n",
       "</tbody>\n",
       "</table>\n"
      ],
      "text/latex": [
       "A matrix: 1 × 3 of type dbl\n",
       "\\begin{tabular}{r|lll}\n",
       "  & fit & lwr & upr\\\\\n",
       "\\hline\n",
       "\t1 & 4.479994 & 3.910365 & 5.132602\\\\\n",
       "\\end{tabular}\n"
      ],
      "text/markdown": [
       "\n",
       "A matrix: 1 × 3 of type dbl\n",
       "\n",
       "| <!--/--> | fit | lwr | upr |\n",
       "|---|---|---|---|\n",
       "| 1 | 4.479994 | 3.910365 | 5.132602 |\n",
       "\n"
      ],
      "text/plain": [
       "  fit      lwr      upr     \n",
       "1 4.479994 3.910365 5.132602"
      ]
     },
     "metadata": {},
     "output_type": "display_data"
    }
   ],
   "source": [
    "Vibration.log.Conf <- predict(mod, newdata=data.new, \n",
    "                              interval=\"confidence\", level=0.95)\n",
    "10^Vibration.log.Conf"
   ]
  },
  {
   "cell_type": "markdown",
   "metadata": {},
   "source": [
    "## Example 9.1.5 Prediction Interval"
   ]
  },
  {
   "cell_type": "markdown",
   "metadata": {},
   "source": [
    "prediction interval of the response <span style=\"color:red\">(explicit formulae)</span>"
   ]
  },
  {
   "cell_type": "code",
   "execution_count": 27,
   "metadata": {},
   "outputs": [
    {
     "data": {
      "text/html": [
       "<style>\n",
       ".list-inline {list-style: none; margin:0; padding: 0}\n",
       ".list-inline>li {display: inline-block}\n",
       ".list-inline>li:not(:last-child)::after {content: \"\\00b7\"; padding: 0 .5ex}\n",
       "</style>\n",
       "<ol class=list-inline><li>4.47999438104633</li><li>2.45355948932296</li><li>8.18009497692876</li></ol>\n"
      ],
      "text/latex": [
       "\\begin{enumerate*}\n",
       "\\item 4.47999438104633\n",
       "\\item 2.45355948932296\n",
       "\\item 8.18009497692876\n",
       "\\end{enumerate*}\n"
      ],
      "text/markdown": [
       "1. 4.47999438104633\n",
       "2. 2.45355948932296\n",
       "3. 8.18009497692876\n",
       "\n",
       "\n"
      ],
      "text/plain": [
       "[1] 4.479994 2.453559 8.180095"
      ]
     },
     "metadata": {},
     "output_type": "display_data"
    }
   ],
   "source": [
    "se.pred <- sqrt(sigma2.hat + se.conf^2)\n",
    "10^(y0.hat + c(0,-1,1)*qt(p=1-alpha, df=nrow(data)-3)*se.pred)"
   ]
  },
  {
   "cell_type": "markdown",
   "metadata": {},
   "source": [
    "predict using ``interval=\"prediction\"``(one-sided, therefore ``level=0.9)`` <span style=\"color:blue\">(lm)</span>"
   ]
  },
  {
   "cell_type": "code",
   "execution_count": 28,
   "metadata": {},
   "outputs": [
    {
     "data": {
      "text/html": [
       "<table class=\"dataframe\">\n",
       "<caption>A matrix: 1 × 3 of type dbl</caption>\n",
       "<thead>\n",
       "\t<tr><th></th><th scope=col>fit</th><th scope=col>lwr</th><th scope=col>upr</th></tr>\n",
       "</thead>\n",
       "<tbody>\n",
       "\t<tr><th scope=row>1</th><td>4.479994</td><td>2.453559</td><td>8.180095</td></tr>\n",
       "</tbody>\n",
       "</table>\n"
      ],
      "text/latex": [
       "A matrix: 1 × 3 of type dbl\n",
       "\\begin{tabular}{r|lll}\n",
       "  & fit & lwr & upr\\\\\n",
       "\\hline\n",
       "\t1 & 4.479994 & 2.453559 & 8.180095\\\\\n",
       "\\end{tabular}\n"
      ],
      "text/markdown": [
       "\n",
       "A matrix: 1 × 3 of type dbl\n",
       "\n",
       "| <!--/--> | fit | lwr | upr |\n",
       "|---|---|---|---|\n",
       "| 1 | 4.479994 | 2.453559 | 8.180095 |\n",
       "\n"
      ],
      "text/plain": [
       "  fit      lwr      upr     \n",
       "1 4.479994 2.453559 8.180095"
      ]
     },
     "metadata": {},
     "output_type": "display_data"
    }
   ],
   "source": [
    "Vibration.log.Pred <- predict(mod, newdata=data.new, \n",
    "                              interval=\"prediction\", level=0.9)\n",
    "10^Vibration.log.Pred"
   ]
  },
  {
   "cell_type": "markdown",
   "metadata": {},
   "source": [
    "## Example 9.1.6 Coefficient of Determination, Multiple R-squared"
   ]
  },
  {
   "cell_type": "markdown",
   "metadata": {},
   "source": [
    "multiple R-squared <span style=\"color:red\">(explicit formulae)</span>"
   ]
  },
  {
   "cell_type": "code",
   "execution_count": 29,
   "metadata": {},
   "outputs": [
    {
     "data": {
      "text/html": [
       "0.804838496687501"
      ],
      "text/latex": [
       "0.804838496687501"
      ],
      "text/markdown": [
       "0.804838496687501"
      ],
      "text/plain": [
       "[1] 0.8048385"
      ]
     },
     "metadata": {},
     "output_type": "display_data"
    }
   ],
   "source": [
    "cor(data$Vibration.log, fitted(mod))^2"
   ]
  },
  {
   "cell_type": "markdown",
   "metadata": {},
   "source": [
    "multiple R-squared <span style=\"color:blue\">(lm)</span>"
   ]
  },
  {
   "cell_type": "code",
   "execution_count": 30,
   "metadata": {},
   "outputs": [
    {
     "data": {
      "text/html": [
       "0.804838496687501"
      ],
      "text/latex": [
       "0.804838496687501"
      ],
      "text/markdown": [
       "0.804838496687501"
      ],
      "text/plain": [
       "[1] 0.8048385"
      ]
     },
     "metadata": {},
     "output_type": "display_data"
    }
   ],
   "source": [
    "summary(mod)$r.squared"
   ]
  }
 ],
 "metadata": {
  "kernelspec": {
   "display_name": "R",
   "language": "R",
   "name": "ir"
  },
  "language_info": {
   "codemirror_mode": "r",
   "file_extension": ".r",
   "mimetype": "text/x-r-source",
   "name": "R",
   "pygments_lexer": "r",
   "version": "4.0.2"
  }
 },
 "nbformat": 4,
 "nbformat_minor": 4
}
