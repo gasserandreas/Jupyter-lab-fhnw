{
 "cells": [
  {
   "cell_type": "markdown",
   "metadata": {},
   "source": [
    "# Problem 9.4.1 (Rental Price Index of Zurich, cf. [33], Reg3, Problem 1).\n",
    "\n",
    "The data set RPI-ZH.dat contains the Rental Price Index of the city of Zurich (RPI), the Mortgage Interest of the Zu ̈rcher Kantonalbank (MI) and the Consumer Price Index of the canton of Zurich (CPI) for each quarter between 1994 and May 2005.\n",
    "From legal regulations on rental rates, it is clear that the mortgage rate and the consumer price index strongly affect the rental price.\n",
    "\n",
    "Consider the following model\n",
    "\n",
    "RPI=β0 +β1 ·CPI+β2 ·MI+ε.\n",
    "\n",
    "Assume that the errors ε are independent normally distributed with expected value 0 and variance σ2."
   ]
  },
  {
   "cell_type": "code",
   "execution_count": 1,
   "metadata": {},
   "outputs": [],
   "source": [
    "import os\n",
    "import numpy as np\n",
    "import matplotlib.pyplot as plt\n",
    "import pandas as pd\n",
    "import statsmodels.formula.api as smf\n",
    "import scipy as scp\n",
    "import warnings\n",
    "warnings.filterwarnings('ignore')"
   ]
  },
  {
   "cell_type": "code",
   "execution_count": 5,
   "metadata": {},
   "outputs": [
    {
     "name": "stdout",
     "output_type": "stream",
     "text": [
      "  Month  Year    RPI   MI   CPI\n",
      "0   Feb    94  98.50  6.0  95.1\n",
      "1   Mai    94  96.42  5.5  94.6\n",
      "2   Aug    94  96.55  5.5  95.1\n",
      "3   Nov    94  96.80  5.5  95.1\n",
      "4   Feb    95  97.16  5.5  96.6\n"
     ]
    }
   ],
   "source": [
    "df = pd.read_csv('./04 Datasets/RPI-ZH.dat', sep='\\t')\n",
    "print(df.head())"
   ]
  },
  {
   "cell_type": "markdown",
   "metadata": {},
   "source": [
    "### a) Fit the model to the data. Report the estimated coefficients. Overall, do the explanatory variables influence the target values?"
   ]
  },
  {
   "cell_type": "code",
   "execution_count": 7,
   "metadata": {},
   "outputs": [
    {
     "name": "stdout",
     "output_type": "stream",
     "text": [
      "                            OLS Regression Results                            \n",
      "==============================================================================\n",
      "Dep. Variable:                    RPI   R-squared:                       0.927\n",
      "Model:                            OLS   Adj. R-squared:                  0.924\n",
      "Method:                 Least Squares   F-statistic:                     272.7\n",
      "Date:                Mon, 22 Apr 2024   Prob (F-statistic):           3.74e-25\n",
      "Time:                        20:38:58   Log-Likelihood:                -64.075\n",
      "No. Observations:                  46   AIC:                             134.2\n",
      "Df Residuals:                      43   BIC:                             139.6\n",
      "Df Model:                           2                                         \n",
      "Covariance Type:            nonrobust                                         \n",
      "==============================================================================\n",
      "                 coef    std err          t      P>|t|      [0.025      0.975]\n",
      "------------------------------------------------------------------------------\n",
      "Intercept    -68.7083     10.226     -6.719      0.000     -89.331     -48.086\n",
      "CPI            1.6183      0.089     18.140      0.000       1.438       1.798\n",
      "MI             2.0069      0.368      5.454      0.000       1.265       2.749\n",
      "==============================================================================\n",
      "Omnibus:                        1.032   Durbin-Watson:                   0.957\n",
      "Prob(Omnibus):                  0.597   Jarque-Bera (JB):                0.570\n",
      "Skew:                          -0.268   Prob(JB):                        0.752\n",
      "Kurtosis:                       3.104   Cond. No.                     6.87e+03\n",
      "==============================================================================\n",
      "\n",
      "Notes:\n",
      "[1] Standard Errors assume that the covariance matrix of the errors is correctly specified.\n",
      "[2] The condition number is large, 6.87e+03. This might indicate that there are\n",
      "strong multicollinearity or other numerical problems.\n"
     ]
    }
   ],
   "source": [
    "model = smf.ols('RPI ~ CPI + MI', data=df).fit()\n",
    "print(model.summary())"
   ]
  },
  {
   "cell_type": "markdown",
   "metadata": {},
   "source": [
    "estimate of sigma"
   ]
  },
  {
   "cell_type": "code",
   "execution_count": 9,
   "metadata": {},
   "outputs": [
    {
     "data": {
      "text/plain": [
       "1.0077560277821491"
      ]
     },
     "execution_count": 9,
     "metadata": {},
     "output_type": "execute_result"
    }
   ],
   "source": [
    "np.sqrt(model.scale)"
   ]
  },
  {
   "cell_type": "markdown",
   "metadata": {},
   "source": [
    "REMARKS:    We find $\\hat{\\beta}_0=-68.7083$, $\\hat{\\beta}_1=1.6183$, $\\hat{\\beta}_2=2.0069$ and $\\hat{\\sigma}=1.00776$.\n",
    "            The overall test has $F=272.7$ on $(2,43)$ degrees of fredom and its P-value is much smaller than $5\\%$.\n",
    "            Therefore at least one of the coefficients $\\beta_1$ and $\\beta_2$ is different of zero."
   ]
  },
  {
   "cell_type": "markdown",
   "metadata": {},
   "source": [
    "### (b) R-squared"
   ]
  },
  {
   "cell_type": "markdown",
   "metadata": {},
   "source": [
    "In multiple regression  the coefficient of determination, often called $R^2$ is identical to the squared correlation between the response variable and the fitted values. The coefficient of determination is a measure of the linear relationship between the response variable and the fit."
   ]
  },
  {
   "cell_type": "code",
   "execution_count": 10,
   "metadata": {},
   "outputs": [
    {
     "data": {
      "text/plain": [
       "0.9269148955002268"
      ]
     },
     "execution_count": 10,
     "metadata": {},
     "output_type": "execute_result"
    }
   ],
   "source": [
    "model.rsquared"
   ]
  },
  {
   "cell_type": "markdown",
   "metadata": {},
   "source": []
  }
 ],
 "metadata": {
  "kernelspec": {
   "display_name": "Python 3 (ipykernel)",
   "language": "python",
   "name": "python3"
  },
  "language_info": {
   "codemirror_mode": {
    "name": "ipython",
    "version": 3
   },
   "file_extension": ".py",
   "mimetype": "text/x-python",
   "name": "python",
   "nbconvert_exporter": "python",
   "pygments_lexer": "ipython3",
   "version": "3.11.6"
  }
 },
 "nbformat": 4,
 "nbformat_minor": 2
}
