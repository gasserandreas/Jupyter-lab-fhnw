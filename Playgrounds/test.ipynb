{
 "cells": [
  {
   "cell_type": "code",
   "execution_count": 251,
   "metadata": {},
   "outputs": [
    {
     "name": "stdout",
     "output_type": "stream",
     "text": [
      "     A      B         C         D\n",
      "0  foo    one  0.840613 -0.499274\n",
      "1  bar    one -0.616752  0.178114\n",
      "2  foo    two  2.328424  1.556747\n",
      "3  bar  three  0.492064 -0.542557\n",
      "4  foo    two -1.407052  1.700629\n",
      "5  bar    two  0.723350  1.678605\n",
      "6  foo    one  0.230869  2.433348\n",
      "7  foo  three -1.480868  0.673513\n",
      "B    one  three  two\n",
      "A                   \n",
      "bar    1      1    1\n",
      "foo    2      1    2\n"
     ]
    }
   ],
   "source": [
    "import pandas as pd\n",
    "import numpy as np\n",
    "\n",
    "df = pd.DataFrame({\n",
    "    'A': ['foo', 'bar', 'foo', 'bar', 'foo', 'bar', 'foo', 'foo'],\n",
    "    'B': ['one', 'one', 'two', 'three', 'two', 'two', 'one', 'three'],\n",
    "    'C': np.random.randn(8),\n",
    "    'D': np.random.randn(8)\n",
    "})\n",
    "\n",
    "print(df)\n",
    "\n",
    "print(pd.crosstab(df['A'], df['B']))"
   ]
  },
  {
   "cell_type": "code",
   "execution_count": null,
   "metadata": {},
   "outputs": [],
   "source": []
  }
 ],
 "metadata": {
  "kernelspec": {
   "display_name": "Python 3 (ipykernel)",
   "language": "python",
   "name": "python3"
  },
  "language_info": {
   "codemirror_mode": {
    "name": "ipython",
    "version": 3
   },
   "file_extension": ".py",
   "mimetype": "text/x-python",
   "name": "python",
   "nbconvert_exporter": "python",
   "pygments_lexer": "ipython3",
   "version": "3.11.6"
  }
 },
 "nbformat": 4,
 "nbformat_minor": 2
}
