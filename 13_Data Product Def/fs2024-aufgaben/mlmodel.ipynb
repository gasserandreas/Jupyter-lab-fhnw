{
 "cells": [
  {
   "cell_type": "markdown",
   "id": "825ceab1-c85b-4a94-9f1d-8a20996a311e",
   "metadata": {},
   "source": [
    "# Predictive Maintenance Example Use Case\n",
    "\n",
    "Wir benötigen in einem ersten Schritt zwei Komponenten:\n",
    "\n",
    "* *Eine Maschine* (M1) die wir überwachen können\n",
    "* *Ein Machine Learning Modell* (MLM) das bewertet, ob die Maschine gut oder schlecht läuft\n",
    "\n",
    "Die Maschine M1 weist einen integrierten Sensor, der alle 1/10 Sekunden einen Wert ausgibt. Der Sensor liefert Werte $v_i \\in R, 0 < v_i < 2 $ \n",
    "wobei Werte $v_i \\leq .5$ als \"normal\" gelten, Werte $v_i > .5$ als \"anormal\" sollen. \n",
    "\n",
    "# Daten\n",
    "\n",
    "Es liegen uns folgende Sensor Daten vor\n",
    "\n",
    "* datasets/sensor_ok.csv - Daten einer Maschine im Normalzustand (keine Fehler)\n",
    "* datasets/sensor_fail.csv - Daten einer Maschine mit Fehlern, die aber noch funktioniert (wenige Fehler)\n",
    "* datasetes/sensor_error.csv - Daten einer defekten Maschine (viele Fehler)\n",
    "\n",
    "# Aufgaben\n",
    "\n",
    "1. Plotte die Verteilung für jede Maschinen-Konfiguration (Werte-Regimes) wie unten aufgeführt (working ok, fail more often, constantly failing)\n",
    "2. Schaue Dir die unterschiedlichen Verteilung nach Konfiguration an (was siehst Du?)\n",
    "3. Beschreibe wie wir Ausreisser mit einem ML Algorithmus oder mit einem statistischen Verfahren erkennen können\n",
    "4. Implementiere ein einfaches ML Modell das aus den \"Sensor-Daten\" Ausreisser erkennt\n",
    "\n",
    "References:\n",
    "\n",
    "* https://towardsdatascience.com/5-ways-to-detect-outliers-that-every-data-scientist-should-know-python-code-70a54335a623\n",
    "* https://scikit-learn.org/stable/modules/outlier_detection.html\n"
   ]
  },
  {
   "cell_type": "code",
   "execution_count": null,
   "id": "5536ef74-9ad4-4494-9560-1bd7013ebdf2",
   "metadata": {},
   "outputs": [],
   "source": [
    "import matplotlib\n",
    "from matplotlib import pyplot as plt\n",
    "import numpy as np\n",
    "import pandas as pd\n",
    "%matplotlib inline"
   ]
  },
  {
   "cell_type": "markdown",
   "id": "64d40b5a-8577-4c90-840e-3f82dae9c8df",
   "metadata": {},
   "source": [
    "# Plot machine failures\n",
    "\n",
    "* Use a histogram to show the different machine profiles (ok, failure, error)"
   ]
  },
  {
   "cell_type": "code",
   "execution_count": null,
   "id": "afdfa498-f6c7-446a-926e-963acfb837c2",
   "metadata": {},
   "outputs": [],
   "source": [
    "<DEIN CODE>"
   ]
  },
  {
   "cell_type": "markdown",
   "id": "023ac526-86d3-4b3d-bf4c-be1403f59e49",
   "metadata": {},
   "source": [
    "# How can we detect anomalies? \n",
    "\n",
    "* Using statistical methods?\n",
    "* Why use a machine learning model?"
   ]
  },
  {
   "cell_type": "markdown",
   "id": "b2cf02d7-1e19-4557-9a38-70fcd8373ccd",
   "metadata": {},
   "source": [
    "## Train a machine learning model\n",
    "\n",
    "* Here is a working example using an IsolationForest\n"
   ]
  },
  {
   "cell_type": "code",
   "execution_count": null,
   "id": "82b14a2b-f656-4b72-88d8-91712751546d",
   "metadata": {},
   "outputs": [],
   "source": [
    "# use an isolation forest\n",
    "from sklearn.ensemble import IsolationForest\n",
    "\n",
    "df_train = pd.read_csv('datasets/sensor_ok.csv')\n",
    "clf = <DEIN CODE>\n",
    "y_test = <DEIN CODE>"
   ]
  },
  {
   "cell_type": "code",
   "execution_count": null,
   "id": "59e1e70f-2741-43c2-b02b-443f3727b3ed",
   "metadata": {},
   "outputs": [],
   "source": [
    "# compare counts of outliers vs. normal, as predicted\n",
    "counts = pd.Series(y_test).value_counts(normalize=True)\n",
    "counts.plot(kind='bar')\n",
    "counts"
   ]
  },
  {
   "cell_type": "code",
   "execution_count": null,
   "id": "7a02fc4e-b1dd-4d83-8dc9-2c9b4b822a4d",
   "metadata": {},
   "outputs": [],
   "source": [
    "# test the model performance using failing machine\n",
    "# -- Tip: copy/paste the code from above, i.e. use the model to the predict outliers, then plot the value counts\n",
    "test_data = pd.read_csv('datasets/sensor_fail.csv')\n",
    "\n",
    "<DEIN CODE>"
   ]
  },
  {
   "cell_type": "code",
   "execution_count": null,
   "id": "ff666c47-81cb-4e92-acf7-78f5bf238101",
   "metadata": {},
   "outputs": [],
   "source": [
    "# test the model performance using erronous machine\n",
    "# -- Tip: copy/paste the code from above, i.e. use the model to the predict outliers, then plot the value counts\n",
    "test_data = pd.read_csv('datasets/sensor_error.csv')\n",
    "\n",
    "<DEIN CODE>"
   ]
  },
  {
   "cell_type": "code",
   "execution_count": null,
   "id": "4477f337-61f2-4cd9-ac9e-d9b25ab58921",
   "metadata": {},
   "outputs": [],
   "source": [
    "# Let's save the model and the training data for later use\n",
    "from util import save_model\n",
    "\n",
    "!mkdir -p datasets models\n",
    "\n",
    "df_train.to_csv('datasets/traindata.csv', index=False)\n",
    "save_model(clf, 'models/mymodel')"
   ]
  }
 ],
 "metadata": {
  "kernelspec": {
   "display_name": "Python 3 (ipykernel)",
   "language": "python",
   "name": "python3"
  },
  "language_info": {
   "codemirror_mode": {
    "name": "ipython",
    "version": 3
   },
   "file_extension": ".py",
   "mimetype": "text/x-python",
   "name": "python",
   "nbconvert_exporter": "python",
   "pygments_lexer": "ipython3",
   "version": "3.11.6"
  }
 },
 "nbformat": 4,
 "nbformat_minor": 5
}
