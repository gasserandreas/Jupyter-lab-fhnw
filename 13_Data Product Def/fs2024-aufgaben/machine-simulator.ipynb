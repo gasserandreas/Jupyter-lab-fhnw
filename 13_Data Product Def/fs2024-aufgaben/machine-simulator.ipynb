{
 "cells": [
  {
   "cell_type": "markdown",
   "id": "0de89892-c187-4869-b0c0-8aa8e4d40696",
   "metadata": {},
   "source": [
    "# Create a simulator that reports the machine's sensor values\n",
    "\n",
    "We don't have a real machine to monitor, so let's simulate one.\n",
    "For this we need a few components:\n",
    "\n",
    "* a machine that keeps running (M1)\n",
    "* a sensor attached to that machine (S1)\n",
    "* an API that we can query from our application (M-API)\n",
    "\n",
    "# Tasks\n",
    "\n",
    "1. Run the code below\n",
    "2. Query the machine using your web browser\n",
    "3. Try to run different configurations and see if this changes your output"
   ]
  },
  {
   "cell_type": "markdown",
   "id": "3ee16e7d-d045-4e5f-840f-6e9bcc608b19",
   "metadata": {},
   "source": [
    "# The machine and it's sensor"
   ]
  },
  {
   "cell_type": "code",
   "execution_count": null,
   "id": "bd101822-715f-4ca3-9039-60b17f0a8bcd",
   "metadata": {},
   "outputs": [],
   "source": [
    "import numpy as np\n",
    "from threading import Thread\n",
    "from datetime import datetime as dt\n",
    "from time import sleep\n",
    "\n",
    "# specifcy the operation mode\n",
    "# -- every regime is a tuple of (shape, scale)\n",
    "REGIMES = {\n",
    "     # Configuration 1: working ok, rare failure\n",
    "    'ok': (1., .1),\n",
    "    # Configuration 2: fail often\n",
    "    'fail': (5., .1),\n",
    "    # Configuration 3: constantly failing\n",
    "    'error': (10., .1),\n",
    "}\n",
    "\n",
    "# sensor buffer\n",
    "size = 1000\n",
    "STATE = [(None, 0)] * size\n",
    "SELECTED_REGIME = 'ok'\n",
    "\n",
    "def sensor():\n",
    "    global STATE\n",
    "    rnd = np.random.default_rng()\n",
    "    while True:\n",
    "        # generate the data for the next <size> sensor values\n",
    "        # -- according to the currently selected regime\n",
    "        # -- remember the regime so we can detect a change \n",
    "        shape, scale = REGIMES[SELECTED_REGIME] \n",
    "        data = rnd.gamma(shape, scale, size)\n",
    "        my_regime = SELECTED_REGIME\n",
    "        # run through all the sensor values\n",
    "        # -- wait .1 seconds between each new value (generate 10 values / seconds)\n",
    "        # -- if the regime has changed, reset to generate new values\n",
    "        # -- add a timestamp to every value\n",
    "        for i, value in enumerate(data):\n",
    "            record = (dt.now().isoformat(), value)\n",
    "            STATE = STATE[1:] + [record]\n",
    "            sleep(.1)\n",
    "            if my_regime != SELECTED_REGIME:\n",
    "                break\n",
    "\n",
    "def machine():\n",
    "    # we use a Thread to run the machine in the background\n",
    "    # this way we get fresh sensor values continously\n",
    "    t = Thread(target=sensor)\n",
    "    t.start()"
   ]
  },
  {
   "cell_type": "markdown",
   "id": "d1a0c48a-a2bb-4ffa-8582-c5f0101891c5",
   "metadata": {},
   "source": [
    "# The sensor API\n",
    "\n",
    "The sensor API is very simple\n",
    "\n",
    "* `http://localhost:5000/query/10` reports the latest 10 sensor values\n",
    "* `http://localhost:5000/query/100` reports the latest 100 sensor values\n",
    "* `http://locahost:5000/regime/` shows the currently active and the available regimes\n",
    "* `http://locahost:5000/regime/<ok|fail|error>` changes the regime \n",
    "* it can report at most `size=1000` values (we could change this)"
   ]
  },
  {
   "cell_type": "code",
   "execution_count": null,
   "id": "995c3fef-4f39-4260-a8df-4194b280d605",
   "metadata": {},
   "outputs": [],
   "source": [
    "from flask import Flask\n",
    "\n",
    "def create_app():\n",
    "    app = Flask(\"factory\")\n",
    "\n",
    "    @app.route(\"/\")\n",
    "    def index():\n",
    "        index.__doc__ = f\"\"\"\n",
    "            * /query/NNN: returns the latest NNN sensor values<br>\n",
    "            * /regime/: returns the current sensor regime<br>\n",
    "            * /regime/RRR: set the current sensor regime. RRR should be one of {REGIMES.keys()}<br>\n",
    "        \"\"\"\n",
    "        return index.__doc__\n",
    "    \n",
    "    @app.route(\"/query/<int:records>\")\n",
    "    def get_data(records):\n",
    "        values = STATE[-records:]\n",
    "        return { 'values': values }\n",
    "    \n",
    "    @app.route(\"/regime/<regime>\")\n",
    "    @app.route(\"/regime/\")\n",
    "    def set_regime(regime=None):\n",
    "        global SELECTED_REGIME\n",
    "        if regime:\n",
    "            SELECTED_REGIME = regime\n",
    "        return { 'regime': SELECTED_REGIME ,'available': list(REGIMES.keys()) }\n",
    "    \n",
    "    return app\n",
    "\n",
    "# start the machine (runs in the background)\n",
    "machine()\n",
    "\n",
    "# start the web app \n",
    "app = create_app()\n",
    "app.run(port=5001)"
   ]
  },
  {
   "cell_type": "code",
   "execution_count": null,
   "id": "7ecda3ee-8612-40ee-9a8b-c070996eee9d",
   "metadata": {},
   "outputs": [],
   "source": []
  }
 ],
 "metadata": {
  "kernelspec": {
   "display_name": "Python 3 (ipykernel)",
   "language": "python",
   "name": "python3"
  },
  "language_info": {
   "codemirror_mode": {
    "name": "ipython",
    "version": 3
   },
   "file_extension": ".py",
   "mimetype": "text/x-python",
   "name": "python",
   "nbconvert_exporter": "python",
   "pygments_lexer": "ipython3",
   "version": "3.11.6"
  }
 },
 "nbformat": 4,
 "nbformat_minor": 5
}
