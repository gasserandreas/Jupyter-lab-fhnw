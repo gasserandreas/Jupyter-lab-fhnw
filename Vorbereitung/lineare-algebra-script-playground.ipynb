{
 "cells": [
  {
   "cell_type": "markdown",
   "id": "9f7c5277-0f0b-4d2b-926b-6447a468354b",
   "metadata": {},
   "source": [
    "# Lineare Algebra Playground"
   ]
  },
  {
   "cell_type": "code",
   "execution_count": 2,
   "id": "7213b2c0-ee4b-42e4-af61-24f357e58d6f",
   "metadata": {},
   "outputs": [],
   "source": [
    "import numpy as np"
   ]
  },
  {
   "cell_type": "code",
   "execution_count": 6,
   "id": "edc5d6bf-a579-48d8-9d18-4fbde9c14266",
   "metadata": {},
   "outputs": [
    {
     "name": "stdout",
     "output_type": "stream",
     "text": [
      "[[1]\n",
      " [2]\n",
      " [3]]\n",
      "[1 3 3]\n"
     ]
    }
   ],
   "source": [
    "spalenV = np.array([[1], [2], [3]])\n",
    "zeilenV = np.array([1,3,3])\n",
    "\n",
    "print(spalenV)\n",
    "print(zeilenV)"
   ]
  },
  {
   "cell_type": "code",
   "execution_count": 22,
   "id": "803904d5-8242-4812-9bbe-08b0829f66b5",
   "metadata": {},
   "outputs": [
    {
     "name": "stdout",
     "output_type": "stream",
     "text": [
      "AC [[2]\n",
      " [2]\n",
      " [6]]\n",
      "AD [[10  8]\n",
      " [22 20]\n",
      " [ 6  0]]\n",
      "BA [[5 4]]\n",
      "[[-2]\n",
      " [ 2]]\n",
      "[[ 1  1 -1]]\n",
      "CB [[-2 -2  2]\n",
      " [ 2  2 -2]]\n"
     ]
    }
   ],
   "source": [
    "# Übung 2.1\n",
    "A = np.array([[1,2], [3,4], [-1,2]])\n",
    "B = np.array([[1,1,-1]])\n",
    "C = np.array([[-2],[2]])\n",
    "D = np.array([[2,4],[4,2]])\n",
    "\n",
    "print('AC', np.dot(A,C))\n",
    "print('AD', np.dot(A,D))\n",
    "print('BA', B@A)\n",
    "print(C)\n",
    "print(B)\n",
    "print('CB', np.dot(C,B))"
   ]
  },
  {
   "cell_type": "code",
   "execution_count": null,
   "id": "e9d5898b-e7fc-478c-b5bb-58da0345e9af",
   "metadata": {},
   "outputs": [],
   "source": []
  }
 ],
 "metadata": {
  "kernelspec": {
   "display_name": "Python 3 (ipykernel)",
   "language": "python",
   "name": "python3"
  },
  "language_info": {
   "codemirror_mode": {
    "name": "ipython",
    "version": 3
   },
   "file_extension": ".py",
   "mimetype": "text/x-python",
   "name": "python",
   "nbconvert_exporter": "python",
   "pygments_lexer": "ipython3",
   "version": "3.11.6"
  }
 },
 "nbformat": 4,
 "nbformat_minor": 5
}
