{
 "cells": [
  {
   "cell_type": "markdown",
   "metadata": {},
   "source": [
    "# Gradient Boosting with Hyperparamter optimization\n",
    "\n",
    "In this notebook, we now use a different model: GradientBoostingRegressor.\n",
    "\n",
    "The GradientBoostingRegressor uses Gradient Boosting with Decision Trees to learn (fit) the data.\n",
    "\n",
    "We didn't have a look at Gradient Boosting in the course.\n",
    "For those that are interested, in this playlist (https://www.youtube.com/watch?v=Un9zObFjBH0&list=PLAwxTw4SYaPnIRwl6rad_mYwEk4Gmj7Mx&index=191) video 191 till 194 make a good introduction to Boosting.\n",
    "If you understand Boosting, Gradient Boosting is easy to understand: We simply make a Boosting Ensemble with Decision Trees.\n",
    "\n",
    "From the previous code not many changes, we simply replace the LinearRegression model with the GradientBoostingRegressor model, when defining the pipeline.\n",
    "\n",
    "However, GradientBoostingRegressor has now hyper-parameters.\n",
    "Therefore, to improve our model, we use Hyperparameter Optimization with Cross-Validation to find good hyper-parameters.\n",
    "\n",
    "In this notebook, we show how to use Grid Search as well as Random Search to do Hyperparameter Optimization"
   ]
  },
  {
   "cell_type": "code",
   "execution_count": 1,
   "metadata": {
    "collapsed": false,
    "execution": {
     "iopub.execute_input": "2024-05-03T12:22:48.546379Z",
     "iopub.status.busy": "2024-05-03T12:22:48.545864Z",
     "iopub.status.idle": "2024-05-03T12:22:49.532116Z",
     "shell.execute_reply": "2024-05-03T12:22:49.531171Z",
     "shell.execute_reply.started": "2024-05-03T12:22:48.546347Z"
    },
    "jupyter": {
     "outputs_hidden": false
    },
    "pycharm": {
     "name": "#%%\n"
    },
    "tags": []
   },
   "outputs": [],
   "source": [
    "import pandas as pd\n",
    "import numpy as np\n",
    "from sklearn.model_selection import train_test_split\n",
    "from sklearn.metrics import mean_absolute_percentage_error"
   ]
  },
  {
   "cell_type": "markdown",
   "metadata": {},
   "source": [
    "# Prepare data"
   ]
  },
  {
   "cell_type": "code",
   "execution_count": 2,
   "metadata": {
    "collapsed": false,
    "execution": {
     "iopub.execute_input": "2024-05-03T12:22:49.534097Z",
     "iopub.status.busy": "2024-05-03T12:22:49.533766Z",
     "iopub.status.idle": "2024-05-03T12:22:49.592343Z",
     "shell.execute_reply": "2024-05-03T12:22:49.591585Z",
     "shell.execute_reply.started": "2024-05-03T12:22:49.534072Z"
    },
    "jupyter": {
     "outputs_hidden": false
    },
    "pycharm": {
     "name": "#%%\n"
    },
    "tags": []
   },
   "outputs": [],
   "source": [
    "# Load the train data\n",
    "train_data = pd.read_csv('../data/houses_train.csv', index_col=0)"
   ]
  },
  {
   "cell_type": "code",
   "execution_count": 3,
   "metadata": {
    "collapsed": false,
    "execution": {
     "iopub.execute_input": "2024-05-03T12:22:49.714102Z",
     "iopub.status.busy": "2024-05-03T12:22:49.713668Z",
     "iopub.status.idle": "2024-05-03T12:22:49.720611Z",
     "shell.execute_reply": "2024-05-03T12:22:49.719802Z",
     "shell.execute_reply.started": "2024-05-03T12:22:49.714068Z"
    },
    "jupyter": {
     "outputs_hidden": false
    },
    "pycharm": {
     "name": "#%%\n"
    },
    "tags": []
   },
   "outputs": [],
   "source": [
    "# Split data into features and labels.\n",
    "X_data = train_data.drop(columns='price')\n",
    "y_data = train_data['price']"
   ]
  },
  {
   "cell_type": "code",
   "execution_count": 4,
   "metadata": {
    "collapsed": false,
    "execution": {
     "iopub.execute_input": "2024-05-03T12:22:50.094111Z",
     "iopub.status.busy": "2024-05-03T12:22:50.093698Z",
     "iopub.status.idle": "2024-05-03T12:22:50.121138Z",
     "shell.execute_reply": "2024-05-03T12:22:50.120239Z",
     "shell.execute_reply.started": "2024-05-03T12:22:50.094079Z"
    },
    "jupyter": {
     "outputs_hidden": false
    },
    "pycharm": {
     "name": "#%%\n"
    },
    "tags": []
   },
   "outputs": [],
   "source": [
    "# Split features and labels into train (X_train, y_train) and validation set (X_val, y_val).\n",
    "X_train, X_val, y_train, y_val = train_test_split(X_data, y_data, stratify=X_data['object_type_name'], test_size=0.1)"
   ]
  },
  {
   "cell_type": "markdown",
   "metadata": {},
   "source": [
    "## Helper functions"
   ]
  },
  {
   "cell_type": "code",
   "execution_count": 5,
   "metadata": {
    "execution": {
     "iopub.execute_input": "2024-05-03T12:22:50.902983Z",
     "iopub.status.busy": "2024-05-03T12:22:50.902144Z",
     "iopub.status.idle": "2024-05-03T12:22:50.907017Z",
     "shell.execute_reply": "2024-05-03T12:22:50.906102Z",
     "shell.execute_reply.started": "2024-05-03T12:22:50.902950Z"
    },
    "tags": []
   },
   "outputs": [],
   "source": [
    "def evaluate_model(model, X, y):\n",
    "    # Predict with the model the validation data.\n",
    "    y_pred = model.predict(X)\n",
    "\n",
    "    # How good are we on the validation data?\n",
    "    print(mean_absolute_percentage_error(y, y_pred))"
   ]
  },
  {
   "cell_type": "markdown",
   "metadata": {},
   "source": [
    "# Define and train models"
   ]
  },
  {
   "cell_type": "code",
   "execution_count": 8,
   "metadata": {
    "collapsed": false,
    "execution": {
     "iopub.execute_input": "2024-05-03T12:25:54.604854Z",
     "iopub.status.busy": "2024-05-03T12:25:54.604453Z",
     "iopub.status.idle": "2024-05-03T12:25:54.609783Z",
     "shell.execute_reply": "2024-05-03T12:25:54.608743Z",
     "shell.execute_reply.started": "2024-05-03T12:25:54.604820Z"
    },
    "jupyter": {
     "outputs_hidden": false
    },
    "pycharm": {
     "name": "#%%\n"
    },
    "tags": []
   },
   "outputs": [],
   "source": [
    "from sklearn.pipeline import Pipeline\n",
    "from sklearn.preprocessing import OneHotEncoder\n",
    "from sklearn.compose import make_column_transformer\n",
    "from sklearn.compose import TransformedTargetRegressor\n",
    "from sklearn.tree import DecisionTreeRegressor\n",
    "from sklearn.ensemble import GradientBoostingRegressor"
   ]
  },
  {
   "cell_type": "markdown",
   "metadata": {},
   "source": [
    "## Descision Tree"
   ]
  },
  {
   "cell_type": "code",
   "execution_count": 9,
   "metadata": {
    "execution": {
     "iopub.execute_input": "2024-05-03T12:25:55.272730Z",
     "iopub.status.busy": "2024-05-03T12:25:55.272345Z",
     "iopub.status.idle": "2024-05-03T12:25:57.434549Z",
     "shell.execute_reply": "2024-05-03T12:25:57.433519Z",
     "shell.execute_reply.started": "2024-05-03T12:25:55.272696Z"
    },
    "tags": []
   },
   "outputs": [
    {
     "name": "stdout",
     "output_type": "stream",
     "text": [
      "0.2828091003132036\n"
     ]
    }
   ],
   "source": [
    "# Define model\n",
    "model = Pipeline([\n",
    "    ('ohe', \n",
    "        make_column_transformer(\n",
    "            (OneHotEncoder(handle_unknown='ignore'), ['zipcode', 'municipality_name', 'object_type_name']),\n",
    "            remainder='passthrough'\n",
    "        )\n",
    "    ),\n",
    "    ('reg', \n",
    "        TransformedTargetRegressor(\n",
    "            regressor=DecisionTreeRegressor(),\n",
    "            func=np.log,\n",
    "            inverse_func=np.exp\n",
    "        )\n",
    "    )\n",
    "])\n",
    "\n",
    "# Train (fit) the model with the train data.\n",
    "model.fit(X_train, y_train)\n",
    "\n",
    "# Evaluate\n",
    "evaluate_model(model, X_val, y_val)"
   ]
  },
  {
   "cell_type": "markdown",
   "metadata": {},
   "source": [
    "## Gradient Boosting"
   ]
  },
  {
   "cell_type": "code",
   "execution_count": 10,
   "metadata": {
    "collapsed": false,
    "execution": {
     "iopub.execute_input": "2024-05-03T12:25:57.436512Z",
     "iopub.status.busy": "2024-05-03T12:25:57.436153Z",
     "iopub.status.idle": "2024-05-03T12:26:01.916347Z",
     "shell.execute_reply": "2024-05-03T12:26:01.915783Z",
     "shell.execute_reply.started": "2024-05-03T12:25:57.436490Z"
    },
    "jupyter": {
     "outputs_hidden": false
    },
    "pycharm": {
     "name": "#%%\n"
    }
   },
   "outputs": [
    {
     "name": "stdout",
     "output_type": "stream",
     "text": [
      "0.22106681030984307\n"
     ]
    }
   ],
   "source": [
    "# Define model\n",
    "model = Pipeline([\n",
    "    ('ohe', \n",
    "        make_column_transformer(\n",
    "            (OneHotEncoder(handle_unknown='ignore'), ['zipcode', 'municipality_name', 'object_type_name']), \n",
    "            remainder='passthrough'\n",
    "        )\n",
    "    ),\n",
    "    ('reg', \n",
    "        TransformedTargetRegressor(\n",
    "            regressor=GradientBoostingRegressor(\n",
    "                n_estimators=100,\n",
    "                max_depth = 3\n",
    "            ),\n",
    "            func=np.log,\n",
    "            inverse_func=np.exp\n",
    "        )\n",
    "    )\n",
    "])\n",
    "\n",
    "# Train (fit) the model with the train data.\n",
    "_ = model.fit(X_train, y_train)\n",
    "\n",
    "# Evaluate\n",
    "evaluate_model(model, X_val, y_val)"
   ]
  },
  {
   "cell_type": "markdown",
   "metadata": {
    "pycharm": {
     "name": "#%% md\n"
    }
   },
   "source": [
    "# Grid search"
   ]
  },
  {
   "cell_type": "code",
   "execution_count": 9,
   "metadata": {
    "collapsed": false,
    "execution": {
     "iopub.execute_input": "2023-12-01T14:18:59.317412Z",
     "iopub.status.busy": "2023-12-01T14:18:59.317065Z",
     "iopub.status.idle": "2023-12-01T14:18:59.320920Z",
     "shell.execute_reply": "2023-12-01T14:18:59.320142Z",
     "shell.execute_reply.started": "2023-12-01T14:18:59.317387Z"
    },
    "jupyter": {
     "outputs_hidden": false
    },
    "pycharm": {
     "name": "#%%\n"
    }
   },
   "outputs": [],
   "source": [
    "from sklearn.model_selection import GridSearchCV"
   ]
  },
  {
   "cell_type": "code",
   "execution_count": 10,
   "metadata": {
    "collapsed": false,
    "execution": {
     "iopub.execute_input": "2023-12-01T14:18:59.322201Z",
     "iopub.status.busy": "2023-12-01T14:18:59.321830Z",
     "iopub.status.idle": "2023-12-01T14:19:57.073883Z",
     "shell.execute_reply": "2023-12-01T14:19:57.073237Z",
     "shell.execute_reply.started": "2023-12-01T14:18:59.322175Z"
    },
    "jupyter": {
     "outputs_hidden": false
    },
    "pycharm": {
     "name": "#%%\n"
    }
   },
   "outputs": [
    {
     "data": {
      "text/plain": [
       "{'reg__regressor__max_depth': 5, 'reg__regressor__n_estimators': 200}"
      ]
     },
     "execution_count": 10,
     "metadata": {},
     "output_type": "execute_result"
    }
   ],
   "source": [
    "# We have 4 * 3 parameter combinations with 5 cross validation runs per configurations.\n",
    "# Therefore we fit 60 models here in total (actually 61 because of refit).\n",
    "parameters = {\n",
    "    'reg__regressor__n_estimators': [10,50,100,200],\n",
    "    'reg__regressor__max_depth': [2,3,5],\n",
    "}\n",
    "grid_search = GridSearchCV(model, parameters, cv=5, n_jobs=-1, scoring='neg_mean_absolute_percentage_error')\n",
    "grid_search.fit(X_train, y_train)\n",
    "grid_search.best_params_"
   ]
  },
  {
   "cell_type": "code",
   "execution_count": 11,
   "metadata": {
    "collapsed": false,
    "execution": {
     "iopub.execute_input": "2023-12-01T14:19:57.076026Z",
     "iopub.status.busy": "2023-12-01T14:19:57.075388Z",
     "iopub.status.idle": "2023-12-01T14:19:57.086981Z",
     "shell.execute_reply": "2023-12-01T14:19:57.085849Z",
     "shell.execute_reply.started": "2023-12-01T14:19:57.076004Z"
    },
    "jupyter": {
     "outputs_hidden": false
    },
    "pycharm": {
     "name": "#%%\n"
    }
   },
   "outputs": [
    {
     "data": {
      "text/plain": [
       "{'mean_fit_time': array([ 0.60599837,  2.55653701,  5.31037316, 10.71305695,  0.91821375,\n",
       "         4.45160108,  8.47721982, 16.13624763,  1.94285002,  8.43197656,\n",
       "        13.65416746, 18.61539564]),\n",
       " 'std_fit_time': array([0.00717861, 0.01317339, 0.02511045, 0.06565182, 0.05154995,\n",
       "        0.03700024, 0.03514174, 0.10142644, 0.00659944, 0.0477022 ,\n",
       "        0.0655618 , 1.10464703]),\n",
       " 'mean_score_time': array([0.0289072 , 0.03050776, 0.03994379, 0.05246062, 0.03988824,\n",
       "        0.03387828, 0.04373622, 0.06054621, 0.03494601, 0.04344134,\n",
       "        0.03653507, 0.04336939]),\n",
       " 'std_score_time': array([0.00248699, 0.00050976, 0.00387498, 0.00295843, 0.01305781,\n",
       "        0.00076408, 0.00041892, 0.00172714, 0.00520523, 0.00240346,\n",
       "        0.00510011, 0.00195534]),\n",
       " 'param_reg__regressor__max_depth': masked_array(data=[2, 2, 2, 2, 3, 3, 3, 3, 5, 5, 5, 5],\n",
       "              mask=[False, False, False, False, False, False, False, False,\n",
       "                    False, False, False, False],\n",
       "        fill_value='?',\n",
       "             dtype=object),\n",
       " 'param_reg__regressor__n_estimators': masked_array(data=[10, 50, 100, 200, 10, 50, 100, 200, 10, 50, 100, 200],\n",
       "              mask=[False, False, False, False, False, False, False, False,\n",
       "                    False, False, False, False],\n",
       "        fill_value='?',\n",
       "             dtype=object),\n",
       " 'params': [{'reg__regressor__max_depth': 2,\n",
       "   'reg__regressor__n_estimators': 10},\n",
       "  {'reg__regressor__max_depth': 2, 'reg__regressor__n_estimators': 50},\n",
       "  {'reg__regressor__max_depth': 2, 'reg__regressor__n_estimators': 100},\n",
       "  {'reg__regressor__max_depth': 2, 'reg__regressor__n_estimators': 200},\n",
       "  {'reg__regressor__max_depth': 3, 'reg__regressor__n_estimators': 10},\n",
       "  {'reg__regressor__max_depth': 3, 'reg__regressor__n_estimators': 50},\n",
       "  {'reg__regressor__max_depth': 3, 'reg__regressor__n_estimators': 100},\n",
       "  {'reg__regressor__max_depth': 3, 'reg__regressor__n_estimators': 200},\n",
       "  {'reg__regressor__max_depth': 5, 'reg__regressor__n_estimators': 10},\n",
       "  {'reg__regressor__max_depth': 5, 'reg__regressor__n_estimators': 50},\n",
       "  {'reg__regressor__max_depth': 5, 'reg__regressor__n_estimators': 100},\n",
       "  {'reg__regressor__max_depth': 5, 'reg__regressor__n_estimators': 200}],\n",
       " 'split0_test_score': array([-0.3139028 , -0.25205519, -0.23233984, -0.21952421, -0.29841402,\n",
       "        -0.23354567, -0.21782774, -0.20870566, -0.27779532, -0.21154614,\n",
       "        -0.20308187, -0.19556365]),\n",
       " 'split1_test_score': array([-0.321021  , -0.25427602, -0.23657111, -0.22324388, -0.30259822,\n",
       "        -0.23645438, -0.21883622, -0.20965665, -0.2796334 , -0.2124971 ,\n",
       "        -0.20299341, -0.19551508]),\n",
       " 'split2_test_score': array([-0.3313562 , -0.26284796, -0.24145442, -0.22668873, -0.31446077,\n",
       "        -0.24242683, -0.22517894, -0.21499008, -0.29223287, -0.21833816,\n",
       "        -0.20897024, -0.20202609]),\n",
       " 'split3_test_score': array([-0.331541  , -0.2621806 , -0.24173315, -0.22772323, -0.31353031,\n",
       "        -0.24302431, -0.22599075, -0.21539384, -0.29080217, -0.22049027,\n",
       "        -0.21008465, -0.20209528]),\n",
       " 'split4_test_score': array([-0.32941129, -0.26416703, -0.24381656, -0.23115635, -0.31303893,\n",
       "        -0.24320975, -0.22672017, -0.2174005 , -0.29054377, -0.22060324,\n",
       "        -0.21130673, -0.20419301]),\n",
       " 'mean_test_score': array([-0.32544646, -0.25910536, -0.23918302, -0.22566728, -0.30840845,\n",
       "        -0.23973219, -0.22291076, -0.21322935, -0.28620151, -0.21669498,\n",
       "        -0.20728738, -0.19987862]),\n",
       " 'std_test_score': array([0.00693728, 0.0049419 , 0.00416613, 0.00397518, 0.00660232,\n",
       "        0.00398019, 0.00378369, 0.00341794, 0.0061677 , 0.00391181,\n",
       "        0.00354786, 0.00362763]),\n",
       " 'rank_test_score': array([12,  9,  7,  6, 11,  8,  5,  3, 10,  4,  2,  1], dtype=int32)}"
      ]
     },
     "execution_count": 11,
     "metadata": {},
     "output_type": "execute_result"
    }
   ],
   "source": [
    "grid_search.cv_results_"
   ]
  },
  {
   "cell_type": "code",
   "execution_count": 12,
   "metadata": {
    "collapsed": false,
    "execution": {
     "iopub.execute_input": "2023-12-01T14:19:57.088918Z",
     "iopub.status.busy": "2023-12-01T14:19:57.088322Z",
     "iopub.status.idle": "2023-12-01T14:19:57.124759Z",
     "shell.execute_reply": "2023-12-01T14:19:57.124099Z",
     "shell.execute_reply.started": "2023-12-01T14:19:57.088863Z"
    },
    "jupyter": {
     "outputs_hidden": false
    },
    "pycharm": {
     "name": "#%%\n"
    }
   },
   "outputs": [
    {
     "name": "stdout",
     "output_type": "stream",
     "text": [
      "0.2027073330795121\n"
     ]
    }
   ],
   "source": [
    "# Evaluate\n",
    "evaluate_model(grid_search, X_val, y_val)"
   ]
  },
  {
   "cell_type": "markdown",
   "metadata": {},
   "source": [
    "# Random search\n",
    "\n",
    "Because the number of models to fit explodes in grid search quit fast, in practice often Random Search is used."
   ]
  },
  {
   "cell_type": "code",
   "execution_count": 13,
   "metadata": {
    "collapsed": false,
    "execution": {
     "iopub.execute_input": "2023-12-01T14:19:57.126640Z",
     "iopub.status.busy": "2023-12-01T14:19:57.125953Z",
     "iopub.status.idle": "2023-12-01T14:24:10.534461Z",
     "shell.execute_reply": "2023-12-01T14:24:10.533831Z",
     "shell.execute_reply.started": "2023-12-01T14:19:57.126613Z"
    },
    "jupyter": {
     "outputs_hidden": false
    },
    "pycharm": {
     "name": "#%%\n"
    },
    "tags": []
   },
   "outputs": [
    {
     "data": {
      "text/plain": [
       "{'reg__regressor__n_estimators': 187, 'reg__regressor__max_depth': 9}"
      ]
     },
     "execution_count": 13,
     "metadata": {},
     "output_type": "execute_result"
    }
   ],
   "source": [
    "from sklearn.model_selection import RandomizedSearchCV\n",
    "\n",
    "parameters = {\n",
    "    'reg__regressor__n_estimators': range(10,200),\n",
    "    'reg__regressor__max_depth': range(2,10),\n",
    "}\n",
    "random_search = RandomizedSearchCV(model, parameters, cv=5, n_jobs=-1, n_iter=25, scoring='neg_mean_absolute_percentage_error')\n",
    "random_search.fit(X_train, y_train)\n",
    "random_search.best_params_"
   ]
  },
  {
   "cell_type": "code",
   "execution_count": 14,
   "metadata": {
    "collapsed": false,
    "execution": {
     "iopub.execute_input": "2023-12-01T14:24:10.535463Z",
     "iopub.status.busy": "2023-12-01T14:24:10.535251Z",
     "iopub.status.idle": "2023-12-01T14:24:10.539230Z",
     "shell.execute_reply": "2023-12-01T14:24:10.538378Z",
     "shell.execute_reply.started": "2023-12-01T14:24:10.535440Z"
    },
    "jupyter": {
     "outputs_hidden": false
    },
    "pycharm": {
     "name": "#%%\n"
    },
    "tags": []
   },
   "outputs": [],
   "source": [
    "# We take the model fitted with the hyper parameters found by Random Search here.\n",
    "final_model = random_search.best_estimator_"
   ]
  },
  {
   "cell_type": "code",
   "execution_count": 15,
   "metadata": {
    "execution": {
     "iopub.execute_input": "2023-12-01T14:24:10.540680Z",
     "iopub.status.busy": "2023-12-01T14:24:10.540376Z",
     "iopub.status.idle": "2023-12-01T14:24:10.587696Z",
     "shell.execute_reply": "2023-12-01T14:24:10.586949Z",
     "shell.execute_reply.started": "2023-12-01T14:24:10.540638Z"
    },
    "tags": []
   },
   "outputs": [
    {
     "name": "stdout",
     "output_type": "stream",
     "text": [
      "0.192885737526685\n"
     ]
    }
   ],
   "source": [
    "# Evaluate\n",
    "evaluate_model(final_model, X_val, y_val)"
   ]
  },
  {
   "cell_type": "markdown",
   "metadata": {},
   "source": [
    "## Feature Importance"
   ]
  },
  {
   "cell_type": "code",
   "execution_count": 16,
   "metadata": {
    "execution": {
     "iopub.execute_input": "2023-12-01T14:24:10.588929Z",
     "iopub.status.busy": "2023-12-01T14:24:10.588584Z",
     "iopub.status.idle": "2023-12-01T14:24:10.609525Z",
     "shell.execute_reply": "2023-12-01T14:24:10.608777Z",
     "shell.execute_reply.started": "2023-12-01T14:24:10.588905Z"
    },
    "tags": []
   },
   "outputs": [],
   "source": [
    "feature_importance = pd.DataFrame(final_model['ohe'].get_feature_names_out(), columns=['feature'])\n",
    "feature_importance['importance'] = final_model['reg'].regressor_.feature_importances_"
   ]
  },
  {
   "cell_type": "code",
   "execution_count": 17,
   "metadata": {
    "execution": {
     "iopub.execute_input": "2023-12-01T14:24:10.610799Z",
     "iopub.status.busy": "2023-12-01T14:24:10.610409Z",
     "iopub.status.idle": "2023-12-01T14:24:10.623014Z",
     "shell.execute_reply": "2023-12-01T14:24:10.622298Z",
     "shell.execute_reply.started": "2023-12-01T14:24:10.610773Z"
    },
    "tags": []
   },
   "outputs": [
    {
     "data": {
      "text/html": [
       "<div>\n",
       "<style scoped>\n",
       "    .dataframe tbody tr th:only-of-type {\n",
       "        vertical-align: middle;\n",
       "    }\n",
       "\n",
       "    .dataframe tbody tr th {\n",
       "        vertical-align: top;\n",
       "    }\n",
       "\n",
       "    .dataframe thead th {\n",
       "        text-align: right;\n",
       "    }\n",
       "</style>\n",
       "<table border=\"1\" class=\"dataframe\">\n",
       "  <thead>\n",
       "    <tr style=\"text-align: right;\">\n",
       "      <th></th>\n",
       "      <th>feature</th>\n",
       "      <th>importance</th>\n",
       "    </tr>\n",
       "  </thead>\n",
       "  <tbody>\n",
       "    <tr>\n",
       "      <th>4329</th>\n",
       "      <td>remainder__living_area</td>\n",
       "      <td>0.487604</td>\n",
       "    </tr>\n",
       "    <tr>\n",
       "      <th>4333</th>\n",
       "      <td>remainder__travel_time_public_transport</td>\n",
       "      <td>0.102042</td>\n",
       "    </tr>\n",
       "    <tr>\n",
       "      <th>4327</th>\n",
       "      <td>remainder__long</td>\n",
       "      <td>0.077454</td>\n",
       "    </tr>\n",
       "    <tr>\n",
       "      <th>4328</th>\n",
       "      <td>remainder__build_year</td>\n",
       "      <td>0.067777</td>\n",
       "    </tr>\n",
       "    <tr>\n",
       "      <th>4326</th>\n",
       "      <td>remainder__lat</td>\n",
       "      <td>0.057900</td>\n",
       "    </tr>\n",
       "    <tr>\n",
       "      <th>4332</th>\n",
       "      <td>remainder__travel_time_private_transport</td>\n",
       "      <td>0.029943</td>\n",
       "    </tr>\n",
       "    <tr>\n",
       "      <th>4331</th>\n",
       "      <td>remainder__water_percentage_1000</td>\n",
       "      <td>0.027359</td>\n",
       "    </tr>\n",
       "    <tr>\n",
       "      <th>4330</th>\n",
       "      <td>remainder__num_rooms</td>\n",
       "      <td>0.014595</td>\n",
       "    </tr>\n",
       "    <tr>\n",
       "      <th>416</th>\n",
       "      <td>onehotencoder__zipcode_1936</td>\n",
       "      <td>0.013567</td>\n",
       "    </tr>\n",
       "    <tr>\n",
       "      <th>4340</th>\n",
       "      <td>remainder__population_in_hectare</td>\n",
       "      <td>0.009884</td>\n",
       "    </tr>\n",
       "    <tr>\n",
       "      <th>4335</th>\n",
       "      <td>remainder__number_of_apartments_in_hectare</td>\n",
       "      <td>0.008586</td>\n",
       "    </tr>\n",
       "    <tr>\n",
       "      <th>4322</th>\n",
       "      <td>onehotencoder__object_type_name_Einfamilienhaus</td>\n",
       "      <td>0.008423</td>\n",
       "    </tr>\n",
       "    <tr>\n",
       "      <th>4334</th>\n",
       "      <td>remainder__number_of_buildings_in_hectare</td>\n",
       "      <td>0.007011</td>\n",
       "    </tr>\n",
       "    <tr>\n",
       "      <th>4325</th>\n",
       "      <td>onehotencoder__object_type_name_Wohnung</td>\n",
       "      <td>0.004513</td>\n",
       "    </tr>\n",
       "    <tr>\n",
       "      <th>2532</th>\n",
       "      <td>onehotencoder__municipality_name_Bagnes</td>\n",
       "      <td>0.004395</td>\n",
       "    </tr>\n",
       "    <tr>\n",
       "      <th>4339</th>\n",
       "      <td>remainder__number_of_workplaces_sector_3_in_he...</td>\n",
       "      <td>0.002563</td>\n",
       "    </tr>\n",
       "    <tr>\n",
       "      <th>4323</th>\n",
       "      <td>onehotencoder__object_type_name_Mehrfamilienhaus</td>\n",
       "      <td>0.002546</td>\n",
       "    </tr>\n",
       "    <tr>\n",
       "      <th>3090</th>\n",
       "      <td>onehotencoder__municipality_name_Grindelwald</td>\n",
       "      <td>0.002254</td>\n",
       "    </tr>\n",
       "    <tr>\n",
       "      <th>854</th>\n",
       "      <td>onehotencoder__zipcode_3818</td>\n",
       "      <td>0.002076</td>\n",
       "    </tr>\n",
       "    <tr>\n",
       "      <th>4336</th>\n",
       "      <td>remainder__number_of_workplaces_in_hectare</td>\n",
       "      <td>0.002060</td>\n",
       "    </tr>\n",
       "  </tbody>\n",
       "</table>\n",
       "</div>"
      ],
      "text/plain": [
       "                                                feature  importance\n",
       "4329                             remainder__living_area    0.487604\n",
       "4333            remainder__travel_time_public_transport    0.102042\n",
       "4327                                    remainder__long    0.077454\n",
       "4328                              remainder__build_year    0.067777\n",
       "4326                                     remainder__lat    0.057900\n",
       "4332           remainder__travel_time_private_transport    0.029943\n",
       "4331                   remainder__water_percentage_1000    0.027359\n",
       "4330                               remainder__num_rooms    0.014595\n",
       "416                         onehotencoder__zipcode_1936    0.013567\n",
       "4340                   remainder__population_in_hectare    0.009884\n",
       "4335         remainder__number_of_apartments_in_hectare    0.008586\n",
       "4322    onehotencoder__object_type_name_Einfamilienhaus    0.008423\n",
       "4334          remainder__number_of_buildings_in_hectare    0.007011\n",
       "4325            onehotencoder__object_type_name_Wohnung    0.004513\n",
       "2532            onehotencoder__municipality_name_Bagnes    0.004395\n",
       "4339  remainder__number_of_workplaces_sector_3_in_he...    0.002563\n",
       "4323   onehotencoder__object_type_name_Mehrfamilienhaus    0.002546\n",
       "3090       onehotencoder__municipality_name_Grindelwald    0.002254\n",
       "854                         onehotencoder__zipcode_3818    0.002076\n",
       "4336         remainder__number_of_workplaces_in_hectare    0.002060"
      ]
     },
     "execution_count": 17,
     "metadata": {},
     "output_type": "execute_result"
    }
   ],
   "source": [
    "feature_importance.sort_values('importance', ascending=False).head(20)"
   ]
  },
  {
   "cell_type": "markdown",
   "metadata": {},
   "source": [
    "## Learning Curve"
   ]
  },
  {
   "cell_type": "code",
   "execution_count": 18,
   "metadata": {
    "execution": {
     "iopub.execute_input": "2023-12-01T14:24:10.624579Z",
     "iopub.status.busy": "2023-12-01T14:24:10.624070Z",
     "iopub.status.idle": "2023-12-01T14:26:04.404625Z",
     "shell.execute_reply": "2023-12-01T14:26:04.403955Z",
     "shell.execute_reply.started": "2023-12-01T14:24:10.624551Z"
    }
   },
   "outputs": [
    {
     "data": {
      "image/png": "[encoded data removed]",
      "text/plain": [
       "<Figure size 640x480 with 1 Axes>"
      ]
     },
     "metadata": {},
     "output_type": "display_data"
    }
   ],
   "source": [
    "import matplotlib.pyplot as plt\n",
    "from sklearn.model_selection import LearningCurveDisplay, ShuffleSplit\n",
    "\n",
    "common_params = {\n",
    "    \"X\": X_data,\n",
    "    \"y\": y_data,\n",
    "    \"train_sizes\": np.linspace(0.1, 1.0, 5),\n",
    "    \"cv\": ShuffleSplit(n_splits=5, test_size=0.2, random_state=42),\n",
    "    \"score_type\": \"both\",\n",
    "    \"n_jobs\": -1,\n",
    "    \"line_kw\": {\"marker\": \"o\"},\n",
    "    \"std_display_style\": \"fill_between\",\n",
    "    \"score_name\": \"MAPE\",\n",
    "}\n",
    "lcd = LearningCurveDisplay.from_estimator(final_model, **common_params, scoring='neg_mean_absolute_percentage_error', negate_score=True)\n",
    "lcd.ax_.set_ylim(ymin=0.00, ymax=0.5)\n",
    "plt.title(\"Learning Curve for Linear Regression\")\n",
    "plt.show()"
   ]
  }
 ],
 "metadata": {
  "kernelspec": {
   "display_name": "~Env (virtualenv_mllab)",
   "language": "python",
   "name": "virtualenv_mllab"
  },
  "language_info": {
   "codemirror_mode": {
    "name": "ipython",
    "version": 3
   },
   "file_extension": ".py",
   "mimetype": "text/x-python",
   "name": "python",
   "nbconvert_exporter": "python",
   "pygments_lexer": "ipython3",
   "version": "3.10.4"
  },
  "papermill": {
   "duration": 6.853286,
   "end_time": "2020-11-12T13:41:13.194189",
   "environment_variables": {},
   "exception": null,
   "input_path": "__notebook__.ipynb",
   "output_path": "__notebook__.ipynb",
   "parameters": {},
   "start_time": "2020-11-12T13:41:06.340903",
   "version": "2.1.0"
  }
 },
 "nbformat": 4,
 "nbformat_minor": 4
}
