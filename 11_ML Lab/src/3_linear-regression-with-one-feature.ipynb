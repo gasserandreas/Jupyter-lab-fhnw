{
 "cells": [
  {
   "cell_type": "markdown",
   "metadata": {},
   "source": [
    "# Linear Regression with one feature\n",
    "\n",
    "This notebook shows a first model that achieves around 45% MAPE on the validation set.\n",
    "\n",
    "It uses only one feature 'living_area' and does not need any preprocessing (like OneHotEncoding)."
   ]
  },
  {
   "cell_type": "code",
   "execution_count": 1,
   "metadata": {
    "execution": {
     "iopub.execute_input": "2024-05-03T07:10:18.183211Z",
     "iopub.status.busy": "2024-05-03T07:10:18.182776Z",
     "iopub.status.idle": "2024-05-03T07:10:29.946158Z",
     "shell.execute_reply": "2024-05-03T07:10:29.945239Z",
     "shell.execute_reply.started": "2024-05-03T07:10:18.183175Z"
    },
    "papermill": {
     "duration": 0.952664,
     "end_time": "2020-11-12T13:41:11.650914",
     "exception": false,
     "start_time": "2020-11-12T13:41:10.698250",
     "status": "completed"
    },
    "tags": []
   },
   "outputs": [],
   "source": [
    "import pandas as pd\n",
    "import numpy as np\n",
    "from sklearn.model_selection import train_test_split\n",
    "from sklearn.metrics import mean_absolute_percentage_error\n",
    "import seaborn as sns\n",
    "import matplotlib.pyplot as plt"
   ]
  },
  {
   "cell_type": "markdown",
   "metadata": {
    "papermill": {
     "duration": 0.009145,
     "end_time": "2020-11-12T13:41:11.669935",
     "exception": false,
     "start_time": "2020-11-12T13:41:11.660790",
     "status": "completed"
    },
    "tags": []
   },
   "source": [
    "# Prepare data"
   ]
  },
  {
   "cell_type": "code",
   "execution_count": 39,
   "metadata": {
    "execution": {
     "iopub.execute_input": "2024-05-03T08:47:32.067189Z",
     "iopub.status.busy": "2024-05-03T08:47:32.066719Z",
     "iopub.status.idle": "2024-05-03T08:47:32.140787Z",
     "shell.execute_reply": "2024-05-03T08:47:32.139884Z",
     "shell.execute_reply.started": "2024-05-03T08:47:32.067150Z"
    },
    "papermill": {
     "duration": 0.092779,
     "end_time": "2020-11-12T13:41:11.789446",
     "exception": false,
     "start_time": "2020-11-12T13:41:11.696667",
     "status": "completed"
    },
    "tags": []
   },
   "outputs": [],
   "source": [
    "# Load the train data\n",
    "train_data = pd.read_csv('../data/houses_train.csv', index_col=0)"
   ]
  },
  {
   "cell_type": "code",
   "execution_count": 40,
   "metadata": {
    "execution": {
     "iopub.execute_input": "2024-05-03T08:47:32.408877Z",
     "iopub.status.busy": "2024-05-03T08:47:32.408443Z",
     "iopub.status.idle": "2024-05-03T08:47:32.415293Z",
     "shell.execute_reply": "2024-05-03T08:47:32.414484Z",
     "shell.execute_reply.started": "2024-05-03T08:47:32.408845Z"
    },
    "papermill": {
     "duration": 0.021139,
     "end_time": "2020-11-12T13:41:11.820019",
     "exception": false,
     "start_time": "2020-11-12T13:41:11.798880",
     "status": "completed"
    },
    "tags": []
   },
   "outputs": [],
   "source": [
    "# Split data into features and labels.\n",
    "X_data = train_data.drop(columns='price')\n",
    "y_data = train_data['price']"
   ]
  },
  {
   "cell_type": "code",
   "execution_count": 60,
   "metadata": {
    "execution": {
     "iopub.execute_input": "2024-05-03T08:48:27.448787Z",
     "iopub.status.busy": "2024-05-03T08:48:27.448059Z",
     "iopub.status.idle": "2024-05-03T08:48:27.474700Z",
     "shell.execute_reply": "2024-05-03T08:48:27.473629Z",
     "shell.execute_reply.started": "2024-05-03T08:48:27.448751Z"
    },
    "papermill": {
     "duration": 0.044926,
     "end_time": "2020-11-12T13:41:11.874527",
     "exception": false,
     "start_time": "2020-11-12T13:41:11.829601",
     "status": "completed"
    },
    "tags": []
   },
   "outputs": [],
   "source": [
    "# Split features and labels into train (X_train, y_train) and validation set (X_val, y_val).\n",
    "X_train, X_val, y_train, y_val = train_test_split(X_data, y_data, stratify=X_data['object_type_name'], test_size=0.1, random_state=0)"
   ]
  },
  {
   "cell_type": "markdown",
   "metadata": {
    "papermill": {
     "duration": 0.009172,
     "end_time": "2020-11-12T13:41:11.893381",
     "exception": false,
     "start_time": "2020-11-12T13:41:11.884209",
     "status": "completed"
    },
    "tags": []
   },
   "source": [
    "# Define and train model\n",
    "\n",
    "Here we do two steps:\n",
    "\n",
    "1. We select a feature we want to use.\n",
    "2. We train a LinearRegression model with only this feature."
   ]
  },
  {
   "cell_type": "code",
   "execution_count": 61,
   "metadata": {
    "collapsed": false,
    "execution": {
     "iopub.execute_input": "2024-05-03T08:48:28.239127Z",
     "iopub.status.busy": "2024-05-03T08:48:28.238348Z",
     "iopub.status.idle": "2024-05-03T08:48:28.242865Z",
     "shell.execute_reply": "2024-05-03T08:48:28.242091Z",
     "shell.execute_reply.started": "2024-05-03T08:48:28.239094Z"
    },
    "jupyter": {
     "outputs_hidden": false
    },
    "tags": []
   },
   "outputs": [],
   "source": [
    "from sklearn.linear_model import LinearRegression"
   ]
  },
  {
   "cell_type": "code",
   "execution_count": 62,
   "metadata": {
    "execution": {
     "iopub.execute_input": "2024-05-03T08:48:28.323168Z",
     "iopub.status.busy": "2024-05-03T08:48:28.322768Z",
     "iopub.status.idle": "2024-05-03T08:48:28.327180Z",
     "shell.execute_reply": "2024-05-03T08:48:28.326062Z",
     "shell.execute_reply.started": "2024-05-03T08:48:28.323138Z"
    },
    "papermill": {
     "duration": 0.009193,
     "end_time": "2020-11-12T13:41:11.931002",
     "exception": false,
     "start_time": "2020-11-12T13:41:11.921809",
     "status": "completed"
    },
    "tags": []
   },
   "outputs": [],
   "source": [
    "# Define model\n",
    "model = LinearRegression()"
   ]
  },
  {
   "cell_type": "code",
   "execution_count": 63,
   "metadata": {
    "collapsed": false,
    "execution": {
     "iopub.execute_input": "2024-05-03T08:48:28.405934Z",
     "iopub.status.busy": "2024-05-03T08:48:28.405533Z",
     "iopub.status.idle": "2024-05-03T08:48:28.411640Z",
     "shell.execute_reply": "2024-05-03T08:48:28.410801Z",
     "shell.execute_reply.started": "2024-05-03T08:48:28.405904Z"
    },
    "jupyter": {
     "outputs_hidden": false
    },
    "tags": []
   },
   "outputs": [],
   "source": [
    "feature = 'living_area'\n",
    "\n",
    "# 1. Feature selection: Here we only use this one features.\n",
    "X_train_sub = X_train.loc[:, [feature]]\n",
    "\n",
    "# (Extra) Clip the living_area to max 400\n",
    "#X_train_sub.loc[X_train_sub.living_area > 400, 'living_area'] = 400\n",
    "\n",
    "# (Extra) Remove houses with living_area > 400 from train data\n",
    "#y_train = y_train.loc[X_train_sub.living_area <= 400]\n",
    "#X_train_sub = X_train_sub.loc[X_train_sub.living_area <= 400]"
   ]
  },
  {
   "cell_type": "markdown",
   "metadata": {
    "collapsed": false,
    "jupyter": {
     "outputs_hidden": false
    }
   },
   "source": [
    "Here we show what we are doing with `X_train_sub = X_train[[feature]]`.\n",
    "In `X_train` we have all features, then we select only the feature `living_area`, so `X_train_sub` has only this feature left."
   ]
  },
  {
   "cell_type": "code",
   "execution_count": 64,
   "metadata": {
    "collapsed": false,
    "execution": {
     "iopub.execute_input": "2024-05-03T08:48:28.574757Z",
     "iopub.status.busy": "2024-05-03T08:48:28.574444Z",
     "iopub.status.idle": "2024-05-03T08:48:28.594550Z",
     "shell.execute_reply": "2024-05-03T08:48:28.593766Z",
     "shell.execute_reply.started": "2024-05-03T08:48:28.574730Z"
    },
    "jupyter": {
     "outputs_hidden": false
    }
   },
   "outputs": [
    {
     "data": {
      "text/html": [
       "<div>\n",
       "<style scoped>\n",
       "    .dataframe tbody tr th:only-of-type {\n",
       "        vertical-align: middle;\n",
       "    }\n",
       "\n",
       "    .dataframe tbody tr th {\n",
       "        vertical-align: top;\n",
       "    }\n",
       "\n",
       "    .dataframe thead th {\n",
       "        text-align: right;\n",
       "    }\n",
       "</style>\n",
       "<table border=\"1\" class=\"dataframe\">\n",
       "  <thead>\n",
       "    <tr style=\"text-align: right;\">\n",
       "      <th></th>\n",
       "      <th>lat</th>\n",
       "      <th>long</th>\n",
       "      <th>zipcode</th>\n",
       "      <th>municipality_name</th>\n",
       "      <th>build_year</th>\n",
       "      <th>object_type_name</th>\n",
       "      <th>living_area</th>\n",
       "      <th>num_rooms</th>\n",
       "      <th>water_percentage_1000</th>\n",
       "      <th>travel_time_private_transport</th>\n",
       "      <th>travel_time_public_transport</th>\n",
       "      <th>number_of_buildings_in_hectare</th>\n",
       "      <th>number_of_apartments_in_hectare</th>\n",
       "      <th>number_of_workplaces_in_hectare</th>\n",
       "      <th>number_of_workplaces_sector_1_in_hectare</th>\n",
       "      <th>number_of_workplaces_sector_2_in_hectare</th>\n",
       "      <th>number_of_workplaces_sector_3_in_hectare</th>\n",
       "      <th>population_in_hectare</th>\n",
       "    </tr>\n",
       "    <tr>\n",
       "      <th>id</th>\n",
       "      <th></th>\n",
       "      <th></th>\n",
       "      <th></th>\n",
       "      <th></th>\n",
       "      <th></th>\n",
       "      <th></th>\n",
       "      <th></th>\n",
       "      <th></th>\n",
       "      <th></th>\n",
       "      <th></th>\n",
       "      <th></th>\n",
       "      <th></th>\n",
       "      <th></th>\n",
       "      <th></th>\n",
       "      <th></th>\n",
       "      <th></th>\n",
       "      <th></th>\n",
       "      <th></th>\n",
       "    </tr>\n",
       "  </thead>\n",
       "  <tbody>\n",
       "    <tr>\n",
       "      <th>4754</th>\n",
       "      <td>47.364311</td>\n",
       "      <td>9.456674</td>\n",
       "      <td>9056</td>\n",
       "      <td>Gais</td>\n",
       "      <td>2000</td>\n",
       "      <td>Einfamilienhaus</td>\n",
       "      <td>180.0</td>\n",
       "      <td>6.0</td>\n",
       "      <td>0.000000</td>\n",
       "      <td>58.0</td>\n",
       "      <td>118.0</td>\n",
       "      <td>5</td>\n",
       "      <td>5.0</td>\n",
       "      <td>0</td>\n",
       "      <td>0</td>\n",
       "      <td>0</td>\n",
       "      <td>0</td>\n",
       "      <td>12</td>\n",
       "    </tr>\n",
       "    <tr>\n",
       "      <th>1974</th>\n",
       "      <td>47.475063</td>\n",
       "      <td>9.560755</td>\n",
       "      <td>9425</td>\n",
       "      <td>Thal</td>\n",
       "      <td>1975</td>\n",
       "      <td>Einfamilienhaus</td>\n",
       "      <td>194.0</td>\n",
       "      <td>6.5</td>\n",
       "      <td>0.000595</td>\n",
       "      <td>59.0</td>\n",
       "      <td>104.0</td>\n",
       "      <td>6</td>\n",
       "      <td>6.0</td>\n",
       "      <td>3</td>\n",
       "      <td>0</td>\n",
       "      <td>0</td>\n",
       "      <td>3</td>\n",
       "      <td>7</td>\n",
       "    </tr>\n",
       "    <tr>\n",
       "      <th>16495</th>\n",
       "      <td>46.668003</td>\n",
       "      <td>7.567967</td>\n",
       "      <td>3762</td>\n",
       "      <td>Erlenbach im Simmental</td>\n",
       "      <td>1970</td>\n",
       "      <td>Einfamilienhaus</td>\n",
       "      <td>970.0</td>\n",
       "      <td>5.0</td>\n",
       "      <td>0.007734</td>\n",
       "      <td>30.0</td>\n",
       "      <td>55.0</td>\n",
       "      <td>2</td>\n",
       "      <td>2.0</td>\n",
       "      <td>3</td>\n",
       "      <td>0</td>\n",
       "      <td>0</td>\n",
       "      <td>3</td>\n",
       "      <td>6</td>\n",
       "    </tr>\n",
       "    <tr>\n",
       "      <th>4731</th>\n",
       "      <td>47.074661</td>\n",
       "      <td>7.553367</td>\n",
       "      <td>3309</td>\n",
       "      <td>Kernenried</td>\n",
       "      <td>2014</td>\n",
       "      <td>Wohnung</td>\n",
       "      <td>123.0</td>\n",
       "      <td>5.5</td>\n",
       "      <td>0.000000</td>\n",
       "      <td>16.0</td>\n",
       "      <td>44.0</td>\n",
       "      <td>2</td>\n",
       "      <td>10.0</td>\n",
       "      <td>0</td>\n",
       "      <td>0</td>\n",
       "      <td>0</td>\n",
       "      <td>0</td>\n",
       "      <td>25</td>\n",
       "    </tr>\n",
       "    <tr>\n",
       "      <th>17514</th>\n",
       "      <td>47.333012</td>\n",
       "      <td>8.621600</td>\n",
       "      <td>8126</td>\n",
       "      <td>Zumikon</td>\n",
       "      <td>1971</td>\n",
       "      <td>Wohnung</td>\n",
       "      <td>160.0</td>\n",
       "      <td>5.0</td>\n",
       "      <td>0.002416</td>\n",
       "      <td>10.0</td>\n",
       "      <td>8.0</td>\n",
       "      <td>6</td>\n",
       "      <td>29.0</td>\n",
       "      <td>3</td>\n",
       "      <td>0</td>\n",
       "      <td>0</td>\n",
       "      <td>3</td>\n",
       "      <td>59</td>\n",
       "    </tr>\n",
       "  </tbody>\n",
       "</table>\n",
       "</div>"
      ],
      "text/plain": [
       "             lat      long  zipcode       municipality_name  build_year  \\\n",
       "id                                                                        \n",
       "4754   47.364311  9.456674     9056                    Gais        2000   \n",
       "1974   47.475063  9.560755     9425                    Thal        1975   \n",
       "16495  46.668003  7.567967     3762  Erlenbach im Simmental        1970   \n",
       "4731   47.074661  7.553367     3309              Kernenried        2014   \n",
       "17514  47.333012  8.621600     8126                 Zumikon        1971   \n",
       "\n",
       "      object_type_name  living_area  num_rooms  water_percentage_1000  \\\n",
       "id                                                                      \n",
       "4754   Einfamilienhaus        180.0        6.0               0.000000   \n",
       "1974   Einfamilienhaus        194.0        6.5               0.000595   \n",
       "16495  Einfamilienhaus        970.0        5.0               0.007734   \n",
       "4731           Wohnung        123.0        5.5               0.000000   \n",
       "17514          Wohnung        160.0        5.0               0.002416   \n",
       "\n",
       "       travel_time_private_transport  travel_time_public_transport  \\\n",
       "id                                                                   \n",
       "4754                            58.0                         118.0   \n",
       "1974                            59.0                         104.0   \n",
       "16495                           30.0                          55.0   \n",
       "4731                            16.0                          44.0   \n",
       "17514                           10.0                           8.0   \n",
       "\n",
       "       number_of_buildings_in_hectare  number_of_apartments_in_hectare  \\\n",
       "id                                                                       \n",
       "4754                                5                              5.0   \n",
       "1974                                6                              6.0   \n",
       "16495                               2                              2.0   \n",
       "4731                                2                             10.0   \n",
       "17514                               6                             29.0   \n",
       "\n",
       "       number_of_workplaces_in_hectare  \\\n",
       "id                                       \n",
       "4754                                 0   \n",
       "1974                                 3   \n",
       "16495                                3   \n",
       "4731                                 0   \n",
       "17514                                3   \n",
       "\n",
       "       number_of_workplaces_sector_1_in_hectare  \\\n",
       "id                                                \n",
       "4754                                          0   \n",
       "1974                                          0   \n",
       "16495                                         0   \n",
       "4731                                          0   \n",
       "17514                                         0   \n",
       "\n",
       "       number_of_workplaces_sector_2_in_hectare  \\\n",
       "id                                                \n",
       "4754                                          0   \n",
       "1974                                          0   \n",
       "16495                                         0   \n",
       "4731                                          0   \n",
       "17514                                         0   \n",
       "\n",
       "       number_of_workplaces_sector_3_in_hectare  population_in_hectare  \n",
       "id                                                                      \n",
       "4754                                          0                     12  \n",
       "1974                                          3                      7  \n",
       "16495                                         3                      6  \n",
       "4731                                          0                     25  \n",
       "17514                                         3                     59  "
      ]
     },
     "metadata": {},
     "output_type": "display_data"
    },
    {
     "data": {
      "text/html": [
       "<div>\n",
       "<style scoped>\n",
       "    .dataframe tbody tr th:only-of-type {\n",
       "        vertical-align: middle;\n",
       "    }\n",
       "\n",
       "    .dataframe tbody tr th {\n",
       "        vertical-align: top;\n",
       "    }\n",
       "\n",
       "    .dataframe thead th {\n",
       "        text-align: right;\n",
       "    }\n",
       "</style>\n",
       "<table border=\"1\" class=\"dataframe\">\n",
       "  <thead>\n",
       "    <tr style=\"text-align: right;\">\n",
       "      <th></th>\n",
       "      <th>living_area</th>\n",
       "    </tr>\n",
       "    <tr>\n",
       "      <th>id</th>\n",
       "      <th></th>\n",
       "    </tr>\n",
       "  </thead>\n",
       "  <tbody>\n",
       "    <tr>\n",
       "      <th>4754</th>\n",
       "      <td>180.0</td>\n",
       "    </tr>\n",
       "    <tr>\n",
       "      <th>1974</th>\n",
       "      <td>194.0</td>\n",
       "    </tr>\n",
       "    <tr>\n",
       "      <th>16495</th>\n",
       "      <td>970.0</td>\n",
       "    </tr>\n",
       "    <tr>\n",
       "      <th>4731</th>\n",
       "      <td>123.0</td>\n",
       "    </tr>\n",
       "    <tr>\n",
       "      <th>17514</th>\n",
       "      <td>160.0</td>\n",
       "    </tr>\n",
       "  </tbody>\n",
       "</table>\n",
       "</div>"
      ],
      "text/plain": [
       "       living_area\n",
       "id                \n",
       "4754         180.0\n",
       "1974         194.0\n",
       "16495        970.0\n",
       "4731         123.0\n",
       "17514        160.0"
      ]
     },
     "metadata": {},
     "output_type": "display_data"
    }
   ],
   "source": [
    "# Before\n",
    "display(X_train.head())\n",
    "\n",
    "# After\n",
    "display(X_train_sub.head())"
   ]
  },
  {
   "cell_type": "markdown",
   "metadata": {
    "collapsed": false,
    "jupyter": {
     "outputs_hidden": false
    }
   },
   "source": [
    "Now we train the model with this single feature in `X_train_sub` and the outputs/prices in `y_train`."
   ]
  },
  {
   "cell_type": "code",
   "execution_count": 65,
   "metadata": {
    "collapsed": false,
    "execution": {
     "iopub.execute_input": "2024-05-03T08:48:28.873387Z",
     "iopub.status.busy": "2024-05-03T08:48:28.873066Z",
     "iopub.status.idle": "2024-05-03T08:48:28.880017Z",
     "shell.execute_reply": "2024-05-03T08:48:28.879361Z",
     "shell.execute_reply.started": "2024-05-03T08:48:28.873359Z"
    },
    "jupyter": {
     "outputs_hidden": false
    },
    "tags": []
   },
   "outputs": [],
   "source": [
    "# 2. Train (fit) the model with the train data.\n",
    "_ = model.fit(X_train_sub, y_train)"
   ]
  },
  {
   "cell_type": "markdown",
   "metadata": {},
   "source": [
    "## Predict and evaluate prices for the validation set"
   ]
  },
  {
   "cell_type": "code",
   "execution_count": 66,
   "metadata": {
    "collapsed": false,
    "execution": {
     "iopub.execute_input": "2024-05-03T08:48:29.402752Z",
     "iopub.status.busy": "2024-05-03T08:48:29.402111Z",
     "iopub.status.idle": "2024-05-03T08:48:29.407040Z",
     "shell.execute_reply": "2024-05-03T08:48:29.406236Z",
     "shell.execute_reply.started": "2024-05-03T08:48:29.402721Z"
    },
    "jupyter": {
     "outputs_hidden": false
    },
    "tags": []
   },
   "outputs": [],
   "source": [
    "# Feature selection: Here we only use this one features.\n",
    "X_val_sub = X_val.loc[:, [feature]]\n",
    "\n",
    "# (Extra) Clip the living_area to max 400\n",
    "#X_val_sub.loc[X_val_sub.living_area > 400, 'living_area'] = 400"
   ]
  },
  {
   "cell_type": "code",
   "execution_count": 67,
   "metadata": {
    "execution": {
     "iopub.execute_input": "2024-05-03T08:48:29.631643Z",
     "iopub.status.busy": "2024-05-03T08:48:29.631193Z",
     "iopub.status.idle": "2024-05-03T08:48:29.637209Z",
     "shell.execute_reply": "2024-05-03T08:48:29.636289Z",
     "shell.execute_reply.started": "2024-05-03T08:48:29.631606Z"
    },
    "papermill": {
     "duration": 0.016847,
     "end_time": "2020-11-12T13:41:11.994562",
     "exception": false,
     "start_time": "2020-11-12T13:41:11.977715",
     "status": "completed"
    },
    "tags": []
   },
   "outputs": [],
   "source": [
    "# Predict with the model the validation data.\n",
    "y_val_pred = model.predict(X_val_sub)"
   ]
  },
  {
   "cell_type": "code",
   "execution_count": 68,
   "metadata": {
    "collapsed": false,
    "execution": {
     "iopub.execute_input": "2024-05-03T08:48:29.890763Z",
     "iopub.status.busy": "2024-05-03T08:48:29.890421Z",
     "iopub.status.idle": "2024-05-03T08:48:29.895530Z",
     "shell.execute_reply": "2024-05-03T08:48:29.894690Z",
     "shell.execute_reply.started": "2024-05-03T08:48:29.890735Z"
    },
    "jupyter": {
     "outputs_hidden": false
    },
    "tags": []
   },
   "outputs": [
    {
     "name": "stdout",
     "output_type": "stream",
     "text": [
      "0.44500292244940437\n"
     ]
    }
   ],
   "source": [
    "# How good are we on the validation data?\n",
    "print(mean_absolute_percentage_error(y_val, y_val_pred))"
   ]
  },
  {
   "cell_type": "markdown",
   "metadata": {},
   "source": [
    "Because we only have one feature we can plot our model in a 2d plot.\\\n",
    "The x-axis being the feature `living_area`, The y-axis being the label `price`."
   ]
  },
  {
   "cell_type": "code",
   "execution_count": 69,
   "metadata": {
    "collapsed": false,
    "execution": {
     "iopub.execute_input": "2024-05-03T08:48:30.445853Z",
     "iopub.status.busy": "2024-05-03T08:48:30.445247Z",
     "iopub.status.idle": "2024-05-03T08:48:30.452029Z",
     "shell.execute_reply": "2024-05-03T08:48:30.451105Z",
     "shell.execute_reply.started": "2024-05-03T08:48:30.445822Z"
    },
    "jupyter": {
     "outputs_hidden": false
    },
    "tags": []
   },
   "outputs": [],
   "source": [
    "def plot_linear_regression(model, X, y):\n",
    "    plt.figure(figsize=(15,10))\n",
    "    \n",
    "    # plot data points\n",
    "    plt.scatter(X, y, color='black', marker='.')\n",
    "    \n",
    "    # plot linear model    \n",
    "    xs = np.linspace(0, X.max())\n",
    "    ys = model.coef_ * xs + model.intercept_ # model.predict(xs)\n",
    "    plt.plot(xs, ys)\n",
    "\n",
    "    # set title, axis-names, x-/y-limits\n",
    "    plt.title('LinearRegression with one feature')\n",
    "    plt.xlabel(feature)\n",
    "    plt.ylabel('price')\n",
    "    plt.xlim(0)\n",
    "    plt.ylim(0, y.max())\n",
    "\n",
    "    plt.show()"
   ]
  },
  {
   "cell_type": "code",
   "execution_count": 70,
   "metadata": {
    "execution": {
     "iopub.execute_input": "2024-05-03T08:48:31.127905Z",
     "iopub.status.busy": "2024-05-03T08:48:31.127190Z",
     "iopub.status.idle": "2024-05-03T08:48:31.400395Z",
     "shell.execute_reply": "2024-05-03T08:48:31.398665Z",
     "shell.execute_reply.started": "2024-05-03T08:48:31.127873Z"
    },
    "tags": []
   },
   "outputs": [
    {
     "data": {
      "image/png": "[encoded data removed]",
      "text/plain": [
       "<Figure size 1500x1000 with 1 Axes>"
      ]
     },
     "metadata": {},
     "output_type": "display_data"
    }
   ],
   "source": [
    "plot_linear_regression(model, X_val_sub, y_val)"
   ]
  },
  {
   "cell_type": "markdown",
   "metadata": {},
   "source": [
    "We can see that we have some outliers with large living areas but relatively small prices. They have a large impact on our simple linear model, skewing the predictions for the majority of our data points.\n",
    "\n",
    "To quickly improve our model we have several options:\n",
    " * analyze those houses, to see if there is an error in the data\n",
    " * clip the living_area of all houses to e.g. 400\n",
    " * remove those outliers from the trainings set\n",
    " * train a more complex model\n",
    "\n",
    "In this example we show how to clip the living_area to 400, by commenting in the lines after `# (Extra) Clip the living_area to max 400`. Notice how we need to do that seperately for the train-/validation-/test-sets. In a later notebook we show how to do that, as part of a scikit-learn-Pipeline."
   ]
  },
  {
   "cell_type": "markdown",
   "metadata": {},
   "source": [
    "## What next step do we suggest?"
   ]
  },
  {
   "cell_type": "markdown",
   "metadata": {},
   "source": [
    "Make a LinearRegression model with the `living_area` and one categorical feature.\n",
    "We suggest to use the `zipcode` or `object_type_name` feature. Additionally you could bundle the necessary steps (OneHotEncoding, OutlierHandling, Regression) into a [sklearn-Pipeline](https://scikit-learn.org/stable/modules/compose.html#pipeline)\n",
    "\n",
    "To reduce the number of categories you can use the `zipcode_2` feature, which represents the first two digits of the `zipcode` and therefore has only maximal 100 categories. You can create the `zipcode_2` feature with the following code:\n",
    "\n",
    "```python\n",
    "X_train['zipcode_2'] = (X_train['zipcode'] // 100).astype(\"string\")\n",
    "```"
   ]
  },
  {
   "cell_type": "code",
   "execution_count": null,
   "metadata": {
    "collapsed": false,
    "jupyter": {
     "outputs_hidden": false
    }
   },
   "outputs": [],
   "source": []
  }
 ],
 "metadata": {
  "kernelspec": {
   "display_name": "~Env (virtualenv_mllab)",
   "language": "python",
   "name": "virtualenv_mllab"
  },
  "language_info": {
   "codemirror_mode": {
    "name": "ipython",
    "version": 3
   },
   "file_extension": ".py",
   "mimetype": "text/x-python",
   "name": "python",
   "nbconvert_exporter": "python",
   "pygments_lexer": "ipython3",
   "version": "3.10.4"
  },
  "papermill": {
   "duration": 6.853286,
   "end_time": "2020-11-12T13:41:13.194189",
   "environment_variables": {},
   "exception": null,
   "input_path": "__notebook__.ipynb",
   "output_path": "__notebook__.ipynb",
   "parameters": {},
   "start_time": "2020-11-12T13:41:06.340903",
   "version": "2.1.0"
  }
 },
 "nbformat": 4,
 "nbformat_minor": 4
}
