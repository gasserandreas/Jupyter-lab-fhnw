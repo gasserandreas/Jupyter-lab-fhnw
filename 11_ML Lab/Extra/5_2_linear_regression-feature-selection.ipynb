{
 "cells": [
  {
   "cell_type": "markdown",
   "metadata": {
    "collapsed": true
   },
   "source": [
    "# (Extra) Linear Regression with Feature Selection\n",
    "\n",
    "In this notebook, we use a subset of the features with the LinearRegression model. We use the `SequentialFeatureSelector` to select the best features."
   ]
  },
  {
   "cell_type": "code",
   "execution_count": 26,
   "outputs": [],
   "source": [
    "import numpy as np\n",
    "import pandas as pd\n",
    "from sklearn.compose import make_column_transformer\n",
    "from sklearn.feature_selection import SequentialFeatureSelector\n",
    "from sklearn.model_selection import train_test_split\n",
    "from sklearn.pipeline import Pipeline\n",
    "from sklearn.preprocessing import OneHotEncoder\n",
    "from sklearn.linear_model import LinearRegression"
   ],
   "metadata": {
    "collapsed": false
   }
  },
  {
   "cell_type": "markdown",
   "source": [
    "# Prepare data"
   ],
   "metadata": {
    "collapsed": false
   }
  },
  {
   "cell_type": "code",
   "execution_count": 27,
   "outputs": [],
   "source": [
    "# Load the train data\n",
    "train_data = pd.read_csv('../data/houses_train.csv', index_col=0)"
   ],
   "metadata": {
    "collapsed": false
   }
  },
  {
   "cell_type": "code",
   "execution_count": 28,
   "outputs": [],
   "source": [
    "# Split data into features and labels.\n",
    "X_data = train_data.drop(columns='price')\n",
    "y_data = train_data['price']"
   ],
   "metadata": {
    "collapsed": false
   }
  },
  {
   "cell_type": "code",
   "execution_count": 29,
   "outputs": [],
   "source": [
    "# Split features and labels into train (X_train, y_train) and validation set (X_val, y_val).\n",
    "X_train, X_val, y_train, y_val = train_test_split(X_data, y_data, stratify=X_data['object_type_name'], test_size=0.1)"
   ],
   "metadata": {
    "collapsed": false
   }
  },
  {
   "cell_type": "markdown",
   "source": [
    "# Find best features\n",
    "\n",
    "We use the SequentialFeatureSelector to find the best `3 numerical features`.\n",
    "\n",
    "The `categorical features` are selected by hand.\n",
    "\n",
    "External resource: https://scikit-learn.org/stable/modules/feature_selection.html"
   ],
   "metadata": {
    "collapsed": false
   }
  },
  {
   "cell_type": "code",
   "execution_count": 30,
   "outputs": [],
   "source": [
    "categorical_features = ['zipcode', 'municipality_name', 'object_type_name']\n",
    "selected_categorical_features = ['zipcode', 'object_type_name']\n",
    "\n",
    "X_train_numeric = X_train.drop(columns=categorical_features)"
   ],
   "metadata": {
    "collapsed": false
   }
  },
  {
   "cell_type": "code",
   "execution_count": 39,
   "outputs": [
    {
     "name": "stdout",
     "output_type": "stream",
     "text": [
      "Features selected:  ['living_area', 'num_rooms', 'travel_time_public_transport', 'zipcode', 'object_type_name']\n"
     ]
    }
   ],
   "source": [
    "sfs = SequentialFeatureSelector(LinearRegression(), n_features_to_select=3)\n",
    "\n",
    "# Train (fit) the model with the train data.\n",
    "_ = sfs.fit(X_train_numeric, y_train)\n",
    "\n",
    "support_columns = list(X_train_numeric.columns[sfs.get_support()]) + selected_categorical_features\n",
    "\n",
    "print(\"Features selected: \", support_columns)\n",
    "\n",
    "# Define model\n",
    "model = Pipeline([\n",
    "    ('pre', make_column_transformer((OneHotEncoder(handle_unknown='ignore'), selected_categorical_features), remainder='passthrough')),\n",
    "    ('reg', LinearRegression())\n",
    "])\n",
    "\n",
    "_ = model.fit(X_train[support_columns], y_train)"
   ],
   "metadata": {
    "collapsed": false
   }
  },
  {
   "cell_type": "markdown",
   "source": [
    "## Predict and evaluate prices for the validation set"
   ],
   "metadata": {
    "collapsed": false
   }
  },
  {
   "cell_type": "code",
   "execution_count": 32,
   "outputs": [],
   "source": [
    "def mean_absolute_percentage_error(y_true, y_pred):\n",
    "    return np.mean(np.abs((y_true - y_pred) / y_true)) * 100"
   ],
   "metadata": {
    "collapsed": false
   }
  },
  {
   "cell_type": "code",
   "execution_count": 33,
   "outputs": [],
   "source": [
    "# Predict with the model the validation data.\n",
    "y_val_pred = model.predict(X_val[support_columns])"
   ],
   "metadata": {
    "collapsed": false
   }
  },
  {
   "cell_type": "code",
   "execution_count": 34,
   "outputs": [
    {
     "name": "stdout",
     "output_type": "stream",
     "text": [
      "33.349669965456066\n"
     ]
    }
   ],
   "source": [
    "# How good are we on the validation data?\n",
    "print(mean_absolute_percentage_error(y_val, y_val_pred))"
   ],
   "metadata": {
    "collapsed": false
   }
  },
  {
   "cell_type": "markdown",
   "source": [
    "Wait the performance is worse! Why is that?\n",
    "In this example we have a lot of data (`20'000`) and we are using a linear model so far. Therefore, the model is **underfitting the data**. Less features makes the model less complex, and therefore it is underfitting the data even harder.\n",
    "**In another problem with less data, the model may perform better with less features**.\n",
    "\n",
    "Note that even with the drop in performance it can still be better to make a model with less features for this example, because it is **easier** to explain to a customer and in a product **less inputs must be entered** by a user to get a prediction."
   ],
   "metadata": {
    "collapsed": false
   }
  },
  {
   "cell_type": "markdown",
   "source": [
    "# Predict prices for test set"
   ],
   "metadata": {
    "collapsed": false
   }
  },
  {
   "cell_type": "code",
   "execution_count": 35,
   "outputs": [],
   "source": [
    "# Load the test set\n",
    "test_data = pd.read_csv('../data/houses_test.csv', index_col=0)"
   ],
   "metadata": {
    "collapsed": false
   }
  },
  {
   "cell_type": "code",
   "execution_count": 36,
   "outputs": [],
   "source": [
    "# Split data into features and labels.\n",
    "X_test = test_data.drop(columns='price')\n",
    "y_test = test_data['price']"
   ],
   "metadata": {
    "collapsed": false
   }
  },
  {
   "cell_type": "code",
   "execution_count": 37,
   "outputs": [
    {
     "name": "stdout",
     "output_type": "stream",
     "text": [
      "31.89291408638914\n"
     ]
    }
   ],
   "source": [
    "X_test_sub = X_test[support_columns]\n",
    "\n",
    "y_test_pred = model.predict(X_test_sub)\n",
    "\n",
    "print(mean_absolute_percentage_error(y_test, y_test_pred))"
   ],
   "metadata": {
    "collapsed": false
   }
  }
 ],
 "metadata": {
  "kernelspec": {
   "display_name": "Python 3",
   "language": "python",
   "name": "python3"
  },
  "language_info": {
   "codemirror_mode": {
    "name": "ipython",
    "version": 2
   },
   "file_extension": ".py",
   "mimetype": "text/x-python",
   "name": "python",
   "nbconvert_exporter": "python",
   "pygments_lexer": "ipython2",
   "version": "2.7.6"
  }
 },
 "nbformat": 4,
 "nbformat_minor": 0
}
