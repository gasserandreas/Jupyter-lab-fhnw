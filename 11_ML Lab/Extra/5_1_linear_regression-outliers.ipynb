{
 "cells": [
  {
   "cell_type": "markdown",
   "metadata": {
    "cell_id": "00000-9fca753a-c221-4dab-9984-9bee7c342383",
    "deepnote_cell_type": "markdown"
   },
   "source": [
    "# Linear Regression: Outliers\n",
    "\n",
    "This notebook is more advanced. It shows an example of how to implement preprocessing steps inside a sklearn pipeline.\n",
    "\n",
    "First we develop a custom TransformMixin called \"ValueClipper\" to clip the values with illegal 'build_year' inside our pipeline.\n",
    "\n",
    "Second we develop a custom TransformMixin called \"RoomCleaner\". The Room Cleaner solves the 'num_rooms' problem discussed in data-analysis.\n",
    "\n",
    "Third we apply the \"ValueClipper\" to suspicious 'living_area' values.\n",
    "\n",
    "In the end we evaluate all three steps with cross-validation.\n",
    "\n",
    "Note that we do not remove the outliers, we clip them (fix the suspicious values). Other strategies are possible, like removing the outliers."
   ]
  },
  {
   "cell_type": "code",
   "execution_count": 1,
   "metadata": {
    "cell_id": "00001-80f9529c-33f3-4760-bc7c-5fde564f9b51",
    "deepnote_cell_type": "code",
    "deepnote_to_be_reexecuted": false,
    "execution": {
     "iopub.execute_input": "2022-04-09T07:39:19.011130Z",
     "iopub.status.busy": "2022-04-09T07:39:19.010823Z",
     "iopub.status.idle": "2022-04-09T07:39:19.618780Z",
     "shell.execute_reply": "2022-04-09T07:39:19.618083Z",
     "shell.execute_reply.started": "2022-04-09T07:39:19.011068Z"
    },
    "execution_millis": 717,
    "execution_start": 1621075596095,
    "papermill": {
     "duration": 0.952664,
     "end_time": "2020-11-12T13:41:11.650914",
     "exception": false,
     "start_time": "2020-11-12T13:41:10.698250",
     "status": "completed"
    },
    "pycharm": {
     "is_executing": true
    },
    "source_hash": "3f7e218",
    "tags": []
   },
   "outputs": [],
   "source": [
    "import pandas as pd\n",
    "import numpy as np\n",
    "from sklearn.model_selection import train_test_split"
   ]
  },
  {
   "cell_type": "markdown",
   "metadata": {
    "cell_id": "00002-43fee3ea-5408-4980-bf79-019c861d3b60",
    "deepnote_cell_type": "markdown",
    "papermill": {
     "duration": 0.009145,
     "end_time": "2020-11-12T13:41:11.669935",
     "exception": false,
     "start_time": "2020-11-12T13:41:11.660790",
     "status": "completed"
    },
    "tags": []
   },
   "source": [
    "# Prepare data"
   ]
  },
  {
   "cell_type": "code",
   "execution_count": 2,
   "metadata": {
    "cell_id": "00003-89a93808-80c0-4225-bd74-7e9c52d33011",
    "deepnote_cell_type": "code",
    "deepnote_to_be_reexecuted": false,
    "execution": {
     "iopub.execute_input": "2022-04-09T07:39:19.619973Z",
     "iopub.status.busy": "2022-04-09T07:39:19.619627Z",
     "iopub.status.idle": "2022-04-09T07:39:19.682555Z",
     "shell.execute_reply": "2022-04-09T07:39:19.681881Z",
     "shell.execute_reply.started": "2022-04-09T07:39:19.619952Z"
    },
    "execution_millis": 57,
    "execution_start": 1621075596817,
    "papermill": {
     "duration": 0.092779,
     "end_time": "2020-11-12T13:41:11.789446",
     "exception": false,
     "start_time": "2020-11-12T13:41:11.696667",
     "status": "completed"
    },
    "source_hash": "aa1b05dc",
    "tags": []
   },
   "outputs": [],
   "source": [
    "# Load the train data\n",
    "train_data = pd.read_csv('../data/houses_train.csv', index_col=0)"
   ]
  },
  {
   "cell_type": "code",
   "execution_count": 3,
   "metadata": {
    "cell_id": "00004-6da0f3fc-ba09-4707-9529-758b4cfa5a84",
    "deepnote_cell_type": "code",
    "deepnote_to_be_reexecuted": false,
    "execution": {
     "iopub.execute_input": "2022-04-09T07:39:19.685390Z",
     "iopub.status.busy": "2022-04-09T07:39:19.685131Z",
     "iopub.status.idle": "2022-04-09T07:39:19.690665Z",
     "shell.execute_reply": "2022-04-09T07:39:19.689800Z",
     "shell.execute_reply.started": "2022-04-09T07:39:19.685360Z"
    },
    "execution_millis": 3,
    "execution_start": 1621075596876,
    "papermill": {
     "duration": 0.021139,
     "end_time": "2020-11-12T13:41:11.820019",
     "exception": false,
     "start_time": "2020-11-12T13:41:11.798880",
     "status": "completed"
    },
    "source_hash": "91f713ee",
    "tags": []
   },
   "outputs": [],
   "source": [
    "# Split data into features and labels.\n",
    "X_data = train_data.drop(columns='price')\n",
    "y_data = train_data['price']"
   ]
  },
  {
   "cell_type": "code",
   "execution_count": 4,
   "metadata": {
    "cell_id": "00005-56d681b6-9778-4ff9-b74b-c06a8ff511bd",
    "deepnote_cell_type": "code",
    "deepnote_to_be_reexecuted": false,
    "execution": {
     "iopub.execute_input": "2022-04-09T07:39:19.692512Z",
     "iopub.status.busy": "2022-04-09T07:39:19.692042Z",
     "iopub.status.idle": "2022-04-09T07:39:19.716255Z",
     "shell.execute_reply": "2022-04-09T07:39:19.715480Z",
     "shell.execute_reply.started": "2022-04-09T07:39:19.692483Z"
    },
    "execution_millis": 23,
    "execution_start": 1621075596882,
    "papermill": {
     "duration": 0.044926,
     "end_time": "2020-11-12T13:41:11.874527",
     "exception": false,
     "start_time": "2020-11-12T13:41:11.829601",
     "status": "completed"
    },
    "source_hash": "eb25fddf",
    "tags": []
   },
   "outputs": [],
   "source": [
    "# Split features and labels into train (X_train, y_train) and validation set (X_val, y_val).\n",
    "X_train, X_val, y_train, y_val = train_test_split(X_data, y_data, stratify=X_data['object_type_name'], test_size=0.1)"
   ]
  },
  {
   "cell_type": "markdown",
   "metadata": {
    "cell_id": "00006-8464d628-a015-4255-a9a3-289f35027028",
    "deepnote_cell_type": "markdown",
    "papermill": {
     "duration": 0.009172,
     "end_time": "2020-11-12T13:41:11.893381",
     "exception": false,
     "start_time": "2020-11-12T13:41:11.884209",
     "status": "completed"
    },
    "tags": []
   },
   "source": [
    "# ValueClipper\n",
    "\n",
    "We implement a ValueClipper to clip values that are under or over a certain threshold to the threshold.\n",
    "The threshold is given by us, it is a Hyperparameter."
   ]
  },
  {
   "cell_type": "code",
   "execution_count": 5,
   "metadata": {
    "cell_id": "00007-c495114a-6414-46fe-b5e0-e42115c3122f",
    "deepnote_cell_type": "code",
    "deepnote_to_be_reexecuted": false,
    "execution": {
     "iopub.execute_input": "2022-04-09T07:39:19.717692Z",
     "iopub.status.busy": "2022-04-09T07:39:19.717285Z",
     "iopub.status.idle": "2022-04-09T07:39:19.756556Z",
     "shell.execute_reply": "2022-04-09T07:39:19.755939Z",
     "shell.execute_reply.started": "2022-04-09T07:39:19.717667Z"
    },
    "execution_millis": 26,
    "execution_start": 1621075596908,
    "jupyter": {
     "outputs_hidden": false
    },
    "source_hash": "5d9e59e5"
   },
   "outputs": [],
   "source": [
    "from sklearn.linear_model import LinearRegression\n",
    "from sklearn.preprocessing import OneHotEncoder\n",
    "from sklearn.compose import make_column_transformer\n",
    "from sklearn.pipeline import Pipeline"
   ]
  },
  {
   "cell_type": "code",
   "execution_count": 6,
   "metadata": {
    "cell_id": "00008-a76d5364-adf1-4913-81be-ae464d23bac6",
    "deepnote_cell_type": "code",
    "deepnote_to_be_reexecuted": false,
    "execution": {
     "iopub.execute_input": "2022-04-09T07:39:19.758182Z",
     "iopub.status.busy": "2022-04-09T07:39:19.757474Z",
     "iopub.status.idle": "2022-04-09T07:39:19.764289Z",
     "shell.execute_reply": "2022-04-09T07:39:19.763359Z",
     "shell.execute_reply.started": "2022-04-09T07:39:19.758152Z"
    },
    "execution_millis": 24,
    "execution_start": 1621075596940,
    "jupyter": {
     "outputs_hidden": false
    },
    "source_hash": "7b4c0666"
   },
   "outputs": [],
   "source": [
    "from sklearn.base import BaseEstimator, TransformerMixin\n",
    "class ValueClipper(BaseEstimator, TransformerMixin):\n",
    "    def __init__(self, column, min_threshold, max_threshold):\n",
    "        self.column = column\n",
    "        self.min_threshold = min_threshold\n",
    "        self.max_threshold = max_threshold\n",
    "\n",
    "    def fit(self, X, y=None):\n",
    "        return self\n",
    "\n",
    "    def transform(self, X, y=None):\n",
    "        X = X.copy()\n",
    "        X.loc[X[self.column] < self.min_threshold, self.column] = self.min_threshold\n",
    "        X.loc[X[self.column] > self.max_threshold, self.column] = self.max_threshold\n",
    "        return X"
   ]
  },
  {
   "cell_type": "markdown",
   "metadata": {
    "collapsed": false
   },
   "source": [
    "We apply the ValueClipper to the `build_year` with handpicked thresholds."
   ]
  },
  {
   "cell_type": "code",
   "execution_count": 7,
   "metadata": {
    "cell_id": "00009-8d025c3a-39b2-4ba7-a25f-ed89c27b2ff9",
    "deepnote_cell_type": "code",
    "deepnote_to_be_reexecuted": false,
    "execution": {
     "iopub.execute_input": "2022-04-09T07:39:19.765850Z",
     "iopub.status.busy": "2022-04-09T07:39:19.765367Z",
     "iopub.status.idle": "2022-04-09T07:39:19.770630Z",
     "shell.execute_reply": "2022-04-09T07:39:19.769930Z",
     "shell.execute_reply.started": "2022-04-09T07:39:19.765747Z"
    },
    "execution_millis": 1,
    "execution_start": 1621075596964,
    "papermill": {
     "duration": 0.009193,
     "end_time": "2020-11-12T13:41:11.931002",
     "exception": false,
     "start_time": "2020-11-12T13:41:11.921809",
     "status": "completed"
    },
    "source_hash": "483eb404",
    "tags": []
   },
   "outputs": [],
   "source": [
    "build_year_model = Pipeline([\n",
    "    ('vc', ValueClipper('build_year', 1900, 2020)),  # We add the ValueClipper here\n",
    "    ('ohe', make_column_transformer((OneHotEncoder(handle_unknown='ignore'), ['zipcode', 'municipality_name', 'object_type_name']), remainder='passthrough')),\n",
    "    ('reg', LinearRegression())\n",
    "])"
   ]
  },
  {
   "cell_type": "markdown",
   "metadata": {
    "collapsed": false
   },
   "source": [
    "We check how many data points are effected by the ValueClipper on the `build_year`, to better understand its impact."
   ]
  },
  {
   "cell_type": "code",
   "execution_count": 8,
   "metadata": {
    "cell_id": "00010-0b60fc09-b2b3-45c2-aa6b-362e362ee66e",
    "deepnote_cell_type": "code",
    "deepnote_to_be_reexecuted": false,
    "execution": {
     "iopub.execute_input": "2022-04-09T07:39:19.771921Z",
     "iopub.status.busy": "2022-04-09T07:39:19.771667Z",
     "iopub.status.idle": "2022-04-09T07:39:19.777859Z",
     "shell.execute_reply": "2022-04-09T07:39:19.777274Z",
     "shell.execute_reply.started": "2022-04-09T07:39:19.771897Z"
    },
    "execution_millis": 9,
    "execution_start": 1621075596965,
    "source_hash": "7a821d99"
   },
   "outputs": [
    {
     "name": "stdout",
     "output_type": "stream",
     "text": [
      "4.391% of our data points have such a build year.\n"
     ]
    }
   ],
   "source": [
    "# How many are effected by ValueClipper\n",
    "build_year_data_len = len(train_data[(train_data['build_year'] < 1900) | (train_data['build_year'] > 2020)])\n",
    "print(f'{round(build_year_data_len / len(train_data) * 100, 3)}% of our data points have such a build year.')"
   ]
  },
  {
   "cell_type": "code",
   "execution_count": 9,
   "metadata": {
    "cell_id": "00011-8d7cb0a0-d74b-4ef3-889d-ebfdb05a450f",
    "deepnote_cell_type": "code",
    "deepnote_to_be_reexecuted": false,
    "execution": {
     "iopub.execute_input": "2022-04-09T07:39:19.779550Z",
     "iopub.status.busy": "2022-04-09T07:39:19.778948Z",
     "iopub.status.idle": "2022-04-09T07:39:20.978477Z",
     "shell.execute_reply": "2022-04-09T07:39:20.977874Z",
     "shell.execute_reply.started": "2022-04-09T07:39:19.779517Z"
    },
    "execution_millis": 3421,
    "execution_start": 1621075596966,
    "jupyter": {
     "outputs_hidden": false
    },
    "source_hash": "3cb0a5d7"
   },
   "outputs": [],
   "source": [
    "# Train (fit) the model with the train data.\n",
    "_ = build_year_model.fit(X_train, y_train)"
   ]
  },
  {
   "cell_type": "code",
   "execution_count": 10,
   "metadata": {
    "cell_id": "00012-72a9c213-d35e-4742-9c73-fb68c6634479",
    "deepnote_cell_type": "code",
    "deepnote_to_be_reexecuted": false,
    "execution": {
     "iopub.execute_input": "2022-04-09T07:39:20.979608Z",
     "iopub.status.busy": "2022-04-09T07:39:20.979315Z",
     "iopub.status.idle": "2022-04-09T07:39:20.983025Z",
     "shell.execute_reply": "2022-04-09T07:39:20.982310Z",
     "shell.execute_reply.started": "2022-04-09T07:39:20.979588Z"
    },
    "execution_millis": 2,
    "execution_start": 1621075600417,
    "jupyter": {
     "outputs_hidden": false
    },
    "source_hash": "faaf77e4"
   },
   "outputs": [],
   "source": [
    "def mean_absolute_percentage_error(y_true, y_pred):\n",
    "    return np.mean(np.abs((y_true - y_pred) / y_true)) * 100"
   ]
  },
  {
   "cell_type": "code",
   "execution_count": 11,
   "metadata": {
    "cell_id": "00013-1a1a5451-4abe-4bab-abf7-a76b312e8ab4",
    "deepnote_cell_type": "code",
    "deepnote_to_be_reexecuted": false,
    "execution": {
     "iopub.execute_input": "2022-04-09T07:39:20.984243Z",
     "iopub.status.busy": "2022-04-09T07:39:20.983869Z",
     "iopub.status.idle": "2022-04-09T07:39:20.999900Z",
     "shell.execute_reply": "2022-04-09T07:39:20.999202Z",
     "shell.execute_reply.started": "2022-04-09T07:39:20.984215Z"
    },
    "execution_millis": 25,
    "execution_start": 1621075600424,
    "papermill": {
     "duration": 0.016847,
     "end_time": "2020-11-12T13:41:11.994562",
     "exception": false,
     "start_time": "2020-11-12T13:41:11.977715",
     "status": "completed"
    },
    "source_hash": "370f7fc1",
    "tags": []
   },
   "outputs": [],
   "source": [
    "# Predict with the model the validation data.\n",
    "y_val_pred = build_year_model.predict(X_val)"
   ]
  },
  {
   "cell_type": "code",
   "execution_count": 12,
   "metadata": {
    "cell_id": "00014-daf12cc2-af4e-4230-886f-0530da6e4435",
    "deepnote_cell_type": "code",
    "deepnote_to_be_reexecuted": false,
    "execution": {
     "iopub.execute_input": "2022-04-09T07:39:21.004263Z",
     "iopub.status.busy": "2022-04-09T07:39:21.004055Z",
     "iopub.status.idle": "2022-04-09T07:39:21.008712Z",
     "shell.execute_reply": "2022-04-09T07:39:21.007819Z",
     "shell.execute_reply.started": "2022-04-09T07:39:21.004240Z"
    },
    "execution_millis": 9,
    "execution_start": 1621075600452,
    "jupyter": {
     "outputs_hidden": false
    },
    "source_hash": "622025b7"
   },
   "outputs": [
    {
     "name": "stdout",
     "output_type": "stream",
     "text": [
      "29.0121756565058\n"
     ]
    }
   ],
   "source": [
    "# How good are we on the validation data?\n",
    "print(mean_absolute_percentage_error(y_val, y_val_pred))"
   ]
  },
  {
   "cell_type": "markdown",
   "metadata": {
    "cell_id": "00015-aca6d28b-88b0-4818-899c-6cf87d0745c2",
    "deepnote_cell_type": "markdown"
   },
   "source": [
    "# Room cleaner\n",
    "\n",
    "We implement a room cleaner that specifically cleans the `num_rooms` column.\n",
    "\n",
    "If the average room size is smaller than 5m², we assume that the `num_rooms` is given in 10m² instead of 1m², due to a typo. We correct this by dividing the `num_rooms` by 10."
   ]
  },
  {
   "cell_type": "code",
   "execution_count": 13,
   "metadata": {
    "cell_id": "00016-45044b75-aab5-4a10-a522-fc638478eb06",
    "deepnote_cell_type": "code",
    "deepnote_to_be_reexecuted": false,
    "execution": {
     "iopub.execute_input": "2022-04-09T07:39:21.010157Z",
     "iopub.status.busy": "2022-04-09T07:39:21.009726Z",
     "iopub.status.idle": "2022-04-09T07:39:21.015069Z",
     "shell.execute_reply": "2022-04-09T07:39:21.014234Z",
     "shell.execute_reply.started": "2022-04-09T07:39:21.010126Z"
    },
    "execution_millis": 48,
    "execution_start": 1621075600458,
    "source_hash": "c7ac5558"
   },
   "outputs": [],
   "source": [
    "class RoomCleaner(BaseEstimator, TransformerMixin):\n",
    "    \n",
    "    def __init__(self):\n",
    "        pass\n",
    "    \n",
    "    def fit(self, X, y=None):\n",
    "        return self\n",
    "    \n",
    "    def transform(self, X, y=None):\n",
    "        X = X.copy()\n",
    "        X.loc[X.living_area / X.num_rooms < 5, 'num_rooms'] /= 10\n",
    "        return X"
   ]
  },
  {
   "cell_type": "markdown",
   "metadata": {
    "collapsed": false
   },
   "source": [
    "We add the RoomCleaner to the `num_rooms` columns."
   ]
  },
  {
   "cell_type": "code",
   "execution_count": 14,
   "metadata": {
    "cell_id": "00017-d019d89c-ec0a-4260-9ff2-074bb88c481a",
    "deepnote_cell_type": "code",
    "deepnote_to_be_reexecuted": false,
    "execution": {
     "iopub.execute_input": "2022-04-09T07:39:21.016482Z",
     "iopub.status.busy": "2022-04-09T07:39:21.016248Z",
     "iopub.status.idle": "2022-04-09T07:39:21.020927Z",
     "shell.execute_reply": "2022-04-09T07:39:21.020098Z",
     "shell.execute_reply.started": "2022-04-09T07:39:21.016459Z"
    },
    "execution_millis": 1,
    "execution_start": 1621075600506,
    "source_hash": "67027063"
   },
   "outputs": [],
   "source": [
    "room_cleaner_model = Pipeline([\n",
    "    ('vc', ValueClipper('build_year', 1900, 2020)),\n",
    "    ('rc', RoomCleaner()),\n",
    "    ('ohe', make_column_transformer((OneHotEncoder(handle_unknown='ignore'), ['zipcode', 'municipality_name', 'object_type_name']), remainder='passthrough')),\n",
    "    ('reg', LinearRegression())\n",
    "])"
   ]
  },
  {
   "cell_type": "markdown",
   "metadata": {
    "collapsed": false
   },
   "source": [
    "We check how many data points are effected by the RoomCleaner, to better understand its impact."
   ]
  },
  {
   "cell_type": "code",
   "execution_count": 15,
   "metadata": {
    "cell_id": "00018-6320866f-f4a2-44e6-a417-bc65036732e1",
    "deepnote_cell_type": "code",
    "deepnote_to_be_reexecuted": false,
    "execution": {
     "iopub.execute_input": "2022-04-09T07:39:21.022376Z",
     "iopub.status.busy": "2022-04-09T07:39:21.022097Z",
     "iopub.status.idle": "2022-04-09T07:39:21.027986Z",
     "shell.execute_reply": "2022-04-09T07:39:21.027073Z",
     "shell.execute_reply.started": "2022-04-09T07:39:21.022352Z"
    },
    "execution_millis": 6,
    "execution_start": 1621075600507,
    "source_hash": "fc34e669"
   },
   "outputs": [
    {
     "name": "stdout",
     "output_type": "stream",
     "text": [
      "0.044% of our data points have such a average room size.\n"
     ]
    }
   ],
   "source": [
    "# How many are effected by RoomCleaner\n",
    "room_data_len = len(train_data[(train_data.living_area / train_data.num_rooms) < 5])\n",
    "print(f'{round(room_data_len / len(train_data) * 100, 3)}% of our data points have such a average room size.')"
   ]
  },
  {
   "cell_type": "code",
   "execution_count": 16,
   "metadata": {
    "cell_id": "00019-b41d624d-31fb-4747-a75b-819ce444cf67",
    "deepnote_cell_type": "code",
    "deepnote_to_be_reexecuted": false,
    "execution": {
     "iopub.execute_input": "2022-04-09T07:39:21.029683Z",
     "iopub.status.busy": "2022-04-09T07:39:21.029185Z",
     "iopub.status.idle": "2022-04-09T07:39:22.341184Z",
     "shell.execute_reply": "2022-04-09T07:39:22.340534Z",
     "shell.execute_reply.started": "2022-04-09T07:39:21.029650Z"
    },
    "execution_millis": 3566,
    "execution_start": 1621075600508,
    "source_hash": "e31e33a2"
   },
   "outputs": [],
   "source": [
    "# Train (fit) the model with the train data.\n",
    "_ = room_cleaner_model.fit(X_train, y_train)"
   ]
  },
  {
   "cell_type": "code",
   "execution_count": 17,
   "metadata": {
    "cell_id": "00020-68a34fd7-5047-4148-8529-580cb5701ea6",
    "deepnote_cell_type": "code",
    "deepnote_to_be_reexecuted": false,
    "execution": {
     "iopub.execute_input": "2022-04-09T07:39:22.342408Z",
     "iopub.status.busy": "2022-04-09T07:39:22.342149Z",
     "iopub.status.idle": "2022-04-09T07:39:22.359510Z",
     "shell.execute_reply": "2022-04-09T07:39:22.358912Z",
     "shell.execute_reply.started": "2022-04-09T07:39:22.342386Z"
    },
    "execution_millis": 56,
    "execution_start": 1621075604077,
    "source_hash": "a9663f57"
   },
   "outputs": [],
   "source": [
    "# Predict with the model the validation data.\n",
    "y_val_pred = room_cleaner_model.predict(X_val)"
   ]
  },
  {
   "cell_type": "code",
   "execution_count": 18,
   "metadata": {
    "cell_id": "00021-1761214e-f521-4a23-99aa-58a7918ed8f2",
    "deepnote_cell_type": "code",
    "deepnote_to_be_reexecuted": false,
    "execution": {
     "iopub.execute_input": "2022-04-09T07:39:22.360441Z",
     "iopub.status.busy": "2022-04-09T07:39:22.360307Z",
     "iopub.status.idle": "2022-04-09T07:39:22.364592Z",
     "shell.execute_reply": "2022-04-09T07:39:22.363932Z",
     "shell.execute_reply.started": "2022-04-09T07:39:22.360424Z"
    },
    "execution_millis": 26,
    "execution_start": 1621075604137,
    "source_hash": "622025b7"
   },
   "outputs": [
    {
     "name": "stdout",
     "output_type": "stream",
     "text": [
      "29.183103395638334\n"
     ]
    }
   ],
   "source": [
    "# How good are we on the validation data?\n",
    "print(mean_absolute_percentage_error(y_val, y_val_pred))"
   ]
  },
  {
   "cell_type": "markdown",
   "metadata": {
    "cell_id": "00022-d846742c-f753-46da-86ac-24a457c5d8b3",
    "deepnote_cell_type": "markdown"
   },
   "source": [
    "## Get a better estimate with cross-validation\n",
    "\n",
    "Were the results of the ValueClipper and RoomCleaner good?\n",
    "\n",
    "Let's get a better estimate with cross-validation.\n",
    "\n",
    "Check the effects of handling each outliers individually, by evaluating the following models:\n",
    "\n",
    "1. LinearRegression (Baseline for comparison)\n",
    "2. LinearRegression with ValueClipper on `build_year`\n",
    "3. LinearRegression with RoomCleaner\n",
    "4. LinearRegression with ValueClipper on `living_area`"
   ]
  },
  {
   "cell_type": "code",
   "execution_count": 19,
   "metadata": {
    "cell_id": "00023-34160a5e-6a39-4125-a020-d098aa2231f9",
    "deepnote_cell_type": "code",
    "deepnote_to_be_reexecuted": false,
    "execution": {
     "iopub.execute_input": "2022-04-09T07:39:22.366398Z",
     "iopub.status.busy": "2022-04-09T07:39:22.366059Z",
     "iopub.status.idle": "2022-04-09T07:39:42.705370Z",
     "shell.execute_reply": "2022-04-09T07:39:42.704561Z",
     "shell.execute_reply.started": "2022-04-09T07:39:22.366351Z"
    },
    "execution_millis": 49512,
    "execution_start": 1621075604153,
    "source_hash": "9602cf4c"
   },
   "outputs": [
    {
     "name": "stdout",
     "output_type": "stream",
     "text": [
      "lr_model 31.69741252129228\n",
      "build_year_model 30.14880717885878\n",
      "room_cleaner_model 31.63280997879636\n",
      "living_area_cleaner_model 28.563194269420617\n"
     ]
    }
   ],
   "source": [
    "from sklearn.model_selection import cross_val_predict\n",
    "from sklearn.metrics import make_scorer\n",
    "\n",
    "X = train_data.drop(columns='price')\n",
    "y = train_data['price']\n",
    "\n",
    "# 1.\n",
    "lr_model = Pipeline([\n",
    "    ('ohe', make_column_transformer((OneHotEncoder(handle_unknown='ignore'), ['zipcode', 'municipality_name', 'object_type_name']), remainder='passthrough')),\n",
    "    ('reg', LinearRegression())\n",
    "])\n",
    "\n",
    "y_val_pred = cross_val_predict(lr_model, X, y, cv=5)\n",
    "print(\"lr_model\", mean_absolute_percentage_error(y, y_val_pred))\n",
    "\n",
    "# 2.\n",
    "build_year_model = Pipeline([\n",
    "    ('vc', ValueClipper('build_year', 1900, 2020)),\n",
    "    ('ohe', make_column_transformer((OneHotEncoder(handle_unknown='ignore'), ['zipcode', 'municipality_name', 'object_type_name']), remainder='passthrough')),\n",
    "    ('reg', LinearRegression())\n",
    "])\n",
    "\n",
    "y_val_pred = cross_val_predict(build_year_model, X, y, cv=5)\n",
    "print(\"build_year_model\", mean_absolute_percentage_error(y, y_val_pred))\n",
    "\n",
    "# 3.\n",
    "room_cleaner_model = Pipeline([\n",
    "    ('rc', RoomCleaner()),\n",
    "    ('ohe', make_column_transformer((OneHotEncoder(handle_unknown='ignore'), ['zipcode', 'municipality_name', 'object_type_name']), remainder='passthrough')),\n",
    "    ('reg', LinearRegression())\n",
    "])\n",
    "\n",
    "y_val_pred = cross_val_predict(room_cleaner_model, X, y, cv=5)\n",
    "print(\"room_cleaner_model\", mean_absolute_percentage_error(y, y_val_pred))\n",
    "\n",
    "# 4.\n",
    "living_area_cleaner_model = Pipeline([\n",
    "    ('out', ValueClipper('living_area', 0, 400)),\n",
    "    ('ohe', make_column_transformer((OneHotEncoder(handle_unknown='ignore'), ['zipcode', 'municipality_name', 'object_type_name']), remainder='passthrough')),\n",
    "    ('reg', LinearRegression())\n",
    "])\n",
    "\n",
    "y_val_pred = cross_val_predict(living_area_cleaner_model, X, y, cv=5)\n",
    "print(\"living_area_cleaner_model\", mean_absolute_percentage_error(y, y_val_pred))"
   ]
  },
  {
   "cell_type": "markdown",
   "metadata": {
    "collapsed": false
   },
   "source": [
    "Check the effect of all together:"
   ]
  },
  {
   "cell_type": "code",
   "execution_count": 20,
   "metadata": {
    "cell_id": "00024-ad20583a-0a99-4d4a-980f-4765a2d3f924",
    "deepnote_cell_type": "code",
    "deepnote_to_be_reexecuted": false,
    "execution": {
     "iopub.execute_input": "2022-04-09T07:39:42.706977Z",
     "iopub.status.busy": "2022-04-09T07:39:42.706735Z",
     "iopub.status.idle": "2022-04-09T07:39:50.367828Z",
     "shell.execute_reply": "2022-04-09T07:39:50.367065Z",
     "shell.execute_reply.started": "2022-04-09T07:39:42.706948Z"
    },
    "execution_millis": 17002,
    "execution_start": 1621075653663,
    "source_hash": "802d15df",
    "tags": []
   },
   "outputs": [
    {
     "name": "stdout",
     "output_type": "stream",
     "text": [
      "final model 27.678069872913134\n"
     ]
    }
   ],
   "source": [
    "model = Pipeline([\n",
    "    ('vc', ValueClipper('build_year', 1900, 2020)),\n",
    "    ('rc', RoomCleaner()),\n",
    "    ('out', ValueClipper('living_area', 0, 400)),\n",
    "    ('ohe', make_column_transformer((OneHotEncoder(handle_unknown='ignore'), ['zipcode', 'municipality_name', 'object_type_name']), remainder='passthrough')),\n",
    "    ('reg', LinearRegression())\n",
    "])\n",
    "\n",
    "y_val_pred = cross_val_predict(model, X, y, cv=5)\n",
    "print(\"final model\", mean_absolute_percentage_error(y, y_val_pred))"
   ]
  },
  {
   "cell_type": "code",
   "execution_count": 21,
   "metadata": {
    "execution": {
     "iopub.execute_input": "2022-04-09T07:39:50.369451Z",
     "iopub.status.busy": "2022-04-09T07:39:50.369156Z",
     "iopub.status.idle": "2022-04-09T07:39:52.260976Z",
     "shell.execute_reply": "2022-04-09T07:39:52.260294Z",
     "shell.execute_reply.started": "2022-04-09T07:39:50.369422Z"
    }
   },
   "outputs": [],
   "source": [
    "_ = model.fit(X_train, y_train)"
   ]
  },
  {
   "cell_type": "markdown",
   "metadata": {
    "cell_id": "00025-c16426d8-4838-4d5a-b7cb-3f10480889a2",
    "deepnote_cell_type": "code",
    "deepnote_to_be_reexecuted": false,
    "execution_millis": 5,
    "execution_start": 1621075670663,
    "source_hash": "b623e53d"
   },
   "source": [
    "# Predict prices for test set\n",
    "\n",
    "Note that `ValueClipper` and `RoomCleaner` do **not remove any samples**, therefore we still make a prediction for **all samples** in the test set. So we did **not simplify the problem**, which means this result is comparable to the result we get in the other notebooks."
   ]
  },
  {
   "cell_type": "code",
   "execution_count": 22,
   "metadata": {
    "execution": {
     "iopub.execute_input": "2022-04-09T07:40:10.280919Z",
     "iopub.status.busy": "2022-04-09T07:40:10.280630Z",
     "iopub.status.idle": "2022-04-09T07:40:10.293769Z",
     "shell.execute_reply": "2022-04-09T07:40:10.292954Z",
     "shell.execute_reply.started": "2022-04-09T07:40:10.280888Z"
    },
    "jupyter": {
     "outputs_hidden": false
    },
    "tags": []
   },
   "outputs": [],
   "source": [
    "# Load the test set\n",
    "test_data = pd.read_csv('../data/houses_test.csv', index_col=0)"
   ]
  },
  {
   "cell_type": "code",
   "execution_count": 23,
   "metadata": {
    "execution": {
     "iopub.execute_input": "2022-04-09T07:40:10.555803Z",
     "iopub.status.busy": "2022-04-09T07:40:10.555517Z",
     "iopub.status.idle": "2022-04-09T07:40:10.561605Z",
     "shell.execute_reply": "2022-04-09T07:40:10.560835Z",
     "shell.execute_reply.started": "2022-04-09T07:40:10.555771Z"
    },
    "tags": []
   },
   "outputs": [],
   "source": [
    "# Split data into features and labels.\n",
    "X_test = test_data.drop(columns='price')\n",
    "y_test = test_data['price']"
   ]
  },
  {
   "cell_type": "code",
   "execution_count": 24,
   "metadata": {
    "execution": {
     "iopub.execute_input": "2022-04-09T07:40:10.878050Z",
     "iopub.status.busy": "2022-04-09T07:40:10.877744Z",
     "iopub.status.idle": "2022-04-09T07:40:10.896891Z",
     "shell.execute_reply": "2022-04-09T07:40:10.896172Z",
     "shell.execute_reply.started": "2022-04-09T07:40:10.878022Z"
    },
    "jupyter": {
     "outputs_hidden": false
    },
    "tags": []
   },
   "outputs": [],
   "source": [
    "y_test_pred = model.predict(X_test)"
   ]
  },
  {
   "cell_type": "code",
   "execution_count": 25,
   "metadata": {
    "execution": {
     "iopub.execute_input": "2022-04-09T07:40:11.143425Z",
     "iopub.status.busy": "2022-04-09T07:40:11.143135Z",
     "iopub.status.idle": "2022-04-09T07:40:11.148071Z",
     "shell.execute_reply": "2022-04-09T07:40:11.147217Z",
     "shell.execute_reply.started": "2022-04-09T07:40:11.143396Z"
    },
    "tags": []
   },
   "outputs": [
    {
     "name": "stdout",
     "output_type": "stream",
     "text": [
      "27.87488842180928\n"
     ]
    }
   ],
   "source": [
    "# How good are we on the test data?\n",
    "print(mean_absolute_percentage_error(y_test, y_test_pred))"
   ]
  },
  {
   "cell_type": "code",
   "execution_count": null,
   "metadata": {},
   "outputs": [],
   "source": []
  }
 ],
 "metadata": {
  "deepnote": {},
  "deepnote_execution_queue": [],
  "deepnote_notebook_id": "cda4b492-eff1-47ba-a7dc-4656ee94f60b",
  "kernelspec": {
   "display_name": "PyCharm (cas_ml_lab_day2)",
   "language": "python",
   "name": "pycharm-3f31968d"
  },
  "language_info": {
   "codemirror_mode": {
    "name": "ipython",
    "version": 3
   },
   "file_extension": ".py",
   "mimetype": "text/x-python",
   "name": "python",
   "nbconvert_exporter": "python",
   "pygments_lexer": "ipython3",
   "version": "3.8.5"
  },
  "papermill": {
   "duration": 6.853286,
   "end_time": "2020-11-12T13:41:13.194189",
   "environment_variables": {},
   "exception": null,
   "input_path": "__notebook__.ipynb",
   "output_path": "__notebook__.ipynb",
   "parameters": {},
   "start_time": "2020-11-12T13:41:06.340903",
   "version": "2.1.0"
  }
 },
 "nbformat": 4,
 "nbformat_minor": 4
}
