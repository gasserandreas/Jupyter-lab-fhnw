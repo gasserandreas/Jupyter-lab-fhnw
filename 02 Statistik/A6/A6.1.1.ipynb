{
 "cells": [
  {
   "cell_type": "markdown",
   "metadata": {},
   "source": [
    "# Aufgabe 6.1.1. Eine Klasse habe die folgende Altersgliederung:\n",
    "\n",
    "## Gliederung\n",
    "| Alter xi| 15 | 16 | 17 | 18 |\n",
    "| Anzahl | 2 | 7 |13 |3 |"
   ]
  },
  {
   "cell_type": "code",
   "execution_count": 20,
   "metadata": {},
   "outputs": [
    {
     "name": "stdout",
     "output_type": "stream",
     "text": [
      "[0.08, 0.28, 0.52, 0.12]\n",
      "16.68\n",
      "0.6175999999999999\n"
     ]
    }
   ],
   "source": [
    "age = [15,16,17,18]\n",
    "n = [2,7,13,3]\n",
    "\n",
    "p = list(map(lambda x: x/sum(n), n))\n",
    "\n",
    "# summe von age * p\n",
    "E = sum([a*b for a,b in zip(age,p)])\n",
    "S = sum([(a-E)**2*b for a,b in zip(age, p)])\n",
    "\n",
    "print(p)\n",
    "print(E)\n",
    "print(S)"
   ]
  },
  {
   "cell_type": "code",
   "execution_count": null,
   "metadata": {},
   "outputs": [],
   "source": []
  }
 ],
 "metadata": {
  "kernelspec": {
   "display_name": "Python 3 (ipykernel)",
   "language": "python",
   "name": "python3"
  },
  "language_info": {
   "codemirror_mode": {
    "name": "ipython",
    "version": 3
   },
   "file_extension": ".py",
   "mimetype": "text/x-python",
   "name": "python",
   "nbconvert_exporter": "python",
   "pygments_lexer": "ipython3",
   "version": "3.11.6"
  }
 },
 "nbformat": 4,
 "nbformat_minor": 2
}
