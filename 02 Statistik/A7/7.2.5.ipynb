{
 "cells": [
  {
   "cell_type": "markdown",
   "metadata": {},
   "source": [
    "# Aufgabe 7.2.5\n",
    "\n",
    "Eine Maschine stellt Metallplatten mit der mittleren Dicke μ = 8.00mm und der Standardabweichung σ = 0.05 mm her. Für die leicht schwankende Plattendicke gelte die Normalverteilung.\n",
    "\n",
    "a. Mit wie viel Prozent Ausschuss ist zu rechnen, wenn die Dicke nicht über 8.10 mm liegen soll?\n",
    "\n",
    "b. Mit wie viel Prozent Ausschuss ist zu rechnen, wenn die Dicke zwischen 7.92 mm und 8.08 mm liegen soll?\n",
    "\n",
    "c. Welche Abweichung von 8.00 mm ist noch erlaubt bei höchstens 5% Ausschuss?"
   ]
  },
  {
   "cell_type": "code",
   "execution_count": null,
   "metadata": {},
   "outputs": [],
   "source": [
    "from scipy.stats import norm\n",
    "import matplotlib.pyplot as plt\n",
    "import numpy as np"
   ]
  },
  {
   "cell_type": "markdown",
   "metadata": {},
   "source": [
    "a. Mit wie viel Prozent Ausschuss ist zu rechnen, wenn die Dicke nicht über 8.10 mm liegen soll?"
   ]
  },
  {
   "cell_type": "code",
   "execution_count": 105,
   "metadata": {},
   "outputs": [
    {
     "name": "stdout",
     "output_type": "stream",
     "text": [
      "0.022750131948179653\n"
     ]
    }
   ],
   "source": [
    "a = 1 - norm.cdf(8.1, 8.00, 0.05)\n",
    "print(a)"
   ]
  },
  {
   "cell_type": "markdown",
   "metadata": {},
   "source": [
    "b. Mit wie viel Prozent Ausschuss ist zu rechnen, wenn die Dicke zwischen 7.92 mm und 8.08 mm liegen soll?"
   ]
  },
  {
   "cell_type": "code",
   "execution_count": 106,
   "metadata": {},
   "outputs": [
    {
     "name": "stdout",
     "output_type": "stream",
     "text": [
      "0.10959858339911577\n"
     ]
    }
   ],
   "source": [
    "b = 1 - (norm.cdf(8.08, 8.00, 0.05) - norm.cdf(7.92, 8.00, 0.05))\n",
    "print(b)"
   ]
  },
  {
   "cell_type": "markdown",
   "metadata": {},
   "source": [
    "c. Welche Abweichung von 8.00 mm ist noch erlaubt bei höchstens 5% Ausschuss?"
   ]
  },
  {
   "cell_type": "code",
   "execution_count": 111,
   "metadata": {},
   "outputs": [
    {
     "name": "stdout",
     "output_type": "stream",
     "text": [
      "1.959963984540054\n"
     ]
    }
   ],
   "source": [
    "z95 = norm.ppf(0.975, 0, 1)\n",
    "print(z95)"
   ]
  },
  {
   "cell_type": "markdown",
   "metadata": {},
   "source": [
    "Damit erhalten wir mit $\\frac{x_{0.95}-\\mu}{\\sigma} = \\frac{\\Delta x}{\\sigma} = z_{0.95}$."
   ]
  },
  {
   "cell_type": "code",
   "execution_count": 112,
   "metadata": {},
   "outputs": [
    {
     "name": "stdout",
     "output_type": "stream",
     "text": [
      "0.0979981992270027\n"
     ]
    }
   ],
   "source": [
    "deltaX = 0.05 * z95\n",
    "print(deltaX)"
   ]
  },
  {
   "cell_type": "code",
   "execution_count": null,
   "metadata": {},
   "outputs": [],
   "source": []
  }
 ],
 "metadata": {
  "kernelspec": {
   "display_name": "Python 3 (ipykernel)",
   "language": "python",
   "name": "python3"
  }
 },
 "nbformat": 4,
 "nbformat_minor": 2
}
