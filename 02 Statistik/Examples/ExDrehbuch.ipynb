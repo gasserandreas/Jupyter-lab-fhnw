{
 "cells": [
  {
   "cell_type": "code",
   "execution_count": 422,
   "metadata": {},
   "outputs": [],
   "source": [
    "import numpy as np\n",
    "import csv\n",
    "import matplotlib.pyplot as plt\n",
    "import pandas as pd\n",
    "import scipy.stats as stats"
   ]
  },
  {
   "cell_type": "markdown",
   "metadata": {},
   "source": [
    "1. Copy/paste Datas into INPUT.csv\n",
    "2. Read Csv\n"
   ]
  },
  {
   "cell_type": "markdown",
   "metadata": {},
   "source": [
    "Path zu CSV definiren\n"
   ]
  },
  {
   "cell_type": "code",
   "execution_count": 423,
   "metadata": {},
   "outputs": [],
   "source": [
    "csv_file = \"INPUT.csv\""
   ]
  },
  {
   "cell_type": "markdown",
   "metadata": {},
   "source": [
    "CSV Datei lesen und zu \"single_val_list\" List hinzufügen\n"
   ]
  },
  {
   "cell_type": "code",
   "execution_count": 424,
   "metadata": {},
   "outputs": [],
   "source": [
    "with open(csv_file, \"r\") as file:\n",
    "    csv_reader = csv.reader(file, delimiter=\";\")\n",
    "    single_val_list = [\n",
    "        float(item.replace(\",\", \".\")) for sublist in csv_reader for item in sublist\n",
    "    ]"
   ]
  },
  {
   "cell_type": "markdown",
   "metadata": {},
   "source": [
    "Die List \"single_val_list\" in ein numpy array umwandeln\n"
   ]
  },
  {
   "cell_type": "code",
   "execution_count": 425,
   "metadata": {},
   "outputs": [],
   "source": [
    "single_val_list_array = np.array(single_val_list)"
   ]
  },
  {
   "cell_type": "markdown",
   "metadata": {},
   "source": [
    "val_array anzeigen\n"
   ]
  },
  {
   "cell_type": "code",
   "execution_count": 426,
   "metadata": {},
   "outputs": [
    {
     "name": "stdout",
     "output_type": "stream",
     "text": [
      "Result from first loop [47.5 48.  48.5 49.5 50.  50.  50.5 50.5 51.  51.  51.  51.5 51.5 52.\n",
      " 52.  52.  52.  52.  52.5 52.5 52.5 53.  53.  53.  53.  53.  53.5 53.5\n",
      " 53.5 53.5 54.  54.  54.  54.  54.  54.5 54.5 54.5 54.5 55.  55.  55.\n",
      " 55.  55.  55.  55.  55.5 55.5 55.5 55.5 55.5 55.5 55.5 55.5 55.5 55.5\n",
      " 55.5 55.5 55.5 56.  56.  56.  56.  56.  56.  56.  56.  56.  56.  56.5\n",
      " 56.5 56.5 56.5 56.5 56.5 56.5 56.5 56.5 56.5 56.5 57.  57.  57.  57.\n",
      " 57.  57.  57.  57.  57.  57.  57.  57.  57.  57.5 57.5 57.5 57.5 57.5\n",
      " 57.5 57.5 58.  58.  58.  58.  58.  58.  58.  58.  58.  58.5 58.5 58.5\n",
      " 58.5 58.5 58.5 58.5 58.5 58.5 58.5 58.5 59.  59.  59.  59.  59.  59.\n",
      " 59.  59.  59.  59.  59.  59.  59.  59.  59.  59.5 59.5 59.5 59.5 59.5\n",
      " 59.5 59.5 60.  60.  60.  60.  60.  60.  60.  60.  60.5 60.5 60.5 60.5\n",
      " 60.5 60.5 60.5 61.  61.  61.  61.  61.  61.  61.  61.  61.  61.  61.\n",
      " 61.5 61.5 61.5 61.5 61.5 62.  62.  62.  62.  62.5 62.5 62.5 62.5 62.5\n",
      " 63.  63.  63.  63.  63.  63.5 63.5 63.5 63.5 64.  64.  64.  65.  65.\n",
      " 65.  65.5 67.  67. ]\n",
      "Anzahl Elemente= 200\n"
     ]
    }
   ],
   "source": [
    "print(\"Result from first loop\", single_val_list_array)\n",
    "print(\"Anzahl Elemente=\", len(single_val_list_array))"
   ]
  },
  {
   "cell_type": "markdown",
   "metadata": {},
   "source": [
    "# Die Spannweite ist der unterschied zwischen Max und Min in der Werte liste\n"
   ]
  },
  {
   "cell_type": "code",
   "execution_count": 427,
   "metadata": {},
   "outputs": [
    {
     "name": "stdout",
     "output_type": "stream",
     "text": [
      "MIN Wert= 47.5\n",
      "MAX Wert= 67.0\n",
      "Spannweite= 19.5\n"
     ]
    }
   ],
   "source": [
    "min_wert = float(min(single_val_list_array))\n",
    "max_wert = float(max(single_val_list_array))\n",
    "spannweite = max_wert - min_wert\n",
    "print(\"MIN Wert=\", min_wert)\n",
    "print(\"MAX Wert=\", max_wert)\n",
    "print(\"Spannweite=\", spannweite)"
   ]
  },
  {
   "cell_type": "markdown",
   "metadata": {},
   "source": [
    "# Median\n"
   ]
  },
  {
   "cell_type": "code",
   "execution_count": 428,
   "metadata": {},
   "outputs": [
    {
     "name": "stdout",
     "output_type": "stream",
     "text": [
      " Der Median  ist= 57.75\n"
     ]
    }
   ],
   "source": [
    "median = np.median(single_val_list_array)\n",
    "print(\" Der Median  ist=\", median)"
   ]
  },
  {
   "cell_type": "markdown",
   "metadata": {},
   "source": [
    "# Quartil\n"
   ]
  },
  {
   "cell_type": "code",
   "execution_count": 429,
   "metadata": {},
   "outputs": [
    {
     "name": "stdout",
     "output_type": "stream",
     "text": [
      "quartil_unten = 55.5\n",
      "quartil_oben = 60.125\n",
      "quartil_weite= 4.625\n"
     ]
    }
   ],
   "source": [
    "q1 = np.percentile(single_val_list_array, 25)\n",
    "# q2 wäre der median\n",
    "q3 = np.percentile(single_val_list_array, 75)\n",
    "\n",
    "q_weite = q3 - q1\n",
    "\n",
    "print(\"quartil_unten =\", q1)\n",
    "print(\"quartil_oben =\", q3)\n",
    "print(\"quartil_weite=\", q_weite)"
   ]
  },
  {
   "cell_type": "markdown",
   "metadata": {},
   "source": [
    "# AusreisserGrenzen\n"
   ]
  },
  {
   "cell_type": "code",
   "execution_count": 430,
   "metadata": {},
   "outputs": [
    {
     "name": "stdout",
     "output_type": "stream",
     "text": [
      "AusreisserGrenze_unten = 48.5625\n",
      "AusreisserGrenze = 67.0625\n"
     ]
    }
   ],
   "source": [
    "aus_unten = q1 - 1.5 * q_weite\n",
    "aus_oben = q3 + 1.5 * q_weite\n",
    "\n",
    "print(\"AusreisserGrenze_unten =\", aus_unten)\n",
    "print(\"AusreisserGrenze =\", aus_oben)"
   ]
  },
  {
   "cell_type": "markdown",
   "metadata": {},
   "source": [
    "# Häufigkeitstabelle\n"
   ]
  },
  {
   "cell_type": "code",
   "execution_count": 459,
   "metadata": {},
   "outputs": [
    {
     "name": "stdout",
     "output_type": "stream",
     "text": [
      "{47.5: 1, 48.0: 1, 48.5: 1, 49.5: 1, 50.0: 2, 50.5: 2, 51.0: 3, 51.5: 2, 52.0: 5, 52.5: 3, 53.0: 5, 53.5: 4, 54.0: 5, 54.5: 4, 55.0: 7, 55.5: 13, 56.0: 10, 56.5: 11, 57.0: 13, 57.5: 7, 58.0: 9, 58.5: 11, 59.0: 15, 59.5: 7, 60.0: 8, 60.5: 7, 61.0: 11, 61.5: 5, 62.0: 4, 62.5: 5, 63.0: 5, 63.5: 4, 64.0: 3, 65.0: 3, 65.5: 1, 67.0: 2}\n",
      "unique_count= 36\n",
      "unique_val_sum= 2044.0\n"
     ]
    }
   ],
   "source": [
    "def haufigkeitstabelle(values):\n",
    "  unique_val, counts = np.unique(values, return_counts=True)\n",
    "  unique_val_count = len(unique_val)\n",
    "  unique_val_sum = sum(unique_val)\n",
    "  occur_dict = dict(zip(unique_val, counts))\n",
    "  print(occur_dict)\n",
    "  print(\"unique_count=\", f\"{unique_val_count}\")\n",
    "  print(\"unique_val_sum=\", f\"{unique_val_sum}\")\n",
    "\n",
    "haufigkeitstabelle(single_val_list_array)"
   ]
  },
  {
   "cell_type": "markdown",
   "metadata": {},
   "source": [
    "Graphisch Haufigkeitstabelle anzeigen\n"
   ]
  },
  {
   "cell_type": "code",
   "execution_count": 432,
   "metadata": {},
   "outputs": [
    {
     "name": "stdout",
     "output_type": "stream",
     "text": [
      "    Wert  Haufigkeit\n",
      "0   47.5           1\n",
      "1   48.0           1\n",
      "2   48.5           1\n",
      "3   49.5           1\n",
      "4   50.0           2\n",
      "5   50.5           2\n",
      "6   51.0           3\n",
      "7   51.5           2\n",
      "8   52.0           5\n",
      "9   52.5           3\n",
      "10  53.0           5\n",
      "11  53.5           4\n",
      "12  54.0           5\n",
      "13  54.5           4\n",
      "14  55.0           7\n",
      "15  55.5          13\n",
      "16  56.0          10\n",
      "17  56.5          11\n",
      "18  57.0          13\n",
      "19  57.5           7\n",
      "20  58.0           9\n",
      "21  58.5          11\n",
      "22  59.0          15\n",
      "23  59.5           7\n",
      "24  60.0           8\n",
      "25  60.5           7\n",
      "26  61.0          11\n",
      "27  61.5           5\n",
      "28  62.0           4\n",
      "29  62.5           5\n",
      "30  63.0           5\n",
      "31  63.5           4\n",
      "32  64.0           3\n",
      "33  65.0           3\n",
      "34  65.5           1\n",
      "35  67.0           2\n"
     ]
    }
   ],
   "source": [
    "df = pd.DataFrame(list(occur_dict.items()), columns=[\"Wert\", \"Haufigkeit\"])\n",
    "print(df)"
   ]
  },
  {
   "cell_type": "markdown",
   "metadata": {},
   "source": [
    "HISTOGRAMM dafür braucht es ein Array, haben wir als single_val_list_array )\n"
   ]
  },
  {
   "cell_type": "code",
   "execution_count": 433,
   "metadata": {},
   "outputs": [
    {
     "data": {
      "text/plain": [
       "(array([ 3,  8, 15, 20, 47, 42, 33, 19, 10,  3]),\n",
       " array([47.5 , 49.45, 51.4 , 53.35, 55.3 , 57.25, 59.2 , 61.15, 63.1 ,\n",
       "        65.05, 67.  ]))"
      ]
     },
     "execution_count": 433,
     "metadata": {},
     "output_type": "execute_result"
    }
   ],
   "source": [
    "np.histogram(single_val_list_array, bins=10)"
   ]
  },
  {
   "cell_type": "markdown",
   "metadata": {},
   "source": [
    "Histogramm als Graphique Darstellung\n"
   ]
  },
  {
   "cell_type": "code",
   "execution_count": 434,
   "metadata": {},
   "outputs": [
    {
     "data": {
      "text/plain": [
       "Text(0.5, 1.0, 'Histogramm mit 10 Klassen')"
      ]
     },
     "execution_count": 434,
     "metadata": {},
     "output_type": "execute_result"
    },
    {
     "data": {
      "image/png": "[encoded data removed]",
      "text/plain": [
       "<Figure size 640x480 with 1 Axes>"
      ]
     },
     "metadata": {},
     "output_type": "display_data"
    }
   ],
   "source": [
    "plt.hist(single_val_list_array, bins=10)\n",
    "plt.title(\"Histogramm mit 10 Klassen\")"
   ]
  },
  {
   "cell_type": "markdown",
   "metadata": {},
   "source": [
    "Klasseneinteilung = unique_val//2\n"
   ]
  },
  {
   "cell_type": "code",
   "execution_count": 437,
   "metadata": {},
   "outputs": [
    {
     "name": "stdout",
     "output_type": "stream",
     "text": [
      "klasseneinteilung= 6.0\n",
      "klassen_multiple= 5\n",
      "klassen_spannweite= 5.0\n",
      "klassen_min= 45.0\n",
      "klassen_max= 70.0\n",
      "klassen_anzahl_brutto= 5.0\n",
      "klassen_anzahl= 5.0\n"
     ]
    }
   ],
   "source": [
    "def round_num_with_multiple(num, multiple):\n",
    "    entier_part = num // multiple\n",
    "    deci_part = num % multiple\n",
    "\n",
    "    if deci_part >= multiple / 2:\n",
    "        return (entier_part + 1) * multiple\n",
    "    else:\n",
    "        return entier_part * multiple\n",
    "\n",
    "\n",
    "def round_down(num, multiple):\n",
    "    rounded_num = round_num_with_multiple(num, multiple)\n",
    "    if rounded_num > num:\n",
    "        return rounded_num - multiple\n",
    "    else:\n",
    "        return rounded_num\n",
    "\n",
    "\n",
    "def round_up(num, multiple):\n",
    "    rounded_num = round_num_with_multiple(num, multiple)\n",
    "    if rounded_num < num:\n",
    "        return rounded_num + multiple\n",
    "    else:\n",
    "        return rounded_num\n",
    "\n",
    "\n",
    "klasseneinteilung = np.sqrt(unique_val_count)\n",
    "# klassen_multiple = round(Klasseneinteilung,-1)\n",
    "klassen_multiple = 5\n",
    "klassen_spannweite = round_num_with_multiple(klasseneinteilung, klassen_multiple)\n",
    "klassen_min = round_down(min_wert, klassen_multiple)\n",
    "klassen_max = round_up(max_wert, klassen_multiple)\n",
    "klassen_anzahl_brutto = (klassen_max - klassen_min) / klassen_spannweite\n",
    "klassen_anzahl = round_up(klassen_anzahl_brutto, 1)\n",
    "print(\"klasseneinteilung=\", f\"{klasseneinteilung}\")\n",
    "print(\"klassen_multiple=\", f\"{klassen_multiple}\")\n",
    "print(\"klassen_spannweite=\", f\"{klassen_spannweite}\")\n",
    "print(\"klassen_min=\", f\"{klassen_min}\")\n",
    "print(\"klassen_max=\", f\"{klassen_max}\")\n",
    "print(\"klassen_anzahl_brutto=\", f\"{klassen_anzahl_brutto}\")\n",
    "print(\"klassen_anzahl=\", f\"{klassen_anzahl}\")"
   ]
  },
  {
   "cell_type": "markdown",
   "metadata": {},
   "source": [
    "Create Klass\n"
   ]
  },
  {
   "cell_type": "code",
   "execution_count": 438,
   "metadata": {},
   "outputs": [
    {
     "name": "stdout",
     "output_type": "stream",
     "text": [
      "              from_val  to_val  occurence  cum_occurence  relativ_occurence  \\\n",
      "klass_id : 1      45.0    50.0        4.0            4.0              0.020   \n",
      "klass_id : 2      50.0    55.0       35.0           39.0              0.175   \n",
      "klass_id : 3      55.0    60.0      103.0          142.0              0.515   \n",
      "klass_id : 4      60.0    65.0       52.0          194.0              0.260   \n",
      "klass_id : 5      65.0    70.0        6.0          200.0              0.030   \n",
      "\n",
      "              cum_relativ_occurence  perc_occurence  cum_perc_occurence  \n",
      "klass_id : 1                  0.020             2.0                 2.0  \n",
      "klass_id : 2                  0.195            17.5                19.5  \n",
      "klass_id : 3                  0.710            51.5                71.0  \n",
      "klass_id : 4                  0.970            26.0                97.0  \n",
      "klass_id : 5                  1.000             3.0               100.0  \n"
     ]
    }
   ],
   "source": [
    "def get_haeufigkeit(klass_from_val, klass_to_val):\n",
    "    sum_occur = 0\n",
    "    for occurence in occur_dict:\n",
    "        if klass_from_val <= occurence and klass_to_val > occurence:\n",
    "            sum_occur = sum_occur + occur_dict[occurence]\n",
    "        else:\n",
    "            continue\n",
    "    return sum_occur\n",
    "\n",
    "\n",
    "# print(get_haeufigkeit(45.0,50.0))\n",
    "\n",
    "\n",
    "def get_relative_haeufigkeit(occurence):\n",
    "    return occurence / len(single_val_list_array)\n",
    "\n",
    "\n",
    "def get_perc_occurence(relativ_occ):\n",
    "    return relativ_occ * 100\n",
    "\n",
    "\n",
    "klassen_dict = {}\n",
    "klass_id = 1\n",
    "klass_from_val = klassen_min\n",
    "cum_occurence = 0\n",
    "cum_relativ_occ = 0\n",
    "cum_perc_occurence = 0\n",
    "while klass_id <= klassen_anzahl:\n",
    "    klass_to_val = klass_from_val + klassen_multiple\n",
    "    occurence = get_haeufigkeit(klass_from_val, klass_to_val)\n",
    "    cum_occurence = cum_occurence + occurence\n",
    "    relativ_occ = get_relative_haeufigkeit(occurence)\n",
    "    cum_relativ_occ = cum_relativ_occ + relativ_occ\n",
    "    perc_occurence = get_perc_occurence(relativ_occ)\n",
    "    cum_perc_occurence = cum_perc_occurence + get_perc_occurence(relativ_occ)\n",
    "    klassen_dict[f\"klass_id : {klass_id}\"] = {\n",
    "        \"from_val\": klass_from_val,\n",
    "        \"to_val\": klass_to_val,\n",
    "        \"occurence\": occurence,\n",
    "        \"cum_occurence\": cum_occurence,\n",
    "        \"relativ_occurence\": relativ_occ,\n",
    "        \"cum_relativ_occurence\": cum_relativ_occ,\n",
    "        \"perc_occurence\": perc_occurence,\n",
    "        \"cum_perc_occurence\": cum_perc_occurence,\n",
    "    }\n",
    "    klass_from_val = klass_to_val\n",
    "    klass_id = klass_id + 1\n",
    "\n",
    "df2 = pd.DataFrame(klassen_dict).transpose()\n",
    "print(df2)\n",
    "\n",
    "# print(klassen_dict)\n",
    "\n",
    "# for k in klassen_dict:\n",
    "#   print(klassen_dict[k])"
   ]
  },
  {
   "cell_type": "markdown",
   "metadata": {},
   "source": [
    "Nun erstellen wir einen Box- und Whiskersplot.\n"
   ]
  },
  {
   "cell_type": "code",
   "execution_count": 439,
   "metadata": {},
   "outputs": [
    {
     "data": {
      "text/plain": [
       "Text(0.5, 1.0, 'Box- und Whiskersplot')"
      ]
     },
     "execution_count": 439,
     "metadata": {},
     "output_type": "execute_result"
    },
    {
     "data": {
      "image/png": "[encoded data removed]",
      "text/plain": [
       "<Figure size 640x480 with 1 Axes>"
      ]
     },
     "metadata": {},
     "output_type": "display_data"
    }
   ],
   "source": [
    "plt.boxplot(single_val_list, vert=False)\n",
    "plt.title(\"Box- und Whiskersplot\")"
   ]
  },
  {
   "cell_type": "markdown",
   "metadata": {},
   "source": [
    "Nun erstellen wir einen Box- und Whiskersplot mit einer Kerbe.\n"
   ]
  },
  {
   "cell_type": "code",
   "execution_count": 440,
   "metadata": {},
   "outputs": [
    {
     "data": {
      "text/plain": [
       "Text(0.5, 1.0, 'Box- und Whiskersplot mit einer Kerbe')"
      ]
     },
     "execution_count": 440,
     "metadata": {},
     "output_type": "execute_result"
    },
    {
     "data": {
      "image/png": "[encoded data removed]",
      "text/plain": [
       "<Figure size 640x480 with 1 Axes>"
      ]
     },
     "metadata": {},
     "output_type": "display_data"
    }
   ],
   "source": [
    "plt.boxplot(single_val_list, vert=False, notch=True)\n",
    "plt.title(\"Box- und Whiskersplot mit einer Kerbe\")"
   ]
  },
  {
   "cell_type": "markdown",
   "metadata": {},
   "source": [
    "# Q-Q Plote\n"
   ]
  },
  {
   "cell_type": "code",
   "execution_count": 441,
   "metadata": {},
   "outputs": [
    {
     "data": {
      "image/png": "[encoded data removed]",
      "text/plain": [
       "<Figure size 640x480 with 1 Axes>"
      ]
     },
     "metadata": {},
     "output_type": "display_data"
    }
   ],
   "source": [
    "# erstellen des Q-Q Plot mit mein bereits existierender array\n",
    "stats.probplot(single_val_list_array, dist=\"norm\", plot=plt)\n",
    "\n",
    "# Reference Line (y = x)\n",
    "plt.plot([-3, 3], [40, 70], color=\"red\", linestyle=\"--\")\n",
    "\n",
    "# Title\n",
    "plt.title(\"Q-Q Plot\")\n",
    "plt.xlabel(\"Sample quantil\")\n",
    "plt.ylabel(\"Quantiles Observed\")\n",
    "\n",
    "# show graphic\n",
    "plt.show()"
   ]
  },
  {
   "cell_type": "code",
   "execution_count": null,
   "metadata": {},
   "outputs": [],
   "source": []
  }
 ],
 "metadata": {
  "kernelspec": {
   "display_name": "Python 3 (ipykernel)",
   "language": "python",
   "name": "python3"
  }
 },
 "nbformat": 4,
 "nbformat_minor": 2
}
