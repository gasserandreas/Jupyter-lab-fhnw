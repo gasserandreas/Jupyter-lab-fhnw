{
 "cells": [
  {
   "cell_type": "markdown",
   "metadata": {},
   "source": [
    "Ein Werkstu ̈ck besitze die gewu ̈nschte Qualita ̈t, wenn die Abweichung sei- ner Masse von den Nennwerten dem Absolutbetrag nach 3.45mm nicht u ̈berschreiten. Die zufa ̈lligen Abweichungen der Abmessungen von ihren Nennwerten seien normalverteilt mit der Standardabweichung σ = 3mm. Systematische Abweichungen liegen nicht vor. Bestim- men Sie die mittlere Anzahl Werkstu ̈cke mit der gewu ̈nschten Qualita ̈t, wenn 24 Werkstu ̈cke hergestellt werden."
   ]
  },
  {
   "cell_type": "code",
   "execution_count": 469,
   "metadata": {},
   "outputs": [],
   "source": [
    "import numpy as np\n",
    "import scipy.stats as stats\n",
    "import matplotlib.pyplot as plt"
   ]
  },
  {
   "cell_type": "code",
   "execution_count": 471,
   "metadata": {},
   "outputs": [],
   "source": [
    "std_ab = 3\n",
    "n = 24\n",
    "mean = 0"
   ]
  },
  {
   "cell_type": "code",
   "execution_count": 473,
   "metadata": {},
   "outputs": [
    {
     "data": {
      "text/plain": [
       "0.7498561287256995"
      ]
     },
     "execution_count": 473,
     "metadata": {},
     "output_type": "execute_result"
    }
   ],
   "source": [
    "p = stats.norm.cdf(3.45, 0, 3) - stats.norm.cdf(-3.45, 0, 3)\n",
    "p"
   ]
  },
  {
   "cell_type": "code",
   "execution_count": 475,
   "metadata": {},
   "outputs": [
    {
     "data": {
      "text/plain": [
       "17.996547089416786"
      ]
     },
     "execution_count": 475,
     "metadata": {},
     "output_type": "execute_result"
    }
   ],
   "source": [
    "e = n * p\n",
    "e"
   ]
  },
  {
   "cell_type": "code",
   "execution_count": null,
   "metadata": {},
   "outputs": [],
   "source": []
  }
 ],
 "metadata": {
  "kernelspec": {
   "display_name": "Python 3 (ipykernel)",
   "language": "python",
   "name": "python3"
  },
  "language_info": {
   "codemirror_mode": {
    "name": "ipython",
    "version": 3
   },
   "file_extension": ".py",
   "mimetype": "text/x-python",
   "name": "python",
   "nbconvert_exporter": "python",
   "pygments_lexer": "ipython3",
   "version": "3.11.6"
  }
 },
 "nbformat": 4,
 "nbformat_minor": 2
}
