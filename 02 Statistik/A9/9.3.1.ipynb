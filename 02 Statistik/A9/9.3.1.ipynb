{
 "cells": [
  {
   "cell_type": "markdown",
   "metadata": {},
   "source": [
    "# Zweistichproben-t-Test bei unbekannten aber gleichen Varianzen\n",
    "\n",
    "An einer Fachhochschule werden eine Klasse A von 25 Studierenden und eine Parallelklasse B von 28 Studierenden vom gleichen Dozenten in Mathematik unterrichtet.\n",
    "\n",
    "Der Dozent gestaltet jeweils den Unterricht in beiden Klassen gleich. Demzufolge wurden die beiden Klassen gleichzeitig zur gleichen Klausur aufgeboten. Die er- reichten Notendurchschnitte waren x ̄A = 3.9 und x ̄B = 4.2 und die Standardabweichungen betrugen je sA = sB = 1.\n",
    "\n",
    "Der Dozent stellt sich nun sofort die Frage, ob die B-Klasse signifikant besser als die A-Klasse sei.\n",
    "\n",
    "Was denken Sie?"
   ]
  },
  {
   "cell_type": "code",
   "execution_count": 345,
   "metadata": {},
   "outputs": [],
   "source": [
    "from scipy import stats\n",
    "import numpy as np"
   ]
  },
  {
   "cell_type": "code",
   "execution_count": 347,
   "metadata": {},
   "outputs": [],
   "source": [
    "N1 = 25\n",
    "N2 = 28\n",
    "\n",
    "meanA = 3.9\n",
    "meanB = 4.2\n",
    "\n",
    "s1 = 1\n",
    "s2 = 1"
   ]
  },
  {
   "cell_type": "code",
   "execution_count": 349,
   "metadata": {},
   "outputs": [
    {
     "data": {
      "text/plain": [
       "1.0"
      ]
     },
     "execution_count": 349,
     "metadata": {},
     "output_type": "execute_result"
    }
   ],
   "source": [
    "# gewogene Varianz\n",
    "s = ((N1 - 1)*s2 + (N2 - 1)*s2) / (N1 + N2 - 2)\n",
    "s"
   ]
  },
  {
   "cell_type": "code",
   "execution_count": 350,
   "metadata": {},
   "outputs": [
    {
     "data": {
      "text/plain": [
       "-1.0902656764674477"
      ]
     },
     "execution_count": 350,
     "metadata": {},
     "output_type": "execute_result"
    }
   ],
   "source": [
    "#  t-Test\n",
    "t = ((meanA - meanB) / s) * np.sqrt((N1 * N2) / (N1 + N2))\n",
    "t"
   ]
  },
  {
   "cell_type": "code",
   "execution_count": 351,
   "metadata": {},
   "outputs": [
    {
     "data": {
      "text/plain": [
       "(-1.0902656764674474, 0.28072071650206715)"
      ]
     },
     "execution_count": 351,
     "metadata": {},
     "output_type": "execute_result"
    }
   ],
   "source": [
    "#  t-test\n",
    "t, p = stats.ttest_ind_from_stats(meanA, s1, N1, meanB, s2, N2)\n",
    "t, p"
   ]
  },
  {
   "cell_type": "code",
   "execution_count": 356,
   "metadata": {},
   "outputs": [
    {
     "data": {
      "text/plain": [
       "-2.0075837681558824"
      ]
     },
     "execution_count": 356,
     "metadata": {},
     "output_type": "execute_result"
    }
   ],
   "source": [
    "# ablehnungsbereich berechnen\n",
    "tnAlpha = stats.t.ppf(0.025, N1 + N2 - 2)\n",
    "tnAlpha\n"
   ]
  },
  {
   "cell_type": "code",
   "execution_count": 357,
   "metadata": {},
   "outputs": [
    {
     "name": "stdout",
     "output_type": "stream",
     "text": [
      "H0 kann angenommen werden\n"
     ]
    }
   ],
   "source": [
    "if (t < np.abs(tnAlpha)):\n",
    "    print(\"H0 kann angenommen werden\")\n",
    "else:\n",
    "    print(\"H0 kann abgelehnt werden\")"
   ]
  },
  {
   "cell_type": "code",
   "execution_count": null,
   "metadata": {},
   "outputs": [],
   "source": []
  }
 ],
 "metadata": {
  "kernelspec": {
   "display_name": "Python 3 (ipykernel)",
   "language": "python",
   "name": "python3"
  },
  "language_info": {
   "codemirror_mode": {
    "name": "ipython",
    "version": 3
   },
   "file_extension": ".py",
   "mimetype": "text/x-python",
   "name": "python",
   "nbconvert_exporter": "python",
   "pygments_lexer": "ipython3",
   "version": "3.11.6"
  }
 },
 "nbformat": 4,
 "nbformat_minor": 2
}
