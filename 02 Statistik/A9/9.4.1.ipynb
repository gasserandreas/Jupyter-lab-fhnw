{
 "cells": [
  {
   "cell_type": "markdown",
   "metadata": {},
   "source": []
  },
  {
   "cell_type": "markdown",
   "metadata": {},
   "source": [
    "# Aufgabe 9.4.1.\n",
    "\n",
    "Es soll untersucht werden, ob zwei Laboranten vergleichbare Ergebnisse bei der Bestimmung des Leimungsgrades von Papieren mit einem bestimmten Test liefern.\n",
    "Beide Laboranten haben 8 verschiedene Papiersorten gemessen.\n",
    "\n",
    "Das Signifikanzniveau ist α = 1%."
   ]
  },
  {
   "cell_type": "code",
   "execution_count": 396,
   "metadata": {},
   "outputs": [],
   "source": [
    "from scipy import stats\n",
    "import numpy as np"
   ]
  },
  {
   "cell_type": "code",
   "execution_count": 397,
   "metadata": {},
   "outputs": [
    {
     "data": {
      "text/plain": [
       "array([ 0.02,  0.23,  0.23,  0.36,  0.4 ,  0.47,  0.37, -0.13])"
      ]
     },
     "execution_count": 397,
     "metadata": {},
     "output_type": "execute_result"
    }
   ],
   "source": [
    "x_lab_a = np.array([18.60, 27.60, 27.50, 25.00, 24.50, 26.80, 29.70, 26.50])\n",
    "x_lab_b = np.array([18.58, 27.37, 27.27, 24.64, 24.10, 26.33, 29.33, 26.63])\n",
    "diff_lab = x_lab_a - x_lab_b\n",
    "diff_lab"
   ]
  },
  {
   "cell_type": "code",
   "execution_count": 400,
   "metadata": {},
   "outputs": [
    {
     "data": {
      "text/plain": [
       "0.2437500000000008"
      ]
     },
     "execution_count": 400,
     "metadata": {},
     "output_type": "execute_result"
    }
   ],
   "source": [
    "d_bar = 1/len(diff_lab) * np.sum(diff_lab)\n",
    "d_bar2 = np.mean(diff_lab) # same as above\n",
    "d_bar"
   ]
  },
  {
   "cell_type": "code",
   "execution_count": 401,
   "metadata": {},
   "outputs": [
    {
     "data": {
      "text/plain": [
       "0.20535248441921186"
      ]
     },
     "execution_count": 401,
     "metadata": {},
     "output_type": "execute_result"
    }
   ],
   "source": [
    "sd2 = np.std(diff_lab, ddof=1)\n",
    "sd2"
   ]
  },
  {
   "cell_type": "code",
   "execution_count": 402,
   "metadata": {},
   "outputs": [
    {
     "data": {
      "text/plain": [
       "1.5213867764289526"
      ]
     },
     "execution_count": 402,
     "metadata": {},
     "output_type": "execute_result"
    }
   ],
   "source": [
    "t = d_bar / np.sqrt(sd2) * np.sqrt(len(diff_lab))\n",
    "t"
   ]
  },
  {
   "cell_type": "code",
   "execution_count": 404,
   "metadata": {},
   "outputs": [
    {
     "data": {
      "text/plain": [
       "3.4994832973505026"
      ]
     },
     "execution_count": 404,
     "metadata": {},
     "output_type": "execute_result"
    }
   ],
   "source": [
    "alpha = 0.01\n",
    "tkrit = stats.t.ppf(1-alpha/2, len(diff_lab)-1)\n",
    "tkrit"
   ]
  },
  {
   "cell_type": "code",
   "execution_count": 405,
   "metadata": {},
   "outputs": [
    {
     "name": "stdout",
     "output_type": "stream",
     "text": [
      "H0 kann angenommen werden\n"
     ]
    }
   ],
   "source": [
    "# statistischer test\n",
    "if (np.abs(t) < tkrit):\n",
    "  print(\"H0 kann angenommen werden\")\n",
    "else:\n",
    "  print(\"H0 muss verworfen werden\")"
   ]
  },
  {
   "cell_type": "code",
   "execution_count": null,
   "metadata": {},
   "outputs": [],
   "source": []
  }
 ],
 "metadata": {
  "kernelspec": {
   "display_name": "Python 3 (ipykernel)",
   "language": "python",
   "name": "python3"
  }
 },
 "nbformat": 4,
 "nbformat_minor": 2
}
