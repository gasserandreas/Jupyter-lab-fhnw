{
 "cells": [
  {
   "cell_type": "markdown",
   "metadata": {},
   "source": [
    "# Aufgabe 9.2.2\n",
    "\n",
    "Bei einem Spannvorgang wurde bisher mit einem Vorgabewert von 135s gerechnet. Eine Zeitaufnahme lieferte bei N = 32 aufgenommenen Zeiten für diesen Teilvorgang einen mittleren Zeitbedarf in der Höhe von x ̄ = 128s bei einer Standardabweichung von s = 4.7s. Kann aus dem Unterschied zwischen 135s und 128s darauf geschlossen werden, dass der wahre jedoch unbekannte mittlere Zeitbedarf für diesen Teilvorgang generell nicht bei 135s liegt? Das Signifikanzniveau ist 1%."
   ]
  },
  {
   "cell_type": "code",
   "execution_count": 182,
   "metadata": {},
   "outputs": [],
   "source": [
    "import scipy.stats as stats\n",
    "import numpy as np"
   ]
  },
  {
   "cell_type": "markdown",
   "metadata": {},
   "source": [
    "H0: Der mittlere Zeitbedarf für den Vorgang liegt bei 135\n",
    "\n",
    "H1: Der mittlere Zeitbedarf liegt nicht bei 135"
   ]
  },
  {
   "cell_type": "code",
   "execution_count": 178,
   "metadata": {},
   "outputs": [],
   "source": [
    "N = 32\n",
    "alpha = 0.01\n",
    "\n",
    "E1 = 135\n",
    "\n",
    "E2 = 128\n",
    "s = 4.7\n",
    "o = s**2"
   ]
  },
  {
   "cell_type": "markdown",
   "metadata": {},
   "source": [
    "Testgrösse berechnen"
   ]
  },
  {
   "cell_type": "code",
   "execution_count": 179,
   "metadata": {},
   "outputs": [
    {
     "name": "stdout",
     "output_type": "stream",
     "text": [
      "-8.425102073712056\n"
     ]
    }
   ],
   "source": [
    "t = (E2 - E1)  * np.sqrt(N) / s\n",
    "print(t)"
   ]
  },
  {
   "cell_type": "markdown",
   "metadata": {},
   "source": [
    "Kritische Grösse berechnen zur überprüfen der H0"
   ]
  },
  {
   "cell_type": "code",
   "execution_count": 184,
   "metadata": {},
   "outputs": [
    {
     "name": "stdout",
     "output_type": "stream",
     "text": [
      "2.7440419192941268\n"
     ]
    }
   ],
   "source": [
    "# 2-Seiten test\n",
    "tkrit = stats.t.ppf(1-alpha/2, N-1)\n",
    "print(tkrit)"
   ]
  },
  {
   "cell_type": "code",
   "execution_count": 185,
   "metadata": {},
   "outputs": [
    {
     "name": "stdout",
     "output_type": "stream",
     "text": [
      "Signifikante Abweichung\n"
     ]
    }
   ],
   "source": [
    "if np.abs(t) < tkrit: \n",
    "    print(\"keine Signifikante Abweichung\") \n",
    "else:\n",
    "    print(\"Signifikante Abweichung\")"
   ]
  },
  {
   "cell_type": "code",
   "execution_count": null,
   "metadata": {},
   "outputs": [],
   "source": []
  }
 ],
 "metadata": {
  "kernelspec": {
   "display_name": "Python 3 (ipykernel)",
   "language": "python",
   "name": "python3"
  },
  "language_info": {
   "codemirror_mode": {
    "name": "ipython",
    "version": 3
   },
   "file_extension": ".py",
   "mimetype": "text/x-python",
   "name": "python",
   "nbconvert_exporter": "python",
   "pygments_lexer": "ipython3",
   "version": "3.11.6"
  }
 },
 "nbformat": 4,
 "nbformat_minor": 2
}
