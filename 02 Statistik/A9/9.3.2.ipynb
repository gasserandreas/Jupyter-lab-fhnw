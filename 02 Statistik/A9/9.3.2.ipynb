{
 "cells": [
  {
   "cell_type": "markdown",
   "metadata": {},
   "source": [
    "# Aufgabe 9.3.2\n",
    "\n",
    "Der durchschnittliche Verbrauch eines bestimmten Hilfsstoffes in zwei vergleichbaren Filialen einer Unternehmung soll geprüft werden. Dazu wurde der Verbrauch während einer Anzahl Tage bei beiden Filialen ermittelt. Es ergaben sich die folgenden Stichproben.\n",
    "\n",
    "Kann statistisch erhärtet werden, dass die eine Filiale signifikant mehr von dem entsprechenden Hilfsstoff verbraucht?\n",
    "\n",
    "Das Signifikanzniveau sei α = 1%."
   ]
  },
  {
   "cell_type": "code",
   "execution_count": 378,
   "metadata": {},
   "outputs": [],
   "source": [
    "from scipy import stats\n",
    "import numpy as np"
   ]
  },
  {
   "cell_type": "markdown",
   "metadata": {},
   "source": [
    "**H0 definieren**\n",
    "\n",
    "H0 := es gibt keinen Unterschied!\n",
    "\n",
    "H1 := es gibt einen Unterschied! "
   ]
  },
  {
   "cell_type": "code",
   "execution_count": 369,
   "metadata": {},
   "outputs": [
    {
     "data": {
      "text/plain": [
       "array([-4. , -3.1, -3. , -1.7,  0.7, -3.4,  0.7, -1.5, -2.4,  2.2, -1.9,\n",
       "       -0.7,  1.7, -4.1,  2.1,  0. , -1.7, -0.7, -2.1, -0.9,  0. ,  0. ,\n",
       "       -1.1,  0. , -5.2, -1.4])"
      ]
     },
     "execution_count": 369,
     "metadata": {},
     "output_type": "execute_result"
    }
   ],
   "source": [
    "x = np.array([1.5, 3.5, 2.6, 4.9, 6.8, 4.9, 6.2, 5.8, 6.4, 8.8, 4.5, 7.1, 8.3, 3.6, 7.6, 7.7, 4.9, 5.9,\n",
    "3.4, 4.5, 6.6, 5.5, 7.7, 8.8, 4.7, 6.3])\n",
    "\n",
    "y = np.array([5.5, 6.6, 5.6, 6.6, 6.1, 8.3, 5.5, 7.3, 8.8, 6.6, 6.4, 7.8, 6.6, 7.7, 5.5, 7.7, 6.6, 6.6,\n",
    "5.5, 5.4, 6.6, 5.5, 8.8, 8.8, 9.9, 7.7])\n"
   ]
  },
  {
   "cell_type": "code",
   "execution_count": 384,
   "metadata": {},
   "outputs": [
    {
     "data": {
      "text/plain": [
       "(5.711538461538462, 1.9010159227269874, 26)"
      ]
     },
     "execution_count": 384,
     "metadata": {},
     "output_type": "execute_result"
    }
   ],
   "source": [
    "xbar = np.mean(x)\n",
    "sx = np.std(x, ddof=1)\n",
    "Nx = len(x)\n",
    "xbar, sx, Nx"
   ]
  },
  {
   "cell_type": "code",
   "execution_count": 385,
   "metadata": {},
   "outputs": [
    {
     "data": {
      "text/plain": [
       "(5.711538461538462, 1.2637429144593273, 26)"
      ]
     },
     "execution_count": 385,
     "metadata": {},
     "output_type": "execute_result"
    }
   ],
   "source": [
    "ybar = np.mean(y)\n",
    "sy = np.std(y, ddof=1)\n",
    "Ny = len(y)\n",
    "xbar, sy, Ny"
   ]
  },
  {
   "cell_type": "code",
   "execution_count": 389,
   "metadata": {},
   "outputs": [],
   "source": [
    "# n berechnen\n",
    "n = Nx + Ny - 2"
   ]
  },
  {
   "cell_type": "code",
   "execution_count": 390,
   "metadata": {},
   "outputs": [
    {
     "data": {
      "text/plain": [
       "2.6054538461538472"
      ]
     },
     "execution_count": 390,
     "metadata": {},
     "output_type": "execute_result"
    }
   ],
   "source": [
    "# gewogenes Mittel der Varianz berechnen\n",
    "s2 = ((Nx-1)*sx**2 + (Ny-1)*sy**2)/n\n",
    "s2"
   ]
  },
  {
   "cell_type": "code",
   "execution_count": 388,
   "metadata": {},
   "outputs": [
    {
     "data": {
      "text/plain": [
       "-2.7062454891471495"
      ]
     },
     "execution_count": 388,
     "metadata": {},
     "output_type": "execute_result"
    }
   ],
   "source": [
    "# Testgrösse berechnen\n",
    "t = ((xbar-ybar)/np.sqrt(s2))*np.sqrt(Nx*Ny/(Nx+Ny))\n",
    "t"
   ]
  },
  {
   "cell_type": "code",
   "execution_count": 393,
   "metadata": {},
   "outputs": [
    {
     "data": {
      "text/plain": [
       "-1.6759050245283318"
      ]
     },
     "execution_count": 393,
     "metadata": {},
     "output_type": "execute_result"
    }
   ],
   "source": [
    "alpha = 0.1 / 2\n",
    "tkrit = stats.t.ppf(alpha, n)\n",
    "tkrit"
   ]
  },
  {
   "cell_type": "code",
   "execution_count": 394,
   "metadata": {},
   "outputs": [
    {
     "name": "stdout",
     "output_type": "stream",
     "text": [
      "H0 abgelehnt\n"
     ]
    }
   ],
   "source": [
    "# statistischer Schluss\n",
    "if (np.abs(t) < tkrit):\n",
    "  print(\"H0 angenommen\")\n",
    "else:\n",
    "  print(\"H0 abgelehnt\")\n"
   ]
  },
  {
   "cell_type": "markdown",
   "metadata": {},
   "source": [
    "## Schlussfolgerung\n",
    "\n",
    "Da H0 Hypothese abgelehnt wurde (es gbit keinen Unterschied), muss folglich davon ausgegangen werden das H1 gilt, sprich es gibt einen Unterschied!"
   ]
  },
  {
   "cell_type": "markdown",
   "metadata": {},
   "source": []
  }
 ],
 "metadata": {
  "kernelspec": {
   "display_name": "Python 3 (ipykernel)",
   "language": "python",
   "name": "python3"
  },
  "language_info": {
   "codemirror_mode": {
    "name": "ipython",
    "version": 3
   },
   "file_extension": ".py",
   "mimetype": "text/x-python",
   "name": "python",
   "nbconvert_exporter": "python",
   "pygments_lexer": "ipython3",
   "version": "3.11.6"
  }
 },
 "nbformat": 4,
 "nbformat_minor": 2
}
