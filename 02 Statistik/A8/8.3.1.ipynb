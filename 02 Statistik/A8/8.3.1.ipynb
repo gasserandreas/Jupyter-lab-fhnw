{
 "cells": [
  {
   "cell_type": "markdown",
   "metadata": {},
   "source": [
    "# Aufgabe 8.3.1\n",
    "\n",
    "Wir würfeln mit einem Würfel. Bei 20 Würfen erhalten wir 9 Sechsen. Ist der Würfel gezinkt, d.h., werden bevorzugt Sechsen gewürfelt?\n",
    "\n",
    "Das Signifikanzniveau ist 5%."
   ]
  },
  {
   "cell_type": "code",
   "execution_count": 128,
   "metadata": {},
   "outputs": [],
   "source": [
    "from scipy.stats import binom"
   ]
  },
  {
   "cell_type": "code",
   "execution_count": 121,
   "metadata": {},
   "outputs": [],
   "source": [
    "n = 20\n",
    "p = 1/6\n",
    "q = 1 - p"
   ]
  },
  {
   "cell_type": "markdown",
   "metadata": {},
   "source": [
    "Wir erwarten:\n",
    "- H0 = 1/6\n",
    "- H1 > 1/6"
   ]
  },
  {
   "cell_type": "code",
   "execution_count": 126,
   "metadata": {},
   "outputs": [
    {
     "name": "stdout",
     "output_type": "stream",
     "text": [
      "Erwartungswert: 3.333333333333333\n",
      "Varianz 2.7777777777777777\n"
     ]
    }
   ],
   "source": [
    "E = n * p\n",
    "o = n * p * q\n",
    "\n",
    "print('Erwartungswert:', E)\n",
    "print('Varianz', o)"
   ]
  },
  {
   "cell_type": "markdown",
   "metadata": {},
   "source": [
    "Wir prüfen die Wahrscheinlichkeit dass 9 Sechser in 20 Würfel vorkommen"
   ]
  },
  {
   "cell_type": "code",
   "execution_count": 132,
   "metadata": {},
   "outputs": [
    {
     "name": "stdout",
     "output_type": "stream",
     "text": [
      "P(X <= 9): 0.0005985039366041001\n"
     ]
    }
   ],
   "source": [
    "p = 1 - binom.cdf(k=9, n=20, p=1/6)\n",
    "print('P(X <= 9):', p)"
   ]
  },
  {
   "cell_type": "markdown",
   "metadata": {},
   "source": [
    "Wahrscheinlichkeit ist bei 0.0005% aus 20 Würfen 9 mal ne 6 zu haben. Da das Signifikanzniveau mit 5% (0.05) definiert ist, ist die gesamte Aussage falsch! "
   ]
  }
 ],
 "metadata": {
  "kernelspec": {
   "display_name": "Python 3 (ipykernel)",
   "language": "python",
   "name": "python3"
  }
 },
 "nbformat": 4,
 "nbformat_minor": 2
}
