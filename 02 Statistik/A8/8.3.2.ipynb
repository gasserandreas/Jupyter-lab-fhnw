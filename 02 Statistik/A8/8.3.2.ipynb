{
 "cells": [
  {
   "cell_type": "markdown",
   "metadata": {},
   "source": [
    "# Aufgabe 8.3.2\n",
    "\n",
    "In 10000 Würfen zeigte eine Münze 5150 mal Zahl. Mit welcher Wahrscheinlichkeit können wir behaupten, dass sie unsymmetrisch ist, d.h. bevorzugt Zahl geworfen wird?\n",
    "\n",
    "Das Signifikanzniveau ist 5%."
   ]
  },
  {
   "cell_type": "code",
   "execution_count": 133,
   "metadata": {},
   "outputs": [],
   "source": [
    "from scipy.stats import binom"
   ]
  },
  {
   "cell_type": "code",
   "execution_count": 138,
   "metadata": {},
   "outputs": [],
   "source": [
    "n = 10000 # Würfe\n",
    "x = 5150 # anzahl Zahl bei der Münze\n",
    "p = 1/2\n",
    "q = 1 - p"
   ]
  },
  {
   "cell_type": "markdown",
   "metadata": {},
   "source": [
    "Wir erwarten:\n",
    "- H0 = 1/2\n",
    "- H1 > 1/2"
   ]
  },
  {
   "cell_type": "code",
   "execution_count": 139,
   "metadata": {},
   "outputs": [
    {
     "name": "stdout",
     "output_type": "stream",
     "text": [
      "Erwartungswert: 5000.0\n",
      "Varianz 2500.0\n"
     ]
    }
   ],
   "source": [
    "E = n * p\n",
    "o = n * p * q\n",
    "\n",
    "print('Erwartungswert:', E)\n",
    "print('Varianz', o)"
   ]
  },
  {
   "cell_type": "markdown",
   "metadata": {},
   "source": [
    "Wir prüfen die Wahrscheinlichkeit dass bei 10'000 Würfen 5150 Mal die Zahl kommt."
   ]
  },
  {
   "cell_type": "code",
   "execution_count": 142,
   "metadata": {},
   "outputs": [
    {
     "name": "stdout",
     "output_type": "stream",
     "text": [
      "P(5150 <= X): 0.0013053689533393253\n"
     ]
    }
   ],
   "source": [
    "p = 1 - binom.cdf(k=5150, n=10000, p=1/2)\n",
    "print('P(5150 <= X):', p)"
   ]
  },
  {
   "cell_type": "markdown",
   "metadata": {},
   "source": [
    "Wahrscheinlichkeit ist bei 0.0013% bei 10'000 Würfen 5150 mal ne Zahl zu haben. Da das Signifikanzniveau mit 5% (0.05) definiert ist, ist die gesamte Aussage falsch! "
   ]
  },
  {
   "cell_type": "markdown",
   "metadata": {},
   "source": []
  }
 ],
 "metadata": {
  "kernelspec": {
   "display_name": "Python 3 (ipykernel)",
   "language": "python",
   "name": "python3"
  },
  "language_info": {
   "codemirror_mode": {
    "name": "ipython",
    "version": 3
   },
   "file_extension": ".py",
   "mimetype": "text/x-python",
   "name": "python",
   "nbconvert_exporter": "python",
   "pygments_lexer": "ipython3",
   "version": "3.11.6"
  }
 },
 "nbformat": 4,
 "nbformat_minor": 2
}
