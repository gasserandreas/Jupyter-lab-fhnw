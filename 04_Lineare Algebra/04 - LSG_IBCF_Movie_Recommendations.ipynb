{
 "cells": [
  {
   "attachments": {},
   "cell_type": "markdown",
   "metadata": {},
   "source": [
    "<img src=\"header_recommender.png\">"
   ]
  },
  {
   "attachments": {},
   "cell_type": "markdown",
   "metadata": {},
   "source": [
    "## Hintergrund\n",
    "\n",
    "### Recommender-Systeme\n",
    "\n",
    "Recommender-Systemen begegnen wir in unserem digitalen Alltag inzwischen mehrmals täglich:\n",
    "Von einer Reihe von Services bekommen wir stetig neue Medien vorgeschlagen, die uns auch noch interessieren könnten. Die Selektion neuer passender Medien wird dabei mittels der akribisch aufgezeichneten Historie unseres bisherigen Konsums geführt. Einige Recommender-Systeme nutzen wir aktiv und bewusst, die Präsenz anderer bemerken wir vielleicht gar nicht. Einige solcher Systeme bringen uns tatsächlich einen Mehrwert, andere dienen vor allem dazu, uns länger in Webseiten und Applikationen verweilen zu lassen, um uns mehr Produkte oder mehr Werbung präsentieren zu können.\n",
    "\n",
    "Aufgrund unserer bisherigen Historie (und, wie wir sehen werden, derjenigen von anderen Usern) schlägt uns zum Beispiel Youtube neue Videos, Netflix neue Filme und Serien, Spotify und Soundcloud neue Musik, Digitec und Amazon neue Produkte, Facebook und LinkedIn neue Freunde, NZZ und 20 Minuten neue Artikel, Google Play und Apple Store neue Apps, Google Maps und Trip Advisor neue Restaurants, die SBB App mögliche heutige Reisedestinationen vor, etc. Im Hintergrund berechnet zum Beispiel Google die optimalen Suchresultaten und die 'optimale' Werbung, die wir am ehesten anklicken.\n",
    "\n",
    "Als Data Scientists möchten wir natürlich auch solche Recommender bauen und verstehen können. In dieser Anwendung gehen wir einen kleinen Schritt in diese Richtung, indem wir einen einfachen und bekannten Recommender-Algorithmus selbst umsetzen am Beispiel von Filmempfehlungen. Konkret befassen wir uns mit einem *IBCF-Recommender* (Item-based Collaborative Filtering) der Vektor-Ähnlichkeiten zwischen verschiedenen Filmen mittels Cosine-Similarity berechnet und die zu einem Film ähnlichen Filme vorschlagen kann.\n",
    "\n",
    "### IBCF und Cosine-Similarity\n",
    "\n",
    "Die Grundlage eines solchen IBCF-Recommendersystems ist die sogenannte *User-Item-* oder *Interaktionsmatrix*. In ihr werden Bewertungen für einen Item bzw. ein Produkt von verschiedenen Usern in einer Matrix zusammengefasst (im vorliegenden Bild für verschiedene Bücher):\n",
    "\n",
    "<img src=\"user_item_matrix_example.png\">"
   ]
  },
  {
   "cell_type": "markdown",
   "metadata": {},
   "source": [
    "Alle User haben nur gewisse Bücher gelesen und dafür eine Bewertung abgegeben, viele Felder der Matrix sind nicht besetzt und müssen entsprechend mit einer Null oder einem fehlenden Wert gekennzeichnet werden. Die IBCF betrachtet nun jeden Item / jedes Produkt als Spaltenvektor aus Userratings und bestimmt Ähnlichkeiten zwischen diesen Spaltenvektoren. Wurde ein Produkt von ähnlichen Usern ähnlich bewertet, so wird angenommen, dass auch das Produkt ähnlich ist.\n",
    "\n",
    "Konkret wird dafür die sogenannte **Cosine-Similarity** herangezogen:\n",
    "\n",
    "Diese interessiert sich nicht für die Länge der Vektoren, sondern nur für deren Zwischenwinkel. Ist der Zwischenwinkel null, so sind sich die Vektoren komplett ähnlich. Ist der Zwischenwinkel 180°, so sind die Vektoren komplett verschieden. Dieser Zusammenhang lässt sich mit der Definition des Skalarprodukts über den Zwischenwinkel ausdrücken:\n",
    "\n",
    "$$\\mathbf{u} \\cdot \\mathbf{v} = |\\mathbf{u}| \\; |\\mathbf{v}| \\; \\cos\\alpha,$$\n",
    "\n",
    "wobei $\\mathbf{u}, \\mathbf{v} \\in \\mathbb{R}^n$ Vektoren seien und $\\alpha$ der Zwischenwinkel. Damit gilt die Zwischenwinkelformel\n",
    "\n",
    "$$\\cos\\alpha = \\frac{\\mathbf{u} \\cdot \\mathbf{v}}{|\\mathbf{u}| \\; |\\mathbf{v}|}.$$\n",
    "\n",
    "Ist der Zwischenwinkel null, ist also $\\cos\\alpha = 1$, ist er 90°, so ist $\\cos\\alpha = 0$ und ist er 180°, so ist $\\cos\\alpha=-1$. Die Cosine-Similarity nimmt also Werte zwischen -1 (total verschieden) und 1 (identisch) an. Sind die Vektoren $\\mathbf{u}$ und $\\mathbf{v}$ vorgängig normiert worden, so entspricht die Cosine-Similarity gerade dem Skalarprodukt.\n",
    "\n",
    "Hier ist interessant, dass wir die Cosine-Similarity nur die Fälle betrachten lassen können, wo beide User ein Rating abgegeben haben. Setzen wir nämlich die Felder der User-Item-Matrix in denen ein Rating fehlt gleich null, so tragen diese Felder nichts zur Cosine-Similarity bei (da das Skalarprodukt als Summe $\\mathbf{u} \\cdot \\mathbf{v} = \\sum_i u_i v_i$ berechnet wird und keine Beiträge entstehen, wenn $u_i$ oder $v_i$ null ist)."
   ]
  },
  {
   "cell_type": "markdown",
   "metadata": {},
   "source": [
    "Wir können diese Methode nun benutzen, um zu einem Film den wir mögen ähnliche Filme zu finden. Dazu benutzen wir das [Movie-Lens](https://movielens.org/)-Datenset, das seit 1997 Film-Bewertungen mit einer wachsenden Userbase sammelt. In diesem Fall benutzen wir das [kleinstmögliche Datenset](https://www.kaggle.com/shubhammehta21/movie-lens-small-latest-dataset) mit nur 610 Users und 9742 Filmen, um den Rechenaufwand zu minimieren."
   ]
  },
  {
   "cell_type": "markdown",
   "metadata": {},
   "source": [
    "## Benötigte Libraries einbinden\n",
    "\n",
    "Die folgenden Python-Bibliotheken reichen für die Bearbeitung dieses Anwendungsbeispiels"
   ]
  },
  {
   "cell_type": "code",
   "execution_count": 1,
   "metadata": {},
   "outputs": [],
   "source": [
    "import numpy as np\n",
    "import pandas as pd\n",
    "import matplotlib.pyplot as plt"
   ]
  },
  {
   "cell_type": "markdown",
   "metadata": {},
   "source": [
    "## User-Item Matrix erstellen"
   ]
  },
  {
   "cell_type": "markdown",
   "metadata": {},
   "source": [
    "Im folgenden erstellen wir die User-Item-Matrix. Das Data Wrangling ist hier bereits für Sie erledigt."
   ]
  },
  {
   "cell_type": "markdown",
   "metadata": {},
   "source": [
    "Daten einlesen:"
   ]
  },
  {
   "cell_type": "code",
   "execution_count": 2,
   "metadata": {},
   "outputs": [],
   "source": [
    "movies = pd.read_csv(\"movies.csv\")\n",
    "ratings = pd.read_csv(\"ratings.csv\")"
   ]
  },
  {
   "cell_type": "markdown",
   "metadata": {},
   "source": [
    "Bereinigungen durchführen:"
   ]
  },
  {
   "cell_type": "code",
   "execution_count": 3,
   "metadata": {},
   "outputs": [
    {
     "data": {
      "text/html": [
       "<div>\n",
       "<style scoped>\n",
       "    .dataframe tbody tr th:only-of-type {\n",
       "        vertical-align: middle;\n",
       "    }\n",
       "\n",
       "    .dataframe tbody tr th {\n",
       "        vertical-align: top;\n",
       "    }\n",
       "\n",
       "    .dataframe thead th {\n",
       "        text-align: right;\n",
       "    }\n",
       "</style>\n",
       "<table border=\"1\" class=\"dataframe\">\n",
       "  <thead>\n",
       "    <tr style=\"text-align: right;\">\n",
       "      <th></th>\n",
       "      <th>movieId</th>\n",
       "      <th>title</th>\n",
       "      <th>genres</th>\n",
       "      <th>year</th>\n",
       "    </tr>\n",
       "  </thead>\n",
       "  <tbody>\n",
       "    <tr>\n",
       "      <th>0</th>\n",
       "      <td>1</td>\n",
       "      <td>Toy Story</td>\n",
       "      <td>Adventure|Animation|Children|Comedy|Fantasy</td>\n",
       "      <td>1995.0</td>\n",
       "    </tr>\n",
       "    <tr>\n",
       "      <th>1</th>\n",
       "      <td>2</td>\n",
       "      <td>Jumanji</td>\n",
       "      <td>Adventure|Children|Fantasy</td>\n",
       "      <td>1995.0</td>\n",
       "    </tr>\n",
       "    <tr>\n",
       "      <th>2</th>\n",
       "      <td>3</td>\n",
       "      <td>Grumpier Old Men</td>\n",
       "      <td>Comedy|Romance</td>\n",
       "      <td>1995.0</td>\n",
       "    </tr>\n",
       "    <tr>\n",
       "      <th>3</th>\n",
       "      <td>4</td>\n",
       "      <td>Waiting to Exhale</td>\n",
       "      <td>Comedy|Drama|Romance</td>\n",
       "      <td>1995.0</td>\n",
       "    </tr>\n",
       "    <tr>\n",
       "      <th>4</th>\n",
       "      <td>5</td>\n",
       "      <td>Father of the Bride Part II</td>\n",
       "      <td>Comedy</td>\n",
       "      <td>1995.0</td>\n",
       "    </tr>\n",
       "  </tbody>\n",
       "</table>\n",
       "</div>"
      ],
      "text/plain": [
       "   movieId                        title   \n",
       "0        1                    Toy Story  \\\n",
       "1        2                      Jumanji   \n",
       "2        3             Grumpier Old Men   \n",
       "3        4            Waiting to Exhale   \n",
       "4        5  Father of the Bride Part II   \n",
       "\n",
       "                                        genres    year  \n",
       "0  Adventure|Animation|Children|Comedy|Fantasy  1995.0  \n",
       "1                   Adventure|Children|Fantasy  1995.0  \n",
       "2                               Comedy|Romance  1995.0  \n",
       "3                         Comedy|Drama|Romance  1995.0  \n",
       "4                                       Comedy  1995.0  "
      ]
     },
     "execution_count": 3,
     "metadata": {},
     "output_type": "execute_result"
    }
   ],
   "source": [
    "movies['year'] = movies.title.str.extract(\"\\((\\d+)\\)$\").astype(float)\n",
    "movies.title = movies.title.str.replace(\"\\(\\d+\\)\", \"\", regex=True)\n",
    "movies.title = movies.title.str.replace(r'(.+), The', r'The \\1', regex=True)\n",
    "movies.title = movies.title.str.replace(r'(.+), A', r' \\1', regex=True)\n",
    "movies.title = movies.title.str.strip()\n",
    "movies.head()"
   ]
  },
  {
   "cell_type": "markdown",
   "metadata": {},
   "source": [
    "Filme ohne Rating entfernen:"
   ]
  },
  {
   "cell_type": "code",
   "execution_count": 4,
   "metadata": {},
   "outputs": [
    {
     "data": {
      "text/plain": [
       "(9724, 4)"
      ]
     },
     "execution_count": 4,
     "metadata": {},
     "output_type": "execute_result"
    }
   ],
   "source": [
    "movies = movies[movies.movieId.isin( ratings.movieId.unique() )].reset_index( drop=True )\n",
    "movies.shape"
   ]
  },
  {
   "cell_type": "markdown",
   "metadata": {},
   "source": [
    "User-Item-Matrix erstellen:"
   ]
  },
  {
   "cell_type": "code",
   "execution_count": 5,
   "metadata": {},
   "outputs": [],
   "source": [
    "I = pd.crosstab( ratings.userId, ratings.movieId, values=ratings.rating, aggfunc='mean', dropna=True ).fillna(0)\n",
    "user_ids = I.index\n",
    "movie_ids = I.columns\n",
    "X = I.values"
   ]
  },
  {
   "cell_type": "code",
   "execution_count": 6,
   "metadata": {},
   "outputs": [
    {
     "data": {
      "text/plain": [
       "array([[4. , 0. , 4. , ..., 0. , 0. , 0. ],\n",
       "       [0. , 0. , 0. , ..., 0. , 0. , 0. ],\n",
       "       [0. , 0. , 0. , ..., 0. , 0. , 0. ],\n",
       "       ...,\n",
       "       [2.5, 2. , 2. , ..., 0. , 0. , 0. ],\n",
       "       [3. , 0. , 0. , ..., 0. , 0. , 0. ],\n",
       "       [5. , 0. , 0. , ..., 0. , 0. , 0. ]])"
      ]
     },
     "execution_count": 6,
     "metadata": {},
     "output_type": "execute_result"
    }
   ],
   "source": [
    "X"
   ]
  },
  {
   "cell_type": "code",
   "execution_count": 7,
   "metadata": {},
   "outputs": [
    {
     "data": {
      "text/plain": [
       "<matplotlib.colorbar.Colorbar at 0x7f0e0705fcd0>"
      ]
     },
     "execution_count": 7,
     "metadata": {},
     "output_type": "execute_result"
    },
    {
     "data": {
      "image/png": "[encoded data removed]",
      "text/plain": [
       "<Figure size 1600x200 with 2 Axes>"
      ]
     },
     "metadata": {},
     "output_type": "display_data"
    }
   ],
   "source": [
    "plt.matshow(X, aspect=\"auto\")\n",
    "plt.colorbar()"
   ]
  },
  {
   "cell_type": "code",
   "execution_count": 8,
   "metadata": {},
   "outputs": [
    {
     "data": {
      "text/plain": [
       "Index([  1,   2,   3,   4,   5,   6,   7,   8,   9,  10,\n",
       "       ...\n",
       "       601, 602, 603, 604, 605, 606, 607, 608, 609, 610],\n",
       "      dtype='int64', name='userId', length=610)"
      ]
     },
     "execution_count": 8,
     "metadata": {},
     "output_type": "execute_result"
    }
   ],
   "source": [
    "user_ids"
   ]
  },
  {
   "cell_type": "code",
   "execution_count": 9,
   "metadata": {},
   "outputs": [
    {
     "data": {
      "text/plain": [
       "Index([     1,      2,      3,      4,      5,      6,      7,      8,      9,\n",
       "           10,\n",
       "       ...\n",
       "       193565, 193567, 193571, 193573, 193579, 193581, 193583, 193585, 193587,\n",
       "       193609],\n",
       "      dtype='int64', name='movieId', length=9724)"
      ]
     },
     "execution_count": 9,
     "metadata": {},
     "output_type": "execute_result"
    }
   ],
   "source": [
    "movie_ids"
   ]
  },
  {
   "cell_type": "code",
   "execution_count": 10,
   "metadata": {},
   "outputs": [
    {
     "data": {
      "text/plain": [
       "((610, 9724), 610, 9724)"
      ]
     },
     "execution_count": 10,
     "metadata": {},
     "output_type": "execute_result"
    }
   ],
   "source": [
    "X.shape, len(user_ids), len(movie_ids)"
   ]
  },
  {
   "cell_type": "markdown",
   "metadata": {},
   "source": [
    "## Ihre Aufgabe"
   ]
  },
  {
   "cell_type": "markdown",
   "metadata": {},
   "source": [
    "### a) Einzelne Cosine-Similarity berechnen"
   ]
  },
  {
   "cell_type": "markdown",
   "metadata": {},
   "source": [
    "Gegeben sei also die User-Item-Matrix $\\mathbf{X} \\in \\mathbb{R}^{610 \\times 9724}$. Die Cosine-Similarity zwischen Film $i$ und Film $j$ ist definiert als\n",
    "\n",
    "$$S_{ij} = \\frac{\\mathbf{x}_i \\cdot \\mathbf{x}_j}{|\\mathbf{x}_i| \\; |\\mathbf{x}_j|},$$\n",
    "\n",
    "wobei $\\mathbf{x}_i$ der i-te Spaltenvektor von $\\mathbf{X}$ bezeichne. $S_{ij}$ beschreibt hier die Komponenten einer Ähnlichkeits-Matrix $\\mathbf{S} \\in \\mathbb{R}^{9724 \\times 9724}$."
   ]
  },
  {
   "cell_type": "markdown",
   "metadata": {},
   "source": [
    "Berechnen Sie als Beispiel die Cosine-Similarity zwischen den Filmen 'Star Wars: Episode IV - A New Hope' ($i=224$) und 'Star Wars: Episode V - The Empire Strikes Back' ($j=897$). Benutzen Sie dazu die Befehle `np.vdot()` und `np.linalg.norm()`. Definieren Sie dazu zuerst die Spaltenvektoren `xi` und `xj` und prüfen Sie, ob diese jeweils 610 Elemente besitzen (ein Rating pro User). Sind die Filme einander ähnlich?"
   ]
  },
  {
   "cell_type": "markdown",
   "metadata": {},
   "source": [
    "Können Sie argumentieren, warum die Cosine-Similarity für alle Filmpaare nur Werte zwischen 0 und 1 annimmt?"
   ]
  },
  {
   "cell_type": "markdown",
   "metadata": {},
   "source": [
    "### Lösung"
   ]
  },
  {
   "cell_type": "code",
   "execution_count": 11,
   "metadata": {},
   "outputs": [
    {
     "data": {
      "text/plain": [
       "((610,), (610,))"
      ]
     },
     "execution_count": 11,
     "metadata": {},
     "output_type": "execute_result"
    }
   ],
   "source": [
    "i = 224\n",
    "j = 897\n",
    "xi = X[:,i]\n",
    "xj = X[:,j]\n",
    "xi.shape, xj.shape"
   ]
  },
  {
   "cell_type": "code",
   "execution_count": 12,
   "metadata": {},
   "outputs": [
    {
     "data": {
      "text/plain": [
       "0.8324073552233734"
      ]
     },
     "execution_count": 12,
     "metadata": {},
     "output_type": "execute_result"
    }
   ],
   "source": [
    "np.vdot(xi, xj) / (np.linalg.norm(xi) * np.linalg.norm(xj))"
   ]
  },
  {
   "cell_type": "markdown",
   "metadata": {},
   "source": [
    "Da alle Komponenten von $\\mathbf{x}_i$ und $\\mathbf{x}_j$ positiv sind, ist auch das Skalarprodukt immer positiv und damit $S_{ij} \\in [0,1]$."
   ]
  },
  {
   "cell_type": "markdown",
   "metadata": {},
   "source": [
    "### b) Cosine-Similarity vektorisiert berechnen"
   ]
  },
  {
   "cell_type": "markdown",
   "metadata": {},
   "source": [
    "Nun möchten wir die gesamte Matrix $S$ mit den Cosine-Similarities zwischen allen Filmen berechnen. Naiv könnten wir dies tun, indem wir z.B. mit zwei verschachtelten `for`-Loops über $i$ und $j$ iterieren und damit alle Matrixelemente $S_{ij}$ berechnen. Da $S$ aber eine ($9724\\times9724$)-Matrix ist, hat diese ca. 95 Millionen Matrixelemente. Da Python eine Interpretersprache ist, sind `for`-Loops extrem ineffizient und die Berechnung von $S$ dauert über 10 Minuten. Es empfiehlt sich daher, möglichst auf `for`-Loops zu verzichten und mit Vektoren und Matrizen zu arbeiten. Die Numpy-Bibliothek ist kompiliert und dementsprechend effizient.\n",
    "\n",
    "<br>\n",
    "\n",
    "Es bietet sich folgende Überlegung an:\n",
    "\n",
    "Haben wir alle Spaltenvektoren $\\mathbf{x}_i$ von $X$ vorgängig normiert (also auf die Länge 1 gebracht, indem wir sie durch ihre Norm dividiert haben), so reduziert sich die obige Formel für ein einzelnes Matrixelement auf\n",
    "\n",
    "$$\n",
    "S_{ij} = \\mathbf{x}_i \\cdot \\mathbf{x}_j.\n",
    "$$\n",
    "\n",
    "Über die Matrizenmultiplikation lässt sich leicht zeigen, dass dann gerade $S = X^T X$, wobei das Matrixelement  $S_{ij}$ von $S$ gerade die Ähnlichkeit zwischen $i$ und $j$ bezeichnet.\n",
    "\n",
    "<br>\n",
    "\n",
    "Berechnen Sie nun die Cosine-Similarity in folgenden Schritten:\n",
    "\n",
    "1. Berechnen Sie die Normen aller Spaltenvektoren von $X$ mit `np.linalg.norm()` und dem Setzen eines geeigneten Werts für den `axis`-Parameter.\n",
    "\n",
    "2. Dividieren Sie die Matrix $X$ durch diesen Zeilenvektor aus Normen (Stichwort [Broadcasting](https://numpy.org/doc/1.20/user/theory.broadcasting.html)) und speichern Sie die normierte Matrix als `Xnorm`. \n",
    "\n",
    "3. Berechnen Sie $\\mathbf{S} = \\mathbf{X}^T \\mathbf{X}$, indem Sie für $X$ ihre normierte Interkationsmatrix `Xnorm` benutzen.\n",
    "\n",
    "4. Stellen Sie sicher, dass $\\mathbf{S}$ die korrekten Dimensionen besitzt."
   ]
  },
  {
   "cell_type": "markdown",
   "metadata": {},
   "source": [
    "### Lösung"
   ]
  },
  {
   "cell_type": "markdown",
   "metadata": {},
   "source": [
    "Schritt 1:"
   ]
  },
  {
   "cell_type": "code",
   "execution_count": 13,
   "metadata": {},
   "outputs": [
    {
     "data": {
      "text/plain": [
       "array([58.77499468, 37.15171598, 24.68299009, ...,  3.5       ,\n",
       "        3.5       ,  4.        ])"
      ]
     },
     "execution_count": 13,
     "metadata": {},
     "output_type": "execute_result"
    }
   ],
   "source": [
    "np.linalg.norm(X, axis=0)"
   ]
  },
  {
   "cell_type": "markdown",
   "metadata": {},
   "source": [
    "Schritt 2:"
   ]
  },
  {
   "cell_type": "code",
   "execution_count": 14,
   "metadata": {},
   "outputs": [
    {
     "data": {
      "text/plain": [
       "array([[0.06805615, 0.        , 0.16205492, ..., 0.        , 0.        ,\n",
       "        0.        ],\n",
       "       [0.        , 0.        , 0.        , ..., 0.        , 0.        ,\n",
       "        0.        ],\n",
       "       [0.        , 0.        , 0.        , ..., 0.        , 0.        ,\n",
       "        0.        ],\n",
       "       ...,\n",
       "       [0.0425351 , 0.05383331, 0.08102746, ..., 0.        , 0.        ,\n",
       "        0.        ],\n",
       "       [0.05104211, 0.        , 0.        , ..., 0.        , 0.        ,\n",
       "        0.        ],\n",
       "       [0.08507019, 0.        , 0.        , ..., 0.        , 0.        ,\n",
       "        0.        ]])"
      ]
     },
     "execution_count": 14,
     "metadata": {},
     "output_type": "execute_result"
    }
   ],
   "source": [
    "Xnorm = X / np.linalg.norm(X, axis=0)\n",
    "Xnorm"
   ]
  },
  {
   "cell_type": "markdown",
   "metadata": {},
   "source": [
    "Schritt 3:"
   ]
  },
  {
   "cell_type": "code",
   "execution_count": 15,
   "metadata": {},
   "outputs": [],
   "source": [
    "S = Xnorm.T.dot(Xnorm)"
   ]
  },
  {
   "cell_type": "markdown",
   "metadata": {},
   "source": [
    "Schritt 4:"
   ]
  },
  {
   "cell_type": "code",
   "execution_count": 16,
   "metadata": {},
   "outputs": [
    {
     "data": {
      "text/plain": [
       "(9724, 9724)"
      ]
     },
     "execution_count": 16,
     "metadata": {},
     "output_type": "execute_result"
    }
   ],
   "source": [
    "S.shape"
   ]
  },
  {
   "cell_type": "markdown",
   "metadata": {},
   "source": [
    "Das ging wesentlich schneller als 10 Minuten!"
   ]
  },
  {
   "cell_type": "markdown",
   "metadata": {},
   "source": [
    "Die Matrix $\\mathbf{S}$ können Sie zum Beispiel mit `plt.matshow()` visualisieren:"
   ]
  },
  {
   "cell_type": "code",
   "execution_count": 17,
   "metadata": {},
   "outputs": [
    {
     "data": {
      "text/plain": [
       "<matplotlib.colorbar.Colorbar at 0x7f0e06e6bc70>"
      ]
     },
     "execution_count": 17,
     "metadata": {},
     "output_type": "execute_result"
    },
    {
     "data": {
      "image/png": "[encoded data removed]",
      "text/plain": [
       "<Figure size 480x480 with 2 Axes>"
      ]
     },
     "metadata": {},
     "output_type": "display_data"
    }
   ],
   "source": [
    "plt.matshow(S)\n",
    "plt.colorbar()"
   ]
  },
  {
   "cell_type": "markdown",
   "metadata": {},
   "source": [
    "Da alle Einträge von $\\mathbf{X}$ positiv sind, können nur positive Skalarprodukte zwischen den Spaltenvektoren $\\mathbf{x}_i$ entstehen."
   ]
  },
  {
   "cell_type": "markdown",
   "metadata": {},
   "source": [
    "### c) Ähnliche Filme finden\n",
    "\n",
    "Nun möchten wir zu ihrem Lieblingsfilm ähnliche Filme finden. Finden Sie dazu zuerst die `movieId` ihres Films, indem Sie nach dem Titel des Films suchen:"
   ]
  },
  {
   "cell_type": "code",
   "execution_count": 23,
   "metadata": {},
   "outputs": [
    {
     "data": {
      "text/html": [
       "<div>\n",
       "<style scoped>\n",
       "    .dataframe tbody tr th:only-of-type {\n",
       "        vertical-align: middle;\n",
       "    }\n",
       "\n",
       "    .dataframe tbody tr th {\n",
       "        vertical-align: top;\n",
       "    }\n",
       "\n",
       "    .dataframe thead th {\n",
       "        text-align: right;\n",
       "    }\n",
       "</style>\n",
       "<table border=\"1\" class=\"dataframe\">\n",
       "  <thead>\n",
       "    <tr style=\"text-align: right;\">\n",
       "      <th></th>\n",
       "      <th>movieId</th>\n",
       "      <th>title</th>\n",
       "      <th>genres</th>\n",
       "      <th>year</th>\n",
       "    </tr>\n",
       "  </thead>\n",
       "  <tbody>\n",
       "    <tr>\n",
       "      <th>142</th>\n",
       "      <td>170</td>\n",
       "      <td>Hackers</td>\n",
       "      <td>Action|Adventure|Crime|Thriller</td>\n",
       "      <td>1995.0</td>\n",
       "    </tr>\n",
       "  </tbody>\n",
       "</table>\n",
       "</div>"
      ],
      "text/plain": [
       "     movieId    title                           genres    year\n",
       "142      170  Hackers  Action|Adventure|Crime|Thriller  1995.0"
      ]
     },
     "execution_count": 23,
     "metadata": {},
     "output_type": "execute_result"
    }
   ],
   "source": [
    "movies[movies.title.str.contains(\"Hackers\")]"
   ]
  },
  {
   "cell_type": "markdown",
   "metadata": {},
   "source": [
    "Ausserdem setzen wir die Ähnlichkeit aller Filme mit sich selbst auf Null:"
   ]
  },
  {
   "cell_type": "code",
   "execution_count": 24,
   "metadata": {},
   "outputs": [],
   "source": [
    "d = np.arange(S.shape[0])\n",
    "S[d,d] = 0"
   ]
  },
  {
   "cell_type": "markdown",
   "metadata": {},
   "source": [
    "Sie können nun die folgende Funktion für eine Recommendation aufgrund ihrer Ähnlichkeitsmatrix verwenden (und optional verstehen):"
   ]
  },
  {
   "cell_type": "code",
   "execution_count": 25,
   "metadata": {},
   "outputs": [],
   "source": [
    "def ibcf_recommend( movieId, S, sim_thresh=0.3 ):\n",
    "    i = np.where( movie_ids == movieId )[0][0]\n",
    "    ibcf_rec = pd.DataFrame( {\n",
    "        'movieId': movie_ids[np.argsort( S[i,:] )][::-1], \n",
    "        'similarity': np.sort(S[i,:])[::-1] \n",
    "    } )\n",
    "    ibcf_rec = ibcf_rec[ibcf_rec.similarity>=sim_thresh]\n",
    "    ibcf_rec = ibcf_rec.merge(movies, on=\"movieId\")\n",
    "    return ibcf_rec"
   ]
  },
  {
   "cell_type": "markdown",
   "metadata": {},
   "source": [
    "Im Prinzip sucht diese Funktion zum gegebenen Film die Filme mit der höchsten Ähnlichkeit. Hat der Film den Index $i$ in $\\mathbf{S}$, so suchen wir also die $j$, für die $S_{ij}$ nahe bei 1 ist. Der ganze Vorgang ist etwas komplizierter, weil nicht alle Filme bewertet sind und daher das Feld `movieId` nicht zwingend mit dem entsprechenden Index in der Matrix $\\mathbf{S}$ übereinstimmt."
   ]
  },
  {
   "cell_type": "code",
   "execution_count": 26,
   "metadata": {},
   "outputs": [
    {
     "data": {
      "text/html": [
       "<div>\n",
       "<style scoped>\n",
       "    .dataframe tbody tr th:only-of-type {\n",
       "        vertical-align: middle;\n",
       "    }\n",
       "\n",
       "    .dataframe tbody tr th {\n",
       "        vertical-align: top;\n",
       "    }\n",
       "\n",
       "    .dataframe thead th {\n",
       "        text-align: right;\n",
       "    }\n",
       "</style>\n",
       "<table border=\"1\" class=\"dataframe\">\n",
       "  <thead>\n",
       "    <tr style=\"text-align: right;\">\n",
       "      <th></th>\n",
       "      <th>movieId</th>\n",
       "      <th>similarity</th>\n",
       "      <th>title</th>\n",
       "      <th>genres</th>\n",
       "      <th>year</th>\n",
       "    </tr>\n",
       "  </thead>\n",
       "  <tbody>\n",
       "    <tr>\n",
       "      <th>0</th>\n",
       "      <td>4344</td>\n",
       "      <td>0.452647</td>\n",
       "      <td>Swordfish</td>\n",
       "      <td>Action|Crime|Drama</td>\n",
       "      <td>2001.0</td>\n",
       "    </tr>\n",
       "    <tr>\n",
       "      <th>1</th>\n",
       "      <td>2126</td>\n",
       "      <td>0.448481</td>\n",
       "      <td>Snake Eyes</td>\n",
       "      <td>Action|Crime|Mystery|Thriller</td>\n",
       "      <td>1998.0</td>\n",
       "    </tr>\n",
       "    <tr>\n",
       "      <th>2</th>\n",
       "      <td>4015</td>\n",
       "      <td>0.402786</td>\n",
       "      <td>Dude, Where's My Car?</td>\n",
       "      <td>Comedy|Sci-Fi</td>\n",
       "      <td>2000.0</td>\n",
       "    </tr>\n",
       "    <tr>\n",
       "      <th>3</th>\n",
       "      <td>4544</td>\n",
       "      <td>0.395313</td>\n",
       "      <td>Short Circuit 2</td>\n",
       "      <td>Comedy|Sci-Fi</td>\n",
       "      <td>1988.0</td>\n",
       "    </tr>\n",
       "    <tr>\n",
       "      <th>4</th>\n",
       "      <td>4052</td>\n",
       "      <td>0.388804</td>\n",
       "      <td>Antitrust</td>\n",
       "      <td>Crime|Drama|Thriller</td>\n",
       "      <td>2001.0</td>\n",
       "    </tr>\n",
       "    <tr>\n",
       "      <th>...</th>\n",
       "      <td>...</td>\n",
       "      <td>...</td>\n",
       "      <td>...</td>\n",
       "      <td>...</td>\n",
       "      <td>...</td>\n",
       "    </tr>\n",
       "    <tr>\n",
       "      <th>106</th>\n",
       "      <td>3081</td>\n",
       "      <td>0.301797</td>\n",
       "      <td>Sleepy Hollow</td>\n",
       "      <td>Fantasy|Horror|Mystery|Romance</td>\n",
       "      <td>1999.0</td>\n",
       "    </tr>\n",
       "    <tr>\n",
       "      <th>107</th>\n",
       "      <td>2003</td>\n",
       "      <td>0.301570</td>\n",
       "      <td>Gremlins</td>\n",
       "      <td>Comedy|Horror</td>\n",
       "      <td>1984.0</td>\n",
       "    </tr>\n",
       "    <tr>\n",
       "      <th>108</th>\n",
       "      <td>546</td>\n",
       "      <td>0.300735</td>\n",
       "      <td>Super Mario Bros.</td>\n",
       "      <td>Action|Adventure|Children|Comedy|Fantasy|Sci-Fi</td>\n",
       "      <td>1993.0</td>\n",
       "    </tr>\n",
       "    <tr>\n",
       "      <th>109</th>\n",
       "      <td>172</td>\n",
       "      <td>0.300408</td>\n",
       "      <td>Johnny Mnemonic</td>\n",
       "      <td>Action|Sci-Fi|Thriller</td>\n",
       "      <td>1995.0</td>\n",
       "    </tr>\n",
       "    <tr>\n",
       "      <th>110</th>\n",
       "      <td>368</td>\n",
       "      <td>0.300091</td>\n",
       "      <td>Maverick</td>\n",
       "      <td>Adventure|Comedy|Western</td>\n",
       "      <td>1994.0</td>\n",
       "    </tr>\n",
       "  </tbody>\n",
       "</table>\n",
       "<p>111 rows × 5 columns</p>\n",
       "</div>"
      ],
      "text/plain": [
       "     movieId  similarity                  title   \n",
       "0       4344    0.452647              Swordfish  \\\n",
       "1       2126    0.448481             Snake Eyes   \n",
       "2       4015    0.402786  Dude, Where's My Car?   \n",
       "3       4544    0.395313        Short Circuit 2   \n",
       "4       4052    0.388804              Antitrust   \n",
       "..       ...         ...                    ...   \n",
       "106     3081    0.301797          Sleepy Hollow   \n",
       "107     2003    0.301570               Gremlins   \n",
       "108      546    0.300735      Super Mario Bros.   \n",
       "109      172    0.300408        Johnny Mnemonic   \n",
       "110      368    0.300091               Maverick   \n",
       "\n",
       "                                              genres    year  \n",
       "0                                 Action|Crime|Drama  2001.0  \n",
       "1                      Action|Crime|Mystery|Thriller  1998.0  \n",
       "2                                      Comedy|Sci-Fi  2000.0  \n",
       "3                                      Comedy|Sci-Fi  1988.0  \n",
       "4                               Crime|Drama|Thriller  2001.0  \n",
       "..                                               ...     ...  \n",
       "106                   Fantasy|Horror|Mystery|Romance  1999.0  \n",
       "107                                    Comedy|Horror  1984.0  \n",
       "108  Action|Adventure|Children|Comedy|Fantasy|Sci-Fi  1993.0  \n",
       "109                           Action|Sci-Fi|Thriller  1995.0  \n",
       "110                         Adventure|Comedy|Western  1994.0  \n",
       "\n",
       "[111 rows x 5 columns]"
      ]
     },
     "execution_count": 26,
     "metadata": {},
     "output_type": "execute_result"
    }
   ],
   "source": [
    "ibcf_recommend( movieId=170, S=S )"
   ]
  },
  {
   "cell_type": "markdown",
   "metadata": {},
   "source": [
    "## Mögliche interessante Zusatzaufgaben"
   ]
  },
  {
   "cell_type": "markdown",
   "metadata": {},
   "source": [
    "### Zusatz 1: Speedup durch Vektorisierung\n",
    "\n",
    "Versuchen Sie $\\mathbf{S}$ zu bestimmen, indem Sie mit zwei `for`-Schlaufen über $i$ und $j$ Stück für Stück die Matrixelemente $S_{ij}$ berechnen. Um welchen Faktor ist diese Methode langsamer als die vorgeschlagene Variante? Was ist der Grund hierfür?"
   ]
  },
  {
   "cell_type": "markdown",
   "metadata": {},
   "source": [
    "### Lösung"
   ]
  },
  {
   "cell_type": "markdown",
   "metadata": {},
   "source": [
    "Standardvariante (Warnung: dauert je nach deiner Maschine fast eine halbe Stunde!):"
   ]
  },
  {
   "cell_type": "code",
   "execution_count": 22,
   "metadata": {},
   "outputs": [
    {
     "data": {
      "application/vnd.jupyter.widget-view+json": {
       "model_id": "5e3f9529f05e40b58c8165899a5fd490",
       "version_major": 2,
       "version_minor": 0
      },
      "text/plain": [
       "  0%|          | 0/9724 [00:00<?, ?it/s]"
      ]
     },
     "metadata": {},
     "output_type": "display_data"
    },
    {
     "name": "stdout",
     "output_type": "stream",
     "text": [
      "CPU times: user 11min 19s, sys: 1.45 s, total: 11min 21s\n",
      "Wall time: 11min 20s\n"
     ]
    }
   ],
   "source": [
    "%%time\n",
    "from tqdm.auto import tqdm\n",
    "\n",
    "n = X.shape[1]\n",
    "S2 = np.zeros( (n, n) )\n",
    "for i in tqdm( range(n) ):\n",
    "    for j in range(n):\n",
    "        x1 = X[:,i]\n",
    "        x2 = X[:,j]\n",
    "        S2[i,j] = np.dot( x1, x2 ) / (np.linalg.norm(x1)*np.linalg.norm(x2))"
   ]
  },
  {
   "cell_type": "markdown",
   "metadata": {},
   "source": [
    "(hier wurde das tqdm-Paket benutzt, um eine Progress-Bar zu erhalten)"
   ]
  },
  {
   "cell_type": "markdown",
   "metadata": {},
   "source": [
    "Effizientere Variante (nutzt die Symmetrie von S aus):"
   ]
  },
  {
   "cell_type": "code",
   "execution_count": 23,
   "metadata": {},
   "outputs": [
    {
     "data": {
      "application/vnd.jupyter.widget-view+json": {
       "model_id": "979e4f0b35174e47b72948a0b78b2438",
       "version_major": 2,
       "version_minor": 0
      },
      "text/plain": [
       "  0%|          | 0/9724 [00:00<?, ?it/s]"
      ]
     },
     "metadata": {},
     "output_type": "display_data"
    },
    {
     "name": "stdout",
     "output_type": "stream",
     "text": [
      "CPU times: user 6min 1s, sys: 1.03 s, total: 6min 2s\n",
      "Wall time: 6min 2s\n"
     ]
    }
   ],
   "source": [
    "%%time\n",
    "n = X.shape[1]\n",
    "S3 = np.zeros( (n, n) )\n",
    "for i in tqdm( range(n) ):\n",
    "    S3[i,i] = 1\n",
    "    for j in range(i+1,n):\n",
    "        x1 = X[:,i]\n",
    "        x2 = X[:,j]\n",
    "        S3[i,j] = np.dot( x1, x2 ) / (np.linalg.norm(x1)*np.linalg.norm(x2))\n",
    "        S3[j,i] = S3[i,j]"
   ]
  },
  {
   "cell_type": "code",
   "execution_count": 24,
   "metadata": {},
   "outputs": [
    {
     "data": {
      "text/plain": [
       "1.0781746145931212e-14"
      ]
     },
     "execution_count": 24,
     "metadata": {},
     "output_type": "execute_result"
    }
   ],
   "source": [
    "np.linalg.norm( S2-S3 )"
   ]
  },
  {
   "cell_type": "markdown",
   "metadata": {},
   "source": [
    "### Zusatz 2: UBCF\n",
    "\n",
    "Sie können mit einer leichten Anpassung der obigen Methode auch User finden, die zueinander ähnlich sind. Was müssen Sie an der Implementierung ändern, damit dies möglich wird?"
   ]
  },
  {
   "cell_type": "markdown",
   "metadata": {},
   "source": [
    "### Lösung"
   ]
  },
  {
   "cell_type": "markdown",
   "metadata": {},
   "source": [
    "Hier kann genau gleich wie oben vorgegangen werden, die Matrix X muss jedoch transponiert werden:"
   ]
  },
  {
   "cell_type": "code",
   "execution_count": 25,
   "metadata": {},
   "outputs": [
    {
     "data": {
      "text/plain": [
       "(610, 610)"
      ]
     },
     "execution_count": 25,
     "metadata": {},
     "output_type": "execute_result"
    }
   ],
   "source": [
    "Xnorm = X.T / np.linalg.norm(X.T, axis=0)\n",
    "S_UBCF = Xnorm.T.dot(Xnorm)\n",
    "S_UBCF.shape"
   ]
  }
 ],
 "metadata": {
  "kernelspec": {
   "display_name": "Python 3 (ipykernel)",
   "language": "python",
   "name": "python3"
  },
  "language_info": {
   "codemirror_mode": {
    "name": "ipython",
    "version": 3
   },
   "file_extension": ".py",
   "mimetype": "text/x-python",
   "name": "python",
   "nbconvert_exporter": "python",
   "pygments_lexer": "ipython3",
   "version": "3.10.13"
  }
 },
 "nbformat": 4,
 "nbformat_minor": 2
}
