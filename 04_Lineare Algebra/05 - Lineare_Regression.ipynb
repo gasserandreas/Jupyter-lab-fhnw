{
 "cells": [
  {
   "attachments": {},
   "cell_type": "markdown",
   "metadata": {},
   "source": [
    "<img src=\"header_linreg.png\">"
   ]
  },
  {
   "cell_type": "code",
   "execution_count": null,
   "metadata": {},
   "outputs": [],
   "source": [
    "import numpy as np\n",
    "import matplotlib.pyplot as plt"
   ]
  },
  {
   "cell_type": "markdown",
   "metadata": {},
   "source": [
    "## Hintergrund"
   ]
  },
  {
   "cell_type": "markdown",
   "metadata": {},
   "source": [
    "Sie haben die lineare Regression bereits als Tool in der Statistik kennengelernt. Im einfachsten Beispiel approximiert sie gegebene Punktpaare $\\left\\{(x_i, y_i)\\right\\}_{i=1,\\dots,n}$ (blau) mit einer Gerade $\\hat{y} = f(x) = \\hat{m} x + \\hat{q}$ (rot):"
   ]
  },
  {
   "attachments": {},
   "cell_type": "markdown",
   "metadata": {},
   "source": [
    "<img src=\"linreg.png\" width=\"700\">"
   ]
  },
  {
   "cell_type": "markdown",
   "metadata": {},
   "source": [
    "Im Skript 'Lineare Algebra für Data Scientists' haben Sie gesehen, dass dieses Problem kompakt formuliert werden kann als\n",
    "\n",
    "$$\\hat{\\mathbf{y}} = X \\hat{\\boldsymbol{\\beta}},$$\n",
    "\n",
    "mit\n",
    "\n",
    "\\begin{equation}\n",
    "X = \\begin{pmatrix} 1 & x_1 \\\\ 1 & x_2 \\\\ \\vdots & \\vdots \\\\ 1 & x_n \\end{pmatrix}, \\quad \\mathbf{y} = \\begin{pmatrix} y_1 \\\\ y_2 \\\\ \\vdots \\\\ y_n \\end{pmatrix}, \\quad \\hat{\\mathbf{y}} = \\begin{pmatrix} \\hat{y}_1 \\\\ \\hat{y}_2 \\\\ \\vdots \\\\ \\hat{y}_n \\end{pmatrix} \\quad \\text{und} \\quad \\boldsymbol{\\hat{\\beta}} = \\begin{pmatrix} \\hat{q} \\\\ \\hat{m} \\end{pmatrix},\n",
    "\\end{equation}"
   ]
  },
  {
   "cell_type": "markdown",
   "metadata": {},
   "source": [
    "Dort hat sich auch gezeigt, dass ein optimaler Parameter $\\hat{\\boldsymbol{\\beta}}$ gefunden werden kann, indem die mittlere quadratische Abweichung $\\frac{1}{n} \\sum_{i=1}^n (\\hat{y}_i - y_i)^2 = \\frac{1}{n} \\left(\\hat{\\mathbf{y}} - \\mathbf{y}\\right)^T \\left(\\hat{\\mathbf{y}} - \\mathbf{y}\\right)$ minimiert wird. Der optimale Vektor für $\\hat{\\boldsymbol{\\beta}}$ lautet\n",
    "\n",
    "$$\\hat{\\boldsymbol{\\beta}} = \\left(X^T X\\right)^{-1} X^T \\, \\mathbf{y}.$$\n"
   ]
  },
  {
   "cell_type": "markdown",
   "metadata": {},
   "source": [
    "Damit sind Sie nun in der Lage, einfache Regressionsprobleme zu lösen."
   ]
  },
  {
   "cell_type": "markdown",
   "metadata": {},
   "source": [
    "## Ihre Aufgabe"
   ]
  },
  {
   "cell_type": "markdown",
   "metadata": {},
   "source": [
    "###  a)\n",
    "\n",
    "Gegeben sei die folgende Liste aus Wertepaaren $(x_i, y_i)$:"
   ]
  },
  {
   "cell_type": "code",
   "execution_count": null,
   "metadata": {},
   "outputs": [],
   "source": [
    "w = np.array( \n",
    "    [(0.0, 3.8), (1.0, 3.9), (2.0, 5.4), (3.0, 6.5), (4.0, 6.1), (5.0, 10.5), (6.0, 10.3), (7.0, 12.6), \n",
    "     (8.0, 12.1), (9.0, 14.4), (10.0, 14.7)] \n",
    ")"
   ]
  },
  {
   "cell_type": "markdown",
   "metadata": {},
   "source": [
    "Graphisch dargestellt:"
   ]
  },
  {
   "cell_type": "code",
   "execution_count": null,
   "metadata": {},
   "outputs": [],
   "source": [
    "x = w[:,0]\n",
    "y = w[:,1]\n",
    "plt.plot( x, y, 'x', color=\"blue\", label=\"Messpunkte\" )\n",
    "plt.legend()\n",
    "plt.show()"
   ]
  },
  {
   "cell_type": "markdown",
   "metadata": {},
   "source": [
    "Bestimmen Sie die Design-Matrix $\\mathbf{X}$ und den Spaltenvektor $\\mathbf{y}$ und geben Sie beide aus.\n",
    "\n",
    "**Hinweise:** \n",
    "\n",
    "* Mit `np.ones(..)` können Sie Matrizen oder Vektoren aus Einsen erstellen.\n",
    "* Mit `.reshape(-1,1)` können Sie aus einem Zeilenvektor einen Spaltenvektor machen.\n",
    "* Mit `np.hstack(..)`/`np.vstack(..)` können Sie Vektoren horizontal/vertikal zu einer Matrix aneinanderreihen.\n",
    "* Mit `help(..)` erhalten Sie Soforthilfe zu einem Python-Befehl."
   ]
  },
  {
   "cell_type": "code",
   "execution_count": null,
   "metadata": {},
   "outputs": [],
   "source": [
    "# IHR CODE"
   ]
  },
  {
   "cell_type": "markdown",
   "metadata": {},
   "source": [
    "### b)\n",
    "\n",
    "Bestimmen Sie mit der in Teil a) berechneten Design-Matrix $\\mathbf{X}$ und dem Spaltenvektor $\\mathbf{y}$ nun die optimalen Werte für $m$ und $q$. Geben Sie die Lösung aus und stellen Sie die resultierende Regressionsgerade (=beste angenäherte Gerade) graphisch dar."
   ]
  },
  {
   "cell_type": "code",
   "execution_count": null,
   "metadata": {},
   "outputs": [],
   "source": [
    "# IHR CODE"
   ]
  },
  {
   "cell_type": "markdown",
   "metadata": {},
   "source": [
    "### c)\n",
    "\n",
    "Berechnen Sie den mittleren quadratischen Fehler \n",
    "\n",
    "$$\\text{MSE} = \\frac1n \\sum_{i=1}^n \\left( f(x_i) - y_i \\right)^2$$ \n",
    "\n",
    "für die Regressionsgerade aus Teilaufgabe b) und geben Sie ihn aus."
   ]
  },
  {
   "cell_type": "code",
   "execution_count": null,
   "metadata": {},
   "outputs": [],
   "source": [
    "# IHR CODE"
   ]
  },
  {
   "cell_type": "markdown",
   "metadata": {},
   "source": [
    "## Mögliche Interessante Zusatzaufgaben"
   ]
  },
  {
   "cell_type": "markdown",
   "metadata": {},
   "source": [
    "### Zusatz 1: Multivariate lineare Regression\n",
    "\n",
    "Überlegen Sie sich, wie Sie das oben beschriebene Regressionsproblem erweitern können, um statt skalaren Werten $x_i$ Vektoren $\\mathbf{x}_i$ berücksichtigen zu können."
   ]
  }
 ],
 "metadata": {
  "kernelspec": {
   "display_name": "Python 3 (ipykernel)",
   "language": "python",
   "name": "python3"
  },
  "language_info": {
   "codemirror_mode": {
    "name": "ipython",
    "version": 3
   },
   "file_extension": ".py",
   "mimetype": "text/x-python",
   "name": "python",
   "nbconvert_exporter": "python",
   "pygments_lexer": "ipython3",
   "version": "3.10.13"
  }
 },
 "nbformat": 4,
 "nbformat_minor": 4
}
